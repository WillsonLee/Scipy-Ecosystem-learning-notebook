{
 "cells": [
  {
   "cell_type": "markdown",
   "metadata": {},
   "source": [
    "# 以下教程基于各官网教程\n",
    "--------------------------------------------\n",
    "[Numpy教程](https://docs.scipy.org/doc/numpy/user/quickstart.html)  \n",
    "[Matlab转Numpy](https://docs.scipy.org/doc/numpy/user/numpy-for-matlab-users.html)  \n",
    "[matplotlib教程](https://matplotlib.org/tutorials/index.html)  \n",
    "[pandas数据结构简介](https://pandas.pydata.org/pandas-docs/stable/getting_started/dsintro.html)  \n",
    "[pandas十分钟教程](https://pandas.pydata.org/pandas-docs/stable/getting_started/10min.html)"
   ]
  },
  {
   "cell_type": "markdown",
   "metadata": {},
   "source": [
    "# Numpy基本"
   ]
  },
  {
   "cell_type": "markdown",
   "metadata": {},
   "source": [
    "## 基本概念"
   ]
  },
  {
   "cell_type": "markdown",
   "metadata": {},
   "source": [
    "numpy的数组(ndarray)的维度称之为轴（axes），一维数组称之为有一个轴，二维数组有两个轴，以此类推，比如  \n",
    "`[[1,2,3],  \n",
    "[4,5,6]]`  \n",
    " 有两个轴，第一个轴长度为2，第二个轴长度为3"
   ]
  },
  {
   "cell_type": "markdown",
   "metadata": {},
   "source": [
    "以下为`numpy.ndarray`(别名`numpy.array`)中数组的基本属性:  \n",
    "`ndarray.ndim`——数组轴数  \n",
    "`ndarray.shape`——数组各轴的长度，返回的元组各元素表示数组各轴长度，元组长度即为数组轴数  \n",
    "`ndarray.size`——数组中元素总个数  \n",
    "`ndarray.dtype`——数组中元素类型  \n",
    "`ndarray.itemsize`——数组中每个元素所占内存的大小  \n",
    "`ndarray.data`——数组中保存的原始数据，通常不需要这种方式来访问数组数据"
   ]
  },
  {
   "cell_type": "code",
   "execution_count": 7,
   "metadata": {},
   "outputs": [
    {
     "data": {
      "text/plain": [
       "array([[ 0,  1,  2,  3,  4],\n",
       "       [ 5,  6,  7,  8,  9],\n",
       "       [10, 11, 12, 13, 14]])"
      ]
     },
     "execution_count": 7,
     "metadata": {},
     "output_type": "execute_result"
    }
   ],
   "source": [
    "import numpy as np\n",
    "a=np.arange(15).reshape(3,5)\n",
    "a"
   ]
  },
  {
   "cell_type": "code",
   "execution_count": 8,
   "metadata": {},
   "outputs": [
    {
     "data": {
      "text/plain": [
       "2"
      ]
     },
     "execution_count": 8,
     "metadata": {},
     "output_type": "execute_result"
    }
   ],
   "source": [
    "a.ndim"
   ]
  },
  {
   "cell_type": "code",
   "execution_count": 9,
   "metadata": {},
   "outputs": [
    {
     "data": {
      "text/plain": [
       "(3, 5)"
      ]
     },
     "execution_count": 9,
     "metadata": {},
     "output_type": "execute_result"
    }
   ],
   "source": [
    "a.shape"
   ]
  },
  {
   "cell_type": "code",
   "execution_count": 10,
   "metadata": {},
   "outputs": [
    {
     "data": {
      "text/plain": [
       "'int32'"
      ]
     },
     "execution_count": 10,
     "metadata": {},
     "output_type": "execute_result"
    }
   ],
   "source": [
    "a.dtype.name"
   ]
  },
  {
   "cell_type": "code",
   "execution_count": 11,
   "metadata": {},
   "outputs": [
    {
     "data": {
      "text/plain": [
       "4"
      ]
     },
     "execution_count": 11,
     "metadata": {},
     "output_type": "execute_result"
    }
   ],
   "source": [
    "a.itemsize"
   ]
  },
  {
   "cell_type": "code",
   "execution_count": 12,
   "metadata": {},
   "outputs": [
    {
     "data": {
      "text/plain": [
       "<memory at 0x0000020830C7E7E0>"
      ]
     },
     "execution_count": 12,
     "metadata": {},
     "output_type": "execute_result"
    }
   ],
   "source": [
    "a.data"
   ]
  },
  {
   "cell_type": "markdown",
   "metadata": {},
   "source": [
    "## 数组创建"
   ]
  },
  {
   "cell_type": "markdown",
   "metadata": {},
   "source": [
    "- 从序列(元组与列表)创建，自动由序列元素类型推断数组元素类型"
   ]
  },
  {
   "cell_type": "code",
   "execution_count": 13,
   "metadata": {},
   "outputs": [
    {
     "data": {
      "text/plain": [
       "array([2, 3, 4, 5])"
      ]
     },
     "execution_count": 13,
     "metadata": {},
     "output_type": "execute_result"
    }
   ],
   "source": [
    "a=np.array([2,3,4,5])\n",
    "a"
   ]
  },
  {
   "cell_type": "code",
   "execution_count": 14,
   "metadata": {},
   "outputs": [
    {
     "data": {
      "text/plain": [
       "array([[1, 2, 3],\n",
       "       [4, 5, 6]])"
      ]
     },
     "execution_count": 14,
     "metadata": {},
     "output_type": "execute_result"
    }
   ],
   "source": [
    "b=np.array([[1,2,3],[4,5,6]])\n",
    "b"
   ]
  },
  {
   "cell_type": "code",
   "execution_count": 15,
   "metadata": {},
   "outputs": [
    {
     "data": {
      "text/plain": [
       "array([[3, 7, 4],\n",
       "       [2, 5, 9]])"
      ]
     },
     "execution_count": 15,
     "metadata": {},
     "output_type": "execute_result"
    }
   ],
   "source": [
    "c=np.array([(3,7,4),(2,5,9)])\n",
    "c"
   ]
  },
  {
   "cell_type": "code",
   "execution_count": 16,
   "metadata": {},
   "outputs": [
    {
     "data": {
      "text/plain": [
       "array([[2, 7, 3],\n",
       "       [3, 8, 4]])"
      ]
     },
     "execution_count": 16,
     "metadata": {},
     "output_type": "execute_result"
    }
   ],
   "source": [
    "d=np.array(([2,7,3],[3,8,4]))\n",
    "d"
   ]
  },
  {
   "cell_type": "code",
   "execution_count": 17,
   "metadata": {},
   "outputs": [
    {
     "data": {
      "text/plain": [
       "array([[7, 2, 5],\n",
       "       [4, 1, 0]])"
      ]
     },
     "execution_count": 17,
     "metadata": {},
     "output_type": "execute_result"
    }
   ],
   "source": [
    "e=np.array([(7,2,5),[4,1,0]])\n",
    "e"
   ]
  },
  {
   "cell_type": "markdown",
   "metadata": {},
   "source": [
    "可知，使用序列方式生成数组不在乎使用的是列表型还是元组型序列，甚至可以混用，但是最外面最好还是使用中括号，以免和`array`函数的括号搞混  \n",
    "数组元素类型也可在生成的时候指定:"
   ]
  },
  {
   "cell_type": "code",
   "execution_count": 18,
   "metadata": {},
   "outputs": [
    {
     "data": {
      "text/plain": [
       "array([[1.+0.j, 2.+0.j, 3.+0.j, 4.+0.j, 5.+0.j],\n",
       "       [6.+0.j, 7.+0.j, 8.+0.j, 9.+0.j, 0.+0.j]])"
      ]
     },
     "execution_count": 18,
     "metadata": {},
     "output_type": "execute_result"
    }
   ],
   "source": [
    "f=np.array([[1,2,3,4,5],[6,7,8,9,0]],dtype=complex)\n",
    "f"
   ]
  },
  {
   "cell_type": "markdown",
   "metadata": {},
   "source": [
    "- 生成特殊数组（类似matlab生成特殊矩阵）"
   ]
  },
  {
   "cell_type": "code",
   "execution_count": 21,
   "metadata": {},
   "outputs": [
    {
     "data": {
      "text/plain": [
       "array([[0., 0., 0., 0.],\n",
       "       [0., 0., 0., 0.],\n",
       "       [0., 0., 0., 0.]])"
      ]
     },
     "execution_count": 21,
     "metadata": {},
     "output_type": "execute_result"
    }
   ],
   "source": [
    "a=np.zeros([3,4])#生成全为0数组\n",
    "a"
   ]
  },
  {
   "cell_type": "code",
   "execution_count": 23,
   "metadata": {},
   "outputs": [
    {
     "data": {
      "text/plain": [
       "array([[1., 1., 1., 1., 1.],\n",
       "       [1., 1., 1., 1., 1.],\n",
       "       [1., 1., 1., 1., 1.],\n",
       "       [1., 1., 1., 1., 1.],\n",
       "       [1., 1., 1., 1., 1.]])"
      ]
     },
     "execution_count": 23,
     "metadata": {},
     "output_type": "execute_result"
    }
   ],
   "source": [
    "b=np.ones([5,5])#生成全为1数组\n",
    "b"
   ]
  },
  {
   "cell_type": "code",
   "execution_count": 25,
   "metadata": {},
   "outputs": [
    {
     "data": {
      "text/plain": [
       "array([[0., 0., 0., 0., 0.],\n",
       "       [0., 0., 0., 0., 0.],\n",
       "       [0., 0., 0., 0., 0.]])"
      ]
     },
     "execution_count": 25,
     "metadata": {},
     "output_type": "execute_result"
    }
   ],
   "source": [
    "c=np.empty([3,5])#生成未初始化数组,数组元素取决于内存所处的状态\n",
    "c"
   ]
  },
  {
   "cell_type": "code",
   "execution_count": 28,
   "metadata": {},
   "outputs": [
    {
     "data": {
      "text/plain": [
       "array([[1., 0., 0., 0.],\n",
       "       [0., 1., 0., 0.],\n",
       "       [0., 0., 1., 0.],\n",
       "       [0., 0., 0., 1.]])"
      ]
     },
     "execution_count": 28,
     "metadata": {},
     "output_type": "execute_result"
    }
   ],
   "source": [
    "d=np.identity(4)#生成单位矩阵\n",
    "d"
   ]
  },
  {
   "cell_type": "code",
   "execution_count": 30,
   "metadata": {},
   "outputs": [
    {
     "data": {
      "text/plain": [
       "array([[1., 0., 0., 0.],\n",
       "       [0., 1., 0., 0.],\n",
       "       [0., 0., 1., 0.],\n",
       "       [0., 0., 0., 1.]])"
      ]
     },
     "execution_count": 30,
     "metadata": {},
     "output_type": "execute_result"
    }
   ],
   "source": [
    "e=np.eye(4)\n",
    "e"
   ]
  },
  {
   "cell_type": "code",
   "execution_count": 31,
   "metadata": {},
   "outputs": [
    {
     "data": {
      "text/plain": [
       "array([ 1.,  2.,  3.,  4.,  5.,  6.,  7.,  8.,  9., 10.])"
      ]
     },
     "execution_count": 31,
     "metadata": {},
     "output_type": "execute_result"
    }
   ],
   "source": [
    "np.linspace(1,10,10)"
   ]
  },
  {
   "cell_type": "code",
   "execution_count": 32,
   "metadata": {},
   "outputs": [
    {
     "data": {
      "text/plain": [
       "array([   1.,   10.,  100., 1000.])"
      ]
     },
     "execution_count": 32,
     "metadata": {},
     "output_type": "execute_result"
    }
   ],
   "source": [
    "np.logspace(0,3,4)"
   ]
  },
  {
   "cell_type": "markdown",
   "metadata": {},
   "source": [
    "- 根据各轴坐标生成矩阵  \n",
    "使用`np.fromfunction(f,shape,**kwargs)`"
   ]
  },
  {
   "cell_type": "code",
   "execution_count": 46,
   "metadata": {},
   "outputs": [],
   "source": [
    "def f(x,y):\n",
    "    return 10*x+y"
   ]
  },
  {
   "cell_type": "code",
   "execution_count": 48,
   "metadata": {},
   "outputs": [
    {
     "data": {
      "text/plain": [
       "array([[ 0.,  1.,  2.,  3.],\n",
       "       [10., 11., 12., 13.],\n",
       "       [20., 21., 22., 23.],\n",
       "       [30., 31., 32., 33.],\n",
       "       [40., 41., 42., 43.]])"
      ]
     },
     "execution_count": 48,
     "metadata": {},
     "output_type": "execute_result"
    }
   ],
   "source": [
    "np.fromfunction(f,(5,4))"
   ]
  },
  {
   "cell_type": "markdown",
   "metadata": {},
   "source": [
    "## 数组打印"
   ]
  },
  {
   "cell_type": "markdown",
   "metadata": {},
   "source": [
    "横向为最后一个轴，竖向为倒数第二个轴，之后每添加一个轴都是往前添加  \n",
    "最后一个轴由左向右打印  \n",
    "倒数第二个轴由上到下打印  \n",
    "其他轴由上到下打印"
   ]
  },
  {
   "cell_type": "code",
   "execution_count": 34,
   "metadata": {},
   "outputs": [
    {
     "name": "stdout",
     "output_type": "stream",
     "text": [
      "[0 1 2 3 4 5]\n"
     ]
    }
   ],
   "source": [
    "a=np.arange(6)\n",
    "print(a)"
   ]
  },
  {
   "cell_type": "code",
   "execution_count": 35,
   "metadata": {},
   "outputs": [
    {
     "name": "stdout",
     "output_type": "stream",
     "text": [
      "[[ 0  1  2  3  4]\n",
      " [ 5  6  7  8  9]\n",
      " [10 11 12 13 14]]\n"
     ]
    }
   ],
   "source": [
    "b=np.arange(15).reshape(3,5)\n",
    "print(b)"
   ]
  },
  {
   "cell_type": "code",
   "execution_count": 36,
   "metadata": {},
   "outputs": [
    {
     "name": "stdout",
     "output_type": "stream",
     "text": [
      "[[[ 0  1  2]\n",
      "  [ 3  4  5]\n",
      "  [ 6  7  8]]\n",
      "\n",
      " [[ 9 10 11]\n",
      "  [12 13 14]\n",
      "  [15 16 17]]\n",
      "\n",
      " [[18 19 20]\n",
      "  [21 22 23]\n",
      "  [24 25 26]]]\n"
     ]
    }
   ],
   "source": [
    "c=np.arange(27).reshape(3,3,3)\n",
    "print(c)"
   ]
  },
  {
   "cell_type": "code",
   "execution_count": 38,
   "metadata": {},
   "outputs": [
    {
     "name": "stdout",
     "output_type": "stream",
     "text": [
      "[   0    1    2 ... 9997 9998 9999]\n"
     ]
    }
   ],
   "source": [
    "print(np.arange(10000))"
   ]
  },
  {
   "cell_type": "code",
   "execution_count": 39,
   "metadata": {},
   "outputs": [
    {
     "name": "stdout",
     "output_type": "stream",
     "text": [
      "[[   0    1    2 ...   97   98   99]\n",
      " [ 100  101  102 ...  197  198  199]\n",
      " [ 200  201  202 ...  297  298  299]\n",
      " ...\n",
      " [9700 9701 9702 ... 9797 9798 9799]\n",
      " [9800 9801 9802 ... 9897 9898 9899]\n",
      " [9900 9901 9902 ... 9997 9998 9999]]\n"
     ]
    }
   ],
   "source": [
    "print(np.arange(10000).reshape(100,100))"
   ]
  },
  {
   "cell_type": "markdown",
   "metadata": {},
   "source": [
    "关闭以上自动省略功能可以使用`np.set_printoptions(threshold=np.nan)`语句"
   ]
  },
  {
   "cell_type": "markdown",
   "metadata": {},
   "source": [
    "## 基本运算"
   ]
  },
  {
   "cell_type": "markdown",
   "metadata": {},
   "source": [
    "- 数组基本运算时按位运算"
   ]
  },
  {
   "cell_type": "code",
   "execution_count": 1,
   "metadata": {},
   "outputs": [],
   "source": [
    "import numpy as np"
   ]
  },
  {
   "cell_type": "code",
   "execution_count": 2,
   "metadata": {},
   "outputs": [
    {
     "data": {
      "text/plain": [
       "array([0, 1, 2, 3])"
      ]
     },
     "execution_count": 2,
     "metadata": {},
     "output_type": "execute_result"
    }
   ],
   "source": [
    "a=np.array([20,30,40,50])\n",
    "b=np.arange(4)\n",
    "b"
   ]
  },
  {
   "cell_type": "code",
   "execution_count": 3,
   "metadata": {},
   "outputs": [
    {
     "data": {
      "text/plain": [
       "array([20, 29, 38, 47])"
      ]
     },
     "execution_count": 3,
     "metadata": {},
     "output_type": "execute_result"
    }
   ],
   "source": [
    "a-b"
   ]
  },
  {
   "cell_type": "code",
   "execution_count": 4,
   "metadata": {},
   "outputs": [
    {
     "data": {
      "text/plain": [
       "array([0, 1, 4, 9], dtype=int32)"
      ]
     },
     "execution_count": 4,
     "metadata": {},
     "output_type": "execute_result"
    }
   ],
   "source": [
    "b**2"
   ]
  },
  {
   "cell_type": "code",
   "execution_count": 5,
   "metadata": {},
   "outputs": [
    {
     "data": {
      "text/plain": [
       "array([ 9.12945251, -9.88031624,  7.4511316 , -2.62374854])"
      ]
     },
     "execution_count": 5,
     "metadata": {},
     "output_type": "execute_result"
    }
   ],
   "source": [
    "10*np.sin(a)"
   ]
  },
  {
   "cell_type": "markdown",
   "metadata": {},
   "source": [
    "- `*`运算也是按位运算,矩阵乘法使用`@`运算符"
   ]
  },
  {
   "cell_type": "code",
   "execution_count": 6,
   "metadata": {},
   "outputs": [
    {
     "data": {
      "text/plain": [
       "array([[2, 0],\n",
       "       [0, 4]])"
      ]
     },
     "execution_count": 6,
     "metadata": {},
     "output_type": "execute_result"
    }
   ],
   "source": [
    "A=np.array([(1,1),(0,1)])\n",
    "B=np.array([(2,0),(3,4)])\n",
    "A*B#按位乘法"
   ]
  },
  {
   "cell_type": "code",
   "execution_count": 7,
   "metadata": {},
   "outputs": [
    {
     "data": {
      "text/plain": [
       "array([[5, 4],\n",
       "       [3, 4]])"
      ]
     },
     "execution_count": 7,
     "metadata": {},
     "output_type": "execute_result"
    }
   ],
   "source": [
    "A@B#矩阵乘法"
   ]
  },
  {
   "cell_type": "code",
   "execution_count": 9,
   "metadata": {},
   "outputs": [
    {
     "data": {
      "text/plain": [
       "array([[5, 4],\n",
       "       [3, 4]])"
      ]
     },
     "execution_count": 9,
     "metadata": {},
     "output_type": "execute_result"
    }
   ],
   "source": [
    "A.dot(B)#矩阵乘法"
   ]
  },
  {
   "cell_type": "markdown",
   "metadata": {},
   "source": [
    "- 增强赋值运算符"
   ]
  },
  {
   "cell_type": "code",
   "execution_count": 10,
   "metadata": {},
   "outputs": [],
   "source": [
    "A+=B"
   ]
  },
  {
   "cell_type": "code",
   "execution_count": 11,
   "metadata": {},
   "outputs": [
    {
     "data": {
      "text/plain": [
       "array([[3, 1],\n",
       "       [3, 5]])"
      ]
     },
     "execution_count": 11,
     "metadata": {},
     "output_type": "execute_result"
    }
   ],
   "source": [
    "A"
   ]
  },
  {
   "cell_type": "code",
   "execution_count": 12,
   "metadata": {},
   "outputs": [],
   "source": [
    "A+=3"
   ]
  },
  {
   "cell_type": "code",
   "execution_count": 13,
   "metadata": {},
   "outputs": [
    {
     "data": {
      "text/plain": [
       "array([[6, 4],\n",
       "       [6, 8]])"
      ]
     },
     "execution_count": 13,
     "metadata": {},
     "output_type": "execute_result"
    }
   ],
   "source": [
    "A"
   ]
  },
  {
   "cell_type": "code",
   "execution_count": 14,
   "metadata": {},
   "outputs": [],
   "source": [
    "B**=2"
   ]
  },
  {
   "cell_type": "code",
   "execution_count": 15,
   "metadata": {},
   "outputs": [
    {
     "data": {
      "text/plain": [
       "array([[ 4,  0],\n",
       "       [ 9, 16]])"
      ]
     },
     "execution_count": 15,
     "metadata": {},
     "output_type": "execute_result"
    }
   ],
   "source": [
    "B"
   ]
  },
  {
   "cell_type": "markdown",
   "metadata": {},
   "source": [
    "按位运算时会自动向上转型，比如两个矩阵相加，结果元素的类型是两个相加数组的元素类型中更\"泛\"的那个类型"
   ]
  },
  {
   "cell_type": "markdown",
   "metadata": {},
   "source": [
    "- 针对数组的单目运算符"
   ]
  },
  {
   "cell_type": "code",
   "execution_count": 16,
   "metadata": {},
   "outputs": [
    {
     "data": {
      "text/plain": [
       "24"
      ]
     },
     "execution_count": 16,
     "metadata": {},
     "output_type": "execute_result"
    }
   ],
   "source": [
    "A.sum()"
   ]
  },
  {
   "cell_type": "code",
   "execution_count": 17,
   "metadata": {},
   "outputs": [
    {
     "data": {
      "text/plain": [
       "8"
      ]
     },
     "execution_count": 17,
     "metadata": {},
     "output_type": "execute_result"
    }
   ],
   "source": [
    "A.max()"
   ]
  },
  {
   "cell_type": "code",
   "execution_count": 18,
   "metadata": {},
   "outputs": [
    {
     "data": {
      "text/plain": [
       "4"
      ]
     },
     "execution_count": 18,
     "metadata": {},
     "output_type": "execute_result"
    }
   ],
   "source": [
    "A.min()"
   ]
  },
  {
   "cell_type": "markdown",
   "metadata": {},
   "source": [
    "上述运算可以指定沿某个轴方向执行，比如沿二维数组的第一个轴求和就是按列求和"
   ]
  },
  {
   "cell_type": "code",
   "execution_count": 19,
   "metadata": {},
   "outputs": [
    {
     "data": {
      "text/plain": [
       "array([[6, 4],\n",
       "       [6, 8]])"
      ]
     },
     "execution_count": 19,
     "metadata": {},
     "output_type": "execute_result"
    }
   ],
   "source": [
    "A"
   ]
  },
  {
   "cell_type": "code",
   "execution_count": 20,
   "metadata": {},
   "outputs": [
    {
     "data": {
      "text/plain": [
       "array([12, 12])"
      ]
     },
     "execution_count": 20,
     "metadata": {},
     "output_type": "execute_result"
    }
   ],
   "source": [
    "A.sum(axis=0)"
   ]
  },
  {
   "cell_type": "code",
   "execution_count": 24,
   "metadata": {},
   "outputs": [
    {
     "data": {
      "text/plain": [
       "array([10, 14])"
      ]
     },
     "execution_count": 24,
     "metadata": {},
     "output_type": "execute_result"
    }
   ],
   "source": [
    "A.sum(axis=1)"
   ]
  },
  {
   "cell_type": "code",
   "execution_count": 25,
   "metadata": {},
   "outputs": [
    {
     "data": {
      "text/plain": [
       "array([[ 0,  1,  2,  3],\n",
       "       [ 4,  5,  6,  7],\n",
       "       [ 8,  9, 10, 11]])"
      ]
     },
     "execution_count": 25,
     "metadata": {},
     "output_type": "execute_result"
    }
   ],
   "source": [
    "a=np.arange(12).reshape(3,4)\n",
    "a"
   ]
  },
  {
   "cell_type": "code",
   "execution_count": 26,
   "metadata": {},
   "outputs": [
    {
     "data": {
      "text/plain": [
       "array([ 3,  7, 11])"
      ]
     },
     "execution_count": 26,
     "metadata": {},
     "output_type": "execute_result"
    }
   ],
   "source": [
    "a.max(axis=1)"
   ]
  },
  {
   "cell_type": "code",
   "execution_count": 27,
   "metadata": {},
   "outputs": [
    {
     "data": {
      "text/plain": [
       "array([[ 0,  1,  2,  3],\n",
       "       [ 4,  6,  8, 10],\n",
       "       [12, 15, 18, 21]], dtype=int32)"
      ]
     },
     "execution_count": 27,
     "metadata": {},
     "output_type": "execute_result"
    }
   ],
   "source": [
    "a.cumsum(axis=0)"
   ]
  },
  {
   "cell_type": "code",
   "execution_count": 28,
   "metadata": {},
   "outputs": [
    {
     "data": {
      "text/plain": [
       "array([ 0,  1,  3,  6, 10, 15, 21, 28, 36, 45, 55, 66], dtype=int32)"
      ]
     },
     "execution_count": 28,
     "metadata": {},
     "output_type": "execute_result"
    }
   ],
   "source": [
    "a.cumsum()"
   ]
  },
  {
   "cell_type": "markdown",
   "metadata": {},
   "source": [
    "## 通用函数"
   ]
  },
  {
   "cell_type": "markdown",
   "metadata": {},
   "source": [
    "numpy提供`sin`,`cos`,`tan`等数学函数，对数组按位进行相应运算，称之为通用函数\"universal function\"(`ufunc`)"
   ]
  },
  {
   "cell_type": "code",
   "execution_count": 29,
   "metadata": {},
   "outputs": [
    {
     "data": {
      "text/plain": [
       "array([0, 1, 2])"
      ]
     },
     "execution_count": 29,
     "metadata": {},
     "output_type": "execute_result"
    }
   ],
   "source": [
    "a=np.arange(3)\n",
    "a"
   ]
  },
  {
   "cell_type": "code",
   "execution_count": 30,
   "metadata": {},
   "outputs": [
    {
     "data": {
      "text/plain": [
       "array([1.        , 2.71828183, 7.3890561 ])"
      ]
     },
     "execution_count": 30,
     "metadata": {},
     "output_type": "execute_result"
    }
   ],
   "source": [
    "np.exp(a)"
   ]
  },
  {
   "cell_type": "code",
   "execution_count": 31,
   "metadata": {},
   "outputs": [
    {
     "data": {
      "text/plain": [
       "array([0.        , 0.84147098, 0.90929743])"
      ]
     },
     "execution_count": 31,
     "metadata": {},
     "output_type": "execute_result"
    }
   ],
   "source": [
    "np.sin(a)"
   ]
  },
  {
   "cell_type": "code",
   "execution_count": 32,
   "metadata": {},
   "outputs": [
    {
     "data": {
      "text/plain": [
       "array([0.        , 1.        , 1.41421356])"
      ]
     },
     "execution_count": 32,
     "metadata": {},
     "output_type": "execute_result"
    }
   ],
   "source": [
    "np.sqrt(a)"
   ]
  },
  {
   "cell_type": "code",
   "execution_count": 34,
   "metadata": {},
   "outputs": [
    {
     "data": {
      "text/plain": [
       "array([0, 2, 6])"
      ]
     },
     "execution_count": 34,
     "metadata": {},
     "output_type": "execute_result"
    }
   ],
   "source": [
    "np.add(a,np.power(a,2))"
   ]
  },
  {
   "cell_type": "markdown",
   "metadata": {},
   "source": [
    "## 索引、切片与迭代"
   ]
  },
  {
   "cell_type": "markdown",
   "metadata": {},
   "source": [
    "- 一维数组与普通列表一样索引、切片与迭代"
   ]
  },
  {
   "cell_type": "code",
   "execution_count": 49,
   "metadata": {},
   "outputs": [],
   "source": [
    "a=np.arange(12)"
   ]
  },
  {
   "cell_type": "code",
   "execution_count": 50,
   "metadata": {},
   "outputs": [
    {
     "data": {
      "text/plain": [
       "3"
      ]
     },
     "execution_count": 50,
     "metadata": {},
     "output_type": "execute_result"
    }
   ],
   "source": [
    "a[3]"
   ]
  },
  {
   "cell_type": "code",
   "execution_count": 51,
   "metadata": {},
   "outputs": [
    {
     "data": {
      "text/plain": [
       "array([3, 4, 5, 6, 7, 8, 9])"
      ]
     },
     "execution_count": 51,
     "metadata": {},
     "output_type": "execute_result"
    }
   ],
   "source": [
    "a[3:10]"
   ]
  },
  {
   "cell_type": "code",
   "execution_count": 52,
   "metadata": {},
   "outputs": [
    {
     "data": {
      "text/plain": [
       "array([11, 10,  9,  8,  7,  6,  5,  4,  3,  2,  1,  0])"
      ]
     },
     "execution_count": 52,
     "metadata": {},
     "output_type": "execute_result"
    }
   ],
   "source": [
    "a[::-1]"
   ]
  },
  {
   "cell_type": "code",
   "execution_count": 53,
   "metadata": {},
   "outputs": [
    {
     "data": {
      "text/plain": [
       "array([ 1,  4,  7, 10])"
      ]
     },
     "execution_count": 53,
     "metadata": {},
     "output_type": "execute_result"
    }
   ],
   "source": [
    "a[1::3]"
   ]
  },
  {
   "cell_type": "markdown",
   "metadata": {},
   "source": [
    "- 多维数组用多个索引，各个索引用逗号隔开，每个索引方式与一维数组是一样的"
   ]
  },
  {
   "cell_type": "code",
   "execution_count": 55,
   "metadata": {},
   "outputs": [
    {
     "data": {
      "text/plain": [
       "array([[ 0.,  2.,  4.,  6.],\n",
       "       [ 1.,  3.,  5.,  7.],\n",
       "       [ 4.,  6.,  8., 10.],\n",
       "       [ 9., 11., 13., 15.],\n",
       "       [16., 18., 20., 22.]])"
      ]
     },
     "execution_count": 55,
     "metadata": {},
     "output_type": "execute_result"
    }
   ],
   "source": [
    "b=np.fromfunction(lambda x,y:x**2+2*y,(5,4))\n",
    "b"
   ]
  },
  {
   "cell_type": "code",
   "execution_count": 56,
   "metadata": {},
   "outputs": [
    {
     "data": {
      "text/plain": [
       "10.0"
      ]
     },
     "execution_count": 56,
     "metadata": {},
     "output_type": "execute_result"
    }
   ],
   "source": [
    "b[2,3]"
   ]
  },
  {
   "cell_type": "code",
   "execution_count": 57,
   "metadata": {},
   "outputs": [
    {
     "data": {
      "text/plain": [
       "array([[ 3.,  5.],\n",
       "       [ 6.,  8.],\n",
       "       [11., 13.],\n",
       "       [18., 20.]])"
      ]
     },
     "execution_count": 57,
     "metadata": {},
     "output_type": "execute_result"
    }
   ],
   "source": [
    "b[1:5,[1,2]]"
   ]
  },
  {
   "cell_type": "code",
   "execution_count": 58,
   "metadata": {},
   "outputs": [
    {
     "data": {
      "text/plain": [
       "array([[22., 18.],\n",
       "       [15., 11.],\n",
       "       [10.,  6.],\n",
       "       [ 7.,  3.],\n",
       "       [ 6.,  2.]])"
      ]
     },
     "execution_count": 58,
     "metadata": {},
     "output_type": "execute_result"
    }
   ],
   "source": [
    "b[::-1,[3,1]]"
   ]
  },
  {
   "cell_type": "code",
   "execution_count": 59,
   "metadata": {},
   "outputs": [
    {
     "data": {
      "text/plain": [
       "array([ 9., 11., 13., 15.])"
      ]
     },
     "execution_count": 59,
     "metadata": {},
     "output_type": "execute_result"
    }
   ],
   "source": [
    "b[3]#第3行整行,缺失的索引自动补全为:"
   ]
  },
  {
   "cell_type": "code",
   "execution_count": 60,
   "metadata": {},
   "outputs": [
    {
     "data": {
      "text/plain": [
       "array([ 4.,  5.,  8., 13., 20.])"
      ]
     },
     "execution_count": 60,
     "metadata": {},
     "output_type": "execute_result"
    }
   ],
   "source": [
    "b[:,2]#第2列整列"
   ]
  },
  {
   "cell_type": "code",
   "execution_count": 61,
   "metadata": {},
   "outputs": [
    {
     "data": {
      "text/plain": [
       "array([ 4.,  5.,  8., 13., 20.])"
      ]
     },
     "execution_count": 61,
     "metadata": {},
     "output_type": "execute_result"
    }
   ],
   "source": [
    "b[...,2]#...可以代表其他的轴全部用:索引,高阶的数组可以使用这种方式索引，指定首尾的索引，中间的可略"
   ]
  },
  {
   "cell_type": "code",
   "execution_count": 65,
   "metadata": {},
   "outputs": [
    {
     "name": "stdout",
     "output_type": "stream",
     "text": [
      "[0. 2. 4. 6.]\n",
      "[1. 3. 5. 7.]\n",
      "[ 4.  6.  8. 10.]\n",
      "[ 9. 11. 13. 15.]\n",
      "[16. 18. 20. 22.]\n"
     ]
    }
   ],
   "source": [
    "for row in b:#按第一个轴迭代\n",
    "    print(row)"
   ]
  },
  {
   "cell_type": "code",
   "execution_count": 66,
   "metadata": {},
   "outputs": [
    {
     "name": "stdout",
     "output_type": "stream",
     "text": [
      "0.0\n",
      "2.0\n",
      "4.0\n",
      "6.0\n",
      "1.0\n",
      "3.0\n",
      "5.0\n",
      "7.0\n",
      "4.0\n",
      "6.0\n",
      "8.0\n",
      "10.0\n",
      "9.0\n",
      "11.0\n",
      "13.0\n",
      "15.0\n",
      "16.0\n",
      "18.0\n",
      "20.0\n",
      "22.0\n"
     ]
    }
   ],
   "source": [
    "for all_ele in b.flat:#展开迭代\n",
    "    print(all_ele)"
   ]
  },
  {
   "cell_type": "markdown",
   "metadata": {},
   "source": [
    "## 变形"
   ]
  },
  {
   "cell_type": "markdown",
   "metadata": {},
   "source": [
    "numpy中的ndarray有`shape`属性表示数组的形状（即沿每一个轴的元素个数），可使用以下几种方式生成改变形状的数组:"
   ]
  },
  {
   "cell_type": "code",
   "execution_count": 3,
   "metadata": {},
   "outputs": [
    {
     "data": {
      "text/plain": [
       "array([[6., 8., 8., 8.],\n",
       "       [9., 6., 1., 1.],\n",
       "       [0., 0., 4., 6.]])"
      ]
     },
     "execution_count": 3,
     "metadata": {},
     "output_type": "execute_result"
    }
   ],
   "source": [
    "a=np.floor(10*np.random.random([3,4]))\n",
    "a"
   ]
  },
  {
   "cell_type": "code",
   "execution_count": 4,
   "metadata": {},
   "outputs": [
    {
     "data": {
      "text/plain": [
       "array([6., 8., 8., 8., 9., 6., 1., 1., 0., 0., 4., 6.])"
      ]
     },
     "execution_count": 4,
     "metadata": {},
     "output_type": "execute_result"
    }
   ],
   "source": [
    "a.ravel()#展开"
   ]
  },
  {
   "cell_type": "markdown",
   "metadata": {},
   "source": [
    "> 展开是是使用C-Style，即后面的索引变化最快,a[0,0]之后是a[0,1]。numpy中横向(行)是最后一个轴方向,纵向(列)是倒数第二个轴方向,之后每添加一个轴都是往前面添加,比如四维数组a,a[2,1,5,3]中,5是倒数第二个轴方向索引,也即行号;3是最后一个轴索引,也即列号"
   ]
  },
  {
   "cell_type": "code",
   "execution_count": 5,
   "metadata": {},
   "outputs": [
    {
     "data": {
      "text/plain": [
       "array([[6., 8., 8.],\n",
       "       [8., 9., 6.],\n",
       "       [1., 1., 0.],\n",
       "       [0., 4., 6.]])"
      ]
     },
     "execution_count": 5,
     "metadata": {},
     "output_type": "execute_result"
    }
   ],
   "source": [
    "a.reshape(4,3)#变形"
   ]
  },
  {
   "cell_type": "code",
   "execution_count": 6,
   "metadata": {},
   "outputs": [
    {
     "data": {
      "text/plain": [
       "array([[6., 9., 0.],\n",
       "       [8., 6., 0.],\n",
       "       [8., 1., 4.],\n",
       "       [8., 1., 6.]])"
      ]
     },
     "execution_count": 6,
     "metadata": {},
     "output_type": "execute_result"
    }
   ],
   "source": [
    "a.T#转置"
   ]
  },
  {
   "cell_type": "code",
   "execution_count": 8,
   "metadata": {},
   "outputs": [
    {
     "data": {
      "text/plain": [
       "array([[6., 8., 8., 8., 9., 6.],\n",
       "       [1., 1., 0., 0., 4., 6.]])"
      ]
     },
     "execution_count": 8,
     "metadata": {},
     "output_type": "execute_result"
    }
   ],
   "source": [
    "a.resize(2,6)#原位变形\n",
    "a"
   ]
  },
  {
   "cell_type": "code",
   "execution_count": 10,
   "metadata": {},
   "outputs": [
    {
     "data": {
      "text/plain": [
       "array([[6., 8., 8., 8.],\n",
       "       [9., 6., 1., 1.],\n",
       "       [0., 0., 4., 6.]])"
      ]
     },
     "execution_count": 10,
     "metadata": {},
     "output_type": "execute_result"
    }
   ],
   "source": [
    "a.reshape(3,-1)#-1表示自动推测沿第二轴元素个数"
   ]
  },
  {
   "cell_type": "markdown",
   "metadata": {},
   "source": [
    "## 数组堆叠拼接"
   ]
  },
  {
   "cell_type": "code",
   "execution_count": 14,
   "metadata": {},
   "outputs": [
    {
     "name": "stdout",
     "output_type": "stream",
     "text": [
      "a=\n",
      "[[8. 6. 4.]\n",
      " [0. 6. 5.]\n",
      " [6. 7. 9.]]\n",
      "b=\n",
      "[[9. 2. 2.]\n",
      " [3. 2. 5.]\n",
      " [9. 9. 1.]]\n"
     ]
    }
   ],
   "source": [
    "a=np.floor(10*np.random.random([3,3]))\n",
    "print('a=')\n",
    "print(a)\n",
    "b=np.floor(10*np.random.random([3,3]))\n",
    "print('b=')\n",
    "print(b)"
   ]
  },
  {
   "cell_type": "markdown",
   "metadata": {},
   "source": [
    "- `hstack`与`vsatck`函数分别进行水平堆叠与垂直堆叠  \n",
    "- `column_stack`与`row_stack`分别进行当做列堆叠与当做行堆叠，对二维数组堆叠时分别与`hstack`，`vstack`功能相同"
   ]
  },
  {
   "cell_type": "code",
   "execution_count": 16,
   "metadata": {},
   "outputs": [
    {
     "data": {
      "text/plain": [
       "array([[8., 6., 4., 9., 2., 2.],\n",
       "       [0., 6., 5., 3., 2., 5.],\n",
       "       [6., 7., 9., 9., 9., 1.]])"
      ]
     },
     "execution_count": 16,
     "metadata": {},
     "output_type": "execute_result"
    }
   ],
   "source": [
    "np.hstack([a,b])"
   ]
  },
  {
   "cell_type": "code",
   "execution_count": 17,
   "metadata": {},
   "outputs": [
    {
     "data": {
      "text/plain": [
       "array([[8., 6., 4.],\n",
       "       [0., 6., 5.],\n",
       "       [6., 7., 9.],\n",
       "       [9., 2., 2.],\n",
       "       [3., 2., 5.],\n",
       "       [9., 9., 1.]])"
      ]
     },
     "execution_count": 17,
     "metadata": {},
     "output_type": "execute_result"
    }
   ],
   "source": [
    "np.vstack((a,b))"
   ]
  },
  {
   "cell_type": "code",
   "execution_count": 18,
   "metadata": {},
   "outputs": [
    {
     "data": {
      "text/plain": [
       "array([[8., 6., 4., 9., 2., 2.],\n",
       "       [0., 6., 5., 3., 2., 5.],\n",
       "       [6., 7., 9., 9., 9., 1.]])"
      ]
     },
     "execution_count": 18,
     "metadata": {},
     "output_type": "execute_result"
    }
   ],
   "source": [
    "np.column_stack([a,b])"
   ]
  },
  {
   "cell_type": "code",
   "execution_count": 28,
   "metadata": {},
   "outputs": [
    {
     "data": {
      "text/plain": [
       "array([[8., 6., 4.],\n",
       "       [0., 6., 5.],\n",
       "       [6., 7., 9.],\n",
       "       [9., 2., 2.],\n",
       "       [3., 2., 5.],\n",
       "       [9., 9., 1.]])"
      ]
     },
     "execution_count": 28,
     "metadata": {},
     "output_type": "execute_result"
    }
   ],
   "source": [
    "np.row_stack([a,b])"
   ]
  },
  {
   "cell_type": "markdown",
   "metadata": {},
   "source": [
    "一维数组堆叠时使用`column_stack`与`hstack`效果不一样，因为`column_stack`将一维数组当成列向量横向堆叠,但是`hstack`将一维数组当做行向量堆叠"
   ]
  },
  {
   "cell_type": "code",
   "execution_count": 23,
   "metadata": {},
   "outputs": [],
   "source": [
    "c=np.arange(3)\n",
    "d=np.arange(3,6)"
   ]
  },
  {
   "cell_type": "code",
   "execution_count": 24,
   "metadata": {},
   "outputs": [
    {
     "data": {
      "text/plain": [
       "array([[0, 3],\n",
       "       [1, 4],\n",
       "       [2, 5]])"
      ]
     },
     "execution_count": 24,
     "metadata": {},
     "output_type": "execute_result"
    }
   ],
   "source": [
    "np.column_stack([c,d])"
   ]
  },
  {
   "cell_type": "code",
   "execution_count": 25,
   "metadata": {},
   "outputs": [
    {
     "data": {
      "text/plain": [
       "array([0, 1, 2, 3, 4, 5])"
      ]
     },
     "execution_count": 25,
     "metadata": {},
     "output_type": "execute_result"
    }
   ],
   "source": [
    "np.hstack([c,d])"
   ]
  },
  {
   "cell_type": "code",
   "execution_count": 26,
   "metadata": {},
   "outputs": [
    {
     "data": {
      "text/plain": [
       "array([[0, 1, 2],\n",
       "       [3, 4, 5]])"
      ]
     },
     "execution_count": 26,
     "metadata": {},
     "output_type": "execute_result"
    }
   ],
   "source": [
    "np.row_stack([c,d])"
   ]
  },
  {
   "cell_type": "code",
   "execution_count": 27,
   "metadata": {},
   "outputs": [
    {
     "data": {
      "text/plain": [
       "array([[0, 1, 2],\n",
       "       [3, 4, 5]])"
      ]
     },
     "execution_count": 27,
     "metadata": {},
     "output_type": "execute_result"
    }
   ],
   "source": [
    "np.vstack([c,d])"
   ]
  },
  {
   "cell_type": "markdown",
   "metadata": {},
   "source": [
    "加入一个新的第二个轴则可以把一维数组变成二维数组，这时候用`hstack`效果与`column_stack`一样了"
   ]
  },
  {
   "cell_type": "code",
   "execution_count": 32,
   "metadata": {},
   "outputs": [
    {
     "data": {
      "text/plain": [
       "array([[0],\n",
       "       [1],\n",
       "       [2]])"
      ]
     },
     "execution_count": 32,
     "metadata": {},
     "output_type": "execute_result"
    }
   ],
   "source": [
    "from numpy import newaxis\n",
    "c[:,newaxis]"
   ]
  },
  {
   "cell_type": "code",
   "execution_count": 34,
   "metadata": {},
   "outputs": [
    {
     "data": {
      "text/plain": [
       "array([[0, 3],\n",
       "       [1, 4],\n",
       "       [2, 5]])"
      ]
     },
     "execution_count": 34,
     "metadata": {},
     "output_type": "execute_result"
    }
   ],
   "source": [
    "np.hstack([c[:,newaxis],d[:,newaxis]])"
   ]
  },
  {
   "cell_type": "code",
   "execution_count": 35,
   "metadata": {},
   "outputs": [
    {
     "data": {
      "text/plain": [
       "(3, 1)"
      ]
     },
     "execution_count": 35,
     "metadata": {},
     "output_type": "execute_result"
    }
   ],
   "source": [
    "c[:,newaxis].shape"
   ]
  },
  {
   "cell_type": "code",
   "execution_count": 41,
   "metadata": {},
   "outputs": [
    {
     "data": {
      "text/plain": [
       "array([[0, 1, 2]])"
      ]
     },
     "execution_count": 41,
     "metadata": {},
     "output_type": "execute_result"
    }
   ],
   "source": [
    "c[newaxis,:]"
   ]
  },
  {
   "cell_type": "code",
   "execution_count": 42,
   "metadata": {},
   "outputs": [
    {
     "data": {
      "text/plain": [
       "(1, 3)"
      ]
     },
     "execution_count": 42,
     "metadata": {},
     "output_type": "execute_result"
    }
   ],
   "source": [
    "c[newaxis,:].shape"
   ]
  },
  {
   "cell_type": "markdown",
   "metadata": {},
   "source": [
    "`concatenate`函数可以直接指定沿哪个轴进行堆叠"
   ]
  },
  {
   "cell_type": "code",
   "execution_count": 39,
   "metadata": {},
   "outputs": [
    {
     "data": {
      "text/plain": [
       "array([[8., 6., 4., 9., 2., 2.],\n",
       "       [0., 6., 5., 3., 2., 5.],\n",
       "       [6., 7., 9., 9., 9., 1.]])"
      ]
     },
     "execution_count": 39,
     "metadata": {},
     "output_type": "execute_result"
    }
   ],
   "source": [
    "np.concatenate([a,b],axis=1)"
   ]
  },
  {
   "cell_type": "markdown",
   "metadata": {},
   "source": [
    "`r_`与`c_`函数可以直接生成水平、垂直堆叠而成的数组，不一样的是，函数里可以使用`:`字符快速生成范围数组"
   ]
  },
  {
   "cell_type": "code",
   "execution_count": 36,
   "metadata": {},
   "outputs": [
    {
     "data": {
      "text/plain": [
       "array([ 0,  1,  2,  3,  9, 16])"
      ]
     },
     "execution_count": 36,
     "metadata": {},
     "output_type": "execute_result"
    }
   ],
   "source": [
    "np.r_[0:4,9,16]"
   ]
  },
  {
   "cell_type": "code",
   "execution_count": 38,
   "metadata": {},
   "outputs": [
    {
     "data": {
      "text/plain": [
       "array([[2, 3, 4],\n",
       "       [3, 4, 5],\n",
       "       [4, 5, 6]])"
      ]
     },
     "execution_count": 38,
     "metadata": {},
     "output_type": "execute_result"
    }
   ],
   "source": [
    "np.c_[2:5,3:6,4:7]"
   ]
  },
  {
   "cell_type": "markdown",
   "metadata": {},
   "source": [
    "## 数组分割"
   ]
  },
  {
   "cell_type": "markdown",
   "metadata": {},
   "source": [
    "类似数组堆叠，数组可以水平、垂直分割"
   ]
  },
  {
   "cell_type": "code",
   "execution_count": 43,
   "metadata": {},
   "outputs": [
    {
     "data": {
      "text/plain": [
       "array([[6., 9., 4., 9., 5., 0., 3., 1., 1., 9., 6., 9.],\n",
       "       [5., 9., 1., 9., 9., 1., 9., 3., 1., 8., 7., 0.]])"
      ]
     },
     "execution_count": 43,
     "metadata": {},
     "output_type": "execute_result"
    }
   ],
   "source": [
    "a=np.floor(10*np.random.random([2,12]))\n",
    "a"
   ]
  },
  {
   "cell_type": "code",
   "execution_count": 44,
   "metadata": {},
   "outputs": [
    {
     "data": {
      "text/plain": [
       "[array([[6., 9., 4., 9.],\n",
       "        [5., 9., 1., 9.]]), array([[5., 0., 3., 1.],\n",
       "        [9., 1., 9., 3.]]), array([[1., 9., 6., 9.],\n",
       "        [1., 8., 7., 0.]])]"
      ]
     },
     "execution_count": 44,
     "metadata": {},
     "output_type": "execute_result"
    }
   ],
   "source": [
    "np.hsplit(a,3)#均分"
   ]
  },
  {
   "cell_type": "code",
   "execution_count": 45,
   "metadata": {},
   "outputs": [
    {
     "data": {
      "text/plain": [
       "[array([[6., 9., 4., 9., 5.],\n",
       "        [5., 9., 1., 9., 9.]]), array([[0., 3.],\n",
       "        [1., 9.]]), array([[1., 1., 9., 6., 9.],\n",
       "        [3., 1., 8., 7., 0.]])]"
      ]
     },
     "execution_count": 45,
     "metadata": {},
     "output_type": "execute_result"
    }
   ],
   "source": [
    "np.hsplit(a,[5,7])#给出元组按列号分"
   ]
  },
  {
   "cell_type": "code",
   "execution_count": 46,
   "metadata": {},
   "outputs": [
    {
     "data": {
      "text/plain": [
       "array([[3., 4., 3.],\n",
       "       [4., 6., 9.],\n",
       "       [5., 1., 6.],\n",
       "       [5., 1., 7.],\n",
       "       [5., 9., 5.],\n",
       "       [7., 7., 1.],\n",
       "       [2., 5., 7.],\n",
       "       [9., 1., 5.]])"
      ]
     },
     "execution_count": 46,
     "metadata": {},
     "output_type": "execute_result"
    }
   ],
   "source": [
    "b=np.floor(10*np.random.random([8,3]))\n",
    "b"
   ]
  },
  {
   "cell_type": "code",
   "execution_count": 48,
   "metadata": {},
   "outputs": [
    {
     "data": {
      "text/plain": [
       "[array([[3., 4., 3.],\n",
       "        [4., 6., 9.],\n",
       "        [5., 1., 6.],\n",
       "        [5., 1., 7.]]), array([[5., 9., 5.],\n",
       "        [7., 7., 1.],\n",
       "        [2., 5., 7.],\n",
       "        [9., 1., 5.]])]"
      ]
     },
     "execution_count": 48,
     "metadata": {},
     "output_type": "execute_result"
    }
   ],
   "source": [
    "np.vsplit(b,2)"
   ]
  },
  {
   "cell_type": "code",
   "execution_count": 49,
   "metadata": {},
   "outputs": [
    {
     "data": {
      "text/plain": [
       "[array([[3., 4., 3.],\n",
       "        [4., 6., 9.]]),\n",
       " array([[5., 1., 6.]]),\n",
       " array([[5., 1., 7.]]),\n",
       " array([[5., 9., 5.],\n",
       "        [7., 7., 1.],\n",
       "        [2., 5., 7.],\n",
       "        [9., 1., 5.]])]"
      ]
     },
     "execution_count": 49,
     "metadata": {},
     "output_type": "execute_result"
    }
   ],
   "source": [
    "np.vsplit(b,[2,3,4])"
   ]
  },
  {
   "cell_type": "markdown",
   "metadata": {},
   "source": [
    "`array_split`可以指定沿哪个轴分割"
   ]
  },
  {
   "cell_type": "code",
   "execution_count": 52,
   "metadata": {},
   "outputs": [
    {
     "data": {
      "text/plain": [
       "[array([[6., 9., 4., 9., 5., 0.],\n",
       "        [5., 9., 1., 9., 9., 1.]]), array([[3., 1., 1., 9., 6., 9.],\n",
       "        [9., 3., 1., 8., 7., 0.]])]"
      ]
     },
     "execution_count": 52,
     "metadata": {},
     "output_type": "execute_result"
    }
   ],
   "source": [
    "np.array_split(a,2,axis=1)"
   ]
  },
  {
   "cell_type": "markdown",
   "metadata": {},
   "source": [
    "## 拷贝与视图"
   ]
  },
  {
   "cell_type": "markdown",
   "metadata": {},
   "source": [
    "- 无拷贝——简单赋值号无拷贝，即是同一个对象，引用传递"
   ]
  },
  {
   "cell_type": "code",
   "execution_count": 56,
   "metadata": {},
   "outputs": [
    {
     "data": {
      "text/plain": [
       "array([[ 0,  1,  2,  3],\n",
       "       [ 4,  5,  6,  7],\n",
       "       [ 8,  9, 10, 11]])"
      ]
     },
     "execution_count": 56,
     "metadata": {},
     "output_type": "execute_result"
    }
   ],
   "source": [
    "a=np.arange(12).reshape([3,4])\n",
    "a"
   ]
  },
  {
   "cell_type": "code",
   "execution_count": 57,
   "metadata": {},
   "outputs": [
    {
     "data": {
      "text/plain": [
       "True"
      ]
     },
     "execution_count": 57,
     "metadata": {},
     "output_type": "execute_result"
    }
   ],
   "source": [
    "b=a\n",
    "b is a"
   ]
  },
  {
   "cell_type": "code",
   "execution_count": 58,
   "metadata": {},
   "outputs": [
    {
     "data": {
      "text/plain": [
       "(4, 3)"
      ]
     },
     "execution_count": 58,
     "metadata": {},
     "output_type": "execute_result"
    }
   ],
   "source": [
    "b.shape=4,3\n",
    "a.shape"
   ]
  },
  {
   "cell_type": "markdown",
   "metadata": {},
   "source": [
    "- 视图与浅拷贝——切片所得的是浅拷贝视图（即视图可以不一样，但是数据是一样的）"
   ]
  },
  {
   "cell_type": "code",
   "execution_count": 59,
   "metadata": {},
   "outputs": [
    {
     "data": {
      "text/plain": [
       "False"
      ]
     },
     "execution_count": 59,
     "metadata": {},
     "output_type": "execute_result"
    }
   ],
   "source": [
    "c=a.view()\n",
    "c is a"
   ]
  },
  {
   "cell_type": "code",
   "execution_count": 72,
   "metadata": {},
   "outputs": [
    {
     "data": {
      "text/plain": [
       "True"
      ]
     },
     "execution_count": 72,
     "metadata": {},
     "output_type": "execute_result"
    }
   ],
   "source": [
    "c.base is a.base"
   ]
  },
  {
   "cell_type": "code",
   "execution_count": 75,
   "metadata": {},
   "outputs": [
    {
     "data": {
      "text/plain": [
       "(4, 3)"
      ]
     },
     "execution_count": 75,
     "metadata": {},
     "output_type": "execute_result"
    }
   ],
   "source": [
    "c.shape=2,6\n",
    "a.shape"
   ]
  },
  {
   "cell_type": "code",
   "execution_count": 76,
   "metadata": {},
   "outputs": [
    {
     "data": {
      "text/plain": [
       "array([[   0,    1,    2],\n",
       "       [   3, 1234,    5],\n",
       "       [   6,    7,    8],\n",
       "       [   9,   10,   11]])"
      ]
     },
     "execution_count": 76,
     "metadata": {},
     "output_type": "execute_result"
    }
   ],
   "source": [
    "c[0,4]=1234\n",
    "a"
   ]
  },
  {
   "cell_type": "code",
   "execution_count": 77,
   "metadata": {},
   "outputs": [
    {
     "data": {
      "text/plain": [
       "array([[ 0, 10, 10],\n",
       "       [ 3, 10, 10],\n",
       "       [ 6, 10, 10],\n",
       "       [ 9, 10, 10]])"
      ]
     },
     "execution_count": 77,
     "metadata": {},
     "output_type": "execute_result"
    }
   ],
   "source": [
    "s=a[:,1:3]\n",
    "s[:]=10\n",
    "a"
   ]
  },
  {
   "cell_type": "markdown",
   "metadata": {},
   "source": [
    "- 深拷贝"
   ]
  },
  {
   "cell_type": "code",
   "execution_count": 78,
   "metadata": {},
   "outputs": [
    {
     "data": {
      "text/plain": [
       "False"
      ]
     },
     "execution_count": 78,
     "metadata": {},
     "output_type": "execute_result"
    }
   ],
   "source": [
    "c=a.copy()\n",
    "c is a"
   ]
  },
  {
   "cell_type": "code",
   "execution_count": 79,
   "metadata": {},
   "outputs": [
    {
     "data": {
      "text/plain": [
       "False"
      ]
     },
     "execution_count": 79,
     "metadata": {},
     "output_type": "execute_result"
    }
   ],
   "source": [
    "c.base is a.base"
   ]
  },
  {
   "cell_type": "code",
   "execution_count": 80,
   "metadata": {},
   "outputs": [
    {
     "data": {
      "text/plain": [
       "array([[9999,   10,   10],\n",
       "       [   3,   10,   10],\n",
       "       [   6,   10,   10],\n",
       "       [   9,   10,   10]])"
      ]
     },
     "execution_count": 80,
     "metadata": {},
     "output_type": "execute_result"
    }
   ],
   "source": [
    "c[0,0]=9999\n",
    "c"
   ]
  },
  {
   "cell_type": "code",
   "execution_count": 81,
   "metadata": {},
   "outputs": [
    {
     "data": {
      "text/plain": [
       "array([[ 0, 10, 10],\n",
       "       [ 3, 10, 10],\n",
       "       [ 6, 10, 10],\n",
       "       [ 9, 10, 10]])"
      ]
     },
     "execution_count": 81,
     "metadata": {},
     "output_type": "execute_result"
    }
   ],
   "source": [
    "a"
   ]
  },
  {
   "cell_type": "markdown",
   "metadata": {},
   "source": [
    "## 函数与方法一览"
   ]
  },
  {
   "cell_type": "markdown",
   "metadata": {},
   "source": [
    "函数与方法一览，参见<a href=\"https://docs.scipy.org/doc/numpy/user/quickstart.html#functions-and-methods-overview\" target=\"_blank\">官网tutorial</a>  \n",
    "- 数组创建:  \n",
    "`arange`,`array`,`copy`,`empty`,`empty_like`,`eye`,`fromfile`,`fromfunction`,`identity`,  \n",
    "`linspace`,`logspace`,`mgrid`,`ogrid`,`ones`,`ones_like`,`r`,`zeros`,`zeros_like`\n",
    "- 数组转换  \n",
    "`ndarray.astype`,`atleast_1d`,`atleast_2d`,`atleast_3d`,`mat`\n",
    "- 数组操作  \n",
    "`array_split`,`column_stack`,`concatenate`,`diagonal`,`dsplit`,`dstack`,`hsplit`,`hstack`,   \n",
    "`ndarray.item`,`newaxis`,`ravel`,`repeat`,`reshape`,`resize`,`squeeze`,`swapaxes`,`take`,`transpose`,`vsplit`,`vstack`\n",
    "- 问题  \n",
    "`all`, `any`, `nonzero`, `where`\n",
    "- 排序  \n",
    "`argmax`, `argmin`, `argsort`, `max`, `min`, `ptp`, `searchsorted`, `sort`\n",
    "- 运算  \n",
    "`choose`, `compress`, `cumprod`, `cumsum`, `inner`, `ndarray.fill`, `imag`, `prod`, `put`, `putmask`, `real`, `sum`\n",
    "- 基本统计  \n",
    "`cov`, `mean`, `std`, `var`\n",
    "- 基本线性代数  \n",
    "`cross`, `dot`, `outer`, `linalg.svd`, `vdot`"
   ]
  },
  {
   "cell_type": "markdown",
   "metadata": {},
   "source": [
    "# Numpy进阶"
   ]
  },
  {
   "cell_type": "markdown",
   "metadata": {},
   "source": [
    "## 广播法则"
   ]
  },
  {
   "cell_type": "markdown",
   "metadata": {},
   "source": [
    "针对不同维，不同尺寸的数组之间进行按位运算会自动执行广播法则，广播法则如下：  \n",
    "- 低阶数组与高阶数组按位运算时会自动升维成为同阶数组，增加的维度尺寸自动设为1\n",
    "- 某个维度上尺寸为1的数组与该维度上尺度不为1的数组按位运算时会自动上升到同一尺寸，沿该维度增加的元素与第一个元素相同"
   ]
  },
  {
   "cell_type": "code",
   "execution_count": 90,
   "metadata": {},
   "outputs": [
    {
     "name": "stdout",
     "output_type": "stream",
     "text": [
      "[[ 0  1  2  3]\n",
      " [ 4  5  6  7]\n",
      " [ 8  9 10 11]]\n",
      "\n",
      "[0 1 2 3]\n",
      "\n",
      "[[1]\n",
      " [2]\n",
      " [3]]\n"
     ]
    }
   ],
   "source": [
    "from numpy import newaxis\n",
    "a=np.arange(12).reshape(3,4)\n",
    "b=np.arange(4)\n",
    "c=np.arange(1,4)[:,newaxis]\n",
    "print(a)\n",
    "print()\n",
    "print(b)\n",
    "print()\n",
    "print(c)"
   ]
  },
  {
   "cell_type": "code",
   "execution_count": 88,
   "metadata": {},
   "outputs": [
    {
     "data": {
      "text/plain": [
       "array([[ 0,  2,  4,  6],\n",
       "       [ 4,  6,  8, 10],\n",
       "       [ 8, 10, 12, 14]])"
      ]
     },
     "execution_count": 88,
     "metadata": {},
     "output_type": "execute_result"
    }
   ],
   "source": [
    "a+b"
   ]
  },
  {
   "cell_type": "markdown",
   "metadata": {},
   "source": [
    "`a`与`b`不同阶(`b`是一阶数组,`a`是二阶数组),`b`自动升维成2阶数组,但是在第二个轴上与`a`尺寸不同,故自动增加相同的元素,最后成为  \n",
    "array([[0,1,2,3],[0,1,2,3],[0,1,2,3]])  \n",
    "然后`a+b`成为同阶同尺寸的按位运算"
   ]
  },
  {
   "cell_type": "code",
   "execution_count": 91,
   "metadata": {},
   "outputs": [
    {
     "data": {
      "text/plain": [
       "array([[   0,    1,    2,    3],\n",
       "       [  16,   25,   36,   49],\n",
       "       [ 512,  729, 1000, 1331]], dtype=int32)"
      ]
     },
     "execution_count": 91,
     "metadata": {},
     "output_type": "execute_result"
    }
   ],
   "source": [
    "a**c"
   ]
  },
  {
   "cell_type": "code",
   "execution_count": 93,
   "metadata": {},
   "outputs": [
    {
     "data": {
      "text/plain": [
       "array([[0, 1, 2, 3],\n",
       "       [0, 2, 4, 6],\n",
       "       [0, 3, 6, 9]])"
      ]
     },
     "execution_count": 93,
     "metadata": {},
     "output_type": "execute_result"
    }
   ],
   "source": [
    "b*c"
   ]
  },
  {
   "cell_type": "code",
   "execution_count": 94,
   "metadata": {},
   "outputs": [
    {
     "data": {
      "text/plain": [
       "array([[2],\n",
       "       [3],\n",
       "       [4]])"
      ]
     },
     "execution_count": 94,
     "metadata": {},
     "output_type": "execute_result"
    }
   ],
   "source": [
    "c+1"
   ]
  },
  {
   "cell_type": "markdown",
   "metadata": {},
   "source": [
    "## 高级索引技巧"
   ]
  },
  {
   "cell_type": "markdown",
   "metadata": {},
   "source": [
    "### 数组索引"
   ]
  },
  {
   "cell_type": "markdown",
   "metadata": {},
   "source": [
    "数组索引即为用数组做索引。对高维数组进行索引，每个维度都要使用一个数组，且因为作为索引的数组决定切片的shape，所以所有的数组必须形状(shape)相同"
   ]
  },
  {
   "cell_type": "code",
   "execution_count": 96,
   "metadata": {},
   "outputs": [
    {
     "data": {
      "text/plain": [
       "array([[ 0,  1,  2,  3,  4],\n",
       "       [ 5,  6,  7,  8,  9],\n",
       "       [10, 11, 12, 13, 14],\n",
       "       [15, 16, 17, 18, 19]])"
      ]
     },
     "execution_count": 96,
     "metadata": {},
     "output_type": "execute_result"
    }
   ],
   "source": [
    "a=np.arange(20).reshape(4,5)\n",
    "a"
   ]
  },
  {
   "cell_type": "code",
   "execution_count": 97,
   "metadata": {},
   "outputs": [
    {
     "data": {
      "text/plain": [
       "array([0, 1, 2, 3, 4, 5, 6, 7])"
      ]
     },
     "execution_count": 97,
     "metadata": {},
     "output_type": "execute_result"
    }
   ],
   "source": [
    "b=np.arange(8)\n",
    "b"
   ]
  },
  {
   "cell_type": "code",
   "execution_count": 98,
   "metadata": {},
   "outputs": [
    {
     "data": {
      "text/plain": [
       "array([2, 3, 2, 5, 0, 1])"
      ]
     },
     "execution_count": 98,
     "metadata": {},
     "output_type": "execute_result"
    }
   ],
   "source": [
    "c=np.array([2,3,2,5,0,1])\n",
    "b[c]"
   ]
  },
  {
   "cell_type": "code",
   "execution_count": 102,
   "metadata": {},
   "outputs": [
    {
     "data": {
      "text/plain": [
       "array([[ 8, 10],\n",
       "       [ 7, 11]])"
      ]
     },
     "execution_count": 102,
     "metadata": {},
     "output_type": "execute_result"
    }
   ],
   "source": [
    "d=np.array([[1,2],[1,2]])#d,e必须shape相同，因为他们的shape决定返回数组的shape；d,e分别决定第一维与第二维的索引\n",
    "e=np.array([[3,0],[2,1]])\n",
    "a[d,e]"
   ]
  },
  {
   "cell_type": "markdown",
   "metadata": {},
   "source": [
    "也可以使用一个序列把d,e装起来然后对a索引；但是注意不能把d,e装起来变成数组(array)对a索引，因为数组对a索引会把该数组作为第一个维度的索引"
   ]
  },
  {
   "cell_type": "code",
   "execution_count": 107,
   "metadata": {},
   "outputs": [
    {
     "data": {
      "text/plain": [
       "array([[ 8, 10],\n",
       "       [ 7, 11]])"
      ]
     },
     "execution_count": 107,
     "metadata": {},
     "output_type": "execute_result"
    }
   ],
   "source": [
    "l=d,e\n",
    "a[l]"
   ]
  },
  {
   "cell_type": "code",
   "execution_count": 111,
   "metadata": {},
   "outputs": [
    {
     "data": {
      "text/plain": [
       "array([[[[ 5,  6,  7,  8,  9],\n",
       "         [10, 11, 12, 13, 14]],\n",
       "\n",
       "        [[ 5,  6,  7,  8,  9],\n",
       "         [10, 11, 12, 13, 14]]],\n",
       "\n",
       "\n",
       "       [[[15, 16, 17, 18, 19],\n",
       "         [ 0,  1,  2,  3,  4]],\n",
       "\n",
       "        [[10, 11, 12, 13, 14],\n",
       "         [ 5,  6,  7,  8,  9]]]])"
      ]
     },
     "execution_count": 111,
     "metadata": {},
     "output_type": "execute_result"
    }
   ],
   "source": [
    "l=np.array([d,e])\n",
    "a[l]"
   ]
  },
  {
   "cell_type": "markdown",
   "metadata": {},
   "source": [
    "当然可以像以下使用两个序列来进行切片，但这样相对来说受限——结果数组中同一行必定来自源数组同一行，同一列必定来自源数组同一列——相对来说，数组索引可以不受此限制，比如要生成一个2\\*2数组，比如上面的`a[d,e]`，就无法使用序列索引切片达到"
   ]
  },
  {
   "cell_type": "code",
   "execution_count": 108,
   "metadata": {},
   "outputs": [
    {
     "data": {
      "text/plain": [
       "array([[ 6,  7,  8,  9],\n",
       "       [16, 17, 18, 19],\n",
       "       [11, 12, 13, 14]])"
      ]
     },
     "execution_count": 108,
     "metadata": {},
     "output_type": "execute_result"
    }
   ],
   "source": [
    "a[[1,3,2],1:]"
   ]
  },
  {
   "cell_type": "markdown",
   "metadata": {},
   "source": [
    "数组索引切片作为左值(与普通切片一样，只是一个视图，是浅拷贝)"
   ]
  },
  {
   "cell_type": "code",
   "execution_count": 1,
   "metadata": {},
   "outputs": [
    {
     "data": {
      "text/plain": [
       "array([[ 0,  1,  2,  3],\n",
       "       [ 4,  5,  6,  7],\n",
       "       [ 8,  9, 10, 11]])"
      ]
     },
     "execution_count": 1,
     "metadata": {},
     "output_type": "execute_result"
    }
   ],
   "source": [
    "import numpy as np\n",
    "a=np.arange(12).reshape(3,4)\n",
    "a"
   ]
  },
  {
   "cell_type": "code",
   "execution_count": 3,
   "metadata": {},
   "outputs": [
    {
     "data": {
      "text/plain": [
       "array([[ 0,  1,  2,  3],\n",
       "       [ 0,  0,  0,  0],\n",
       "       [ 8,  9, 10, 11]])"
      ]
     },
     "execution_count": 3,
     "metadata": {},
     "output_type": "execute_result"
    }
   ],
   "source": [
    "a[1]=0\n",
    "a"
   ]
  },
  {
   "cell_type": "code",
   "execution_count": 4,
   "metadata": {},
   "outputs": [
    {
     "data": {
      "text/plain": [
       "array([[ 0, 99, 99,  3],\n",
       "       [ 0,  0,  0,  0],\n",
       "       [ 8, 99, 99, 11]])"
      ]
     },
     "execution_count": 4,
     "metadata": {},
     "output_type": "execute_result"
    }
   ],
   "source": [
    "ix=np.array([[0,2],[0,2]])\n",
    "iy=np.array([[1,1],[2,2]])\n",
    "a[ix,iy]=99\n",
    "a"
   ]
  },
  {
   "cell_type": "markdown",
   "metadata": {},
   "source": [
    "### 布尔值索引"
   ]
  },
  {
   "cell_type": "markdown",
   "metadata": {},
   "source": [
    "布尔值索引有两种方式，  \n",
    "- 一种是给出一个与源数组同形状的逻辑数组，指定每一个元素是否需要\n",
    "- 一种是对每一个维度给出一个逻辑数组，会自动转换成对应的数组索引进行索引"
   ]
  },
  {
   "cell_type": "code",
   "execution_count": 7,
   "metadata": {},
   "outputs": [
    {
     "data": {
      "text/plain": [
       "array([[2., 8., 4., 5., 7.],\n",
       "       [6., 0., 7., 0., 9.],\n",
       "       [2., 1., 5., 9., 5.],\n",
       "       [8., 5., 2., 9., 4.]])"
      ]
     },
     "execution_count": 7,
     "metadata": {},
     "output_type": "execute_result"
    }
   ],
   "source": [
    "a=np.floor(10*np.random.random([4,5]))\n",
    "a"
   ]
  },
  {
   "cell_type": "code",
   "execution_count": 8,
   "metadata": {},
   "outputs": [
    {
     "data": {
      "text/plain": [
       "array([[False,  True, False,  True,  True],\n",
       "       [ True, False,  True, False,  True],\n",
       "       [False, False,  True,  True,  True],\n",
       "       [ True,  True, False,  True, False]])"
      ]
     },
     "execution_count": 8,
     "metadata": {},
     "output_type": "execute_result"
    }
   ],
   "source": [
    "b=a>=5\n",
    "b"
   ]
  },
  {
   "cell_type": "code",
   "execution_count": 9,
   "metadata": {},
   "outputs": [
    {
     "data": {
      "text/plain": [
       "array([8., 5., 7., 6., 7., 9., 5., 9., 5., 8., 5., 9.])"
      ]
     },
     "execution_count": 9,
     "metadata": {},
     "output_type": "execute_result"
    }
   ],
   "source": [
    "a[b]"
   ]
  },
  {
   "cell_type": "code",
   "execution_count": 13,
   "metadata": {},
   "outputs": [
    {
     "data": {
      "text/plain": [
       "array([ True, False,  True, False])"
      ]
     },
     "execution_count": 13,
     "metadata": {},
     "output_type": "execute_result"
    }
   ],
   "source": [
    "c=np.arange(a.shape[0])%2==0\n",
    "c"
   ]
  },
  {
   "cell_type": "code",
   "execution_count": 51,
   "metadata": {},
   "outputs": [
    {
     "data": {
      "text/plain": [
       "array([ True, False,  True, False, False])"
      ]
     },
     "execution_count": 51,
     "metadata": {},
     "output_type": "execute_result"
    }
   ],
   "source": [
    "d=np.arange(a.shape[1])\n",
    "d=(d==0)|(d==2)\n",
    "d"
   ]
  },
  {
   "cell_type": "markdown",
   "metadata": {},
   "source": [
    "> 要注意运算符的优先级,`==`比位运算符要低,参考[Python运算符优先级](http://www.runoob.com/python/python-operators.html#ysf8)"
   ]
  },
  {
   "cell_type": "code",
   "execution_count": 52,
   "metadata": {},
   "outputs": [
    {
     "data": {
      "text/plain": [
       "array([[2., 8., 4., 5., 7.],\n",
       "       [2., 1., 5., 9., 5.]])"
      ]
     },
     "execution_count": 52,
     "metadata": {},
     "output_type": "execute_result"
    }
   ],
   "source": [
    "a[c]"
   ]
  },
  {
   "cell_type": "code",
   "execution_count": 53,
   "metadata": {},
   "outputs": [
    {
     "data": {
      "text/plain": [
       "array([[2., 4.],\n",
       "       [6., 7.],\n",
       "       [2., 5.],\n",
       "       [8., 2.]])"
      ]
     },
     "execution_count": 53,
     "metadata": {},
     "output_type": "execute_result"
    }
   ],
   "source": [
    "a[:,d]"
   ]
  },
  {
   "cell_type": "code",
   "execution_count": 56,
   "metadata": {},
   "outputs": [
    {
     "data": {
      "text/plain": [
       "array([2., 5.])"
      ]
     },
     "execution_count": 56,
     "metadata": {},
     "output_type": "execute_result"
    }
   ],
   "source": [
    "a[c,d]"
   ]
  },
  {
   "cell_type": "markdown",
   "metadata": {},
   "source": [
    "> 这里比较奇怪，按照我原来的意思，应当是取出偶数行，0、2列交叉处的元素,但事实出乎意料。就我的理解，\n",
    "> - 布尔值作索引其实是转化成对应的数组索引，只是把True对应位置的索引保留组成数组来索引,所以`a[c]`等价于`a[[0,2]]`\n",
    "> - 而各个维度都是索引时可能会自动转型成各个维度都是ndarray，由上面可知,各个维度给出数组索引时,每个索引必须shape相同,且其shape就是最后结果的shape。所以上述`a[c,d]`其实等价于`a[[0,2],[0,2]]`,而两个维度上的序列`[0,2]`索引又被转型成两个`array([0,2])`,成了`a[array([0,2]),array([0,2])]`,最后索引的结果是一个shape为(2,)的数组,两个元素分别为`a[0,0]`与`a[2,2]`。假设改为`a[[0,2],[0,2,4]]`则不可以，因为序列转化成ndarray后不是合法的数组索引(两个索引shape不合)"
   ]
  },
  {
   "cell_type": "code",
   "execution_count": 57,
   "metadata": {},
   "outputs": [
    {
     "ename": "IndexError",
     "evalue": "shape mismatch: indexing arrays could not be broadcast together with shapes (2,) (3,) ",
     "output_type": "error",
     "traceback": [
      "\u001b[1;31m---------------------------------------------------------------------------\u001b[0m",
      "\u001b[1;31mIndexError\u001b[0m                                Traceback (most recent call last)",
      "\u001b[1;32m<ipython-input-57-9582139dcec8>\u001b[0m in \u001b[0;36m<module>\u001b[1;34m()\u001b[0m\n\u001b[1;32m----> 1\u001b[1;33m \u001b[0ma\u001b[0m\u001b[1;33m[\u001b[0m\u001b[1;33m[\u001b[0m\u001b[1;32mTrue\u001b[0m\u001b[1;33m,\u001b[0m\u001b[1;32mFalse\u001b[0m\u001b[1;33m,\u001b[0m\u001b[1;32mTrue\u001b[0m\u001b[1;33m,\u001b[0m\u001b[1;32mFalse\u001b[0m\u001b[1;33m]\u001b[0m\u001b[1;33m,\u001b[0m\u001b[1;33m[\u001b[0m\u001b[1;32mTrue\u001b[0m\u001b[1;33m,\u001b[0m\u001b[1;32mFalse\u001b[0m\u001b[1;33m,\u001b[0m\u001b[1;32mTrue\u001b[0m\u001b[1;33m,\u001b[0m\u001b[1;32mFalse\u001b[0m\u001b[1;33m,\u001b[0m\u001b[1;32mTrue\u001b[0m\u001b[1;33m]\u001b[0m\u001b[1;33m]\u001b[0m\u001b[1;33m\u001b[0m\u001b[0m\n\u001b[0m",
      "\u001b[1;31mIndexError\u001b[0m: shape mismatch: indexing arrays could not be broadcast together with shapes (2,) (3,) "
     ]
    }
   ],
   "source": [
    "a[[True,False,True,False],[True,False,True,False,True]]"
   ]
  },
  {
   "cell_type": "markdown",
   "metadata": {},
   "source": [
    "而如果要取某几行某几列应该怎么做？相对于matlab中一步到位，python中需要两步才行,比如上述要取a的1,3行,1,3列子集如上`a[c,d]`是错误的,正确的应该如下:"
   ]
  },
  {
   "cell_type": "code",
   "execution_count": 75,
   "metadata": {},
   "outputs": [
    {
     "data": {
      "text/plain": [
       "array([[2., 4.],\n",
       "       [2., 5.]])"
      ]
     },
     "execution_count": 75,
     "metadata": {},
     "output_type": "execute_result"
    }
   ],
   "source": [
    "a[c][:,d]"
   ]
  },
  {
   "cell_type": "markdown",
   "metadata": {},
   "source": [
    "## numpy.ix_()函数"
   ]
  },
  {
   "cell_type": "markdown",
   "metadata": {},
   "source": [
    "numpy中的`ix_()`函数充分利用了广播的特性,用于生成坐标网格。我们知道在matlab中将两个向量生成网格可以用`meshgrid`函数，比如:\n",
    "```matlab\n",
    ">>>x=1:5\n",
    "x=\n",
    "    1  2  3  4  5\n",
    ">>>y=6:10\n",
    "y=\n",
    "    6  7  8  9  10\n",
    ">>>[X,Y]=meshgrid(x,y)\n",
    "X=\n",
    "    1  2  3  4  5\n",
    "    1  2  3  4  5\n",
    "    1  2  3  4  5\n",
    "    1  2  3  4  5\n",
    "    1  2  3  4  5\n",
    "Y=\n",
    "    6  6  6  6  6\n",
    "    7  7  7  7  7\n",
    "    8  8  8  8  8\n",
    "    9  9  9  9  9\n",
    "    10 10 10 10 10\n",
    ">>>Z=X.*Y\n",
    "Z=\n",
    "    6  12 18 24 30\n",
    "    7  14 21 28 35\n",
    "    8  16 24 32 40\n",
    "    9  18 27 36 45\n",
    "    10 20 30 40 50\n",
    "```  \n",
    "但是这样生成的X,Y矩阵有大量的冗余数据,numpy的`ix_()`函数则不是；`ix_()`函数返回向量，但是是在不同维度上的向量，这样进行按位运算时会利用到广播的特性，起到与网格同样的效果,且不增加数据量:"
   ]
  },
  {
   "cell_type": "code",
   "execution_count": 96,
   "metadata": {},
   "outputs": [
    {
     "data": {
      "text/plain": [
       "(array([[1],\n",
       "        [2],\n",
       "        [3],\n",
       "        [4],\n",
       "        [5]]), array([[ 6,  7,  8,  9, 10]]))"
      ]
     },
     "execution_count": 96,
     "metadata": {},
     "output_type": "execute_result"
    }
   ],
   "source": [
    "a=np.arange(1,6)\n",
    "b=np.arange(6,11)\n",
    "ax,bx=np.ix_(a,b)\n",
    "ax,bx"
   ]
  },
  {
   "cell_type": "code",
   "execution_count": 97,
   "metadata": {},
   "outputs": [
    {
     "data": {
      "text/plain": [
       "((5, 1), (1, 5))"
      ]
     },
     "execution_count": 97,
     "metadata": {},
     "output_type": "execute_result"
    }
   ],
   "source": [
    "ax.shape,bx.shape"
   ]
  },
  {
   "cell_type": "code",
   "execution_count": 98,
   "metadata": {},
   "outputs": [
    {
     "data": {
      "text/plain": [
       "array([[ 6,  7,  8,  9, 10],\n",
       "       [12, 14, 16, 18, 20],\n",
       "       [18, 21, 24, 27, 30],\n",
       "       [24, 28, 32, 36, 40],\n",
       "       [30, 35, 40, 45, 50]])"
      ]
     },
     "execution_count": 98,
     "metadata": {},
     "output_type": "execute_result"
    }
   ],
   "source": [
    "c=ax*bx\n",
    "c"
   ]
  },
  {
   "cell_type": "code",
   "execution_count": 99,
   "metadata": {},
   "outputs": [
    {
     "data": {
      "text/plain": [
       "27"
      ]
     },
     "execution_count": 99,
     "metadata": {},
     "output_type": "execute_result"
    }
   ],
   "source": [
    "c[2,3]"
   ]
  },
  {
   "cell_type": "code",
   "execution_count": 100,
   "metadata": {},
   "outputs": [
    {
     "data": {
      "text/plain": [
       "27"
      ]
     },
     "execution_count": 100,
     "metadata": {},
     "output_type": "execute_result"
    }
   ],
   "source": [
    "a[2]*b[3]"
   ]
  },
  {
   "cell_type": "markdown",
   "metadata": {},
   "source": [
    "numpy中还有`ogrid`与`mgrid`方法生成坐标网格，差别是`ogrid`和`ix_()`函数一样，生成不同维度上的向量，而`mgrid`像matlab一样生成密集网格;`ogrid`与`mgrid`可以使用范围数组类似的生成方法:"
   ]
  },
  {
   "cell_type": "code",
   "execution_count": 109,
   "metadata": {},
   "outputs": [
    {
     "data": {
      "text/plain": [
       "array([-1. , -0.5,  0. ,  0.5])"
      ]
     },
     "execution_count": 109,
     "metadata": {},
     "output_type": "execute_result"
    }
   ],
   "source": [
    "np.ogrid[-1:1:0.5]"
   ]
  },
  {
   "cell_type": "code",
   "execution_count": 110,
   "metadata": {},
   "outputs": [
    {
     "data": {
      "text/plain": [
       "array([-1. , -0.5,  0. ,  0.5])"
      ]
     },
     "execution_count": 110,
     "metadata": {},
     "output_type": "execute_result"
    }
   ],
   "source": [
    "np.mgrid[-1:1:0.5]"
   ]
  },
  {
   "cell_type": "code",
   "execution_count": 114,
   "metadata": {},
   "outputs": [
    {
     "data": {
      "text/plain": [
       "(array([[0. ],\n",
       "        [0.5],\n",
       "        [1. ],\n",
       "        [1.5],\n",
       "        [2. ],\n",
       "        [2.5]]), array([[4. , 4.5, 5. , 5.5, 6. , 6.5]]))"
      ]
     },
     "execution_count": 114,
     "metadata": {},
     "output_type": "execute_result"
    }
   ],
   "source": [
    "ao,bo=np.ogrid[0:3:0.5,4:7:0.5]\n",
    "ao,bo"
   ]
  },
  {
   "cell_type": "code",
   "execution_count": 115,
   "metadata": {},
   "outputs": [
    {
     "data": {
      "text/plain": [
       "((6, 1), (1, 6))"
      ]
     },
     "execution_count": 115,
     "metadata": {},
     "output_type": "execute_result"
    }
   ],
   "source": [
    "ao.shape,bo.shape"
   ]
  },
  {
   "cell_type": "code",
   "execution_count": 116,
   "metadata": {},
   "outputs": [
    {
     "data": {
      "text/plain": [
       "(array([[0. , 0. , 0. , 0. , 0. , 0. ],\n",
       "        [0.5, 0.5, 0.5, 0.5, 0.5, 0.5],\n",
       "        [1. , 1. , 1. , 1. , 1. , 1. ],\n",
       "        [1.5, 1.5, 1.5, 1.5, 1.5, 1.5],\n",
       "        [2. , 2. , 2. , 2. , 2. , 2. ],\n",
       "        [2.5, 2.5, 2.5, 2.5, 2.5, 2.5]]),\n",
       " array([[4. , 4.5, 5. , 5.5, 6. , 6.5],\n",
       "        [4. , 4.5, 5. , 5.5, 6. , 6.5],\n",
       "        [4. , 4.5, 5. , 5.5, 6. , 6.5],\n",
       "        [4. , 4.5, 5. , 5.5, 6. , 6.5],\n",
       "        [4. , 4.5, 5. , 5.5, 6. , 6.5],\n",
       "        [4. , 4.5, 5. , 5.5, 6. , 6.5]]))"
      ]
     },
     "execution_count": 116,
     "metadata": {},
     "output_type": "execute_result"
    }
   ],
   "source": [
    "am,bm=np.mgrid[0:3:0.5,4:7:0.5]\n",
    "am,bm"
   ]
  },
  {
   "cell_type": "code",
   "execution_count": 117,
   "metadata": {},
   "outputs": [
    {
     "data": {
      "text/plain": [
       "((6, 6), (6, 6))"
      ]
     },
     "execution_count": 117,
     "metadata": {},
     "output_type": "execute_result"
    }
   ],
   "source": [
    "am.shape,bm.shape"
   ]
  },
  {
   "cell_type": "markdown",
   "metadata": {},
   "source": [
    "如果第二个`:`后是实数，则表示步进值，且不包括终止值(与范围数组生成方法一样)；如果第二个`:`后是虚数，则表示生成数的个数，包括终止值(与`np.linspace`函数一致):"
   ]
  },
  {
   "cell_type": "code",
   "execution_count": 120,
   "metadata": {},
   "outputs": [
    {
     "data": {
      "text/plain": [
       "(array([[0.],\n",
       "        [1.],\n",
       "        [2.],\n",
       "        [3.],\n",
       "        [4.]]), array([[ 6.,  7.,  8.,  9., 10.]]))"
      ]
     },
     "execution_count": 120,
     "metadata": {},
     "output_type": "execute_result"
    }
   ],
   "source": [
    "ao,bo=np.ogrid[0:4:5j,6:10:5j]\n",
    "ao,bo"
   ]
  },
  {
   "cell_type": "code",
   "execution_count": 122,
   "metadata": {},
   "outputs": [
    {
     "data": {
      "text/plain": [
       "(array([[0., 0., 0., 0., 0.],\n",
       "        [1., 1., 1., 1., 1.],\n",
       "        [2., 2., 2., 2., 2.],\n",
       "        [3., 3., 3., 3., 3.],\n",
       "        [4., 4., 4., 4., 4.]]), array([[ 6.,  7.,  8.,  9., 10.],\n",
       "        [ 6.,  7.,  8.,  9., 10.],\n",
       "        [ 6.,  7.,  8.,  9., 10.],\n",
       "        [ 6.,  7.,  8.,  9., 10.],\n",
       "        [ 6.,  7.,  8.,  9., 10.]]))"
      ]
     },
     "execution_count": 122,
     "metadata": {},
     "output_type": "execute_result"
    }
   ],
   "source": [
    "am,bm=np.mgrid[0:4:5j,6:10:5j]\n",
    "am,bm"
   ]
  },
  {
   "cell_type": "markdown",
   "metadata": {},
   "source": [
    "## 线性代数"
   ]
  },
  {
   "cell_type": "markdown",
   "metadata": {},
   "source": [
    "### 基本操作"
   ]
  },
  {
   "cell_type": "code",
   "execution_count": 123,
   "metadata": {},
   "outputs": [
    {
     "name": "stdout",
     "output_type": "stream",
     "text": [
      "[[1. 2.]\n",
      " [3. 4.]]\n"
     ]
    }
   ],
   "source": [
    "a=np.array([[1.0,2.0],[3.0,4.0]])\n",
    "print(a)"
   ]
  },
  {
   "cell_type": "markdown",
   "metadata": {},
   "source": [
    "- 转置"
   ]
  },
  {
   "cell_type": "code",
   "execution_count": 142,
   "metadata": {},
   "outputs": [
    {
     "data": {
      "text/plain": [
       "array([[1., 3.],\n",
       "       [2., 4.]])"
      ]
     },
     "execution_count": 142,
     "metadata": {},
     "output_type": "execute_result"
    }
   ],
   "source": [
    "a.transpose()"
   ]
  },
  {
   "cell_type": "markdown",
   "metadata": {},
   "source": [
    "- 求逆"
   ]
  },
  {
   "cell_type": "code",
   "execution_count": 129,
   "metadata": {},
   "outputs": [
    {
     "data": {
      "text/plain": [
       "array([[-2. ,  1. ],\n",
       "       [ 1.5, -0.5]])"
      ]
     },
     "execution_count": 129,
     "metadata": {},
     "output_type": "execute_result"
    }
   ],
   "source": [
    "b=np.linalg.inv(a)\n",
    "b"
   ]
  },
  {
   "cell_type": "markdown",
   "metadata": {},
   "source": [
    "- 矩阵乘法"
   ]
  },
  {
   "cell_type": "code",
   "execution_count": 143,
   "metadata": {},
   "outputs": [
    {
     "data": {
      "text/plain": [
       "(array([[1.00000000e+00, 1.11022302e-16],\n",
       "        [0.00000000e+00, 1.00000000e+00]]),\n",
       " array([[1.0000000e+00, 4.4408921e-16],\n",
       "        [0.0000000e+00, 1.0000000e+00]]))"
      ]
     },
     "execution_count": 143,
     "metadata": {},
     "output_type": "execute_result"
    }
   ],
   "source": [
    "a@b,b@a"
   ]
  },
  {
   "cell_type": "markdown",
   "metadata": {},
   "source": [
    "- 求迹"
   ]
  },
  {
   "cell_type": "code",
   "execution_count": 131,
   "metadata": {},
   "outputs": [
    {
     "data": {
      "text/plain": [
       "array([[1., 0., 0., 0., 0.],\n",
       "       [0., 1., 0., 0., 0.],\n",
       "       [0., 0., 1., 0., 0.],\n",
       "       [0., 0., 0., 1., 0.],\n",
       "       [0., 0., 0., 0., 1.]])"
      ]
     },
     "execution_count": 131,
     "metadata": {},
     "output_type": "execute_result"
    }
   ],
   "source": [
    "u=np.eye(5)#单位矩阵\n",
    "u"
   ]
  },
  {
   "cell_type": "code",
   "execution_count": 134,
   "metadata": {},
   "outputs": [
    {
     "data": {
      "text/plain": [
       "5.0"
      ]
     },
     "execution_count": 134,
     "metadata": {},
     "output_type": "execute_result"
    }
   ],
   "source": [
    "np.trace(u)"
   ]
  },
  {
   "cell_type": "markdown",
   "metadata": {},
   "source": [
    "- 求解线性方程组"
   ]
  },
  {
   "cell_type": "code",
   "execution_count": 135,
   "metadata": {},
   "outputs": [
    {
     "data": {
      "text/plain": [
       "array([[5],\n",
       "       [7]])"
      ]
     },
     "execution_count": 135,
     "metadata": {},
     "output_type": "execute_result"
    }
   ],
   "source": [
    "y=np.array([5,7])[:,newaxis]\n",
    "y"
   ]
  },
  {
   "cell_type": "code",
   "execution_count": 137,
   "metadata": {},
   "outputs": [
    {
     "data": {
      "text/plain": [
       "array([[-3.],\n",
       "       [ 4.]])"
      ]
     },
     "execution_count": 137,
     "metadata": {},
     "output_type": "execute_result"
    }
   ],
   "source": [
    "x=np.linalg.solve(a,y)#求线性方程组\n",
    "x"
   ]
  },
  {
   "cell_type": "code",
   "execution_count": 140,
   "metadata": {},
   "outputs": [
    {
     "data": {
      "text/plain": [
       "array([[ True],\n",
       "       [ True]])"
      ]
     },
     "execution_count": 140,
     "metadata": {},
     "output_type": "execute_result"
    }
   ],
   "source": [
    "a@x==y"
   ]
  },
  {
   "cell_type": "markdown",
   "metadata": {},
   "source": [
    "- 求特征值、特征向量"
   ]
  },
  {
   "cell_type": "code",
   "execution_count": 145,
   "metadata": {},
   "outputs": [
    {
     "data": {
      "text/plain": [
       "(array([ 6.77881035,  1.81790737, -2.59671773]),\n",
       " array([[ 0.49974338,  0.85870632,  0.1134901 ],\n",
       "        [ 0.66932902, -0.29967981, -0.67984607],\n",
       "        [ 0.54977742, -0.41571079,  0.72452006]]))"
      ]
     },
     "execution_count": 145,
     "metadata": {},
     "output_type": "execute_result"
    }
   ],
   "source": [
    "j=np.array([[3.0,2.0,1.0],[2.0,2.0,4.0],[1.0,4.0,1.0]])\n",
    "w,v=np.linalg.eig(j)\n",
    "w,v"
   ]
  },
  {
   "cell_type": "code",
   "execution_count": 146,
   "metadata": {},
   "outputs": [
    {
     "data": {
      "text/plain": [
       "array([[ 6.77881035,  0.        ,  0.        ],\n",
       "       [ 0.        ,  1.81790737,  0.        ],\n",
       "       [ 0.        ,  0.        , -2.59671773]])"
      ]
     },
     "execution_count": 146,
     "metadata": {},
     "output_type": "execute_result"
    }
   ],
   "source": [
    "np.diag(w)"
   ]
  },
  {
   "cell_type": "code",
   "execution_count": 150,
   "metadata": {},
   "outputs": [
    {
     "data": {
      "text/plain": [
       "array([[ 6.77881035e+00, -1.52280308e-15, -9.55816643e-18],\n",
       "       [-1.42546771e-15,  1.81790737e+00, -1.85604399e-16],\n",
       "       [-1.28994776e-16, -3.67237796e-16, -2.59671773e+00]])"
      ]
     },
     "execution_count": 150,
     "metadata": {},
     "output_type": "execute_result"
    }
   ],
   "source": [
    "v.T@j@v"
   ]
  },
  {
   "cell_type": "markdown",
   "metadata": {},
   "source": [
    "### 技巧与建议"
   ]
  },
  {
   "cell_type": "markdown",
   "metadata": {},
   "source": [
    "- 自动重构(reshape)"
   ]
  },
  {
   "cell_type": "code",
   "execution_count": 151,
   "metadata": {},
   "outputs": [
    {
     "data": {
      "text/plain": [
       "(2, 5, 3)"
      ]
     },
     "execution_count": 151,
     "metadata": {},
     "output_type": "execute_result"
    }
   ],
   "source": [
    "a=np.arange(30)\n",
    "a.shape=2,-1,3\n",
    "a.shape"
   ]
  },
  {
   "cell_type": "markdown",
   "metadata": {},
   "source": [
    "> -1表示自动推断大小"
   ]
  },
  {
   "cell_type": "markdown",
   "metadata": {},
   "source": [
    "- 向量堆叠"
   ]
  },
  {
   "cell_type": "code",
   "execution_count": 152,
   "metadata": {},
   "outputs": [
    {
     "data": {
      "text/plain": [
       "(array([0, 1, 2, 3, 4]), array([0, 2, 4, 6, 8]))"
      ]
     },
     "execution_count": 152,
     "metadata": {},
     "output_type": "execute_result"
    }
   ],
   "source": [
    "x=np.arange(5)\n",
    "y=x*2\n",
    "x,y"
   ]
  },
  {
   "cell_type": "code",
   "execution_count": 154,
   "metadata": {},
   "outputs": [
    {
     "data": {
      "text/plain": [
       "array([[0, 1, 2, 3, 4],\n",
       "       [0, 2, 4, 6, 8]])"
      ]
     },
     "execution_count": 154,
     "metadata": {},
     "output_type": "execute_result"
    }
   ],
   "source": [
    "np.vstack([x,y])"
   ]
  },
  {
   "cell_type": "code",
   "execution_count": 155,
   "metadata": {},
   "outputs": [
    {
     "data": {
      "text/plain": [
       "array([0, 1, 2, 3, 4, 0, 2, 4, 6, 8])"
      ]
     },
     "execution_count": 155,
     "metadata": {},
     "output_type": "execute_result"
    }
   ],
   "source": [
    "np.hstack([x,y])"
   ]
  },
  {
   "cell_type": "markdown",
   "metadata": {},
   "source": [
    "- 直方图"
   ]
  },
  {
   "cell_type": "markdown",
   "metadata": {},
   "source": [
    "matplotlib中的`hist`会直接画出直方图,但是numpy里的`histogram`只是生成数据"
   ]
  },
  {
   "cell_type": "code",
   "execution_count": 157,
   "metadata": {},
   "outputs": [
    {
     "data": {
      "image/png": "[encoded data removed]",
      "text/plain": [
       "<Figure size 432x288 with 1 Axes>"
      ]
     },
     "metadata": {
      "needs_background": "light"
     },
     "output_type": "display_data"
    }
   ],
   "source": [
    "import numpy as np\n",
    "import matplotlib.pyplot as plt\n",
    "mu,sigma=2,0.5\n",
    "v=np.random.normal(mu,sigma,10000)\n",
    "plt.hist(v,bins=50,density=1)\n",
    "plt.show()"
   ]
  },
  {
   "cell_type": "code",
   "execution_count": 159,
   "metadata": {},
   "outputs": [
    {
     "data": {
      "image/png": "[encoded data removed]",
      "text/plain": [
       "<Figure size 432x288 with 1 Axes>"
      ]
     },
     "metadata": {
      "needs_background": "light"
     },
     "output_type": "display_data"
    }
   ],
   "source": [
    "[n,bins]=np.histogram(v,bins=50,density=True)\n",
    "plt.plot(0.5*(bins[:-1]+bins[1:]),n)\n",
    "plt.show()"
   ]
  },
  {
   "cell_type": "markdown",
   "metadata": {},
   "source": [
    "> `np.histogram`返回各个直方条的高度n及直方条的左右边缘值bins，因为一个直方条有两个边缘，最后bins会比n多一个；因为`density=True`所以n被标准化了（即积分为1,不再表示每个条的频数,而是频率密度）"
   ]
  },
  {
   "cell_type": "markdown",
   "metadata": {},
   "source": [
    "# Matlab到Numpy比较"
   ]
  },
  {
   "cell_type": "markdown",
   "metadata": {},
   "source": [
    "## 关键差别"
   ]
  },
  {
   "cell_type": "markdown",
   "metadata": {},
   "source": [
    "|                            matlab                            |                            Numpy                             |\n",
    "| :----------------------------------------------------------: | :----------------------------------------------------------: |\n",
    "| matlab中的基本数据类型是双精度浮点数组成的多维数组,其中二维数组的运算或多或少类似线性代数中的矩阵运算 | Numpy中基本数据类型是多维数组`array`，其操作大多是按位操作，线性代数运算需要特殊的函数实现 |\n",
    "|                      matlab索引从1开始                       |                       numpy索引从0开始                       |\n",
    "| matlab是特地为线性代数设计的，矩阵运算非常优雅与简洁，相对来说GUI方面和做成熟的应用方面有欠考虑 | python出发点是作为一个通用编程语言，numpy作为其补充，可以做到许多matlab无法做的事情 |\n",
    "|               matlab数组赋值、切片等使用值传递               |   numpy数组使用引用传递，切片只是生成一个视图，属于浅拷贝    |"
   ]
  },
  {
   "cell_type": "markdown",
   "metadata": {},
   "source": [
    "## 该使用数组还是矩阵"
   ]
  },
  {
   "cell_type": "markdown",
   "metadata": {},
   "source": [
    "出于历史原因，numpy中也有一个`matrix`类,那么到底该使用数组还是矩阵?  \n",
    "长期上来说`matrix`类将逐渐被弃用,所以当然是选用数组,二者比较如下:"
   ]
  },
  {
   "cell_type": "markdown",
   "metadata": {},
   "source": [
    "- `*`与`@`运算符的区别,`dot()`函数与`multiply()`函数的区别。\n",
    "    - 对`array`来说,`*`与`multiply()`是按位乘法,而`@`与`dot()`是矩阵乘法\n",
    "    - 对`matrix`来说,`*`意味着矩阵乘法,而按位乘法必须用`multiply()`\n",
    "- 处理向量（一维数组）方式上\n",
    "    - 对`array`来说,(Nx1)数组、(1xN)数组和(N,)数组是完全不一样的概念,前两个是二维数组，而最后一个是一维数组;`array`中类似A[:,1]的操作返回的是大小为N的一维数组而不是Nx1的二维数组,一维数组既可以当做行向量也可以当做列向量，A@v时v自动看做列向量,v@A时v自动看做行向量;转置一维数组没有意义\n",
    "    - 对`matrix`来说，一维数组总是向上转为1xN或者Nx1的二维数组（行列向量）\n",
    "- 处理高维数组上。\n",
    "    - `array`可以有2维以上的数组\n",
    "    - `matrix`只能有2为数组（即使一维数组也会向上转为二维数组）"
   ]
  },
  {
   "cell_type": "code",
   "execution_count": 165,
   "metadata": {},
   "outputs": [
    {
     "data": {
      "text/plain": [
       "(array([14, 32]), array([19, 28]))"
      ]
     },
     "execution_count": 165,
     "metadata": {},
     "output_type": "execute_result"
    }
   ],
   "source": [
    "A=np.array([[1,2],[3,4]])\n",
    "v=np.array([4,5])\n",
    "A@v,v@A"
   ]
  },
  {
   "cell_type": "markdown",
   "metadata": {},
   "source": [
    "## Matlab与Numpy等效语法"
   ]
  },
  {
   "cell_type": "markdown",
   "metadata": {},
   "source": [
    "参考[Numpy for matlab users](https://docs.scipy.org/doc/numpy/user/numpy-for-matlab-users.html#general-purpose-equivalents)"
   ]
  },
  {
   "cell_type": "markdown",
   "metadata": {},
   "source": [
    "几点需要注意的:  \n",
    "_______________"
   ]
  },
  {
   "cell_type": "markdown",
   "metadata": {},
   "source": [
    "### 数组叠加  \n",
    "与matlab中一样，numpy也可以由几个子矩阵叠加生成新矩阵,但是注意用法是使用`np.block`函数而不是`np.array`函数;`np.array`函数得到的并不是我们想要的，而是生成`数组的数组`，即更高维的数组"
   ]
  },
  {
   "cell_type": "code",
   "execution_count": 170,
   "metadata": {},
   "outputs": [
    {
     "data": {
      "text/plain": [
       "(array([[1, 2],\n",
       "        [3, 4]]), array([[2, 3],\n",
       "        [4, 5]]), array([[3, 4],\n",
       "        [5, 6]]), array([[4, 5],\n",
       "        [6, 7]]))"
      ]
     },
     "execution_count": 170,
     "metadata": {},
     "output_type": "execute_result"
    }
   ],
   "source": [
    "a=np.array([[1,2],[3,4]])\n",
    "b=np.array([[2,3],[4,5]])\n",
    "c=np.array([[3,4],[5,6]])\n",
    "d=np.array([[4,5],[6,7]])\n",
    "a,b,c,d"
   ]
  },
  {
   "cell_type": "code",
   "execution_count": 168,
   "metadata": {},
   "outputs": [
    {
     "data": {
      "text/plain": [
       "array([[[[1, 2],\n",
       "         [3, 4]],\n",
       "\n",
       "        [[2, 3],\n",
       "         [4, 5]]],\n",
       "\n",
       "\n",
       "       [[[3, 4],\n",
       "         [5, 6]],\n",
       "\n",
       "        [[4, 5],\n",
       "         [6, 7]]]])"
      ]
     },
     "execution_count": 168,
     "metadata": {},
     "output_type": "execute_result"
    }
   ],
   "source": [
    "np.array([[a,b],[c,d]])"
   ]
  },
  {
   "cell_type": "code",
   "execution_count": 171,
   "metadata": {},
   "outputs": [
    {
     "data": {
      "text/plain": [
       "array([[1, 2, 2, 3],\n",
       "       [3, 4, 4, 5],\n",
       "       [3, 4, 4, 5],\n",
       "       [5, 6, 6, 7]])"
      ]
     },
     "execution_count": 171,
     "metadata": {},
     "output_type": "execute_result"
    }
   ],
   "source": [
    "e=np.block([[a,b],[c,d]])\n",
    "e"
   ]
  },
  {
   "cell_type": "markdown",
   "metadata": {},
   "source": [
    "### 行列交叉子集索引"
   ]
  },
  {
   "cell_type": "markdown",
   "metadata": {},
   "source": [
    "numpy中索引几行、几列的交叉处元素时行列数组不能同时索引，因为numpy会自动当成使用数组索引各个维度，应该两次索引（上面说到过）,如下;但是可以使用numpy中的`ix_()`函数，利用广播法则，这样可以一次给出行索引的数组和列索引的数组，索引几行、几列交叉处子集"
   ]
  },
  {
   "cell_type": "code",
   "execution_count": 178,
   "metadata": {},
   "outputs": [
    {
     "data": {
      "text/plain": [
       "array([[ 1,  2,  2,  3],\n",
       "       [ 3, 95, 96,  5],\n",
       "       [ 3, 97, 98,  5],\n",
       "       [ 5,  6,  6,  7]])"
      ]
     },
     "execution_count": 178,
     "metadata": {},
     "output_type": "execute_result"
    }
   ],
   "source": [
    "e[[1,2]][:,[1,2]]=np.array([[95,96],[97,98]])\n",
    "e"
   ]
  },
  {
   "cell_type": "code",
   "execution_count": 180,
   "metadata": {},
   "outputs": [
    {
     "data": {
      "text/plain": [
       "array([[1, 2, 2, 3],\n",
       "       [3, 4, 4, 5],\n",
       "       [3, 4, 4, 5],\n",
       "       [5, 6, 6, 7]])"
      ]
     },
     "execution_count": 180,
     "metadata": {},
     "output_type": "execute_result"
    }
   ],
   "source": [
    "e[np.ix_([1,2],[1,2])]=np.ones([2,2])*4\n",
    "e"
   ]
  },
  {
   "cell_type": "markdown",
   "metadata": {},
   "source": [
    "### `np.r_`与`np.c_`用法"
   ]
  },
  {
   "cell_type": "markdown",
   "metadata": {},
   "source": [
    "`np.r_`与`np.c_`用法。实际上我也不知道,我觉得文档上写的缺乏规律性，按照文档上的解释生成的数组不一定是示例中所说，\n",
    "可能理解得不太对，留待之后再看(参看`help(np.r_)`)。`np.r_`与`np.c_`主要是生成数组的技巧性东西，以常规方法也是可以生成的"
   ]
  },
  {
   "cell_type": "code",
   "execution_count": 4,
   "metadata": {},
   "outputs": [
    {
     "data": {
      "text/plain": [
       "array([[0, 1, 2, 0, 1, 2],\n",
       "       [3, 4, 5, 3, 4, 5]])"
      ]
     },
     "execution_count": 4,
     "metadata": {},
     "output_type": "execute_result"
    }
   ],
   "source": [
    "a=np.array([[0,1,2],[3,4,5]])\n",
    "np.r_['-1',a,a]"
   ]
  },
  {
   "cell_type": "markdown",
   "metadata": {},
   "source": [
    "> 据说`'-1'`是指沿着最后一个轴连接，也即1轴（横向），无异议"
   ]
  },
  {
   "cell_type": "code",
   "execution_count": 5,
   "metadata": {},
   "outputs": [
    {
     "data": {
      "text/plain": [
       "array([[1, 2, 3],\n",
       "       [4, 5, 6]])"
      ]
     },
     "execution_count": 5,
     "metadata": {},
     "output_type": "execute_result"
    }
   ],
   "source": [
    "np.r_['0,2',[1,2,3],[4,5,6]]"
   ]
  },
  {
   "cell_type": "markdown",
   "metadata": {},
   "source": [
    "> 据说`'0,2'`是指沿着0轴连接，且维度至少为2。那为什么不生成`array([[[1,2,3]],[[4,5,6]]])`？维度是3(大于等于2)，shape是(2,1,3)，也是沿0轴连接"
   ]
  },
  {
   "cell_type": "code",
   "execution_count": 6,
   "metadata": {},
   "outputs": [
    {
     "data": {
      "text/plain": [
       "array([[1],\n",
       "       [2],\n",
       "       [3],\n",
       "       [4],\n",
       "       [5],\n",
       "       [6]])"
      ]
     },
     "execution_count": 6,
     "metadata": {},
     "output_type": "execute_result"
    }
   ],
   "source": [
    "np.r_['0,2,0',[1,2,3],[4,5,6]]"
   ]
  },
  {
   "cell_type": "code",
   "execution_count": 8,
   "metadata": {},
   "outputs": [
    {
     "data": {
      "text/plain": [
       "array([[1, 4],\n",
       "       [2, 5],\n",
       "       [3, 6]])"
      ]
     },
     "execution_count": 8,
     "metadata": {},
     "output_type": "execute_result"
    }
   ],
   "source": [
    "np.r_['1,2,0',[1,2,3],[4,5,6]]"
   ]
  },
  {
   "cell_type": "markdown",
   "metadata": {},
   "source": [
    "字符串里的第三个整数的解释看不懂,原文如下:  \n",
    "> A string with three comma-separated integers allows specification of the \n",
    "  axis to concatenate along, the minimum number of dimensions to force the\n",
    "  entries to, and which axis should contain the start of the arrays which\n",
    "  are less than the specified number of dimensions. In other words the third\n",
    "  integer allows you to specify where the 1's should be placed in the shape\n",
    "  of the arrays that have their shapes upgraded. By default, they are placed\n",
    "  in the front of the shape tuple. The third argument allows you to specify\n",
    "  where the start of the array should be instead. Thus, a third argument of\n",
    "  '0' would place the 1's at the end of the array shape. Negative integers\n",
    "  specify where in the new shape tuple the last dimension of upgraded arrays\n",
    "  should be placed, so the default is '-1'."
   ]
  },
  {
   "cell_type": "markdown",
   "metadata": {},
   "source": [
    "### 特殊数组生成"
   ]
  },
  {
   "cell_type": "code",
   "execution_count": 23,
   "metadata": {},
   "outputs": [
    {
     "name": "stdout",
     "output_type": "stream",
     "text": [
      "[[0. 0. 0.]\n",
      " [0. 0. 0.]]\n",
      "\n",
      "[[1. 0.]\n",
      " [0. 1.]]\n",
      "\n",
      "[[1. 1. 1.]\n",
      " [1. 1. 1.]]\n",
      "\n",
      "[[0.98553156 0.44501507 0.20464881]\n",
      " [0.83079775 0.53370093 0.25029308]]\n",
      "\n",
      "[[0 0 0]\n",
      " [0 1 0]\n",
      " [0 0 2]]\n",
      "\n"
     ]
    },
    {
     "data": {
      "text/plain": [
       "(None, None)"
      ]
     },
     "execution_count": 23,
     "metadata": {},
     "output_type": "execute_result"
    }
   ],
   "source": [
    "a=np.zeros([2,3])\n",
    "b=np.eye(2)\n",
    "c=np.ones([2,3])\n",
    "d=np.random.random([2,3])\n",
    "e=np.diag(np.arange(3))\n",
    "print(a),print()\n",
    "print(b),print()\n",
    "print(c),print()\n",
    "print(d),print()\n",
    "print(e),print()"
   ]
  },
  {
   "cell_type": "markdown",
   "metadata": {},
   "source": [
    "### 数组自我复制  \n",
    "```matlab\n",
    ">>>a=[1,2]\n",
    "a=\n",
    "    1  2\n",
    ">>>repmat(a,3,2)\n",
    "ans=\n",
    "    1  2  1  2\n",
    "    1  2  1  2\n",
    "    1  2  1  2\n",
    "```"
   ]
  },
  {
   "cell_type": "code",
   "execution_count": 27,
   "metadata": {},
   "outputs": [
    {
     "data": {
      "text/plain": [
       "array([[1, 2, 1, 2],\n",
       "       [1, 2, 1, 2],\n",
       "       [1, 2, 1, 2]])"
      ]
     },
     "execution_count": 27,
     "metadata": {},
     "output_type": "execute_result"
    }
   ],
   "source": [
    "a=np.arange(1,3)\n",
    "np.tile(a,[3,2])"
   ]
  },
  {
   "cell_type": "markdown",
   "metadata": {},
   "source": [
    "### 其他一些线性代数运算"
   ]
  },
  {
   "cell_type": "code",
   "execution_count": 29,
   "metadata": {},
   "outputs": [
    {
     "data": {
      "text/plain": [
       "array([[ 0.46666667, -0.4       ,  0.06666667],\n",
       "       [ 1.13333333, -0.4       , -0.26666667],\n",
       "       [-0.83333333,  0.5       ,  0.16666667]])"
      ]
     },
     "execution_count": 29,
     "metadata": {},
     "output_type": "execute_result"
    }
   ],
   "source": [
    "a=np.array([[2,3,4],[1,4,6],[7,3,8]])\n",
    "np.linalg.pinv(a)#求伪逆"
   ]
  },
  {
   "cell_type": "code",
   "execution_count": 35,
   "metadata": {},
   "outputs": [
    {
     "data": {
      "text/plain": [
       "3"
      ]
     },
     "execution_count": 35,
     "metadata": {},
     "output_type": "execute_result"
    }
   ],
   "source": [
    "np.linalg.matrix_rank(a)#求阶"
   ]
  },
  {
   "cell_type": "code",
   "execution_count": 36,
   "metadata": {},
   "outputs": [
    {
     "data": {
      "text/plain": [
       "array([[ 35,  30,  58],\n",
       "       [ 48,  37,  76],\n",
       "       [ 73,  57, 110]])"
      ]
     },
     "execution_count": 36,
     "metadata": {},
     "output_type": "execute_result"
    }
   ],
   "source": [
    "np.linalg.matrix_power(a,2)#求方阵幂"
   ]
  },
  {
   "cell_type": "code",
   "execution_count": 41,
   "metadata": {},
   "outputs": [
    {
     "data": {
      "text/plain": [
       "(array([[-0.38216036, -0.26160077, -0.88629481],\n",
       "        [-0.48809686, -0.75725051,  0.43397364],\n",
       "        [-0.78467504,  0.59844523,  0.16170461]]),\n",
       " array([13.80083801,  3.63019307,  0.5988059 ]),\n",
       " array([[-0.48874879,  0.80124239, -0.34515974],\n",
       "        [-0.39511323, -0.5560224 , -0.73124868],\n",
       "        [-0.77782399, -0.22101973,  0.58833674]]))"
      ]
     },
     "execution_count": 41,
     "metadata": {},
     "output_type": "execute_result"
    }
   ],
   "source": [
    "U,S,Vh=np.linalg.svd(a)#奇异值分解\n",
    "U,S,Vh.T"
   ]
  },
  {
   "cell_type": "code",
   "execution_count": 45,
   "metadata": {},
   "outputs": [
    {
     "data": {
      "text/plain": [
       "array([[1.        , 0.        , 0.        ],\n",
       "       [2.        , 1.        , 0.        ],\n",
       "       [1.        , 1.        , 2.44948974]])"
      ]
     },
     "execution_count": 45,
     "metadata": {},
     "output_type": "execute_result"
    }
   ],
   "source": [
    "b=np.array([[1,2,1],[2,5,3],[1,3,8]])#柯列斯基分解(得下三角矩阵)\n",
    "np.linalg.cholesky(b)"
   ]
  },
  {
   "cell_type": "code",
   "execution_count": 49,
   "metadata": {},
   "outputs": [
    {
     "data": {
      "text/plain": [
       "(array([[-0.27216553, -0.46004371, -0.84515425],\n",
       "        [-0.13608276, -0.85108086,  0.50709255],\n",
       "        [-0.95257934,  0.25302404,  0.16903085]]),\n",
       " array([[-7.34846923, -4.21856567, -9.52579344],\n",
       "        [ 0.        , -4.02538243, -4.92246766],\n",
       "        [ 0.        ,  0.        ,  1.01418511]]))"
      ]
     },
     "execution_count": 49,
     "metadata": {},
     "output_type": "execute_result"
    }
   ],
   "source": [
    "np.linalg.qr(a)#QR分解"
   ]
  },
  {
   "cell_type": "code",
   "execution_count": 61,
   "metadata": {},
   "outputs": [
    {
     "data": {
      "text/plain": [
       "(344,)"
      ]
     },
     "execution_count": 61,
     "metadata": {},
     "output_type": "execute_result"
    }
   ],
   "source": [
    "sig=np.arange(1,345)\n",
    "fa=np.fft.fft(sig)#傅里叶变换\n",
    "fa.shape"
   ]
  },
  {
   "cell_type": "code",
   "execution_count": 62,
   "metadata": {},
   "outputs": [
    {
     "data": {
      "text/plain": [
       "2.2301670215777326e-13"
      ]
     },
     "execution_count": 62,
     "metadata": {},
     "output_type": "execute_result"
    }
   ],
   "source": [
    "np.sum(np.abs(np.fft.ifft(fa)-sig)/sig)#逆傅里叶变换"
   ]
  },
  {
   "cell_type": "code",
   "execution_count": 65,
   "metadata": {},
   "outputs": [
    {
     "data": {
      "text/plain": [
       "array([[2, 3, 4],\n",
       "       [1, 4, 6],\n",
       "       [3, 7, 8]])"
      ]
     },
     "execution_count": 65,
     "metadata": {},
     "output_type": "execute_result"
    }
   ],
   "source": [
    "a.sort()#排序\n",
    "a"
   ]
  },
  {
   "cell_type": "markdown",
   "metadata": {},
   "source": [
    "# Matplotlib教程"
   ]
  },
  {
   "cell_type": "markdown",
   "metadata": {},
   "source": [
    "## 入门"
   ]
  },
  {
   "cell_type": "markdown",
   "metadata": {},
   "source": [
    "### 基本概念"
   ]
  },
  {
   "cell_type": "markdown",
   "metadata": {},
   "source": [
    "- `matplotlib`图像中所有的组件都是`Artist`对象（即使是`Figure`本身）,其中`Figure`是顶层对象，下层有`Axes`，`Text`对象，`Line2D`对象等，`Axes`下又有`Axis`对象等\n",
    "- `matplotlib`中是按层级划分的——越往底层对底层实现细节涉及得越多，对图像的控制也越完全；越往顶层越抽象越不涉及底层的实现细节，绘图更简单——最顶层是由`matplotlib.pyplot`提供的状态机环境，通过函数添加绘图元素（线、图片、文本等），基本能够控制所有图像上看得见的效果，至于底层的实现细节无需关心\n",
    "- `matplot`、`pyplot`和`pylab`关系——`matplotlib`是整个包；`pyplot`是`matplotlib`下的子模块，提供类似matlab的绘图函数；`pylab`也是一个子模块，为了方便一起导入了`pyplot`（用于绘图）和`numpy`（用于数组类型和数学运算）,但是因为命名空间污染，将被逐渐弃用\n",
    "- `matplotlib`的绘图输入数据类型是`numpy.array`，其他数组型数据很可能会出问题，最好是转化成`numpy.array`再用`matplotlib`绘图，比如`pandas.DataFrame`以及`numpy.matrix`"
   ]
  },
  {
   "cell_type": "code",
   "execution_count": 18,
   "metadata": {},
   "outputs": [
    {
     "data": {
      "text/plain": [
       "<matplotlib.legend.Legend at 0x26e08843c88>"
      ]
     },
     "execution_count": 18,
     "metadata": {},
     "output_type": "execute_result"
    },
    {
     "data": {
      "image/png": "[encoded data removed]",
      "text/plain": [
       "<Figure size 432x288 with 1 Axes>"
      ]
     },
     "metadata": {
      "needs_background": "light"
     },
     "output_type": "display_data"
    }
   ],
   "source": [
    "import numpy as np\n",
    "import matplotlib.pyplot as plt\n",
    "x=np.linspace(0,2,200)\n",
    "plt.plot(x,x,label='linear')\n",
    "plt.plot(x,x**2,label='quadratic')\n",
    "plt.plot(x,x**3,label='cubic')\n",
    "plt.xlabel('xlabel')\n",
    "plt.ylabel('ylabel')\n",
    "plt.title('simple plot')\n",
    "plt.grid(True)\n",
    "plt.legend()"
   ]
  },
  {
   "cell_type": "markdown",
   "metadata": {},
   "source": [
    "> 还有一些后端，配置文件设置的概念，没太看懂，参考[Usage Guide](https://matplotlib.org/tutorials/introductory/usage.html#backends)"
   ]
  },
  {
   "cell_type": "markdown",
   "metadata": {},
   "source": [
    "### `Pyplot`教程"
   ]
  },
  {
   "cell_type": "markdown",
   "metadata": {},
   "source": [
    "1. 基本绘制`plot()`函数  \n",
    "`plot()`函数类似matlab中绘图方法，甚至很多关键字参数都是一模一样的。"
   ]
  },
  {
   "cell_type": "markdown",
   "metadata": {},
   "source": [
    "- 绘制一维数据。自动把给出的一维数据作为y，数据序号作为x\n",
    "- 两个一维数据分别作为x,y坐标\n",
    "- 用关键字参数设置`Line2D`对象的属性，就像matlab中设置线型、线宽、颜色、标志形状、标志颜色等，参看`help(plt.plot)`；当然也可以通过返回的`Line2D`对象（`plt.plot()`函数返回`Line2D`对象）设置其属性或者通过`plt.setp()`函数来设置线的属性\n",
    "- 用subplot进行多图绘制，格式是`subplot(rows,cols,current)`，但是如果`rows`，`cols`乘积不大于10可以省略逗号\n",
    "- 可以使用`plt.title()`,`plt.xlabel()`,`plt.legend()`,`plt.grid()`,`plt.hold`等设置标题、x标签、图例显示、网格显示、叠加绘图等\n",
    "- `plot()`提供一个关键字参数`data`，允许使用字符串索引的变量作为x,y（如图3）\n",
    "- 可以使用`scatter()`函数绘制离散图也可以设置`plot()`函数的`marker`参数画\n",
    "- 可以使用`gcf()`获取当前图形，使用`gca()`获取当前坐标轴"
   ]
  },
  {
   "cell_type": "code",
   "execution_count": 86,
   "metadata": {},
   "outputs": [
    {
     "name": "stderr",
     "output_type": "stream",
     "text": [
      "D:\\ProgramFiles\\Anaconda\\lib\\site-packages\\ipykernel_launcher.py:19: RuntimeWarning: Second argument 'y1' is ambiguous: could be a color spec but is in data; using as data.  Either rename the entry in data or use three arguments to plot.\n",
      "D:\\ProgramFiles\\Anaconda\\lib\\site-packages\\ipykernel_launcher.py:20: RuntimeWarning: Second argument 'y2' is ambiguous: could be a color spec but is in data; using as data.  Either rename the entry in data or use three arguments to plot.\n",
      "D:\\ProgramFiles\\Anaconda\\lib\\site-packages\\ipykernel_launcher.py:21: RuntimeWarning: Second argument 'y3' is ambiguous: could be a color spec but is in data; using as data.  Either rename the entry in data or use three arguments to plot.\n"
     ]
    },
    {
     "data": {
      "image/png": "[encoded data removed]",
      "text/plain": [
       "<Figure size 432x288 with 4 Axes>"
      ]
     },
     "metadata": {
      "needs_background": "light"
     },
     "output_type": "display_data"
    }
   ],
   "source": [
    "import matplotlib.pyplot as plt\n",
    "import numpy as np\n",
    "plt.subplot(221)\n",
    "plt.plot(np.arange(5),'o')\n",
    "plt.ylabel('some number')\n",
    "plt.title(r'one array plot')\n",
    "\n",
    "plt.subplot(222)\n",
    "x=np.linspace(0,5,100)\n",
    "y=x**3-2*x**2-x+3\n",
    "plt.plot(x,y,'r--',linewidth=3)\n",
    "plt.title('two arrays plot')\n",
    "\n",
    "ax=plt.subplot(223)\n",
    "data={'x':np.linspace(0,1,100)}\n",
    "data['y1']=data['x']\n",
    "data['y2']=data['x']**2\n",
    "data['y3']=data['x']**3\n",
    "line1=plt.plot('x','y1',data=data)\n",
    "line2=plt.plot('x','y2',data=data)\n",
    "line3=plt.plot('x','y3',data=data)\n",
    "ax.set_xlabel('x')\n",
    "ax.set_ylabel('y')\n",
    "plt.axis([0,1,0,1])\n",
    "plt.setp(line1,'color','g')\n",
    "plt.setp(line2,'color','c')\n",
    "plt.setp(line3,'color','purple')\n",
    "ax.grid(True)\n",
    "\n",
    "plt.subplot(224)\n",
    "ax=plt.gca()\n",
    "x1=np.arange(1,21)\n",
    "y1=max(x1)-x1+np.random.random(x1.shape)\n",
    "x2=x1\n",
    "y2=x2+np.sin(x2)\n",
    "plt.scatter(x1,y1)\n",
    "plt.scatter(x2,y2)\n",
    "ax.grid(True)"
   ]
  },
  {
   "cell_type": "markdown",
   "metadata": {},
   "source": [
    "2. 绘制文本"
   ]
  },
  {
   "cell_type": "markdown",
   "metadata": {},
   "source": [
    "- `plt.text(x,y,text)`中`x`，`y`指定绘制文本的左下角坐标（在`Axes`中的坐标）；`text`指定绘制文本，文本以`r`开头，表示使用原始字符串（字符串的的反斜杠不作为python转义字符），`matplotlib`内置了TeX解析器，所以可以在文本中使用TeX公式，直接用两个`$`符号包起来的就是公式；当然，`r`字面量和TeX公式也可以用在其他的字符串里，比如`plt.title()`，`plt.xlabel()`中  \n",
    "- `plt.annotate(text,xy,xytext,arrowprops)`中`text`指定注释的内容，元组`xy`指定箭头指向的坐标位置，元组`xytext`指定文本位置左下角坐标，`arrowprops`指定一个代表箭头属性的字典\n",
    "- 关于`Text`对象的其他属性参考[文本属性与布局](https://matplotlib.org/tutorials/text/text_props.html)；关于注释的用法参考[注释初级用法](https://matplotlib.org/tutorials/text/annotations.html#basic-annotation)与[注释高级用法](https://matplotlib.org/tutorials/text/annotations.html#advanced-annotation)"
   ]
  },
  {
   "cell_type": "code",
   "execution_count": 92,
   "metadata": {},
   "outputs": [
    {
     "data": {
      "text/plain": [
       "Text(60, 0.025, '$\\\\mu=100,\\\\ \\\\sigma=15$')"
      ]
     },
     "execution_count": 92,
     "metadata": {},
     "output_type": "execute_result"
    },
    {
     "data": {
      "image/png": "[encoded data removed]",
      "text/plain": [
       "<Figure size 432x288 with 1 Axes>"
      ]
     },
     "metadata": {
      "needs_background": "light"
     },
     "output_type": "display_data"
    }
   ],
   "source": [
    "mu,sigma=100,15\n",
    "x=np.random.normal(mu,sigma,1000)\n",
    "n,bins=np.histogram(x,50,density=1)\n",
    "plt.plot(0.5*(bins[:-1]+bins[1:]),n,'g',alpha=0.75)\n",
    "plt.xlabel('Smarts')\n",
    "plt.ylabel('Probability')\n",
    "plt.title('Histogram of IQ')\n",
    "plt.axis([40, 160, 0, 0.035])\n",
    "plt.grid(True)\n",
    "plt.text(60,0.025,r'$\\mu=100,\\ \\sigma=15$')"
   ]
  },
  {
   "cell_type": "code",
   "execution_count": 101,
   "metadata": {},
   "outputs": [
    {
     "data": {
      "text/plain": [
       "Text(0.5, 1.0, 'just to check out the TeX equation $\\\\int_{0}^{\\\\pi}sinxdx=2$')"
      ]
     },
     "execution_count": 101,
     "metadata": {},
     "output_type": "execute_result"
    },
    {
     "data": {
      "image/png": "[encoded data removed]",
      "text/plain": [
       "<Figure size 432x288 with 1 Axes>"
      ]
     },
     "metadata": {
      "needs_background": "light"
     },
     "output_type": "display_data"
    }
   ],
   "source": [
    "ax=plt.subplot(111)\n",
    "t=np.arange(0.0,5.0,0.01)\n",
    "s=np.cos(2*np.pi*t)\n",
    "line=plt.plot(t,s,lw=2)\n",
    "plt.annotate('local max',xy=(2.0,1.0),xytext=(3.0,1.5),arrowprops=dict(facecolor='black',shrink=0.05))\n",
    "plt.ylim(-2,2)\n",
    "plt.grid(True)\n",
    "plt.title(r'just to check out the TeX equation $\\int_{0}^{\\pi}sinxdx=2$')"
   ]
  },
  {
   "cell_type": "markdown",
   "metadata": {},
   "source": [
    "3. 官方建议  \n",
    "基于`matplotlib`中有两套接口（基于状态的`pyplot`接口和面向对象的接口）,官方建议使用面向对象的接口，即使用`pyplot`生成`figure.Figure`对象与/或`axes.Axes`对象（`Figure`对象是整个图像，包含多个`Axes`；`Axes`对象对应一幅图像），使用`Axes`对象来设置各个属性，参考[A note on the Object-Oriented API vs Pyplot](https://matplotlib.org/tutorials/introductory/lifecycle.html#a-note-on-the-object-oriented-api-vs-pyplot)，比如:"
   ]
  },
  {
   "cell_type": "code",
   "execution_count": 7,
   "metadata": {},
   "outputs": [
    {
     "data": {
      "image/png": "[encoded data removed]",
      "text/plain": [
       "<Figure size 432x288 with 1 Axes>"
      ]
     },
     "metadata": {
      "needs_background": "light"
     },
     "output_type": "display_data"
    }
   ],
   "source": [
    "import matplotlib.pyplot as plt\n",
    "import numpy as np\n",
    "t=np.linspace(0,2*np.pi,100)\n",
    "y=np.sin(t)+np.cos(t)\n",
    "fig,ax=plt.subplots()\n",
    "ax.plot(t,y,'g-.')\n",
    "ax.set_title('simple homonic wave')\n",
    "ax.set_xlabel('time/s')\n",
    "ax.set_ylabel('amplitude')\n",
    "fig.savefig('test.png')"
   ]
  },
  {
   "cell_type": "markdown",
   "metadata": {},
   "source": [
    "### `matplotlib`绘图功能概览  \n",
    "参看[Sample plot](https://matplotlib.org/tutorials/introductory/sample_plots.html)，主要有：\n",
    "- 线条绘制`plot()`\n",
    "- 多图绘制`subplot()`\n",
    "- 图片绘制`imshow()`\n",
    "- 等高线绘制`contour()`或者伪彩色图绘制`pcolormesh()`\n",
    "- 直方图绘制`hist()`\n",
    "- 路径绘制\n",
    "- 三维图绘制（plot3d工具箱）\n",
    "- 流线图绘制`streamplot()`\n",
    "- 柱状图绘制`bar()`\n",
    "- 饼状图绘制`pie()`\n",
    "- 表格图绘制`table()`\n",
    "- 离散图绘制`scatter()`\n",
    "- 可视化控件\n",
    "- 填充曲线绘制`fill()`\n",
    "- 时序图绘制\n",
    "- 对数坐标`semilogx()`,`semilogy()`,`loglog()`\n",
    "- 极坐标`polar()`\n",
    "- 图例绘制`legend()`\n",
    "- 本地TeX渲染\n",
    "- 控件内嵌绘图"
   ]
  },
  {
   "cell_type": "markdown",
   "metadata": {},
   "source": [
    "### 图片显示教程"
   ]
  },
  {
   "cell_type": "markdown",
   "metadata": {},
   "source": [
    "图片显示教程与数据分析处理不太相关，感兴趣可以进一步看看[Image Tutorial](https://matplotlib.org/tutorials/introductory/images.html)"
   ]
  },
  {
   "cell_type": "markdown",
   "metadata": {},
   "source": [
    "### 绘图的全生命周期"
   ]
  },
  {
   "cell_type": "markdown",
   "metadata": {},
   "source": [
    "1. 绘图对象创建  \n",
    "使用`plt.subplots()`即可返回一个`Figure`对象和一个`Axes`对象"
   ]
  },
  {
   "cell_type": "code",
   "execution_count": 9,
   "metadata": {},
   "outputs": [
    {
     "data": {
      "text/plain": [
       "[<matplotlib.lines.Line2D at 0x2aedab44c50>]"
      ]
     },
     "execution_count": 9,
     "metadata": {},
     "output_type": "execute_result"
    },
    {
     "data": {
      "image/png": "[encoded data removed]",
      "text/plain": [
       "<Figure size 432x288 with 1 Axes>"
      ]
     },
     "metadata": {
      "needs_background": "light"
     },
     "output_type": "display_data"
    }
   ],
   "source": [
    "import matplotlib.pyplot as plt\n",
    "import numpy as np\n",
    "x=np.linspace(0,10,400)\n",
    "y=0.1*x**2-0.01*x**3+np.sin(x)+0.1*np.random.random(x.shape)\n",
    "fig,ax=plt.subplots()\n",
    "ax.plot(x,y,'c-')"
   ]
  },
  {
   "cell_type": "markdown",
   "metadata": {},
   "source": [
    "2. 风格控制  \n",
    "改变绘图风格可使用`plt.style.use()`，欲了解都有哪些支持的绘图风格可使用`print(plt.style.available)`，各种风格差异无非是初始的图像背景色、画板背景色、前景色、线型、网格是否开启、网格线条颜色、边框线型、图像大小等，这些应该都可以自定义"
   ]
  },
  {
   "cell_type": "code",
   "execution_count": 10,
   "metadata": {},
   "outputs": [
    {
     "name": "stdout",
     "output_type": "stream",
     "text": [
      "['bmh', 'classic', 'dark_background', 'fast', 'fivethirtyeight', 'ggplot', 'grayscale', 'seaborn-bright', 'seaborn-colorblind', 'seaborn-dark-palette', 'seaborn-dark', 'seaborn-darkgrid', 'seaborn-deep', 'seaborn-muted', 'seaborn-notebook', 'seaborn-paper', 'seaborn-pastel', 'seaborn-poster', 'seaborn-talk', 'seaborn-ticks', 'seaborn-white', 'seaborn-whitegrid', 'seaborn', 'Solarize_Light2', 'tableau-colorblind10', '_classic_test']\n"
     ]
    }
   ],
   "source": [
    "print(plt.style.available)"
   ]
  },
  {
   "cell_type": "code",
   "execution_count": 80,
   "metadata": {
    "code_folding": []
   },
   "outputs": [
    {
     "data": {
      "text/plain": [
       "Text(0.5, 1.0, 'ggplot')"
      ]
     },
     "execution_count": 80,
     "metadata": {},
     "output_type": "execute_result"
    },
    {
     "data": {
      "image/png": "[encoded data removed]",
      "text/plain": [
       "<Figure size 832x572 with 1 Axes>"
      ]
     },
     "metadata": {},
     "output_type": "display_data"
    }
   ],
   "source": [
    "plt.style.use('ggplot')#我觉得seaborn的几个风格和ggplot风格挺好看，classic、dark_background、fast都比较细线条、高对比度\n",
    "fig,ax=plt.subplots()\n",
    "ax.plot(x,y,'c-')\n",
    "ax.set_title('ggplot')\n",
    "#for style in plt.style.available:\n",
    "#    plt.style.use(style)\n",
    "#    fig,ax=plt.subplots()\n",
    "#    ax.plot(x,y)\n",
    "#    ax.set_title(style)"
   ]
  },
  {
   "cell_type": "markdown",
   "metadata": {},
   "source": [
    "3. 自定义属性  \n",
    "包括设置`Axes`对象的标题、xy标签、xy刻度、刻度标签及其属性等"
   ]
  },
  {
   "cell_type": "code",
   "execution_count": 81,
   "metadata": {},
   "outputs": [
    {
     "data": {
      "image/png": "[encoded data removed]",
      "text/plain": [
       "<Figure size 832x572 with 1 Axes>"
      ]
     },
     "metadata": {},
     "output_type": "display_data"
    }
   ],
   "source": [
    "from matplotlib.ticker import FuncFormatter\n",
    "fig,ax=plt.subplots()\n",
    "ax.plot(x,y,'c-')\n",
    "\n",
    "#set函数可以直接按名设置图像的各个Artist对象\n",
    "ax.set(xlim=[2,8],ylim=[0,3],title='custom plot',xlabel='x label',ylabel='y label')\n",
    "\n",
    "#对具体的某个Artist对象的属性，需要先通过Axes对象获取该对象，然后通过plt.setp方法设置其属性\n",
    "labels=ax.get_xticklabels()\n",
    "\n",
    "#plt.setp函数可以同时设置某个matplotlib对象的多个属性\n",
    "plt.setp(labels,rotation=45,horizontalalignment='right')\n",
    "\n",
    "#使用Axes对象下的xaxis对象可以设置大小刻度的标签格式器\n",
    "def month(x,pos):\n",
    "    m=np.floor(x)\n",
    "    return 'Jan' if m==1 else 'Feb' if m==2 else 'Mar' if m==3 else 'April' if m==4 else 'May' if m==5\\\n",
    "else 'Jun' if m==6 else 'July' if m==7 else 'Aug' if m==8 else 'Sep' if m==9 else 'Oct' if m==10 else 'Nov' if m==11 else 'Dec'\n",
    "\n",
    "formatter=FuncFormatter(month)\n",
    "ax.xaxis.set_major_formatter(formatter)"
   ]
  },
  {
   "cell_type": "markdown",
   "metadata": {},
   "source": [
    "4. 多视图组合"
   ]
  },
  {
   "cell_type": "code",
   "execution_count": 96,
   "metadata": {},
   "outputs": [
    {
     "data": {
      "text/plain": [
       "<matplotlib.lines.Line2D at 0x2ae9392b588>"
      ]
     },
     "execution_count": 96,
     "metadata": {},
     "output_type": "execute_result"
    },
    {
     "data": {
      "image/png": "[encoded data removed]",
      "text/plain": [
       "<Figure size 640x320 with 1 Axes>"
      ]
     },
     "metadata": {},
     "output_type": "display_data"
    }
   ],
   "source": [
    "import pandas as pd\n",
    "df=pd.DataFrame(data=[['Samsung','Apple','Huawei','Xiaomi','Oppo','Other'],[292.3,208.8,206,122.6,113.1,462]])\n",
    "df=df.transpose()\n",
    "df.columns=['Company','Shipment']\n",
    "df['Share']=df.apply(lambda x:x[1]/df['Shipment'].sum(),axis=1)\n",
    "\n",
    "fig,ax=plt.subplots(figsize=(8,4))\n",
    "ax.axvspan(100,300)\n",
    "ax.barh(df['Company'],df['Shipment'])\n",
    "ax.set_xlabel('shipment/million devices')\n",
    "ax.set_title('Shipment volumes of mobil phone company in 2018')\n",
    "ax.axvline(df['Shipment'].mean())"
   ]
  },
  {
   "cell_type": "markdown",
   "metadata": {},
   "source": [
    "> 可以看出先画的图在下方，即为叠加绘图"
   ]
  },
  {
   "cell_type": "markdown",
   "metadata": {},
   "source": [
    "5. 保存图  \n",
    "使用`fig.savefig`即可，欲了解支持的保存图片格式，可使用`print(fig.canvas.get_supported_filetypes())`"
   ]
  },
  {
   "cell_type": "code",
   "execution_count": 97,
   "metadata": {},
   "outputs": [
    {
     "name": "stdout",
     "output_type": "stream",
     "text": [
      "{'ps': 'Postscript', 'eps': 'Encapsulated Postscript', 'pdf': 'Portable Document Format', 'pgf': 'PGF code for LaTeX', 'png': 'Portable Network Graphics', 'raw': 'Raw RGBA bitmap', 'rgba': 'Raw RGBA bitmap', 'svg': 'Scalable Vector Graphics', 'svgz': 'Scalable Vector Graphics', 'jpg': 'Joint Photographic Experts Group', 'jpeg': 'Joint Photographic Experts Group', 'tif': 'Tagged Image File Format', 'tiff': 'Tagged Image File Format'}\n"
     ]
    }
   ],
   "source": [
    "print(fig.canvas.get_supported_filetypes())"
   ]
  },
  {
   "cell_type": "code",
   "execution_count": 98,
   "metadata": {},
   "outputs": [],
   "source": [
    "fig.savefig('test1.jpg')"
   ]
  },
  {
   "cell_type": "markdown",
   "metadata": {},
   "source": [
    "### 使用样式表和`rcParams`"
   ]
  },
  {
   "cell_type": "markdown",
   "metadata": {},
   "source": [
    "个人认为使用以上提供的方法已能够改变绝大多数自定义属性了，使用样式表和rcParam大概只是为了设置`matplotlib`环境下的默认绘图属性。个人认为这是在写完备软件或者每次绘图样式都一样时将其设为默认，对于数据处理的交互式绘图其实没必要，毕竟没有人会在每次绘图时都打开配置文件去修改，故不做深入解释，参考[Customizing Matplotlib with style sheets and rcParams](https://matplotlib.org/tutorials/introductory/customizing.html)"
   ]
  },
  {
   "cell_type": "markdown",
   "metadata": {},
   "source": [
    "## 中级"
   ]
  },
  {
   "cell_type": "markdown",
   "metadata": {},
   "source": [
    "### `Artist`教程  \n",
    "所有的图像中的艺术元素都是`Artist`对象（比如标题、xy标签、xy刻度、图线、文本等），如上所述，`matplotlib`中有三个层次的API，  \n",
    "- matplotlib.backend_bases.FigureCanvas是图像绘制的区域\n",
    "- matplotlib.backend_bases.Renderer是知道如何在FigureCanvas上绘制的对象\n",
    "- matplotlib.artist.Artist是知道如何使用renderer向canvas绘图的对象  \n",
    "  \n",
    "前两个处理底层或者说后端的绘图细节，用户95%时间都是与`Artist`打交道，无需关心前两层API。`Artist`对象中有两类——原始类型(primitives)与容器类型(containers)，原始类型是直接绘制到画布上的对象，如`Line2D`，`Rectangle`，`Text`，`AxesImage`等，容器类型是用来放置原始类型对象的地方，如`Axes`，`Axis`，`Figure`。常规做法是先生成`Figure`类对象(比如使用`plt.figure()`生成)，再用生成的`Figure`类对象生成`Axes`对象（比如`fig.add_subplot()`或者`fig.add_axes()`），之后再由`Axes`对象生成原始类型对象(比如`Axes.plot()`函数可生成`Line2D`对象)；`Axes`可能是`matplotlib`中最重要的类，大部分原始类型对象都是放在`Axes`下的列表中，比如Axes.lines列表包含了所有该坐标轴下添加的`Line2D`对象，大部分`pylot`中的绘图函数也是对`Axes`的成员方法的封装，比如`plt.plot()`与`Axes.plot()`、`plt.xlabel()`与`Axes.set_xlabel()`等等。"
   ]
  },
  {
   "cell_type": "code",
   "execution_count": 134,
   "metadata": {},
   "outputs": [
    {
     "data": {
      "text/plain": [
       "Text(0.5, 0, 'time/s')"
      ]
     },
     "execution_count": 134,
     "metadata": {},
     "output_type": "execute_result"
    },
    {
     "data": {
      "image/png": "[encoded data removed]",
      "text/plain": [
       "<Figure size 832x572 with 2 Axes>"
      ]
     },
     "metadata": {},
     "output_type": "display_data"
    }
   ],
   "source": [
    "fig=plt.figure()\n",
    "ax=fig.add_subplot(2,1,1)\n",
    "ax2=fig.add_subplot(2,1,2)\n",
    "t=np.arange(0.0,1.0,0.01)\n",
    "s=np.sin(2*np.pi*t)\n",
    "line,=ax.plot(t,s,'b',lw=2)#`line,`表示解包，因为ax.plot()函数返回的是一个列表，解包了之后line是该列表中的第一个元素\n",
    "#以下方法可以删除画出的线，可见plot()函数其实是把Axes对象下的lines列表更新了，添加了一个Line2D对象而已\n",
    "#del ax.lines[0]\n",
    "#ax.lines.remove(line)\n",
    "ax.set_ylabel('volts')\n",
    "ax.set_title('a sine wave')\n",
    "ax2.hist(np.random.randn(1000),50,facecolor='yellow',edgecolor='blue')\n",
    "ax2.set_xlabel('time/s')"
   ]
  },
  {
   "cell_type": "markdown",
   "metadata": {},
   "source": [
    "所有的`Artist`对象都有`patch`成员变量，patch表示该`Artist`绘制的一些基本属性（区域——或矩形或圆形或多边形等、透明度、可见性、文本标签等等），参考[定制对象属性](https://matplotlib.org/tutorials/intermediate/artists.html#customizing-your-objects)"
   ]
  },
  {
   "cell_type": "code",
   "execution_count": 136,
   "metadata": {},
   "outputs": [
    {
     "name": "stdout",
     "output_type": "stream",
     "text": [
      "    agg_filter = None\n",
      "    alpha = None\n",
      "    animated = False\n",
      "    antialiased = False\n",
      "    bbox = Bbox(x0=0.0, y0=0.0, x1=1.0, y1=1.0)\n",
      "    capstyle = butt\n",
      "    children = []\n",
      "    clip_box = None\n",
      "    clip_on = True\n",
      "    clip_path = None\n",
      "    contains = None\n",
      "    data_transform = BboxTransformTo(     TransformedBbox(         Bbox...\n",
      "    edgecolor = (0.5, 0.5, 0.5, 1.0)\n",
      "    extents = Bbox(x0=0.0, y0=0.0, x1=832.0, y1=572.0)\n",
      "    facecolor = (1.0, 1.0, 1.0, 1.0)\n",
      "    figure = Figure(832x572)\n",
      "    fill = True\n",
      "    gid = None\n",
      "    hatch = None\n",
      "    height = 1\n",
      "    in_layout = True\n",
      "    joinstyle = miter\n",
      "    label = \n",
      "    linestyle = solid\n",
      "    linewidth = 0.0\n",
      "    patch_transform = CompositeGenericTransform(     BboxTransformTo(   ...\n",
      "    path = Path(array([[0., 0.],        [1., 0.],        [1.,...\n",
      "    path_effects = []\n",
      "    picker = None\n",
      "    rasterized = None\n",
      "    sketch_params = None\n",
      "    snap = None\n",
      "    transform = CompositeGenericTransform(     CompositeGenericTra...\n",
      "    transformed_clip_path_and_affine = (None, None)\n",
      "    url = None\n",
      "    verts = [[  0.   0.]  [832.   0.]  [832. 572.]  [  0. 572....\n",
      "    visible = True\n",
      "    width = 1\n",
      "    window_extent = Bbox(x0=0.0, y0=0.0, x1=832.0, y1=572.0)\n",
      "    x = 0\n",
      "    xy = (0, 0)\n",
      "    y = 0\n",
      "    zorder = 1\n"
     ]
    }
   ],
   "source": [
    "import matplotlib as mpl\n",
    "mpl.artist.getp(fig.patch)"
   ]
  },
  {
   "cell_type": "markdown",
   "metadata": {},
   "source": [
    "对象容器——  \n",
    "`matplotlib`中容器等级为：  \n",
    "```cmd\n",
    "Figure-\n",
    "    Axes-\n",
    "        Axis-\n",
    "            Tick\n",
    "```  \n",
    "`Axes`类中有许多帮助函数，用于绘图（其实就是生成对应的`Artist`对象并保存在`Axes`对应的列表中），包括  \n",
    "\n",
    "|函数|作用|添加的Artist对象|列表容器|\n",
    "| ---- | ------------- | --------------- | ----------- |\n",
    "|ax.annotate|添加注释|Annotate|ax.texts|\n",
    "|ax.bar|绘制柱状图|Rectangle|ax.patches|\n",
    "|ax.errorbar|误差柱状图|Line2D和Rectangle|ax.lines和ax.patches|\n",
    "|ax.fill|填充多边形|Polygon|ax.patches|\n",
    "|ax.hist|直方图|Rectangle|ax.patches|\n",
    "|ax.imshow|显示图片|Axesimage|ax.images|\n",
    "|ax.legend|图例|Legend|ax.lengends|\n",
    "|ax.plot|x y数据绘制|Line2D|ax.lines|\n",
    "|ax.scatter|离散点绘制|PolygonCollection|ax.collections|\n",
    "|ax.text|绘制文本|Text|ax.texts|  \n",
    "\n",
    "更多的`Figure`、`Axes`、`Axis`、`Tick`属性可以参考[Object containers](https://matplotlib.org/tutorials/intermediate/artists.html#object-containers)"
   ]
  },
  {
   "cell_type": "markdown",
   "metadata": {},
   "source": [
    "> 中级教程的剩余部分包括图例、多图绘制的布局及其布局限制以及高级教程部分就不一一列出了，更多的也不过是一些细节及高级用法的记忆，可以在使用过程中逐步了解与记忆。[matplotlib教程链接](https://matplotlib.org/tutorials/index.html)。"
   ]
  },
  {
   "cell_type": "markdown",
   "metadata": {},
   "source": [
    "# Pandas教程"
   ]
  },
  {
   "cell_type": "markdown",
   "metadata": {},
   "source": [
    "## 数据结构介绍"
   ]
  },
  {
   "cell_type": "markdown",
   "metadata": {},
   "source": [
    "pandas的主要数据结构是带有标签的一维序列`Series`和二维数据`DataFrame`，类似于numpy中的一维、二维数组，事实上numpy中的很多使用`ndarray`作为输入的函数都可以无障碍地使用pandas中的数据结构，且行为如预期无二致。pandas的数据结构与一般的序列或多维数组最大的不同是数据**自动对齐功能**。所谓的数据自动对齐功能是指，如果两个`Series`相加，会把`Series`里对应index的数据相加而不管其真实的顺序；两个`DataFrame`相加会把对应index、对应column的数据相加也不管其真实的顺序。index、column相当于“行号”、“列号”。"
   ]
  },
  {
   "cell_type": "markdown",
   "metadata": {},
   "source": [
    "### `Series`  \n",
    "1.`Series`生成——`Series(data,index)`  \n",
    "\n",
    "`Series`的index（注：index可以不给出）就如同字典的键，如果把`Series`看做列向量，index就如同“行号”,如同行的名称。\n",
    "- 由python字典生成。如果没指定index则使用字典的键值作为index，如果指定了index，则相当于把`Series`中对应index的元素设为字典中对应该键的元素——如果字典中不存在该键，则使用numpy.nan类型表示无意义缺失数据（pandas中缺失数据的统一表示方式）；如果字典中有的键不在index中，则该键对应的值不取\n",
    "- 由ndarray生成。如果不指定index则自动生成一个`range(data.size)`作为index；如果指定index，则index列表的长度必须与ndarray数据size相符\n",
    "- 由一个数生成。指定index则把各个index对应的元素设为该数；不指定则生成一个长度为1的`Series`"
   ]
  },
  {
   "cell_type": "code",
   "execution_count": 1,
   "metadata": {},
   "outputs": [
    {
     "name": "stdout",
     "output_type": "stream",
     "text": [
      "b    1\n",
      "c    3\n",
      "a    0\n",
      "dtype: int64\n",
      "b    1.0\n",
      "c    3.0\n",
      "d    NaN\n",
      "dtype: float64\n"
     ]
    }
   ],
   "source": [
    "import pandas as pd\n",
    "import numpy as np\n",
    "d={'b':1,'c':3,'a':0}\n",
    "s1=pd.Series(d)\n",
    "s11=pd.Series(d,index=['b','c','d'])\n",
    "print(s1)\n",
    "print(s11)"
   ]
  },
  {
   "cell_type": "code",
   "execution_count": 189,
   "metadata": {},
   "outputs": [
    {
     "name": "stdout",
     "output_type": "stream",
     "text": [
      "0    0.306600\n",
      "1    0.623135\n",
      "2    0.708642\n",
      "3    0.553359\n",
      "4    0.831509\n",
      "dtype: float64\n",
      "row1    0.138651\n",
      "row2    0.512370\n",
      "row3    0.790319\n",
      "row4    0.457625\n",
      "row5    0.514766\n",
      "dtype: float64\n"
     ]
    }
   ],
   "source": [
    "s2=pd.Series(np.random.rand(5))\n",
    "s22=pd.Series(np.random.rand(5),index=['row1','row2','row3','row4','row5'])\n",
    "print(s2)\n",
    "print(s22)"
   ]
  },
  {
   "cell_type": "code",
   "execution_count": 155,
   "metadata": {},
   "outputs": [
    {
     "name": "stdout",
     "output_type": "stream",
     "text": [
      "a    5\n",
      "b    5\n",
      "c    5\n",
      "d    5\n",
      "e    5\n",
      "dtype: int64\n",
      "0    4\n",
      "dtype: int64\n"
     ]
    }
   ],
   "source": [
    "s3=pd.Series(5,index=['a','b','c','d','e'])\n",
    "s33=pd.Series(4)\n",
    "print(s3)\n",
    "print(s33)"
   ]
  },
  {
   "cell_type": "markdown",
   "metadata": {},
   "source": [
    "2. `Series`索引与切片  \n",
    "`Series`既类似于`ndarray`，又类似与字典——既可以进行`ndarray`式的序号切片或者布尔值索引切片（切片的时候index一起切），而且大部分numpy的函数也可以使用`Series`做参数；又可以使用字典式的键值索引："
   ]
  },
  {
   "cell_type": "code",
   "execution_count": 190,
   "metadata": {},
   "outputs": [],
   "source": [
    "s2.index=['a','b','c','d','e']"
   ]
  },
  {
   "cell_type": "code",
   "execution_count": 191,
   "metadata": {},
   "outputs": [
    {
     "data": {
      "text/plain": [
       "0.7086422105658101"
      ]
     },
     "execution_count": 191,
     "metadata": {},
     "output_type": "execute_result"
    }
   ],
   "source": [
    "s2[2]"
   ]
  },
  {
   "cell_type": "code",
   "execution_count": 192,
   "metadata": {},
   "outputs": [
    {
     "data": {
      "text/plain": [
       "a    0.306600\n",
       "b    0.623135\n",
       "c    0.708642\n",
       "d    0.553359\n",
       "dtype: float64"
      ]
     },
     "execution_count": 192,
     "metadata": {},
     "output_type": "execute_result"
    }
   ],
   "source": [
    "s2[:-1]"
   ]
  },
  {
   "cell_type": "code",
   "execution_count": 193,
   "metadata": {},
   "outputs": [
    {
     "data": {
      "text/plain": [
       "b    0.623135\n",
       "c    0.708642\n",
       "d    0.553359\n",
       "e    0.831509\n",
       "dtype: float64"
      ]
     },
     "execution_count": 193,
     "metadata": {},
     "output_type": "execute_result"
    }
   ],
   "source": [
    "s2[1:]"
   ]
  },
  {
   "cell_type": "code",
   "execution_count": 194,
   "metadata": {},
   "outputs": [
    {
     "data": {
      "text/plain": [
       "e    0.831509\n",
       "d    0.553359\n",
       "b    0.623135\n",
       "dtype: float64"
      ]
     },
     "execution_count": 194,
     "metadata": {},
     "output_type": "execute_result"
    }
   ],
   "source": [
    "s2[[4,3,1]]"
   ]
  },
  {
   "cell_type": "code",
   "execution_count": 195,
   "metadata": {},
   "outputs": [
    {
     "data": {
      "text/plain": [
       "c    0.708642\n",
       "e    0.831509\n",
       "dtype: float64"
      ]
     },
     "execution_count": 195,
     "metadata": {},
     "output_type": "execute_result"
    }
   ],
   "source": [
    "s2[s2>s2.median()]"
   ]
  },
  {
   "cell_type": "code",
   "execution_count": 196,
   "metadata": {},
   "outputs": [
    {
     "data": {
      "text/plain": [
       "a    1.358797\n",
       "b    1.864765\n",
       "c    2.031231\n",
       "d    1.739085\n",
       "e    2.296781\n",
       "dtype: float64"
      ]
     },
     "execution_count": 196,
     "metadata": {},
     "output_type": "execute_result"
    }
   ],
   "source": [
    "np.exp(s2)"
   ]
  },
  {
   "cell_type": "markdown",
   "metadata": {},
   "source": [
    "3. 名称属性  \n",
    "`Series`有`name`属性，即可给`Series`命名，其实`Series`相当于`DataFrame`里的列，给其命名相当于给定“列号”/列的名称"
   ]
  },
  {
   "cell_type": "code",
   "execution_count": 176,
   "metadata": {},
   "outputs": [
    {
     "name": "stdout",
     "output_type": "stream",
     "text": [
      "something\n",
      "False\n"
     ]
    }
   ],
   "source": [
    "s1.name='something'\n",
    "s11=s1.rename('another thing')#重命名生成了一个改变了名字的Series,原来的Series并不变\n",
    "print(s1.name)\n",
    "print(s1 is s11)"
   ]
  },
  {
   "cell_type": "markdown",
   "metadata": {},
   "source": [
    "4. 向量化操作与数据对齐  \n",
    "一般的按位运算以及numpy中的数学函数等行为与numpy的`ndarray`一样；但是因为`Series`有自动对齐功能，所以这里的按位并不是按照序号相同的元素进行相应操作，而是按照index相同的元素进行按位操作——这样可以无需考虑两个按位运算的`Series`是否元素数一样，因为会自动对齐，比如：  \n",
    "```python\n",
    ">>>s1\n",
    "a   1.0\n",
    "b   2.0\n",
    "c   3.0\n",
    "d   4.0\n",
    "dtype:float64\n",
    ">>>s2\n",
    "c   3.5\n",
    "d   2.4\n",
    "e   5.2\n",
    "stype:float64\n",
    "```  \n",
    "这样两个`Series`，其index不一致，如果计算`s1+s2`时，会先自动对齐，s1缺index e，s2缺index a,b，会自定补齐为:  \n",
    "```cmd\n",
    "     s1            s2\n",
    "a   1.0        a   NaN\n",
    "b   2.0        b   NaN\n",
    "c   3.0        c   3.5\n",
    "d   4.0        d   2.4\n",
    "e   NaN        e   5.2\n",
    "```  \n",
    "所以  \n",
    "```python\n",
    ">>>s1+s2\n",
    "a   NaN\n",
    "b   NaN\n",
    "c   6.5\n",
    "d   6.4\n",
    "e   NaN\n",
    "```  \n",
    "基于`Series`的自动对齐功能，其按位运算其实是按index位运算，两个`Series`相加行数等于两个`Series`中行名称不同的行数，结果的各行数据为加数的对应行数据之和，这使得错位加法与numpy中结果不同，如下："
   ]
  },
  {
   "cell_type": "code",
   "execution_count": 177,
   "metadata": {},
   "outputs": [
    {
     "data": {
      "text/plain": [
       "a    0.143963\n",
       "b    0.928369\n",
       "c    0.817016\n",
       "d    0.967723\n",
       "e    0.161322\n",
       "dtype: float64"
      ]
     },
     "execution_count": 177,
     "metadata": {},
     "output_type": "execute_result"
    }
   ],
   "source": [
    "s=pd.Series(np.random.rand(5),index=['a','b','c','d','e'])\n",
    "s"
   ]
  },
  {
   "cell_type": "code",
   "execution_count": 179,
   "metadata": {},
   "outputs": [
    {
     "data": {
      "text/plain": [
       "a    0.287927\n",
       "b    1.856737\n",
       "c    1.634033\n",
       "d    1.935446\n",
       "e    0.322645\n",
       "dtype: float64"
      ]
     },
     "execution_count": 179,
     "metadata": {},
     "output_type": "execute_result"
    }
   ],
   "source": [
    "s+s"
   ]
  },
  {
   "cell_type": "code",
   "execution_count": 180,
   "metadata": {},
   "outputs": [
    {
     "data": {
      "text/plain": [
       "a    0.020725\n",
       "b    0.861868\n",
       "c    0.667516\n",
       "d    0.936488\n",
       "e    0.026025\n",
       "dtype: float64"
      ]
     },
     "execution_count": 180,
     "metadata": {},
     "output_type": "execute_result"
    }
   ],
   "source": [
    "s**2"
   ]
  },
  {
   "cell_type": "code",
   "execution_count": 181,
   "metadata": {},
   "outputs": [
    {
     "data": {
      "text/plain": [
       "a    0.143466\n",
       "b    0.800644\n",
       "c    0.729107\n",
       "d    0.823597\n",
       "e    0.160624\n",
       "dtype: float64"
      ]
     },
     "execution_count": 181,
     "metadata": {},
     "output_type": "execute_result"
    }
   ],
   "source": [
    "np.sin(s)"
   ]
  },
  {
   "cell_type": "code",
   "execution_count": 183,
   "metadata": {},
   "outputs": [
    {
     "data": {
      "text/plain": [
       "a         NaN\n",
       "b    1.856737\n",
       "c    1.634033\n",
       "d    1.935446\n",
       "e         NaN\n",
       "dtype: float64"
      ]
     },
     "execution_count": 183,
     "metadata": {},
     "output_type": "execute_result"
    }
   ],
   "source": [
    "s[:-1]+s[1:]#数据自动对齐"
   ]
  },
  {
   "cell_type": "markdown",
   "metadata": {},
   "source": [
    "### `DataFrame`  "
   ]
  },
  {
   "cell_type": "markdown",
   "metadata": {},
   "source": [
    "#### `DataFrame`生成——pd.DataFrame(data,index,columns)  \n",
    "\n",
    "index与column相当于行名称、列名称（生成时可以不给定）,data的类型可以是：  \n",
    "- 字典。字典的键是列名称，字典的元素可以是`Series`，也可以是字典（先转化成`Series`），也可以是`ndarray`或者列表（要求`ndarray`/列表的长度一致）；字典的值还可以是元组，这是创建MultiIndexed frame的方法，不常见也更复杂。\n",
    "- `Series`。单列的数据表。\n",
    "- 列表。列表的元素可以是字典（注意这里每个字典对应一行数据，而不是一列了；缺失列为NaN）;也可以是`Series`，同样一个`Series`表示一行，很有可能字典在这里也是先转化成`Series`；还可以是列表，这样行列名称都是自动编号\n",
    "- 二维`ndarray`。就像二维列表一样，不给定index与columns参数行列自动编号"
   ]
  },
  {
   "cell_type": "code",
   "execution_count": 2,
   "metadata": {},
   "outputs": [
    {
     "data": {
      "text/html": [
       "<div>\n",
       "<style scoped>\n",
       "    .dataframe tbody tr th:only-of-type {\n",
       "        vertical-align: middle;\n",
       "    }\n",
       "\n",
       "    .dataframe tbody tr th {\n",
       "        vertical-align: top;\n",
       "    }\n",
       "\n",
       "    .dataframe thead th {\n",
       "        text-align: right;\n",
       "    }\n",
       "</style>\n",
       "<table border=\"1\" class=\"dataframe\">\n",
       "  <thead>\n",
       "    <tr style=\"text-align: right;\">\n",
       "      <th></th>\n",
       "      <th>col1</th>\n",
       "      <th>col2</th>\n",
       "    </tr>\n",
       "  </thead>\n",
       "  <tbody>\n",
       "    <tr>\n",
       "      <th>a</th>\n",
       "      <td>1</td>\n",
       "      <td>1.0</td>\n",
       "    </tr>\n",
       "    <tr>\n",
       "      <th>b</th>\n",
       "      <td>2</td>\n",
       "      <td>2.0</td>\n",
       "    </tr>\n",
       "    <tr>\n",
       "      <th>c</th>\n",
       "      <td>3</td>\n",
       "      <td>3.0</td>\n",
       "    </tr>\n",
       "    <tr>\n",
       "      <th>d</th>\n",
       "      <td>4</td>\n",
       "      <td>NaN</td>\n",
       "    </tr>\n",
       "  </tbody>\n",
       "</table>\n",
       "</div>"
      ],
      "text/plain": [
       "   col1  col2\n",
       "a     1   1.0\n",
       "b     2   2.0\n",
       "c     3   3.0\n",
       "d     4   NaN"
      ]
     },
     "execution_count": 2,
     "metadata": {},
     "output_type": "execute_result"
    }
   ],
   "source": [
    "d={'col1':pd.Series([1,2,3,4],index=['a','b','c','d']),\n",
    "   'col2':pd.Series([1,2,3],index=['a','b','c'])}\n",
    "df=pd.DataFrame(d)\n",
    "df"
   ]
  },
  {
   "cell_type": "code",
   "execution_count": 3,
   "metadata": {},
   "outputs": [
    {
     "data": {
      "text/html": [
       "<div>\n",
       "<style scoped>\n",
       "    .dataframe tbody tr th:only-of-type {\n",
       "        vertical-align: middle;\n",
       "    }\n",
       "\n",
       "    .dataframe tbody tr th {\n",
       "        vertical-align: top;\n",
       "    }\n",
       "\n",
       "    .dataframe thead th {\n",
       "        text-align: right;\n",
       "    }\n",
       "</style>\n",
       "<table border=\"1\" class=\"dataframe\">\n",
       "  <thead>\n",
       "    <tr style=\"text-align: right;\">\n",
       "      <th></th>\n",
       "      <th>col1</th>\n",
       "      <th>col2</th>\n",
       "    </tr>\n",
       "  </thead>\n",
       "  <tbody>\n",
       "    <tr>\n",
       "      <th>d</th>\n",
       "      <td>4</td>\n",
       "      <td>NaN</td>\n",
       "    </tr>\n",
       "    <tr>\n",
       "      <th>b</th>\n",
       "      <td>2</td>\n",
       "      <td>2.0</td>\n",
       "    </tr>\n",
       "    <tr>\n",
       "      <th>a</th>\n",
       "      <td>1</td>\n",
       "      <td>1.0</td>\n",
       "    </tr>\n",
       "  </tbody>\n",
       "</table>\n",
       "</div>"
      ],
      "text/plain": [
       "   col1  col2\n",
       "d     4   NaN\n",
       "b     2   2.0\n",
       "a     1   1.0"
      ]
     },
     "execution_count": 3,
     "metadata": {},
     "output_type": "execute_result"
    }
   ],
   "source": [
    "pd.DataFrame(d,index=['d','b','a'])"
   ]
  },
  {
   "cell_type": "code",
   "execution_count": 4,
   "metadata": {},
   "outputs": [
    {
     "data": {
      "text/html": [
       "<div>\n",
       "<style scoped>\n",
       "    .dataframe tbody tr th:only-of-type {\n",
       "        vertical-align: middle;\n",
       "    }\n",
       "\n",
       "    .dataframe tbody tr th {\n",
       "        vertical-align: top;\n",
       "    }\n",
       "\n",
       "    .dataframe thead th {\n",
       "        text-align: right;\n",
       "    }\n",
       "</style>\n",
       "<table border=\"1\" class=\"dataframe\">\n",
       "  <thead>\n",
       "    <tr style=\"text-align: right;\">\n",
       "      <th></th>\n",
       "      <th>col1</th>\n",
       "      <th>col2</th>\n",
       "      <th>col3</th>\n",
       "    </tr>\n",
       "  </thead>\n",
       "  <tbody>\n",
       "    <tr>\n",
       "      <th>d</th>\n",
       "      <td>4</td>\n",
       "      <td>NaN</td>\n",
       "      <td>NaN</td>\n",
       "    </tr>\n",
       "    <tr>\n",
       "      <th>b</th>\n",
       "      <td>2</td>\n",
       "      <td>2.0</td>\n",
       "      <td>NaN</td>\n",
       "    </tr>\n",
       "    <tr>\n",
       "      <th>a</th>\n",
       "      <td>1</td>\n",
       "      <td>1.0</td>\n",
       "      <td>NaN</td>\n",
       "    </tr>\n",
       "  </tbody>\n",
       "</table>\n",
       "</div>"
      ],
      "text/plain": [
       "   col1  col2 col3\n",
       "d     4   NaN  NaN\n",
       "b     2   2.0  NaN\n",
       "a     1   1.0  NaN"
      ]
     },
     "execution_count": 4,
     "metadata": {},
     "output_type": "execute_result"
    }
   ],
   "source": [
    "pd.DataFrame(d,index=['d','b','a'],columns=['col1','col2','col3'])"
   ]
  },
  {
   "cell_type": "code",
   "execution_count": 5,
   "metadata": {},
   "outputs": [
    {
     "data": {
      "text/plain": [
       "Index(['a', 'b', 'c', 'd'], dtype='object')"
      ]
     },
     "execution_count": 5,
     "metadata": {},
     "output_type": "execute_result"
    }
   ],
   "source": [
    "df.index"
   ]
  },
  {
   "cell_type": "code",
   "execution_count": 6,
   "metadata": {},
   "outputs": [
    {
     "data": {
      "text/plain": [
       "Index(['col1', 'col2'], dtype='object')"
      ]
     },
     "execution_count": 6,
     "metadata": {},
     "output_type": "execute_result"
    }
   ],
   "source": [
    "df.columns"
   ]
  },
  {
   "cell_type": "code",
   "execution_count": 7,
   "metadata": {},
   "outputs": [
    {
     "data": {
      "text/html": [
       "<div>\n",
       "<style scoped>\n",
       "    .dataframe tbody tr th:only-of-type {\n",
       "        vertical-align: middle;\n",
       "    }\n",
       "\n",
       "    .dataframe tbody tr th {\n",
       "        vertical-align: top;\n",
       "    }\n",
       "\n",
       "    .dataframe thead th {\n",
       "        text-align: right;\n",
       "    }\n",
       "</style>\n",
       "<table border=\"1\" class=\"dataframe\">\n",
       "  <thead>\n",
       "    <tr style=\"text-align: right;\">\n",
       "      <th></th>\n",
       "      <th>col1</th>\n",
       "      <th>col2</th>\n",
       "    </tr>\n",
       "  </thead>\n",
       "  <tbody>\n",
       "    <tr>\n",
       "      <th>0</th>\n",
       "      <td>1</td>\n",
       "      <td>4</td>\n",
       "    </tr>\n",
       "    <tr>\n",
       "      <th>1</th>\n",
       "      <td>2</td>\n",
       "      <td>3</td>\n",
       "    </tr>\n",
       "    <tr>\n",
       "      <th>2</th>\n",
       "      <td>3</td>\n",
       "      <td>2</td>\n",
       "    </tr>\n",
       "    <tr>\n",
       "      <th>3</th>\n",
       "      <td>4</td>\n",
       "      <td>1</td>\n",
       "    </tr>\n",
       "  </tbody>\n",
       "</table>\n",
       "</div>"
      ],
      "text/plain": [
       "   col1  col2\n",
       "0     1     4\n",
       "1     2     3\n",
       "2     3     2\n",
       "3     4     1"
      ]
     },
     "execution_count": 7,
     "metadata": {},
     "output_type": "execute_result"
    }
   ],
   "source": [
    "#字典的值是列表时列表的尺寸必须一致了，因为这里是生成默认的index，无法知道哪个index对应的数据不存在\n",
    "d={'col1':[1,2,3,4],'col2':[4,3,2,1]}\n",
    "df=pd.DataFrame(d)\n",
    "df"
   ]
  },
  {
   "cell_type": "code",
   "execution_count": 8,
   "metadata": {},
   "outputs": [
    {
     "data": {
      "text/html": [
       "<div>\n",
       "<style scoped>\n",
       "    .dataframe tbody tr th:only-of-type {\n",
       "        vertical-align: middle;\n",
       "    }\n",
       "\n",
       "    .dataframe tbody tr th {\n",
       "        vertical-align: top;\n",
       "    }\n",
       "\n",
       "    .dataframe thead th {\n",
       "        text-align: right;\n",
       "    }\n",
       "</style>\n",
       "<table border=\"1\" class=\"dataframe\">\n",
       "  <thead>\n",
       "    <tr style=\"text-align: right;\">\n",
       "      <th></th>\n",
       "      <th>col1</th>\n",
       "      <th>col2</th>\n",
       "    </tr>\n",
       "  </thead>\n",
       "  <tbody>\n",
       "    <tr>\n",
       "      <th>a</th>\n",
       "      <td>1</td>\n",
       "      <td>4</td>\n",
       "    </tr>\n",
       "    <tr>\n",
       "      <th>b</th>\n",
       "      <td>2</td>\n",
       "      <td>3</td>\n",
       "    </tr>\n",
       "    <tr>\n",
       "      <th>c</th>\n",
       "      <td>3</td>\n",
       "      <td>2</td>\n",
       "    </tr>\n",
       "    <tr>\n",
       "      <th>d</th>\n",
       "      <td>4</td>\n",
       "      <td>1</td>\n",
       "    </tr>\n",
       "  </tbody>\n",
       "</table>\n",
       "</div>"
      ],
      "text/plain": [
       "   col1  col2\n",
       "a     1     4\n",
       "b     2     3\n",
       "c     3     2\n",
       "d     4     1"
      ]
     },
     "execution_count": 8,
     "metadata": {},
     "output_type": "execute_result"
    }
   ],
   "source": [
    "pd.DataFrame(d,index=['a','b','c','d'])"
   ]
  },
  {
   "cell_type": "code",
   "execution_count": 9,
   "metadata": {},
   "outputs": [
    {
     "data": {
      "text/html": [
       "<div>\n",
       "<style scoped>\n",
       "    .dataframe tbody tr th:only-of-type {\n",
       "        vertical-align: middle;\n",
       "    }\n",
       "\n",
       "    .dataframe tbody tr th {\n",
       "        vertical-align: top;\n",
       "    }\n",
       "\n",
       "    .dataframe thead th {\n",
       "        text-align: right;\n",
       "    }\n",
       "</style>\n",
       "<table border=\"1\" class=\"dataframe\">\n",
       "  <thead>\n",
       "    <tr style=\"text-align: right;\">\n",
       "      <th></th>\n",
       "      <th>col2</th>\n",
       "      <th>col3</th>\n",
       "    </tr>\n",
       "  </thead>\n",
       "  <tbody>\n",
       "    <tr>\n",
       "      <th>0</th>\n",
       "      <td>4</td>\n",
       "      <td>NaN</td>\n",
       "    </tr>\n",
       "    <tr>\n",
       "      <th>1</th>\n",
       "      <td>3</td>\n",
       "      <td>NaN</td>\n",
       "    </tr>\n",
       "    <tr>\n",
       "      <th>2</th>\n",
       "      <td>2</td>\n",
       "      <td>NaN</td>\n",
       "    </tr>\n",
       "    <tr>\n",
       "      <th>3</th>\n",
       "      <td>1</td>\n",
       "      <td>NaN</td>\n",
       "    </tr>\n",
       "  </tbody>\n",
       "</table>\n",
       "</div>"
      ],
      "text/plain": [
       "   col2 col3\n",
       "0     4  NaN\n",
       "1     3  NaN\n",
       "2     2  NaN\n",
       "3     1  NaN"
      ]
     },
     "execution_count": 9,
     "metadata": {},
     "output_type": "execute_result"
    }
   ],
   "source": [
    "pd.DataFrame(d,columns=['col2','col3'])"
   ]
  },
  {
   "cell_type": "code",
   "execution_count": 10,
   "metadata": {},
   "outputs": [
    {
     "data": {
      "text/html": [
       "<div>\n",
       "<style scoped>\n",
       "    .dataframe tbody tr th:only-of-type {\n",
       "        vertical-align: middle;\n",
       "    }\n",
       "\n",
       "    .dataframe tbody tr th {\n",
       "        vertical-align: top;\n",
       "    }\n",
       "\n",
       "    .dataframe thead th {\n",
       "        text-align: right;\n",
       "    }\n",
       "</style>\n",
       "<table border=\"1\" class=\"dataframe\">\n",
       "  <thead>\n",
       "    <tr style=\"text-align: right;\">\n",
       "      <th></th>\n",
       "      <th>one</th>\n",
       "    </tr>\n",
       "  </thead>\n",
       "  <tbody>\n",
       "    <tr>\n",
       "      <th>0</th>\n",
       "      <td>1</td>\n",
       "    </tr>\n",
       "    <tr>\n",
       "      <th>1</th>\n",
       "      <td>2</td>\n",
       "    </tr>\n",
       "    <tr>\n",
       "      <th>2</th>\n",
       "      <td>3</td>\n",
       "    </tr>\n",
       "    <tr>\n",
       "      <th>3</th>\n",
       "      <td>4</td>\n",
       "    </tr>\n",
       "    <tr>\n",
       "      <th>4</th>\n",
       "      <td>5</td>\n",
       "    </tr>\n",
       "  </tbody>\n",
       "</table>\n",
       "</div>"
      ],
      "text/plain": [
       "   one\n",
       "0    1\n",
       "1    2\n",
       "2    3\n",
       "3    4\n",
       "4    5"
      ]
     },
     "execution_count": 10,
     "metadata": {},
     "output_type": "execute_result"
    }
   ],
   "source": [
    "s1=pd.Series([1,2,3,4,5])\n",
    "s1.name='one'\n",
    "pd.DataFrame(s1)"
   ]
  },
  {
   "cell_type": "code",
   "execution_count": 11,
   "metadata": {},
   "outputs": [
    {
     "data": {
      "text/html": [
       "<div>\n",
       "<style scoped>\n",
       "    .dataframe tbody tr th:only-of-type {\n",
       "        vertical-align: middle;\n",
       "    }\n",
       "\n",
       "    .dataframe tbody tr th {\n",
       "        vertical-align: top;\n",
       "    }\n",
       "\n",
       "    .dataframe thead th {\n",
       "        text-align: right;\n",
       "    }\n",
       "</style>\n",
       "<table border=\"1\" class=\"dataframe\">\n",
       "  <thead>\n",
       "    <tr style=\"text-align: right;\">\n",
       "      <th></th>\n",
       "      <th>0</th>\n",
       "      <th>1</th>\n",
       "      <th>2</th>\n",
       "      <th>3</th>\n",
       "      <th>4</th>\n",
       "    </tr>\n",
       "  </thead>\n",
       "  <tbody>\n",
       "    <tr>\n",
       "      <th>one</th>\n",
       "      <td>1</td>\n",
       "      <td>2</td>\n",
       "      <td>3</td>\n",
       "      <td>4</td>\n",
       "      <td>5</td>\n",
       "    </tr>\n",
       "    <tr>\n",
       "      <th>two</th>\n",
       "      <td>1</td>\n",
       "      <td>2</td>\n",
       "      <td>3</td>\n",
       "      <td>4</td>\n",
       "      <td>5</td>\n",
       "    </tr>\n",
       "  </tbody>\n",
       "</table>\n",
       "</div>"
      ],
      "text/plain": [
       "     0  1  2  3  4\n",
       "one  1  2  3  4  5\n",
       "two  1  2  3  4  5"
      ]
     },
     "execution_count": 11,
     "metadata": {},
     "output_type": "execute_result"
    }
   ],
   "source": [
    "s2=s1.rename('two')\n",
    "pd.DataFrame([s1,s2])"
   ]
  },
  {
   "cell_type": "code",
   "execution_count": 12,
   "metadata": {},
   "outputs": [
    {
     "data": {
      "text/html": [
       "<div>\n",
       "<style scoped>\n",
       "    .dataframe tbody tr th:only-of-type {\n",
       "        vertical-align: middle;\n",
       "    }\n",
       "\n",
       "    .dataframe tbody tr th {\n",
       "        vertical-align: top;\n",
       "    }\n",
       "\n",
       "    .dataframe thead th {\n",
       "        text-align: right;\n",
       "    }\n",
       "</style>\n",
       "<table border=\"1\" class=\"dataframe\">\n",
       "  <thead>\n",
       "    <tr style=\"text-align: right;\">\n",
       "      <th></th>\n",
       "      <th>a</th>\n",
       "      <th>b</th>\n",
       "      <th>c</th>\n",
       "      <th>d</th>\n",
       "    </tr>\n",
       "  </thead>\n",
       "  <tbody>\n",
       "    <tr>\n",
       "      <th>0</th>\n",
       "      <td>1.0</td>\n",
       "      <td>2.0</td>\n",
       "      <td>3</td>\n",
       "      <td>NaN</td>\n",
       "    </tr>\n",
       "    <tr>\n",
       "      <th>1</th>\n",
       "      <td>NaN</td>\n",
       "      <td>4.0</td>\n",
       "      <td>7</td>\n",
       "      <td>9.0</td>\n",
       "    </tr>\n",
       "    <tr>\n",
       "      <th>2</th>\n",
       "      <td>6.0</td>\n",
       "      <td>NaN</td>\n",
       "      <td>3</td>\n",
       "      <td>5.0</td>\n",
       "    </tr>\n",
       "  </tbody>\n",
       "</table>\n",
       "</div>"
      ],
      "text/plain": [
       "     a    b  c    d\n",
       "0  1.0  2.0  3  NaN\n",
       "1  NaN  4.0  7  9.0\n",
       "2  6.0  NaN  3  5.0"
      ]
     },
     "execution_count": 12,
     "metadata": {},
     "output_type": "execute_result"
    }
   ],
   "source": [
    "data=[{'a':1,'b':2,'c':3},{'b':4,'c':7,'d':9},{'a':6,'c':3,'d':5}]\n",
    "pd.DataFrame(data)"
   ]
  },
  {
   "cell_type": "code",
   "execution_count": 23,
   "metadata": {},
   "outputs": [
    {
     "data": {
      "text/html": [
       "<div>\n",
       "<style scoped>\n",
       "    .dataframe tbody tr th:only-of-type {\n",
       "        vertical-align: middle;\n",
       "    }\n",
       "\n",
       "    .dataframe tbody tr th {\n",
       "        vertical-align: top;\n",
       "    }\n",
       "\n",
       "    .dataframe thead th {\n",
       "        text-align: right;\n",
       "    }\n",
       "</style>\n",
       "<table border=\"1\" class=\"dataframe\">\n",
       "  <thead>\n",
       "    <tr style=\"text-align: right;\">\n",
       "      <th></th>\n",
       "      <th>0</th>\n",
       "      <th>1</th>\n",
       "      <th>2</th>\n",
       "      <th>3</th>\n",
       "    </tr>\n",
       "  </thead>\n",
       "  <tbody>\n",
       "    <tr>\n",
       "      <th>0</th>\n",
       "      <td>1</td>\n",
       "      <td>2</td>\n",
       "      <td>3</td>\n",
       "      <td>4</td>\n",
       "    </tr>\n",
       "    <tr>\n",
       "      <th>1</th>\n",
       "      <td>5</td>\n",
       "      <td>6</td>\n",
       "      <td>7</td>\n",
       "      <td>8</td>\n",
       "    </tr>\n",
       "    <tr>\n",
       "      <th>2</th>\n",
       "      <td>9</td>\n",
       "      <td>8</td>\n",
       "      <td>7</td>\n",
       "      <td>6</td>\n",
       "    </tr>\n",
       "  </tbody>\n",
       "</table>\n",
       "</div>"
      ],
      "text/plain": [
       "   0  1  2  3\n",
       "0  1  2  3  4\n",
       "1  5  6  7  8\n",
       "2  9  8  7  6"
      ]
     },
     "execution_count": 23,
     "metadata": {},
     "output_type": "execute_result"
    }
   ],
   "source": [
    "data=[[1,2,3,4],[5,6,7,8],[9,8,7,6]]\n",
    "pd.DataFrame(data)"
   ]
  },
  {
   "cell_type": "code",
   "execution_count": 24,
   "metadata": {},
   "outputs": [
    {
     "data": {
      "text/html": [
       "<div>\n",
       "<style scoped>\n",
       "    .dataframe tbody tr th:only-of-type {\n",
       "        vertical-align: middle;\n",
       "    }\n",
       "\n",
       "    .dataframe tbody tr th {\n",
       "        vertical-align: top;\n",
       "    }\n",
       "\n",
       "    .dataframe thead th {\n",
       "        text-align: right;\n",
       "    }\n",
       "</style>\n",
       "<table border=\"1\" class=\"dataframe\">\n",
       "  <thead>\n",
       "    <tr style=\"text-align: right;\">\n",
       "      <th></th>\n",
       "      <th>0</th>\n",
       "      <th>1</th>\n",
       "      <th>2</th>\n",
       "      <th>3</th>\n",
       "    </tr>\n",
       "  </thead>\n",
       "  <tbody>\n",
       "    <tr>\n",
       "      <th>1</th>\n",
       "      <td>0.192573</td>\n",
       "      <td>0.730975</td>\n",
       "      <td>0.841481</td>\n",
       "      <td>0.931627</td>\n",
       "    </tr>\n",
       "    <tr>\n",
       "      <th>2</th>\n",
       "      <td>0.293800</td>\n",
       "      <td>0.053102</td>\n",
       "      <td>0.338191</td>\n",
       "      <td>0.020721</td>\n",
       "    </tr>\n",
       "    <tr>\n",
       "      <th>3</th>\n",
       "      <td>0.317729</td>\n",
       "      <td>0.235391</td>\n",
       "      <td>0.718062</td>\n",
       "      <td>0.087604</td>\n",
       "    </tr>\n",
       "  </tbody>\n",
       "</table>\n",
       "</div>"
      ],
      "text/plain": [
       "          0         1         2         3\n",
       "1  0.192573  0.730975  0.841481  0.931627\n",
       "2  0.293800  0.053102  0.338191  0.020721\n",
       "3  0.317729  0.235391  0.718062  0.087604"
      ]
     },
     "execution_count": 24,
     "metadata": {},
     "output_type": "execute_result"
    }
   ],
   "source": [
    "pd.DataFrame(np.random.rand(3,4),index=[1,2,3])"
   ]
  },
  {
   "cell_type": "markdown",
   "metadata": {},
   "source": [
    "#### 列选中、插入、删除  \n",
    "基本与字典的操作一，通过键索引列，得到的列是一个`Series`；添加、删除操作与字典也类似"
   ]
  },
  {
   "cell_type": "code",
   "execution_count": 55,
   "metadata": {},
   "outputs": [
    {
     "data": {
      "text/html": [
       "<div>\n",
       "<style scoped>\n",
       "    .dataframe tbody tr th:only-of-type {\n",
       "        vertical-align: middle;\n",
       "    }\n",
       "\n",
       "    .dataframe tbody tr th {\n",
       "        vertical-align: top;\n",
       "    }\n",
       "\n",
       "    .dataframe thead th {\n",
       "        text-align: right;\n",
       "    }\n",
       "</style>\n",
       "<table border=\"1\" class=\"dataframe\">\n",
       "  <thead>\n",
       "    <tr style=\"text-align: right;\">\n",
       "      <th></th>\n",
       "      <th>one</th>\n",
       "      <th>two</th>\n",
       "      <th>three</th>\n",
       "    </tr>\n",
       "  </thead>\n",
       "  <tbody>\n",
       "    <tr>\n",
       "      <th>a</th>\n",
       "      <td>0.081774</td>\n",
       "      <td>0.689690</td>\n",
       "      <td>0.137227</td>\n",
       "    </tr>\n",
       "    <tr>\n",
       "      <th>b</th>\n",
       "      <td>0.191447</td>\n",
       "      <td>0.185544</td>\n",
       "      <td>0.306146</td>\n",
       "    </tr>\n",
       "    <tr>\n",
       "      <th>c</th>\n",
       "      <td>0.954003</td>\n",
       "      <td>0.415900</td>\n",
       "      <td>0.434817</td>\n",
       "    </tr>\n",
       "    <tr>\n",
       "      <th>d</th>\n",
       "      <td>0.290428</td>\n",
       "      <td>0.441525</td>\n",
       "      <td>0.778144</td>\n",
       "    </tr>\n",
       "  </tbody>\n",
       "</table>\n",
       "</div>"
      ],
      "text/plain": [
       "        one       two     three\n",
       "a  0.081774  0.689690  0.137227\n",
       "b  0.191447  0.185544  0.306146\n",
       "c  0.954003  0.415900  0.434817\n",
       "d  0.290428  0.441525  0.778144"
      ]
     },
     "execution_count": 55,
     "metadata": {},
     "output_type": "execute_result"
    }
   ],
   "source": [
    "data=np.random.rand(4,3)\n",
    "df=pd.DataFrame(data,index=['a','b','c','d'],columns=['one','two','three'])\n",
    "df"
   ]
  },
  {
   "cell_type": "code",
   "execution_count": 56,
   "metadata": {},
   "outputs": [
    {
     "data": {
      "text/plain": [
       "(a    0.137227\n",
       " b    0.306146\n",
       " c    0.434817\n",
       " d    0.778144\n",
       " Name: three, dtype: float64, pandas.core.series.Series)"
      ]
     },
     "execution_count": 56,
     "metadata": {},
     "output_type": "execute_result"
    }
   ],
   "source": [
    "df['three'],type(df['three'])"
   ]
  },
  {
   "cell_type": "code",
   "execution_count": 57,
   "metadata": {},
   "outputs": [
    {
     "data": {
      "text/html": [
       "<div>\n",
       "<style scoped>\n",
       "    .dataframe tbody tr th:only-of-type {\n",
       "        vertical-align: middle;\n",
       "    }\n",
       "\n",
       "    .dataframe tbody tr th {\n",
       "        vertical-align: top;\n",
       "    }\n",
       "\n",
       "    .dataframe thead th {\n",
       "        text-align: right;\n",
       "    }\n",
       "</style>\n",
       "<table border=\"1\" class=\"dataframe\">\n",
       "  <thead>\n",
       "    <tr style=\"text-align: right;\">\n",
       "      <th></th>\n",
       "      <th>one</th>\n",
       "      <th>two</th>\n",
       "      <th>three</th>\n",
       "      <th>four</th>\n",
       "    </tr>\n",
       "  </thead>\n",
       "  <tbody>\n",
       "    <tr>\n",
       "      <th>a</th>\n",
       "      <td>0.081774</td>\n",
       "      <td>0.689690</td>\n",
       "      <td>0.137227</td>\n",
       "      <td>0.771464</td>\n",
       "    </tr>\n",
       "    <tr>\n",
       "      <th>b</th>\n",
       "      <td>0.191447</td>\n",
       "      <td>0.185544</td>\n",
       "      <td>0.306146</td>\n",
       "      <td>0.376992</td>\n",
       "    </tr>\n",
       "    <tr>\n",
       "      <th>c</th>\n",
       "      <td>0.954003</td>\n",
       "      <td>0.415900</td>\n",
       "      <td>0.434817</td>\n",
       "      <td>1.369902</td>\n",
       "    </tr>\n",
       "    <tr>\n",
       "      <th>d</th>\n",
       "      <td>0.290428</td>\n",
       "      <td>0.441525</td>\n",
       "      <td>0.778144</td>\n",
       "      <td>0.731953</td>\n",
       "    </tr>\n",
       "  </tbody>\n",
       "</table>\n",
       "</div>"
      ],
      "text/plain": [
       "        one       two     three      four\n",
       "a  0.081774  0.689690  0.137227  0.771464\n",
       "b  0.191447  0.185544  0.306146  0.376992\n",
       "c  0.954003  0.415900  0.434817  1.369902\n",
       "d  0.290428  0.441525  0.778144  0.731953"
      ]
     },
     "execution_count": 57,
     "metadata": {},
     "output_type": "execute_result"
    }
   ],
   "source": [
    "df['four']=df['one']+df['two']\n",
    "df"
   ]
  },
  {
   "cell_type": "code",
   "execution_count": 58,
   "metadata": {},
   "outputs": [
    {
     "data": {
      "text/html": [
       "<div>\n",
       "<style scoped>\n",
       "    .dataframe tbody tr th:only-of-type {\n",
       "        vertical-align: middle;\n",
       "    }\n",
       "\n",
       "    .dataframe tbody tr th {\n",
       "        vertical-align: top;\n",
       "    }\n",
       "\n",
       "    .dataframe thead th {\n",
       "        text-align: right;\n",
       "    }\n",
       "</style>\n",
       "<table border=\"1\" class=\"dataframe\">\n",
       "  <thead>\n",
       "    <tr style=\"text-align: right;\">\n",
       "      <th></th>\n",
       "      <th>one</th>\n",
       "      <th>two</th>\n",
       "      <th>three</th>\n",
       "      <th>four</th>\n",
       "      <th>flag</th>\n",
       "    </tr>\n",
       "  </thead>\n",
       "  <tbody>\n",
       "    <tr>\n",
       "      <th>a</th>\n",
       "      <td>0.081774</td>\n",
       "      <td>0.689690</td>\n",
       "      <td>0.137227</td>\n",
       "      <td>0.771464</td>\n",
       "      <td>False</td>\n",
       "    </tr>\n",
       "    <tr>\n",
       "      <th>b</th>\n",
       "      <td>0.191447</td>\n",
       "      <td>0.185544</td>\n",
       "      <td>0.306146</td>\n",
       "      <td>0.376992</td>\n",
       "      <td>False</td>\n",
       "    </tr>\n",
       "    <tr>\n",
       "      <th>c</th>\n",
       "      <td>0.954003</td>\n",
       "      <td>0.415900</td>\n",
       "      <td>0.434817</td>\n",
       "      <td>1.369902</td>\n",
       "      <td>False</td>\n",
       "    </tr>\n",
       "    <tr>\n",
       "      <th>d</th>\n",
       "      <td>0.290428</td>\n",
       "      <td>0.441525</td>\n",
       "      <td>0.778144</td>\n",
       "      <td>0.731953</td>\n",
       "      <td>True</td>\n",
       "    </tr>\n",
       "  </tbody>\n",
       "</table>\n",
       "</div>"
      ],
      "text/plain": [
       "        one       two     three      four   flag\n",
       "a  0.081774  0.689690  0.137227  0.771464  False\n",
       "b  0.191447  0.185544  0.306146  0.376992  False\n",
       "c  0.954003  0.415900  0.434817  1.369902  False\n",
       "d  0.290428  0.441525  0.778144  0.731953   True"
      ]
     },
     "execution_count": 58,
     "metadata": {},
     "output_type": "execute_result"
    }
   ],
   "source": [
    "df['flag']=df['three']>0.5\n",
    "df"
   ]
  },
  {
   "cell_type": "code",
   "execution_count": 59,
   "metadata": {},
   "outputs": [
    {
     "data": {
      "text/html": [
       "<div>\n",
       "<style scoped>\n",
       "    .dataframe tbody tr th:only-of-type {\n",
       "        vertical-align: middle;\n",
       "    }\n",
       "\n",
       "    .dataframe tbody tr th {\n",
       "        vertical-align: top;\n",
       "    }\n",
       "\n",
       "    .dataframe thead th {\n",
       "        text-align: right;\n",
       "    }\n",
       "</style>\n",
       "<table border=\"1\" class=\"dataframe\">\n",
       "  <thead>\n",
       "    <tr style=\"text-align: right;\">\n",
       "      <th></th>\n",
       "      <th>one</th>\n",
       "      <th>oneandhalf</th>\n",
       "      <th>two</th>\n",
       "      <th>three</th>\n",
       "      <th>four</th>\n",
       "      <th>flag</th>\n",
       "    </tr>\n",
       "  </thead>\n",
       "  <tbody>\n",
       "    <tr>\n",
       "      <th>a</th>\n",
       "      <td>0.081774</td>\n",
       "      <td>0.081774</td>\n",
       "      <td>0.689690</td>\n",
       "      <td>0.137227</td>\n",
       "      <td>0.771464</td>\n",
       "      <td>False</td>\n",
       "    </tr>\n",
       "    <tr>\n",
       "      <th>b</th>\n",
       "      <td>0.191447</td>\n",
       "      <td>0.191447</td>\n",
       "      <td>0.185544</td>\n",
       "      <td>0.306146</td>\n",
       "      <td>0.376992</td>\n",
       "      <td>False</td>\n",
       "    </tr>\n",
       "    <tr>\n",
       "      <th>c</th>\n",
       "      <td>0.954003</td>\n",
       "      <td>0.954003</td>\n",
       "      <td>0.415900</td>\n",
       "      <td>0.434817</td>\n",
       "      <td>1.369902</td>\n",
       "      <td>False</td>\n",
       "    </tr>\n",
       "    <tr>\n",
       "      <th>d</th>\n",
       "      <td>0.290428</td>\n",
       "      <td>0.290428</td>\n",
       "      <td>0.441525</td>\n",
       "      <td>0.778144</td>\n",
       "      <td>0.731953</td>\n",
       "      <td>True</td>\n",
       "    </tr>\n",
       "  </tbody>\n",
       "</table>\n",
       "</div>"
      ],
      "text/plain": [
       "        one  oneandhalf       two     three      four   flag\n",
       "a  0.081774    0.081774  0.689690  0.137227  0.771464  False\n",
       "b  0.191447    0.191447  0.185544  0.306146  0.376992  False\n",
       "c  0.954003    0.954003  0.415900  0.434817  1.369902  False\n",
       "d  0.290428    0.290428  0.441525  0.778144  0.731953   True"
      ]
     },
     "execution_count": 59,
     "metadata": {},
     "output_type": "execute_result"
    }
   ],
   "source": [
    "df.insert(1,'oneandhalf',df['one'])#指定插入列位置为1\n",
    "df"
   ]
  },
  {
   "cell_type": "code",
   "execution_count": 60,
   "metadata": {},
   "outputs": [
    {
     "data": {
      "text/html": [
       "<div>\n",
       "<style scoped>\n",
       "    .dataframe tbody tr th:only-of-type {\n",
       "        vertical-align: middle;\n",
       "    }\n",
       "\n",
       "    .dataframe tbody tr th {\n",
       "        vertical-align: top;\n",
       "    }\n",
       "\n",
       "    .dataframe thead th {\n",
       "        text-align: right;\n",
       "    }\n",
       "</style>\n",
       "<table border=\"1\" class=\"dataframe\">\n",
       "  <thead>\n",
       "    <tr style=\"text-align: right;\">\n",
       "      <th></th>\n",
       "      <th>one</th>\n",
       "      <th>two</th>\n",
       "      <th>flag</th>\n",
       "    </tr>\n",
       "  </thead>\n",
       "  <tbody>\n",
       "    <tr>\n",
       "      <th>a</th>\n",
       "      <td>0.081774</td>\n",
       "      <td>0.689690</td>\n",
       "      <td>False</td>\n",
       "    </tr>\n",
       "    <tr>\n",
       "      <th>b</th>\n",
       "      <td>0.191447</td>\n",
       "      <td>0.185544</td>\n",
       "      <td>False</td>\n",
       "    </tr>\n",
       "    <tr>\n",
       "      <th>c</th>\n",
       "      <td>0.954003</td>\n",
       "      <td>0.415900</td>\n",
       "      <td>False</td>\n",
       "    </tr>\n",
       "    <tr>\n",
       "      <th>d</th>\n",
       "      <td>0.290428</td>\n",
       "      <td>0.441525</td>\n",
       "      <td>True</td>\n",
       "    </tr>\n",
       "  </tbody>\n",
       "</table>\n",
       "</div>"
      ],
      "text/plain": [
       "        one       two   flag\n",
       "a  0.081774  0.689690  False\n",
       "b  0.191447  0.185544  False\n",
       "c  0.954003  0.415900  False\n",
       "d  0.290428  0.441525   True"
      ]
     },
     "execution_count": 60,
     "metadata": {},
     "output_type": "execute_result"
    }
   ],
   "source": [
    "del df['three'],df['four'],df['oneandhalf']\n",
    "df"
   ]
  },
  {
   "cell_type": "markdown",
   "metadata": {},
   "source": [
    "插入的列是一个标量时会自动应用广播法则（按列）"
   ]
  },
  {
   "cell_type": "code",
   "execution_count": 61,
   "metadata": {},
   "outputs": [
    {
     "data": {
      "text/html": [
       "<div>\n",
       "<style scoped>\n",
       "    .dataframe tbody tr th:only-of-type {\n",
       "        vertical-align: middle;\n",
       "    }\n",
       "\n",
       "    .dataframe tbody tr th {\n",
       "        vertical-align: top;\n",
       "    }\n",
       "\n",
       "    .dataframe thead th {\n",
       "        text-align: right;\n",
       "    }\n",
       "</style>\n",
       "<table border=\"1\" class=\"dataframe\">\n",
       "  <thead>\n",
       "    <tr style=\"text-align: right;\">\n",
       "      <th></th>\n",
       "      <th>one</th>\n",
       "      <th>two</th>\n",
       "      <th>flag</th>\n",
       "      <th>foo</th>\n",
       "    </tr>\n",
       "  </thead>\n",
       "  <tbody>\n",
       "    <tr>\n",
       "      <th>a</th>\n",
       "      <td>0.081774</td>\n",
       "      <td>0.689690</td>\n",
       "      <td>False</td>\n",
       "      <td>bar</td>\n",
       "    </tr>\n",
       "    <tr>\n",
       "      <th>b</th>\n",
       "      <td>0.191447</td>\n",
       "      <td>0.185544</td>\n",
       "      <td>False</td>\n",
       "      <td>bar</td>\n",
       "    </tr>\n",
       "    <tr>\n",
       "      <th>c</th>\n",
       "      <td>0.954003</td>\n",
       "      <td>0.415900</td>\n",
       "      <td>False</td>\n",
       "      <td>bar</td>\n",
       "    </tr>\n",
       "    <tr>\n",
       "      <th>d</th>\n",
       "      <td>0.290428</td>\n",
       "      <td>0.441525</td>\n",
       "      <td>True</td>\n",
       "      <td>bar</td>\n",
       "    </tr>\n",
       "  </tbody>\n",
       "</table>\n",
       "</div>"
      ],
      "text/plain": [
       "        one       two   flag  foo\n",
       "a  0.081774  0.689690  False  bar\n",
       "b  0.191447  0.185544  False  bar\n",
       "c  0.954003  0.415900  False  bar\n",
       "d  0.290428  0.441525   True  bar"
      ]
     },
     "execution_count": 61,
     "metadata": {},
     "output_type": "execute_result"
    }
   ],
   "source": [
    "df['foo']='bar'\n",
    "df"
   ]
  },
  {
   "cell_type": "markdown",
   "metadata": {},
   "source": [
    "插入的列与DataFrame的行数、行名不一致时会自动对齐"
   ]
  },
  {
   "cell_type": "code",
   "execution_count": 62,
   "metadata": {},
   "outputs": [
    {
     "data": {
      "text/html": [
       "<div>\n",
       "<style scoped>\n",
       "    .dataframe tbody tr th:only-of-type {\n",
       "        vertical-align: middle;\n",
       "    }\n",
       "\n",
       "    .dataframe tbody tr th {\n",
       "        vertical-align: top;\n",
       "    }\n",
       "\n",
       "    .dataframe thead th {\n",
       "        text-align: right;\n",
       "    }\n",
       "</style>\n",
       "<table border=\"1\" class=\"dataframe\">\n",
       "  <thead>\n",
       "    <tr style=\"text-align: right;\">\n",
       "      <th></th>\n",
       "      <th>one</th>\n",
       "      <th>two</th>\n",
       "      <th>flag</th>\n",
       "      <th>foo</th>\n",
       "      <th>three</th>\n",
       "    </tr>\n",
       "  </thead>\n",
       "  <tbody>\n",
       "    <tr>\n",
       "      <th>a</th>\n",
       "      <td>0.081774</td>\n",
       "      <td>0.689690</td>\n",
       "      <td>False</td>\n",
       "      <td>bar</td>\n",
       "      <td>0.081774</td>\n",
       "    </tr>\n",
       "    <tr>\n",
       "      <th>b</th>\n",
       "      <td>0.191447</td>\n",
       "      <td>0.185544</td>\n",
       "      <td>False</td>\n",
       "      <td>bar</td>\n",
       "      <td>0.191447</td>\n",
       "    </tr>\n",
       "    <tr>\n",
       "      <th>c</th>\n",
       "      <td>0.954003</td>\n",
       "      <td>0.415900</td>\n",
       "      <td>False</td>\n",
       "      <td>bar</td>\n",
       "      <td>NaN</td>\n",
       "    </tr>\n",
       "    <tr>\n",
       "      <th>d</th>\n",
       "      <td>0.290428</td>\n",
       "      <td>0.441525</td>\n",
       "      <td>True</td>\n",
       "      <td>bar</td>\n",
       "      <td>NaN</td>\n",
       "    </tr>\n",
       "  </tbody>\n",
       "</table>\n",
       "</div>"
      ],
      "text/plain": [
       "        one       two   flag  foo     three\n",
       "a  0.081774  0.689690  False  bar  0.081774\n",
       "b  0.191447  0.185544  False  bar  0.191447\n",
       "c  0.954003  0.415900  False  bar       NaN\n",
       "d  0.290428  0.441525   True  bar       NaN"
      ]
     },
     "execution_count": 62,
     "metadata": {},
     "output_type": "execute_result"
    }
   ],
   "source": [
    "df['three']=df['one'][:2]\n",
    "df"
   ]
  },
  {
   "cell_type": "code",
   "execution_count": 63,
   "metadata": {},
   "outputs": [
    {
     "data": {
      "text/html": [
       "<div>\n",
       "<style scoped>\n",
       "    .dataframe tbody tr th:only-of-type {\n",
       "        vertical-align: middle;\n",
       "    }\n",
       "\n",
       "    .dataframe tbody tr th {\n",
       "        vertical-align: top;\n",
       "    }\n",
       "\n",
       "    .dataframe thead th {\n",
       "        text-align: right;\n",
       "    }\n",
       "</style>\n",
       "<table border=\"1\" class=\"dataframe\">\n",
       "  <thead>\n",
       "    <tr style=\"text-align: right;\">\n",
       "      <th></th>\n",
       "      <th>one</th>\n",
       "      <th>two</th>\n",
       "      <th>flag</th>\n",
       "      <th>foo</th>\n",
       "      <th>three</th>\n",
       "      <th>four</th>\n",
       "    </tr>\n",
       "  </thead>\n",
       "  <tbody>\n",
       "    <tr>\n",
       "      <th>a</th>\n",
       "      <td>0.081774</td>\n",
       "      <td>0.689690</td>\n",
       "      <td>False</td>\n",
       "      <td>bar</td>\n",
       "      <td>0.081774</td>\n",
       "      <td>NaN</td>\n",
       "    </tr>\n",
       "    <tr>\n",
       "      <th>b</th>\n",
       "      <td>0.191447</td>\n",
       "      <td>0.185544</td>\n",
       "      <td>False</td>\n",
       "      <td>bar</td>\n",
       "      <td>0.191447</td>\n",
       "      <td>NaN</td>\n",
       "    </tr>\n",
       "    <tr>\n",
       "      <th>c</th>\n",
       "      <td>0.954003</td>\n",
       "      <td>0.415900</td>\n",
       "      <td>False</td>\n",
       "      <td>bar</td>\n",
       "      <td>NaN</td>\n",
       "      <td>NaN</td>\n",
       "    </tr>\n",
       "    <tr>\n",
       "      <th>d</th>\n",
       "      <td>0.290428</td>\n",
       "      <td>0.441525</td>\n",
       "      <td>True</td>\n",
       "      <td>bar</td>\n",
       "      <td>NaN</td>\n",
       "      <td>4.0</td>\n",
       "    </tr>\n",
       "  </tbody>\n",
       "</table>\n",
       "</div>"
      ],
      "text/plain": [
       "        one       two   flag  foo     three  four\n",
       "a  0.081774  0.689690  False  bar  0.081774   NaN\n",
       "b  0.191447  0.185544  False  bar  0.191447   NaN\n",
       "c  0.954003  0.415900  False  bar       NaN   NaN\n",
       "d  0.290428  0.441525   True  bar       NaN   4.0"
      ]
     },
     "execution_count": 63,
     "metadata": {},
     "output_type": "execute_result"
    }
   ],
   "source": [
    "df['four']=pd.Series([4,5],index=['d','e'])\n",
    "df"
   ]
  },
  {
   "cell_type": "markdown",
   "metadata": {},
   "source": [
    "> 由上可知，df并没有增加名称为“e”的行——我的理解是自动对齐只对右值（等号右边的）有效，所以df并不会对齐之后再插入df['four']列，只将右边添加的列自动对齐；而下面的例子则会把df也自动对齐，因为df在等号右边。当然这些自动对齐都不是在原位上进行的，df本身数据仍然没有变"
   ]
  },
  {
   "cell_type": "code",
   "execution_count": 64,
   "metadata": {},
   "outputs": [
    {
     "data": {
      "text/html": [
       "<div>\n",
       "<style scoped>\n",
       "    .dataframe tbody tr th:only-of-type {\n",
       "        vertical-align: middle;\n",
       "    }\n",
       "\n",
       "    .dataframe tbody tr th {\n",
       "        vertical-align: top;\n",
       "    }\n",
       "\n",
       "    .dataframe thead th {\n",
       "        text-align: right;\n",
       "    }\n",
       "</style>\n",
       "<table border=\"1\" class=\"dataframe\">\n",
       "  <thead>\n",
       "    <tr style=\"text-align: right;\">\n",
       "      <th></th>\n",
       "      <th>flag</th>\n",
       "      <th>foo</th>\n",
       "      <th>four</th>\n",
       "      <th>one</th>\n",
       "      <th>three</th>\n",
       "      <th>two</th>\n",
       "    </tr>\n",
       "  </thead>\n",
       "  <tbody>\n",
       "    <tr>\n",
       "      <th>a</th>\n",
       "      <td>NaN</td>\n",
       "      <td>NaN</td>\n",
       "      <td>NaN</td>\n",
       "      <td>NaN</td>\n",
       "      <td>NaN</td>\n",
       "      <td>NaN</td>\n",
       "    </tr>\n",
       "    <tr>\n",
       "      <th>b</th>\n",
       "      <td>NaN</td>\n",
       "      <td>NaN</td>\n",
       "      <td>NaN</td>\n",
       "      <td>NaN</td>\n",
       "      <td>NaN</td>\n",
       "      <td>NaN</td>\n",
       "    </tr>\n",
       "    <tr>\n",
       "      <th>c</th>\n",
       "      <td>NaN</td>\n",
       "      <td>NaN</td>\n",
       "      <td>NaN</td>\n",
       "      <td>NaN</td>\n",
       "      <td>NaN</td>\n",
       "      <td>NaN</td>\n",
       "    </tr>\n",
       "    <tr>\n",
       "      <th>d</th>\n",
       "      <td>NaN</td>\n",
       "      <td>NaN</td>\n",
       "      <td>8.0</td>\n",
       "      <td>NaN</td>\n",
       "      <td>NaN</td>\n",
       "      <td>NaN</td>\n",
       "    </tr>\n",
       "    <tr>\n",
       "      <th>e</th>\n",
       "      <td>NaN</td>\n",
       "      <td>NaN</td>\n",
       "      <td>NaN</td>\n",
       "      <td>NaN</td>\n",
       "      <td>NaN</td>\n",
       "      <td>NaN</td>\n",
       "    </tr>\n",
       "  </tbody>\n",
       "</table>\n",
       "</div>"
      ],
      "text/plain": [
       "  flag  foo  four  one  three  two\n",
       "a  NaN  NaN   NaN  NaN    NaN  NaN\n",
       "b  NaN  NaN   NaN  NaN    NaN  NaN\n",
       "c  NaN  NaN   NaN  NaN    NaN  NaN\n",
       "d  NaN  NaN   8.0  NaN    NaN  NaN\n",
       "e  NaN  NaN   NaN  NaN    NaN  NaN"
      ]
     },
     "execution_count": 64,
     "metadata": {},
     "output_type": "execute_result"
    }
   ],
   "source": [
    "df+pd.DataFrame(pd.Series([4,5],index=['d','e'],name='four'))"
   ]
  },
  {
   "cell_type": "code",
   "execution_count": 65,
   "metadata": {},
   "outputs": [
    {
     "data": {
      "text/html": [
       "<div>\n",
       "<style scoped>\n",
       "    .dataframe tbody tr th:only-of-type {\n",
       "        vertical-align: middle;\n",
       "    }\n",
       "\n",
       "    .dataframe tbody tr th {\n",
       "        vertical-align: top;\n",
       "    }\n",
       "\n",
       "    .dataframe thead th {\n",
       "        text-align: right;\n",
       "    }\n",
       "</style>\n",
       "<table border=\"1\" class=\"dataframe\">\n",
       "  <thead>\n",
       "    <tr style=\"text-align: right;\">\n",
       "      <th></th>\n",
       "      <th>one</th>\n",
       "      <th>two</th>\n",
       "      <th>flag</th>\n",
       "      <th>foo</th>\n",
       "      <th>three</th>\n",
       "      <th>four</th>\n",
       "    </tr>\n",
       "  </thead>\n",
       "  <tbody>\n",
       "    <tr>\n",
       "      <th>a</th>\n",
       "      <td>0.081774</td>\n",
       "      <td>0.689690</td>\n",
       "      <td>False</td>\n",
       "      <td>bar</td>\n",
       "      <td>0.081774</td>\n",
       "      <td>NaN</td>\n",
       "    </tr>\n",
       "    <tr>\n",
       "      <th>b</th>\n",
       "      <td>0.191447</td>\n",
       "      <td>0.185544</td>\n",
       "      <td>False</td>\n",
       "      <td>bar</td>\n",
       "      <td>0.191447</td>\n",
       "      <td>NaN</td>\n",
       "    </tr>\n",
       "    <tr>\n",
       "      <th>c</th>\n",
       "      <td>0.954003</td>\n",
       "      <td>0.415900</td>\n",
       "      <td>False</td>\n",
       "      <td>bar</td>\n",
       "      <td>NaN</td>\n",
       "      <td>NaN</td>\n",
       "    </tr>\n",
       "    <tr>\n",
       "      <th>d</th>\n",
       "      <td>0.290428</td>\n",
       "      <td>0.441525</td>\n",
       "      <td>True</td>\n",
       "      <td>bar</td>\n",
       "      <td>NaN</td>\n",
       "      <td>4.0</td>\n",
       "    </tr>\n",
       "  </tbody>\n",
       "</table>\n",
       "</div>"
      ],
      "text/plain": [
       "        one       two   flag  foo     three  four\n",
       "a  0.081774  0.689690  False  bar  0.081774   NaN\n",
       "b  0.191447  0.185544  False  bar  0.191447   NaN\n",
       "c  0.954003  0.415900  False  bar       NaN   NaN\n",
       "d  0.290428  0.441525   True  bar       NaN   4.0"
      ]
     },
     "execution_count": 65,
     "metadata": {},
     "output_type": "execute_result"
    }
   ],
   "source": [
    "df"
   ]
  },
  {
   "cell_type": "markdown",
   "metadata": {},
   "source": [
    "#### 使用方法链赋值新列  \n",
    "使用`assign()`函数可以由已有列生成新列"
   ]
  },
  {
   "cell_type": "code",
   "execution_count": 69,
   "metadata": {},
   "outputs": [
    {
     "data": {
      "text/html": [
       "<div>\n",
       "<style scoped>\n",
       "    .dataframe tbody tr th:only-of-type {\n",
       "        vertical-align: middle;\n",
       "    }\n",
       "\n",
       "    .dataframe tbody tr th {\n",
       "        vertical-align: top;\n",
       "    }\n",
       "\n",
       "    .dataframe thead th {\n",
       "        text-align: right;\n",
       "    }\n",
       "</style>\n",
       "<table border=\"1\" class=\"dataframe\">\n",
       "  <thead>\n",
       "    <tr style=\"text-align: right;\">\n",
       "      <th></th>\n",
       "      <th>Engineering</th>\n",
       "      <th>English</th>\n",
       "      <th>Management</th>\n",
       "      <th>CS</th>\n",
       "      <th>Mechanics</th>\n",
       "    </tr>\n",
       "  </thead>\n",
       "  <tbody>\n",
       "    <tr>\n",
       "      <th>Li YX</th>\n",
       "      <td>75.987862</td>\n",
       "      <td>68.258449</td>\n",
       "      <td>74.933372</td>\n",
       "      <td>94.848686</td>\n",
       "      <td>85.861676</td>\n",
       "    </tr>\n",
       "    <tr>\n",
       "      <th>Tang KS</th>\n",
       "      <td>78.730984</td>\n",
       "      <td>74.675663</td>\n",
       "      <td>78.473013</td>\n",
       "      <td>70.628554</td>\n",
       "      <td>89.375882</td>\n",
       "    </tr>\n",
       "    <tr>\n",
       "      <th>Wang Q</th>\n",
       "      <td>79.579904</td>\n",
       "      <td>69.424659</td>\n",
       "      <td>74.911647</td>\n",
       "      <td>81.454416</td>\n",
       "      <td>77.725207</td>\n",
       "    </tr>\n",
       "    <tr>\n",
       "      <th>Liu XH</th>\n",
       "      <td>75.472634</td>\n",
       "      <td>82.423732</td>\n",
       "      <td>84.027502</td>\n",
       "      <td>81.709782</td>\n",
       "      <td>78.177159</td>\n",
       "    </tr>\n",
       "  </tbody>\n",
       "</table>\n",
       "</div>"
      ],
      "text/plain": [
       "         Engineering    English  Management         CS  Mechanics\n",
       "Li YX      75.987862  68.258449   74.933372  94.848686  85.861676\n",
       "Tang KS    78.730984  74.675663   78.473013  70.628554  89.375882\n",
       "Wang Q     79.579904  69.424659   74.911647  81.454416  77.725207\n",
       "Liu XH     75.472634  82.423732   84.027502  81.709782  78.177159"
      ]
     },
     "execution_count": 69,
     "metadata": {},
     "output_type": "execute_result"
    }
   ],
   "source": [
    "data=np.random.randn(4,5)*7+80\n",
    "data[data>100]=100\n",
    "data[data<60]=60\n",
    "df=pd.DataFrame(data,index=['Li YX','Tang KS','Wang Q','Liu XH'],columns=['Engineering','English','Management','CS','Mechanics'])\n",
    "df"
   ]
  },
  {
   "cell_type": "markdown",
   "metadata": {},
   "source": [
    "`assign()`可用于由已有列生成新列"
   ]
  },
  {
   "cell_type": "code",
   "execution_count": 70,
   "metadata": {},
   "outputs": [
    {
     "data": {
      "text/html": [
       "<div>\n",
       "<style scoped>\n",
       "    .dataframe tbody tr th:only-of-type {\n",
       "        vertical-align: middle;\n",
       "    }\n",
       "\n",
       "    .dataframe tbody tr th {\n",
       "        vertical-align: top;\n",
       "    }\n",
       "\n",
       "    .dataframe thead th {\n",
       "        text-align: right;\n",
       "    }\n",
       "</style>\n",
       "<table border=\"1\" class=\"dataframe\">\n",
       "  <thead>\n",
       "    <tr style=\"text-align: right;\">\n",
       "      <th></th>\n",
       "      <th>Engineering</th>\n",
       "      <th>English</th>\n",
       "      <th>Management</th>\n",
       "      <th>CS</th>\n",
       "      <th>Mechanics</th>\n",
       "      <th>Total</th>\n",
       "    </tr>\n",
       "  </thead>\n",
       "  <tbody>\n",
       "    <tr>\n",
       "      <th>Li YX</th>\n",
       "      <td>75.987862</td>\n",
       "      <td>68.258449</td>\n",
       "      <td>74.933372</td>\n",
       "      <td>94.848686</td>\n",
       "      <td>85.861676</td>\n",
       "      <td>399.890044</td>\n",
       "    </tr>\n",
       "    <tr>\n",
       "      <th>Tang KS</th>\n",
       "      <td>78.730984</td>\n",
       "      <td>74.675663</td>\n",
       "      <td>78.473013</td>\n",
       "      <td>70.628554</td>\n",
       "      <td>89.375882</td>\n",
       "      <td>391.884096</td>\n",
       "    </tr>\n",
       "    <tr>\n",
       "      <th>Wang Q</th>\n",
       "      <td>79.579904</td>\n",
       "      <td>69.424659</td>\n",
       "      <td>74.911647</td>\n",
       "      <td>81.454416</td>\n",
       "      <td>77.725207</td>\n",
       "      <td>383.095833</td>\n",
       "    </tr>\n",
       "    <tr>\n",
       "      <th>Liu XH</th>\n",
       "      <td>75.472634</td>\n",
       "      <td>82.423732</td>\n",
       "      <td>84.027502</td>\n",
       "      <td>81.709782</td>\n",
       "      <td>78.177159</td>\n",
       "      <td>401.810809</td>\n",
       "    </tr>\n",
       "  </tbody>\n",
       "</table>\n",
       "</div>"
      ],
      "text/plain": [
       "         Engineering    English  Management         CS  Mechanics       Total\n",
       "Li YX      75.987862  68.258449   74.933372  94.848686  85.861676  399.890044\n",
       "Tang KS    78.730984  74.675663   78.473013  70.628554  89.375882  391.884096\n",
       "Wang Q     79.579904  69.424659   74.911647  81.454416  77.725207  383.095833\n",
       "Liu XH     75.472634  82.423732   84.027502  81.709782  78.177159  401.810809"
      ]
     },
     "execution_count": 70,
     "metadata": {},
     "output_type": "execute_result"
    }
   ],
   "source": [
    "df.assign(Total=df['Engineering']+df['English']+df['Management']+df['CS']+df['Mechanics'])"
   ]
  },
  {
   "cell_type": "markdown",
   "metadata": {},
   "source": [
    "`assign()`中可以使用函数进行列的计算"
   ]
  },
  {
   "cell_type": "code",
   "execution_count": 74,
   "metadata": {},
   "outputs": [
    {
     "data": {
      "text/html": [
       "<div>\n",
       "<style scoped>\n",
       "    .dataframe tbody tr th:only-of-type {\n",
       "        vertical-align: middle;\n",
       "    }\n",
       "\n",
       "    .dataframe tbody tr th {\n",
       "        vertical-align: top;\n",
       "    }\n",
       "\n",
       "    .dataframe thead th {\n",
       "        text-align: right;\n",
       "    }\n",
       "</style>\n",
       "<table border=\"1\" class=\"dataframe\">\n",
       "  <thead>\n",
       "    <tr style=\"text-align: right;\">\n",
       "      <th></th>\n",
       "      <th>Engineering</th>\n",
       "      <th>English</th>\n",
       "      <th>Management</th>\n",
       "      <th>CS</th>\n",
       "      <th>Mechanics</th>\n",
       "      <th>Average</th>\n",
       "    </tr>\n",
       "  </thead>\n",
       "  <tbody>\n",
       "    <tr>\n",
       "      <th>Li YX</th>\n",
       "      <td>75.987862</td>\n",
       "      <td>68.258449</td>\n",
       "      <td>74.933372</td>\n",
       "      <td>94.848686</td>\n",
       "      <td>85.861676</td>\n",
       "      <td>79.978009</td>\n",
       "    </tr>\n",
       "    <tr>\n",
       "      <th>Tang KS</th>\n",
       "      <td>78.730984</td>\n",
       "      <td>74.675663</td>\n",
       "      <td>78.473013</td>\n",
       "      <td>70.628554</td>\n",
       "      <td>89.375882</td>\n",
       "      <td>78.376819</td>\n",
       "    </tr>\n",
       "    <tr>\n",
       "      <th>Wang Q</th>\n",
       "      <td>79.579904</td>\n",
       "      <td>69.424659</td>\n",
       "      <td>74.911647</td>\n",
       "      <td>81.454416</td>\n",
       "      <td>77.725207</td>\n",
       "      <td>76.619167</td>\n",
       "    </tr>\n",
       "    <tr>\n",
       "      <th>Liu XH</th>\n",
       "      <td>75.472634</td>\n",
       "      <td>82.423732</td>\n",
       "      <td>84.027502</td>\n",
       "      <td>81.709782</td>\n",
       "      <td>78.177159</td>\n",
       "      <td>80.362162</td>\n",
       "    </tr>\n",
       "  </tbody>\n",
       "</table>\n",
       "</div>"
      ],
      "text/plain": [
       "         Engineering    English  Management         CS  Mechanics    Average\n",
       "Li YX      75.987862  68.258449   74.933372  94.848686  85.861676  79.978009\n",
       "Tang KS    78.730984  74.675663   78.473013  70.628554  89.375882  78.376819\n",
       "Wang Q     79.579904  69.424659   74.911647  81.454416  77.725207  76.619167\n",
       "Liu XH     75.472634  82.423732   84.027502  81.709782  78.177159  80.362162"
      ]
     },
     "execution_count": 74,
     "metadata": {},
     "output_type": "execute_result"
    }
   ],
   "source": [
    "df.assign(Average=lambda x:np.sum(x,axis=1)/5)"
   ]
  },
  {
   "cell_type": "markdown",
   "metadata": {},
   "source": [
    "可以对数据表中的符合条件的某几条记录（某几行）进行运算，这样不必对整个表进行计算（比如先进行查询再对查询结果计算）："
   ]
  },
  {
   "cell_type": "code",
   "execution_count": 76,
   "metadata": {},
   "outputs": [
    {
     "data": {
      "text/html": [
       "<div>\n",
       "<style scoped>\n",
       "    .dataframe tbody tr th:only-of-type {\n",
       "        vertical-align: middle;\n",
       "    }\n",
       "\n",
       "    .dataframe tbody tr th {\n",
       "        vertical-align: top;\n",
       "    }\n",
       "\n",
       "    .dataframe thead th {\n",
       "        text-align: right;\n",
       "    }\n",
       "</style>\n",
       "<table border=\"1\" class=\"dataframe\">\n",
       "  <thead>\n",
       "    <tr style=\"text-align: right;\">\n",
       "      <th></th>\n",
       "      <th>Engineering</th>\n",
       "      <th>English</th>\n",
       "      <th>Management</th>\n",
       "      <th>CS</th>\n",
       "      <th>Mechanics</th>\n",
       "    </tr>\n",
       "  </thead>\n",
       "  <tbody>\n",
       "    <tr>\n",
       "      <th>Tang KS</th>\n",
       "      <td>78.730984</td>\n",
       "      <td>74.675663</td>\n",
       "      <td>78.473013</td>\n",
       "      <td>70.628554</td>\n",
       "      <td>89.375882</td>\n",
       "    </tr>\n",
       "    <tr>\n",
       "      <th>Wang Q</th>\n",
       "      <td>79.579904</td>\n",
       "      <td>69.424659</td>\n",
       "      <td>74.911647</td>\n",
       "      <td>81.454416</td>\n",
       "      <td>77.725207</td>\n",
       "    </tr>\n",
       "  </tbody>\n",
       "</table>\n",
       "</div>"
      ],
      "text/plain": [
       "         Engineering    English  Management         CS  Mechanics\n",
       "Tang KS    78.730984  74.675663   78.473013  70.628554  89.375882\n",
       "Wang Q     79.579904  69.424659   74.911647  81.454416  77.725207"
      ]
     },
     "execution_count": 76,
     "metadata": {},
     "output_type": "execute_result"
    }
   ],
   "source": [
    "df.query('Engineering>76')"
   ]
  },
  {
   "cell_type": "code",
   "execution_count": 77,
   "metadata": {},
   "outputs": [
    {
     "data": {
      "text/html": [
       "<div>\n",
       "<style scoped>\n",
       "    .dataframe tbody tr th:only-of-type {\n",
       "        vertical-align: middle;\n",
       "    }\n",
       "\n",
       "    .dataframe tbody tr th {\n",
       "        vertical-align: top;\n",
       "    }\n",
       "\n",
       "    .dataframe thead th {\n",
       "        text-align: right;\n",
       "    }\n",
       "</style>\n",
       "<table border=\"1\" class=\"dataframe\">\n",
       "  <thead>\n",
       "    <tr style=\"text-align: right;\">\n",
       "      <th></th>\n",
       "      <th>Engineering</th>\n",
       "      <th>English</th>\n",
       "      <th>Management</th>\n",
       "      <th>CS</th>\n",
       "      <th>Mechanics</th>\n",
       "      <th>GeneralEngineering</th>\n",
       "    </tr>\n",
       "  </thead>\n",
       "  <tbody>\n",
       "    <tr>\n",
       "      <th>Li YX</th>\n",
       "      <td>75.987862</td>\n",
       "      <td>68.258449</td>\n",
       "      <td>74.933372</td>\n",
       "      <td>94.848686</td>\n",
       "      <td>85.861676</td>\n",
       "      <td>85.566074</td>\n",
       "    </tr>\n",
       "    <tr>\n",
       "      <th>Wang Q</th>\n",
       "      <td>79.579904</td>\n",
       "      <td>69.424659</td>\n",
       "      <td>74.911647</td>\n",
       "      <td>81.454416</td>\n",
       "      <td>77.725207</td>\n",
       "      <td>79.586509</td>\n",
       "    </tr>\n",
       "    <tr>\n",
       "      <th>Liu XH</th>\n",
       "      <td>75.472634</td>\n",
       "      <td>82.423732</td>\n",
       "      <td>84.027502</td>\n",
       "      <td>81.709782</td>\n",
       "      <td>78.177159</td>\n",
       "      <td>78.453192</td>\n",
       "    </tr>\n",
       "  </tbody>\n",
       "</table>\n",
       "</div>"
      ],
      "text/plain": [
       "        Engineering    English  Management         CS  Mechanics  \\\n",
       "Li YX     75.987862  68.258449   74.933372  94.848686  85.861676   \n",
       "Wang Q    79.579904  69.424659   74.911647  81.454416  77.725207   \n",
       "Liu XH    75.472634  82.423732   84.027502  81.709782  78.177159   \n",
       "\n",
       "        GeneralEngineering  \n",
       "Li YX            85.566074  \n",
       "Wang Q           79.586509  \n",
       "Liu XH           78.453192  "
      ]
     },
     "execution_count": 77,
     "metadata": {},
     "output_type": "execute_result"
    }
   ],
   "source": [
    "df.query('CS>80').assign(GeneralEngineering=lambda x:(x['Engineering']+x['CS']+x['Mechanics'])/3)"
   ]
  },
  {
   "cell_type": "markdown",
   "metadata": {},
   "source": [
    "`assign()`中使用的表达式中可以含有之前一个表达式计算得到的变量，如下。唯一有点小问题的是含有前一个表达式生成变量的表达式不能使用数据表来索引新生成的列，而只能使用`lambda`表达式（即匿名函数）,否则会出现键错误，因为调用函数把实参传进去时还没进行第一个表达式，所以不存在“Total”键，无法访问`df['Total']`，而使用`lambda`函数时并没有传进去具体的数据，只是传了一个函数的引用："
   ]
  },
  {
   "cell_type": "code",
   "execution_count": 88,
   "metadata": {},
   "outputs": [
    {
     "data": {
      "text/html": [
       "<div>\n",
       "<style scoped>\n",
       "    .dataframe tbody tr th:only-of-type {\n",
       "        vertical-align: middle;\n",
       "    }\n",
       "\n",
       "    .dataframe tbody tr th {\n",
       "        vertical-align: top;\n",
       "    }\n",
       "\n",
       "    .dataframe thead th {\n",
       "        text-align: right;\n",
       "    }\n",
       "</style>\n",
       "<table border=\"1\" class=\"dataframe\">\n",
       "  <thead>\n",
       "    <tr style=\"text-align: right;\">\n",
       "      <th></th>\n",
       "      <th>Engineering</th>\n",
       "      <th>English</th>\n",
       "      <th>Management</th>\n",
       "      <th>CS</th>\n",
       "      <th>Mechanics</th>\n",
       "      <th>Total</th>\n",
       "      <th>Average</th>\n",
       "    </tr>\n",
       "  </thead>\n",
       "  <tbody>\n",
       "    <tr>\n",
       "      <th>Li YX</th>\n",
       "      <td>75.987862</td>\n",
       "      <td>68.258449</td>\n",
       "      <td>74.933372</td>\n",
       "      <td>94.848686</td>\n",
       "      <td>85.861676</td>\n",
       "      <td>399.890044</td>\n",
       "      <td>79.978009</td>\n",
       "    </tr>\n",
       "    <tr>\n",
       "      <th>Tang KS</th>\n",
       "      <td>78.730984</td>\n",
       "      <td>74.675663</td>\n",
       "      <td>78.473013</td>\n",
       "      <td>70.628554</td>\n",
       "      <td>89.375882</td>\n",
       "      <td>391.884096</td>\n",
       "      <td>78.376819</td>\n",
       "    </tr>\n",
       "    <tr>\n",
       "      <th>Wang Q</th>\n",
       "      <td>79.579904</td>\n",
       "      <td>69.424659</td>\n",
       "      <td>74.911647</td>\n",
       "      <td>81.454416</td>\n",
       "      <td>77.725207</td>\n",
       "      <td>383.095833</td>\n",
       "      <td>76.619167</td>\n",
       "    </tr>\n",
       "    <tr>\n",
       "      <th>Liu XH</th>\n",
       "      <td>75.472634</td>\n",
       "      <td>82.423732</td>\n",
       "      <td>84.027502</td>\n",
       "      <td>81.709782</td>\n",
       "      <td>78.177159</td>\n",
       "      <td>401.810809</td>\n",
       "      <td>80.362162</td>\n",
       "    </tr>\n",
       "  </tbody>\n",
       "</table>\n",
       "</div>"
      ],
      "text/plain": [
       "         Engineering    English  Management         CS  Mechanics       Total  \\\n",
       "Li YX      75.987862  68.258449   74.933372  94.848686  85.861676  399.890044   \n",
       "Tang KS    78.730984  74.675663   78.473013  70.628554  89.375882  391.884096   \n",
       "Wang Q     79.579904  69.424659   74.911647  81.454416  77.725207  383.095833   \n",
       "Liu XH     75.472634  82.423732   84.027502  81.709782  78.177159  401.810809   \n",
       "\n",
       "           Average  \n",
       "Li YX    79.978009  \n",
       "Tang KS  78.376819  \n",
       "Wang Q   76.619167  \n",
       "Liu XH   80.362162  "
      ]
     },
     "execution_count": 88,
     "metadata": {},
     "output_type": "execute_result"
    }
   ],
   "source": [
    "df.assign(Total=lambda x:np.sum(x,axis=1),Average=lambda x:x['Total']/5)\n",
    "#df.assign(Total=lambda x:np.sum(x,axis=1),Average=df['Total']/5)这个不行"
   ]
  },
  {
   "cell_type": "markdown",
   "metadata": {},
   "source": [
    "#### 索引与选择"
   ]
  },
  {
   "cell_type": "markdown",
   "metadata": {},
   "source": [
    "1. 选择列"
   ]
  },
  {
   "cell_type": "code",
   "execution_count": 89,
   "metadata": {},
   "outputs": [
    {
     "data": {
      "text/plain": [
       "Li YX      94.848686\n",
       "Tang KS    70.628554\n",
       "Wang Q     81.454416\n",
       "Liu XH     81.709782\n",
       "Name: CS, dtype: float64"
      ]
     },
     "execution_count": 89,
     "metadata": {},
     "output_type": "execute_result"
    }
   ],
   "source": [
    "df['CS']"
   ]
  },
  {
   "cell_type": "markdown",
   "metadata": {},
   "source": [
    "2. 按标签选择行"
   ]
  },
  {
   "cell_type": "code",
   "execution_count": 90,
   "metadata": {},
   "outputs": [
    {
     "data": {
      "text/plain": [
       "Engineering    78.730984\n",
       "English        74.675663\n",
       "Management     78.473013\n",
       "CS             70.628554\n",
       "Mechanics      89.375882\n",
       "Name: Tang KS, dtype: float64"
      ]
     },
     "execution_count": 90,
     "metadata": {},
     "output_type": "execute_result"
    }
   ],
   "source": [
    "df.loc['Tang KS']"
   ]
  },
  {
   "cell_type": "markdown",
   "metadata": {},
   "source": [
    "3. 按序号选择行"
   ]
  },
  {
   "cell_type": "code",
   "execution_count": 93,
   "metadata": {},
   "outputs": [
    {
     "data": {
      "text/plain": [
       "Engineering    79.579904\n",
       "English        69.424659\n",
       "Management     74.911647\n",
       "CS             81.454416\n",
       "Mechanics      77.725207\n",
       "Name: Wang Q, dtype: float64"
      ]
     },
     "execution_count": 93,
     "metadata": {},
     "output_type": "execute_result"
    }
   ],
   "source": [
    "df.iloc[2]"
   ]
  },
  {
   "cell_type": "markdown",
   "metadata": {},
   "source": [
    "4. 行切片"
   ]
  },
  {
   "cell_type": "code",
   "execution_count": 94,
   "metadata": {},
   "outputs": [
    {
     "data": {
      "text/html": [
       "<div>\n",
       "<style scoped>\n",
       "    .dataframe tbody tr th:only-of-type {\n",
       "        vertical-align: middle;\n",
       "    }\n",
       "\n",
       "    .dataframe tbody tr th {\n",
       "        vertical-align: top;\n",
       "    }\n",
       "\n",
       "    .dataframe thead th {\n",
       "        text-align: right;\n",
       "    }\n",
       "</style>\n",
       "<table border=\"1\" class=\"dataframe\">\n",
       "  <thead>\n",
       "    <tr style=\"text-align: right;\">\n",
       "      <th></th>\n",
       "      <th>Engineering</th>\n",
       "      <th>English</th>\n",
       "      <th>Management</th>\n",
       "      <th>CS</th>\n",
       "      <th>Mechanics</th>\n",
       "    </tr>\n",
       "  </thead>\n",
       "  <tbody>\n",
       "    <tr>\n",
       "      <th>Li YX</th>\n",
       "      <td>75.987862</td>\n",
       "      <td>68.258449</td>\n",
       "      <td>74.933372</td>\n",
       "      <td>94.848686</td>\n",
       "      <td>85.861676</td>\n",
       "    </tr>\n",
       "    <tr>\n",
       "      <th>Tang KS</th>\n",
       "      <td>78.730984</td>\n",
       "      <td>74.675663</td>\n",
       "      <td>78.473013</td>\n",
       "      <td>70.628554</td>\n",
       "      <td>89.375882</td>\n",
       "    </tr>\n",
       "    <tr>\n",
       "      <th>Wang Q</th>\n",
       "      <td>79.579904</td>\n",
       "      <td>69.424659</td>\n",
       "      <td>74.911647</td>\n",
       "      <td>81.454416</td>\n",
       "      <td>77.725207</td>\n",
       "    </tr>\n",
       "  </tbody>\n",
       "</table>\n",
       "</div>"
      ],
      "text/plain": [
       "         Engineering    English  Management         CS  Mechanics\n",
       "Li YX      75.987862  68.258449   74.933372  94.848686  85.861676\n",
       "Tang KS    78.730984  74.675663   78.473013  70.628554  89.375882\n",
       "Wang Q     79.579904  69.424659   74.911647  81.454416  77.725207"
      ]
     },
     "execution_count": 94,
     "metadata": {},
     "output_type": "execute_result"
    }
   ],
   "source": [
    "df[:-1]"
   ]
  },
  {
   "cell_type": "markdown",
   "metadata": {},
   "source": [
    "5. 布尔值行索引"
   ]
  },
  {
   "cell_type": "code",
   "execution_count": 95,
   "metadata": {},
   "outputs": [
    {
     "data": {
      "text/html": [
       "<div>\n",
       "<style scoped>\n",
       "    .dataframe tbody tr th:only-of-type {\n",
       "        vertical-align: middle;\n",
       "    }\n",
       "\n",
       "    .dataframe tbody tr th {\n",
       "        vertical-align: top;\n",
       "    }\n",
       "\n",
       "    .dataframe thead th {\n",
       "        text-align: right;\n",
       "    }\n",
       "</style>\n",
       "<table border=\"1\" class=\"dataframe\">\n",
       "  <thead>\n",
       "    <tr style=\"text-align: right;\">\n",
       "      <th></th>\n",
       "      <th>Engineering</th>\n",
       "      <th>English</th>\n",
       "      <th>Management</th>\n",
       "      <th>CS</th>\n",
       "      <th>Mechanics</th>\n",
       "    </tr>\n",
       "  </thead>\n",
       "  <tbody>\n",
       "    <tr>\n",
       "      <th>Tang KS</th>\n",
       "      <td>78.730984</td>\n",
       "      <td>74.675663</td>\n",
       "      <td>78.473013</td>\n",
       "      <td>70.628554</td>\n",
       "      <td>89.375882</td>\n",
       "    </tr>\n",
       "    <tr>\n",
       "      <th>Liu XH</th>\n",
       "      <td>75.472634</td>\n",
       "      <td>82.423732</td>\n",
       "      <td>84.027502</td>\n",
       "      <td>81.709782</td>\n",
       "      <td>78.177159</td>\n",
       "    </tr>\n",
       "  </tbody>\n",
       "</table>\n",
       "</div>"
      ],
      "text/plain": [
       "         Engineering    English  Management         CS  Mechanics\n",
       "Tang KS    78.730984  74.675663   78.473013  70.628554  89.375882\n",
       "Liu XH     75.472634  82.423732   84.027502  81.709782  78.177159"
      ]
     },
     "execution_count": 95,
     "metadata": {},
     "output_type": "execute_result"
    }
   ],
   "source": [
    "df[df['English']>70]"
   ]
  },
  {
   "cell_type": "markdown",
   "metadata": {},
   "source": [
    "#### 数据对齐与算术  \n",
    "所谓数据对齐就是两个`DataFrame`进行算术运算时，最后的行数、列数等于两个表中不同的行数总和与不同的列数总和，即两个数据表行列标签取并集，然后对原数据表中行标签、列标签都相同的元素进行相应算术运算"
   ]
  },
  {
   "cell_type": "code",
   "execution_count": 100,
   "metadata": {},
   "outputs": [
    {
     "data": {
      "text/plain": [
       "(          0         1         2         3         4         5\n",
       " 0  0.004918 -0.633382 -0.862058  0.345601 -0.698983 -1.198451\n",
       " 1  0.000996 -1.792127 -0.080231  0.546962  0.879534  0.048649\n",
       " 2  0.619625 -0.192753 -0.060333  0.651259 -0.057265  0.720667\n",
       " 3 -0.386628  1.493021  0.107017  0.586775  0.879709  0.559901,\n",
       "           0         1         2         3\n",
       " 0 -1.101043 -0.527273  0.801759  0.786621\n",
       " 1 -0.757937 -1.220986 -1.169714 -0.757507\n",
       " 2  1.671402 -1.451858  0.099088 -0.008609,\n",
       "           0         1         2         3   4   5\n",
       " 0 -1.096125 -1.160655 -0.060300  1.132223 NaN NaN\n",
       " 1 -0.756941 -3.013113 -1.249945 -0.210546 NaN NaN\n",
       " 2  2.291027 -1.644611  0.038755  0.642650 NaN NaN\n",
       " 3       NaN       NaN       NaN       NaN NaN NaN)"
      ]
     },
     "execution_count": 100,
     "metadata": {},
     "output_type": "execute_result"
    }
   ],
   "source": [
    "df1=pd.DataFrame(np.random.randn(4,6))\n",
    "df2=pd.DataFrame(np.random.randn(3,4))\n",
    "df1,df2,df1+df2"
   ]
  },
  {
   "cell_type": "code",
   "execution_count": 101,
   "metadata": {},
   "outputs": [
    {
     "data": {
      "text/html": [
       "<div>\n",
       "<style scoped>\n",
       "    .dataframe tbody tr th:only-of-type {\n",
       "        vertical-align: middle;\n",
       "    }\n",
       "\n",
       "    .dataframe tbody tr th {\n",
       "        vertical-align: top;\n",
       "    }\n",
       "\n",
       "    .dataframe thead th {\n",
       "        text-align: right;\n",
       "    }\n",
       "</style>\n",
       "<table border=\"1\" class=\"dataframe\">\n",
       "  <thead>\n",
       "    <tr style=\"text-align: right;\">\n",
       "      <th></th>\n",
       "      <th>0</th>\n",
       "      <th>1</th>\n",
       "      <th>2</th>\n",
       "      <th>3</th>\n",
       "      <th>4</th>\n",
       "      <th>5</th>\n",
       "    </tr>\n",
       "  </thead>\n",
       "  <tbody>\n",
       "    <tr>\n",
       "      <th>0</th>\n",
       "      <td>2.024591</td>\n",
       "      <td>-1.166912</td>\n",
       "      <td>-2.310291</td>\n",
       "      <td>3.728007</td>\n",
       "      <td>-1.494916</td>\n",
       "      <td>-3.992253</td>\n",
       "    </tr>\n",
       "    <tr>\n",
       "      <th>1</th>\n",
       "      <td>2.004981</td>\n",
       "      <td>-6.960634</td>\n",
       "      <td>1.598845</td>\n",
       "      <td>4.734808</td>\n",
       "      <td>6.397671</td>\n",
       "      <td>2.243245</td>\n",
       "    </tr>\n",
       "    <tr>\n",
       "      <th>2</th>\n",
       "      <td>5.098124</td>\n",
       "      <td>1.036233</td>\n",
       "      <td>1.698336</td>\n",
       "      <td>5.256293</td>\n",
       "      <td>1.713677</td>\n",
       "      <td>5.603337</td>\n",
       "    </tr>\n",
       "    <tr>\n",
       "      <th>3</th>\n",
       "      <td>0.066858</td>\n",
       "      <td>9.465105</td>\n",
       "      <td>2.535085</td>\n",
       "      <td>4.933873</td>\n",
       "      <td>6.398544</td>\n",
       "      <td>4.799507</td>\n",
       "    </tr>\n",
       "  </tbody>\n",
       "</table>\n",
       "</div>"
      ],
      "text/plain": [
       "          0         1         2         3         4         5\n",
       "0  2.024591 -1.166912 -2.310291  3.728007 -1.494916 -3.992253\n",
       "1  2.004981 -6.960634  1.598845  4.734808  6.397671  2.243245\n",
       "2  5.098124  1.036233  1.698336  5.256293  1.713677  5.603337\n",
       "3  0.066858  9.465105  2.535085  4.933873  6.398544  4.799507"
      ]
     },
     "execution_count": 101,
     "metadata": {},
     "output_type": "execute_result"
    }
   ],
   "source": [
    "df1*5+2"
   ]
  },
  {
   "cell_type": "code",
   "execution_count": 103,
   "metadata": {},
   "outputs": [
    {
     "data": {
      "text/html": [
       "<div>\n",
       "<style scoped>\n",
       "    .dataframe tbody tr th:only-of-type {\n",
       "        vertical-align: middle;\n",
       "    }\n",
       "\n",
       "    .dataframe tbody tr th {\n",
       "        vertical-align: top;\n",
       "    }\n",
       "\n",
       "    .dataframe thead th {\n",
       "        text-align: right;\n",
       "    }\n",
       "</style>\n",
       "<table border=\"1\" class=\"dataframe\">\n",
       "  <thead>\n",
       "    <tr style=\"text-align: right;\">\n",
       "      <th></th>\n",
       "      <th>0</th>\n",
       "      <th>1</th>\n",
       "      <th>2</th>\n",
       "      <th>3</th>\n",
       "      <th>4</th>\n",
       "      <th>5</th>\n",
       "    </tr>\n",
       "  </thead>\n",
       "  <tbody>\n",
       "    <tr>\n",
       "      <th>0</th>\n",
       "      <td>203.328949</td>\n",
       "      <td>-1.578825</td>\n",
       "      <td>-1.160014</td>\n",
       "      <td>2.893508</td>\n",
       "      <td>-1.430649</td>\n",
       "      <td>-0.834411</td>\n",
       "    </tr>\n",
       "    <tr>\n",
       "      <th>1</th>\n",
       "      <td>1003.719277</td>\n",
       "      <td>-0.557996</td>\n",
       "      <td>-12.463998</td>\n",
       "      <td>1.828282</td>\n",
       "      <td>1.136966</td>\n",
       "      <td>20.555369</td>\n",
       "    </tr>\n",
       "    <tr>\n",
       "      <th>2</th>\n",
       "      <td>1.613880</td>\n",
       "      <td>-5.187977</td>\n",
       "      <td>-16.574722</td>\n",
       "      <td>1.535489</td>\n",
       "      <td>-17.462777</td>\n",
       "      <td>1.387603</td>\n",
       "    </tr>\n",
       "    <tr>\n",
       "      <th>3</th>\n",
       "      <td>-2.586462</td>\n",
       "      <td>0.669783</td>\n",
       "      <td>9.344318</td>\n",
       "      <td>1.704232</td>\n",
       "      <td>1.136740</td>\n",
       "      <td>1.786029</td>\n",
       "    </tr>\n",
       "  </tbody>\n",
       "</table>\n",
       "</div>"
      ],
      "text/plain": [
       "             0         1          2         3          4          5\n",
       "0   203.328949 -1.578825  -1.160014  2.893508  -1.430649  -0.834411\n",
       "1  1003.719277 -0.557996 -12.463998  1.828282   1.136966  20.555369\n",
       "2     1.613880 -5.187977 -16.574722  1.535489 -17.462777   1.387603\n",
       "3    -2.586462  0.669783   9.344318  1.704232   1.136740   1.786029"
      ]
     },
     "execution_count": 103,
     "metadata": {},
     "output_type": "execute_result"
    }
   ],
   "source": [
    "1/df1"
   ]
  },
  {
   "cell_type": "code",
   "execution_count": 111,
   "metadata": {},
   "outputs": [
    {
     "data": {
      "text/plain": [
       "(       0      1      2     3      4      5\n",
       " 0   True  False  False  True  False  False\n",
       " 1   True  False  False  True   True   True\n",
       " 2   True  False  False  True  False   True\n",
       " 3  False   True   True  True   True   True,\n",
       "        0      1      2      3      4      5\n",
       " 0  False   True  False  False  False   True\n",
       " 1  False  False  False   True   True  False\n",
       " 2   True   True   True  False  False  False\n",
       " 3   True  False   True  False   True   True)"
      ]
     },
     "execution_count": 111,
     "metadata": {},
     "output_type": "execute_result"
    }
   ],
   "source": [
    "df1=df1>0\n",
    "df2=pd.DataFrame(np.random.randn(4,6))>0\n",
    "df1,df2"
   ]
  },
  {
   "cell_type": "code",
   "execution_count": 112,
   "metadata": {},
   "outputs": [
    {
     "data": {
      "text/html": [
       "<div>\n",
       "<style scoped>\n",
       "    .dataframe tbody tr th:only-of-type {\n",
       "        vertical-align: middle;\n",
       "    }\n",
       "\n",
       "    .dataframe tbody tr th {\n",
       "        vertical-align: top;\n",
       "    }\n",
       "\n",
       "    .dataframe thead th {\n",
       "        text-align: right;\n",
       "    }\n",
       "</style>\n",
       "<table border=\"1\" class=\"dataframe\">\n",
       "  <thead>\n",
       "    <tr style=\"text-align: right;\">\n",
       "      <th></th>\n",
       "      <th>0</th>\n",
       "      <th>1</th>\n",
       "      <th>2</th>\n",
       "      <th>3</th>\n",
       "      <th>4</th>\n",
       "      <th>5</th>\n",
       "    </tr>\n",
       "  </thead>\n",
       "  <tbody>\n",
       "    <tr>\n",
       "      <th>0</th>\n",
       "      <td>False</td>\n",
       "      <td>False</td>\n",
       "      <td>False</td>\n",
       "      <td>False</td>\n",
       "      <td>False</td>\n",
       "      <td>False</td>\n",
       "    </tr>\n",
       "    <tr>\n",
       "      <th>1</th>\n",
       "      <td>False</td>\n",
       "      <td>False</td>\n",
       "      <td>False</td>\n",
       "      <td>True</td>\n",
       "      <td>True</td>\n",
       "      <td>False</td>\n",
       "    </tr>\n",
       "    <tr>\n",
       "      <th>2</th>\n",
       "      <td>True</td>\n",
       "      <td>False</td>\n",
       "      <td>False</td>\n",
       "      <td>False</td>\n",
       "      <td>False</td>\n",
       "      <td>False</td>\n",
       "    </tr>\n",
       "    <tr>\n",
       "      <th>3</th>\n",
       "      <td>False</td>\n",
       "      <td>False</td>\n",
       "      <td>True</td>\n",
       "      <td>False</td>\n",
       "      <td>True</td>\n",
       "      <td>True</td>\n",
       "    </tr>\n",
       "  </tbody>\n",
       "</table>\n",
       "</div>"
      ],
      "text/plain": [
       "       0      1      2      3      4      5\n",
       "0  False  False  False  False  False  False\n",
       "1  False  False  False   True   True  False\n",
       "2   True  False  False  False  False  False\n",
       "3  False  False   True  False   True   True"
      ]
     },
     "execution_count": 112,
     "metadata": {},
     "output_type": "execute_result"
    }
   ],
   "source": [
    "df1&df2"
   ]
  },
  {
   "cell_type": "code",
   "execution_count": 113,
   "metadata": {},
   "outputs": [
    {
     "data": {
      "text/html": [
       "<div>\n",
       "<style scoped>\n",
       "    .dataframe tbody tr th:only-of-type {\n",
       "        vertical-align: middle;\n",
       "    }\n",
       "\n",
       "    .dataframe tbody tr th {\n",
       "        vertical-align: top;\n",
       "    }\n",
       "\n",
       "    .dataframe thead th {\n",
       "        text-align: right;\n",
       "    }\n",
       "</style>\n",
       "<table border=\"1\" class=\"dataframe\">\n",
       "  <thead>\n",
       "    <tr style=\"text-align: right;\">\n",
       "      <th></th>\n",
       "      <th>0</th>\n",
       "      <th>1</th>\n",
       "      <th>2</th>\n",
       "      <th>3</th>\n",
       "      <th>4</th>\n",
       "      <th>5</th>\n",
       "    </tr>\n",
       "  </thead>\n",
       "  <tbody>\n",
       "    <tr>\n",
       "      <th>0</th>\n",
       "      <td>False</td>\n",
       "      <td>True</td>\n",
       "      <td>True</td>\n",
       "      <td>False</td>\n",
       "      <td>True</td>\n",
       "      <td>True</td>\n",
       "    </tr>\n",
       "    <tr>\n",
       "      <th>1</th>\n",
       "      <td>False</td>\n",
       "      <td>True</td>\n",
       "      <td>True</td>\n",
       "      <td>False</td>\n",
       "      <td>False</td>\n",
       "      <td>False</td>\n",
       "    </tr>\n",
       "    <tr>\n",
       "      <th>2</th>\n",
       "      <td>False</td>\n",
       "      <td>True</td>\n",
       "      <td>True</td>\n",
       "      <td>False</td>\n",
       "      <td>True</td>\n",
       "      <td>False</td>\n",
       "    </tr>\n",
       "    <tr>\n",
       "      <th>3</th>\n",
       "      <td>True</td>\n",
       "      <td>False</td>\n",
       "      <td>False</td>\n",
       "      <td>False</td>\n",
       "      <td>False</td>\n",
       "      <td>False</td>\n",
       "    </tr>\n",
       "  </tbody>\n",
       "</table>\n",
       "</div>"
      ],
      "text/plain": [
       "       0      1      2      3      4      5\n",
       "0  False   True   True  False   True   True\n",
       "1  False   True   True  False  False  False\n",
       "2  False   True   True  False   True  False\n",
       "3   True  False  False  False  False  False"
      ]
     },
     "execution_count": 113,
     "metadata": {},
     "output_type": "execute_result"
    }
   ],
   "source": [
    "-df1"
   ]
  },
  {
   "cell_type": "markdown",
   "metadata": {},
   "source": [
    "#### 转置"
   ]
  },
  {
   "cell_type": "code",
   "execution_count": 114,
   "metadata": {},
   "outputs": [
    {
     "data": {
      "text/html": [
       "<div>\n",
       "<style scoped>\n",
       "    .dataframe tbody tr th:only-of-type {\n",
       "        vertical-align: middle;\n",
       "    }\n",
       "\n",
       "    .dataframe tbody tr th {\n",
       "        vertical-align: top;\n",
       "    }\n",
       "\n",
       "    .dataframe thead th {\n",
       "        text-align: right;\n",
       "    }\n",
       "</style>\n",
       "<table border=\"1\" class=\"dataframe\">\n",
       "  <thead>\n",
       "    <tr style=\"text-align: right;\">\n",
       "      <th></th>\n",
       "      <th>Li YX</th>\n",
       "      <th>Tang KS</th>\n",
       "      <th>Wang Q</th>\n",
       "      <th>Liu XH</th>\n",
       "    </tr>\n",
       "  </thead>\n",
       "  <tbody>\n",
       "    <tr>\n",
       "      <th>Engineering</th>\n",
       "      <td>75.987862</td>\n",
       "      <td>78.730984</td>\n",
       "      <td>79.579904</td>\n",
       "      <td>75.472634</td>\n",
       "    </tr>\n",
       "    <tr>\n",
       "      <th>English</th>\n",
       "      <td>68.258449</td>\n",
       "      <td>74.675663</td>\n",
       "      <td>69.424659</td>\n",
       "      <td>82.423732</td>\n",
       "    </tr>\n",
       "    <tr>\n",
       "      <th>Management</th>\n",
       "      <td>74.933372</td>\n",
       "      <td>78.473013</td>\n",
       "      <td>74.911647</td>\n",
       "      <td>84.027502</td>\n",
       "    </tr>\n",
       "    <tr>\n",
       "      <th>CS</th>\n",
       "      <td>94.848686</td>\n",
       "      <td>70.628554</td>\n",
       "      <td>81.454416</td>\n",
       "      <td>81.709782</td>\n",
       "    </tr>\n",
       "    <tr>\n",
       "      <th>Mechanics</th>\n",
       "      <td>85.861676</td>\n",
       "      <td>89.375882</td>\n",
       "      <td>77.725207</td>\n",
       "      <td>78.177159</td>\n",
       "    </tr>\n",
       "  </tbody>\n",
       "</table>\n",
       "</div>"
      ],
      "text/plain": [
       "                 Li YX    Tang KS     Wang Q     Liu XH\n",
       "Engineering  75.987862  78.730984  79.579904  75.472634\n",
       "English      68.258449  74.675663  69.424659  82.423732\n",
       "Management   74.933372  78.473013  74.911647  84.027502\n",
       "CS           94.848686  70.628554  81.454416  81.709782\n",
       "Mechanics    85.861676  89.375882  77.725207  78.177159"
      ]
     },
     "execution_count": 114,
     "metadata": {},
     "output_type": "execute_result"
    }
   ],
   "source": [
    "df.T"
   ]
  },
  {
   "cell_type": "markdown",
   "metadata": {},
   "source": [
    "#### 与Numpy的互操作  \n",
    "主要数据表中的数据是数值类型，就能无障碍地使用numpy中的按位运算函数`ufunc`比如`np.exp`，`np.sum`，`np.log`，`np.sqrt`等等"
   ]
  },
  {
   "cell_type": "code",
   "execution_count": 116,
   "metadata": {},
   "outputs": [
    {
     "data": {
      "text/html": [
       "<div>\n",
       "<style scoped>\n",
       "    .dataframe tbody tr th:only-of-type {\n",
       "        vertical-align: middle;\n",
       "    }\n",
       "\n",
       "    .dataframe tbody tr th {\n",
       "        vertical-align: top;\n",
       "    }\n",
       "\n",
       "    .dataframe thead th {\n",
       "        text-align: right;\n",
       "    }\n",
       "</style>\n",
       "<table border=\"1\" class=\"dataframe\">\n",
       "  <thead>\n",
       "    <tr style=\"text-align: right;\">\n",
       "      <th></th>\n",
       "      <th>Engineering</th>\n",
       "      <th>English</th>\n",
       "      <th>Management</th>\n",
       "      <th>CS</th>\n",
       "      <th>Mechanics</th>\n",
       "    </tr>\n",
       "  </thead>\n",
       "  <tbody>\n",
       "    <tr>\n",
       "      <th>Li YX</th>\n",
       "      <td>87.171017</td>\n",
       "      <td>82.618671</td>\n",
       "      <td>86.564064</td>\n",
       "      <td>97.390290</td>\n",
       "      <td>92.661575</td>\n",
       "    </tr>\n",
       "    <tr>\n",
       "      <th>Tang KS</th>\n",
       "      <td>88.730482</td>\n",
       "      <td>86.415081</td>\n",
       "      <td>88.584995</td>\n",
       "      <td>84.040796</td>\n",
       "      <td>94.538819</td>\n",
       "    </tr>\n",
       "    <tr>\n",
       "      <th>Wang Q</th>\n",
       "      <td>89.207569</td>\n",
       "      <td>83.321461</td>\n",
       "      <td>86.551515</td>\n",
       "      <td>90.252100</td>\n",
       "      <td>88.161900</td>\n",
       "    </tr>\n",
       "    <tr>\n",
       "      <th>Liu XH</th>\n",
       "      <td>86.874987</td>\n",
       "      <td>90.787517</td>\n",
       "      <td>91.666516</td>\n",
       "      <td>90.393463</td>\n",
       "      <td>88.417848</td>\n",
       "    </tr>\n",
       "  </tbody>\n",
       "</table>\n",
       "</div>"
      ],
      "text/plain": [
       "         Engineering    English  Management         CS  Mechanics\n",
       "Li YX      87.171017  82.618671   86.564064  97.390290  92.661575\n",
       "Tang KS    88.730482  86.415081   88.584995  84.040796  94.538819\n",
       "Wang Q     89.207569  83.321461   86.551515  90.252100  88.161900\n",
       "Liu XH     86.874987  90.787517   91.666516  90.393463  88.417848"
      ]
     },
     "execution_count": 116,
     "metadata": {},
     "output_type": "execute_result"
    }
   ],
   "source": [
    "10*np.sqrt(df)"
   ]
  },
  {
   "cell_type": "code",
   "execution_count": 119,
   "metadata": {},
   "outputs": [
    {
     "name": "stdout",
     "output_type": "stream",
     "text": [
      "0    0.494698\n",
      "1   -0.872681\n",
      "2   -0.660089\n",
      "3    0.677316\n",
      "4    1.098060\n",
      "dtype: float64\n"
     ]
    },
    {
     "data": {
      "text/plain": [
       "3.106507881403395"
      ]
     },
     "execution_count": 119,
     "metadata": {},
     "output_type": "execute_result"
    }
   ],
   "source": [
    "s1=pd.Series(np.random.randn(5))\n",
    "print(s1)\n",
    "s1.dot(s1)#求内积"
   ]
  },
  {
   "cell_type": "markdown",
   "metadata": {},
   "source": [
    "#### 列属性访问  \n",
    "数据表的列名可以像变量名一样，用于访问列"
   ]
  },
  {
   "cell_type": "code",
   "execution_count": 120,
   "metadata": {},
   "outputs": [
    {
     "data": {
      "text/plain": [
       "Li YX      94.848686\n",
       "Tang KS    70.628554\n",
       "Wang Q     81.454416\n",
       "Liu XH     81.709782\n",
       "Name: CS, dtype: float64"
      ]
     },
     "execution_count": 120,
     "metadata": {},
     "output_type": "execute_result"
    }
   ],
   "source": [
    "df.CS"
   ]
  },
  {
   "cell_type": "markdown",
   "metadata": {},
   "source": [
    "## `Pandas`十分钟教程"
   ]
  },
  {
   "cell_type": "markdown",
   "metadata": {},
   "source": [
    "### 对象创建  \n",
    "在数据结构介绍中已经详细介绍了多种`Series`和`DataFrame`的创建方式——我觉得比较好的方式是生成`Series`时使用一维`ndarray`或列表，然后指定index；生成`DataFrame`时使用二维`ndarray`或二维列表，然后指定index与columns。如果要对行列标签有更大的掌控权，比如生成二维的数据表时如果要指定哪些行列处的数据缺失，可以使用字典的字典，或者`Series`的字典"
   ]
  },
  {
   "cell_type": "code",
   "execution_count": 125,
   "metadata": {},
   "outputs": [
    {
     "name": "stdout",
     "output_type": "stream",
     "text": [
      "s1=\n",
      "0    1.0\n",
      "1    4.0\n",
      "2    3.0\n",
      "3    NaN\n",
      "4    6.0\n",
      "5    8.0\n",
      "dtype: float64\n",
      "s2=\n",
      "0    0.832745\n",
      "1    1.104834\n",
      "2    0.883904\n",
      "3    1.908310\n",
      "dtype: float64\n",
      "df1=\n",
      "   one  two  three  four\n",
      "a    1    2      5     8\n",
      "b    2    5      9     3\n",
      "c    7    5      2     0\n",
      "df2=\n",
      "          A         B         C         D         E\n",
      "a  0.707744  0.673457 -0.318665  1.233817  0.285659\n",
      "b -0.282963  1.230763 -0.137744 -1.696618 -1.321815\n",
      "c -1.125456 -1.045406 -0.482601 -0.048063 -0.860286\n",
      "d  0.027825  1.219672 -0.664755 -0.581099  0.747367\n"
     ]
    }
   ],
   "source": [
    "import pandas as pd\n",
    "import numpy as np\n",
    "s1=pd.Series([1,4,3,np.nan,6,8],index=list(range(6)))\n",
    "s2=pd.Series(np.empty(4),index=list(range(4)))\n",
    "df1=pd.DataFrame([[1,2,5,8],[2,5,9,3],[7,5,2,0]],index=['a','b','c'],columns=['one','two','three','four'])\n",
    "df2=pd.DataFrame(np.random.randn(4,5),index=list('abcd'),columns=list('ABCDE'))\n",
    "print('s1=')\n",
    "print(s1)\n",
    "print('s2=')\n",
    "print(s2)\n",
    "print('df1=')\n",
    "print(df1)\n",
    "print('df2=')\n",
    "print(df2)"
   ]
  },
  {
   "cell_type": "markdown",
   "metadata": {},
   "source": [
    "上面已经讲过，`DataFrame`的列可以像变量一样被索引，那么如果列名称刚好和一个变量重名会怎么办?"
   ]
  },
  {
   "cell_type": "code",
   "execution_count": 151,
   "metadata": {},
   "outputs": [
    {
     "data": {
      "text/plain": [
       "a    1\n",
       "b    2\n",
       "c    3\n",
       "Name: assign, dtype: int64"
      ]
     },
     "execution_count": 151,
     "metadata": {},
     "output_type": "execute_result"
    }
   ],
   "source": [
    "df=pd.DataFrame({'assign':{'a':1,'b':2,'c':3},\n",
    "                 'T':{'a':4,'c':7}})\n",
    "#df\n",
    "#df.assign(five=df['assign']+df['T'])\n",
    "df.assign\n",
    "df['assign']\n",
    "#df.T\n",
    "#df['T']"
   ]
  },
  {
   "cell_type": "markdown",
   "metadata": {},
   "source": [
    "> 事实证明，如果列名与变量名或函数名重名，将不能再通过变量方式访问，同名的函数与变量使用不受影响"
   ]
  },
  {
   "cell_type": "markdown",
   "metadata": {},
   "source": [
    "### 数据查看"
   ]
  },
  {
   "cell_type": "markdown",
   "metadata": {},
   "source": [
    "#### 查看首尾部分记录"
   ]
  },
  {
   "cell_type": "code",
   "execution_count": 161,
   "metadata": {},
   "outputs": [
    {
     "data": {
      "text/html": [
       "<div>\n",
       "<style scoped>\n",
       "    .dataframe tbody tr th:only-of-type {\n",
       "        vertical-align: middle;\n",
       "    }\n",
       "\n",
       "    .dataframe tbody tr th {\n",
       "        vertical-align: top;\n",
       "    }\n",
       "\n",
       "    .dataframe thead th {\n",
       "        text-align: right;\n",
       "    }\n",
       "</style>\n",
       "<table border=\"1\" class=\"dataframe\">\n",
       "  <thead>\n",
       "    <tr style=\"text-align: right;\">\n",
       "      <th></th>\n",
       "      <th>A</th>\n",
       "      <th>B</th>\n",
       "      <th>C</th>\n",
       "      <th>D</th>\n",
       "      <th>E</th>\n",
       "    </tr>\n",
       "  </thead>\n",
       "  <tbody>\n",
       "    <tr>\n",
       "      <th>1</th>\n",
       "      <td>-0.062101</td>\n",
       "      <td>-1.078257</td>\n",
       "      <td>1.177289</td>\n",
       "      <td>-0.027442</td>\n",
       "      <td>1.211772</td>\n",
       "    </tr>\n",
       "    <tr>\n",
       "      <th>2</th>\n",
       "      <td>0.103013</td>\n",
       "      <td>0.392008</td>\n",
       "      <td>1.630711</td>\n",
       "      <td>1.274753</td>\n",
       "      <td>0.021503</td>\n",
       "    </tr>\n",
       "    <tr>\n",
       "      <th>3</th>\n",
       "      <td>2.076479</td>\n",
       "      <td>-0.596327</td>\n",
       "      <td>-0.180816</td>\n",
       "      <td>-1.539962</td>\n",
       "      <td>0.900922</td>\n",
       "    </tr>\n",
       "    <tr>\n",
       "      <th>4</th>\n",
       "      <td>-1.089340</td>\n",
       "      <td>-0.616007</td>\n",
       "      <td>0.402037</td>\n",
       "      <td>0.012556</td>\n",
       "      <td>-1.368815</td>\n",
       "    </tr>\n",
       "    <tr>\n",
       "      <th>5</th>\n",
       "      <td>-0.380664</td>\n",
       "      <td>-0.752829</td>\n",
       "      <td>0.286627</td>\n",
       "      <td>-0.660762</td>\n",
       "      <td>0.583335</td>\n",
       "    </tr>\n",
       "  </tbody>\n",
       "</table>\n",
       "</div>"
      ],
      "text/plain": [
       "          A         B         C         D         E\n",
       "1 -0.062101 -1.078257  1.177289 -0.027442  1.211772\n",
       "2  0.103013  0.392008  1.630711  1.274753  0.021503\n",
       "3  2.076479 -0.596327 -0.180816 -1.539962  0.900922\n",
       "4 -1.089340 -0.616007  0.402037  0.012556 -1.368815\n",
       "5 -0.380664 -0.752829  0.286627 -0.660762  0.583335"
      ]
     },
     "execution_count": 161,
     "metadata": {},
     "output_type": "execute_result"
    }
   ],
   "source": [
    "df=pd.DataFrame(np.random.randn(40,5),index=list(range(1,41)),columns=list('ABCDE'))\n",
    "df.head()#默认5条记录"
   ]
  },
  {
   "cell_type": "code",
   "execution_count": 163,
   "metadata": {},
   "outputs": [
    {
     "data": {
      "text/html": [
       "<div>\n",
       "<style scoped>\n",
       "    .dataframe tbody tr th:only-of-type {\n",
       "        vertical-align: middle;\n",
       "    }\n",
       "\n",
       "    .dataframe tbody tr th {\n",
       "        vertical-align: top;\n",
       "    }\n",
       "\n",
       "    .dataframe thead th {\n",
       "        text-align: right;\n",
       "    }\n",
       "</style>\n",
       "<table border=\"1\" class=\"dataframe\">\n",
       "  <thead>\n",
       "    <tr style=\"text-align: right;\">\n",
       "      <th></th>\n",
       "      <th>A</th>\n",
       "      <th>B</th>\n",
       "      <th>C</th>\n",
       "      <th>D</th>\n",
       "      <th>E</th>\n",
       "    </tr>\n",
       "  </thead>\n",
       "  <tbody>\n",
       "    <tr>\n",
       "      <th>1</th>\n",
       "      <td>-0.062101</td>\n",
       "      <td>-1.078257</td>\n",
       "      <td>1.177289</td>\n",
       "      <td>-0.027442</td>\n",
       "      <td>1.211772</td>\n",
       "    </tr>\n",
       "    <tr>\n",
       "      <th>2</th>\n",
       "      <td>0.103013</td>\n",
       "      <td>0.392008</td>\n",
       "      <td>1.630711</td>\n",
       "      <td>1.274753</td>\n",
       "      <td>0.021503</td>\n",
       "    </tr>\n",
       "    <tr>\n",
       "      <th>3</th>\n",
       "      <td>2.076479</td>\n",
       "      <td>-0.596327</td>\n",
       "      <td>-0.180816</td>\n",
       "      <td>-1.539962</td>\n",
       "      <td>0.900922</td>\n",
       "    </tr>\n",
       "  </tbody>\n",
       "</table>\n",
       "</div>"
      ],
      "text/plain": [
       "          A         B         C         D         E\n",
       "1 -0.062101 -1.078257  1.177289 -0.027442  1.211772\n",
       "2  0.103013  0.392008  1.630711  1.274753  0.021503\n",
       "3  2.076479 -0.596327 -0.180816 -1.539962  0.900922"
      ]
     },
     "execution_count": 163,
     "metadata": {},
     "output_type": "execute_result"
    }
   ],
   "source": [
    "df.head(3)"
   ]
  },
  {
   "cell_type": "code",
   "execution_count": 164,
   "metadata": {},
   "outputs": [
    {
     "data": {
      "text/html": [
       "<div>\n",
       "<style scoped>\n",
       "    .dataframe tbody tr th:only-of-type {\n",
       "        vertical-align: middle;\n",
       "    }\n",
       "\n",
       "    .dataframe tbody tr th {\n",
       "        vertical-align: top;\n",
       "    }\n",
       "\n",
       "    .dataframe thead th {\n",
       "        text-align: right;\n",
       "    }\n",
       "</style>\n",
       "<table border=\"1\" class=\"dataframe\">\n",
       "  <thead>\n",
       "    <tr style=\"text-align: right;\">\n",
       "      <th></th>\n",
       "      <th>A</th>\n",
       "      <th>B</th>\n",
       "      <th>C</th>\n",
       "      <th>D</th>\n",
       "      <th>E</th>\n",
       "    </tr>\n",
       "  </thead>\n",
       "  <tbody>\n",
       "    <tr>\n",
       "      <th>36</th>\n",
       "      <td>0.435087</td>\n",
       "      <td>0.796471</td>\n",
       "      <td>0.366780</td>\n",
       "      <td>-0.388796</td>\n",
       "      <td>0.168838</td>\n",
       "    </tr>\n",
       "    <tr>\n",
       "      <th>37</th>\n",
       "      <td>0.760828</td>\n",
       "      <td>0.063407</td>\n",
       "      <td>-0.523649</td>\n",
       "      <td>-0.021345</td>\n",
       "      <td>-1.238092</td>\n",
       "    </tr>\n",
       "    <tr>\n",
       "      <th>38</th>\n",
       "      <td>-1.429357</td>\n",
       "      <td>0.744888</td>\n",
       "      <td>0.135597</td>\n",
       "      <td>0.237871</td>\n",
       "      <td>0.721818</td>\n",
       "    </tr>\n",
       "    <tr>\n",
       "      <th>39</th>\n",
       "      <td>0.681052</td>\n",
       "      <td>0.120146</td>\n",
       "      <td>-0.341561</td>\n",
       "      <td>-0.074470</td>\n",
       "      <td>2.644202</td>\n",
       "    </tr>\n",
       "    <tr>\n",
       "      <th>40</th>\n",
       "      <td>0.487668</td>\n",
       "      <td>3.104073</td>\n",
       "      <td>0.706086</td>\n",
       "      <td>0.885964</td>\n",
       "      <td>0.344888</td>\n",
       "    </tr>\n",
       "  </tbody>\n",
       "</table>\n",
       "</div>"
      ],
      "text/plain": [
       "           A         B         C         D         E\n",
       "36  0.435087  0.796471  0.366780 -0.388796  0.168838\n",
       "37  0.760828  0.063407 -0.523649 -0.021345 -1.238092\n",
       "38 -1.429357  0.744888  0.135597  0.237871  0.721818\n",
       "39  0.681052  0.120146 -0.341561 -0.074470  2.644202\n",
       "40  0.487668  3.104073  0.706086  0.885964  0.344888"
      ]
     },
     "execution_count": 164,
     "metadata": {},
     "output_type": "execute_result"
    }
   ],
   "source": [
    "df.tail()"
   ]
  },
  {
   "cell_type": "markdown",
   "metadata": {},
   "source": [
    "#### 查看表的行列号"
   ]
  },
  {
   "cell_type": "code",
   "execution_count": 165,
   "metadata": {},
   "outputs": [
    {
     "data": {
      "text/plain": [
       "Int64Index([ 1,  2,  3,  4,  5,  6,  7,  8,  9, 10, 11, 12, 13, 14, 15, 16, 17,\n",
       "            18, 19, 20, 21, 22, 23, 24, 25, 26, 27, 28, 29, 30, 31, 32, 33, 34,\n",
       "            35, 36, 37, 38, 39, 40],\n",
       "           dtype='int64')"
      ]
     },
     "execution_count": 165,
     "metadata": {},
     "output_type": "execute_result"
    }
   ],
   "source": [
    "df.index"
   ]
  },
  {
   "cell_type": "code",
   "execution_count": 166,
   "metadata": {},
   "outputs": [
    {
     "data": {
      "text/plain": [
       "Index(['A', 'B', 'C', 'D', 'E'], dtype='object')"
      ]
     },
     "execution_count": 166,
     "metadata": {},
     "output_type": "execute_result"
    }
   ],
   "source": [
    "df.columns"
   ]
  },
  {
   "cell_type": "markdown",
   "metadata": {},
   "source": [
    "#### 查看表的基本统计信息"
   ]
  },
  {
   "cell_type": "code",
   "execution_count": 167,
   "metadata": {},
   "outputs": [
    {
     "data": {
      "text/html": [
       "<div>\n",
       "<style scoped>\n",
       "    .dataframe tbody tr th:only-of-type {\n",
       "        vertical-align: middle;\n",
       "    }\n",
       "\n",
       "    .dataframe tbody tr th {\n",
       "        vertical-align: top;\n",
       "    }\n",
       "\n",
       "    .dataframe thead th {\n",
       "        text-align: right;\n",
       "    }\n",
       "</style>\n",
       "<table border=\"1\" class=\"dataframe\">\n",
       "  <thead>\n",
       "    <tr style=\"text-align: right;\">\n",
       "      <th></th>\n",
       "      <th>A</th>\n",
       "      <th>B</th>\n",
       "      <th>C</th>\n",
       "      <th>D</th>\n",
       "      <th>E</th>\n",
       "    </tr>\n",
       "  </thead>\n",
       "  <tbody>\n",
       "    <tr>\n",
       "      <th>count</th>\n",
       "      <td>40.000000</td>\n",
       "      <td>40.000000</td>\n",
       "      <td>40.000000</td>\n",
       "      <td>40.000000</td>\n",
       "      <td>40.000000</td>\n",
       "    </tr>\n",
       "    <tr>\n",
       "      <th>mean</th>\n",
       "      <td>0.166118</td>\n",
       "      <td>0.098793</td>\n",
       "      <td>-0.058017</td>\n",
       "      <td>-0.341744</td>\n",
       "      <td>-0.089269</td>\n",
       "    </tr>\n",
       "    <tr>\n",
       "      <th>std</th>\n",
       "      <td>0.926913</td>\n",
       "      <td>1.045696</td>\n",
       "      <td>1.210106</td>\n",
       "      <td>0.797258</td>\n",
       "      <td>0.978599</td>\n",
       "    </tr>\n",
       "    <tr>\n",
       "      <th>min</th>\n",
       "      <td>-1.696426</td>\n",
       "      <td>-1.764623</td>\n",
       "      <td>-2.926615</td>\n",
       "      <td>-2.001535</td>\n",
       "      <td>-2.018404</td>\n",
       "    </tr>\n",
       "    <tr>\n",
       "      <th>25%</th>\n",
       "      <td>-0.433330</td>\n",
       "      <td>-0.601247</td>\n",
       "      <td>-0.803333</td>\n",
       "      <td>-0.739267</td>\n",
       "      <td>-0.861654</td>\n",
       "    </tr>\n",
       "    <tr>\n",
       "      <th>50%</th>\n",
       "      <td>0.206066</td>\n",
       "      <td>0.053874</td>\n",
       "      <td>0.211112</td>\n",
       "      <td>-0.221885</td>\n",
       "      <td>-0.014662</td>\n",
       "    </tr>\n",
       "    <tr>\n",
       "      <th>75%</th>\n",
       "      <td>0.735050</td>\n",
       "      <td>0.796908</td>\n",
       "      <td>0.685702</td>\n",
       "      <td>0.171243</td>\n",
       "      <td>0.635587</td>\n",
       "    </tr>\n",
       "    <tr>\n",
       "      <th>max</th>\n",
       "      <td>2.076479</td>\n",
       "      <td>3.104073</td>\n",
       "      <td>1.854809</td>\n",
       "      <td>1.274753</td>\n",
       "      <td>2.644202</td>\n",
       "    </tr>\n",
       "  </tbody>\n",
       "</table>\n",
       "</div>"
      ],
      "text/plain": [
       "               A          B          C          D          E\n",
       "count  40.000000  40.000000  40.000000  40.000000  40.000000\n",
       "mean    0.166118   0.098793  -0.058017  -0.341744  -0.089269\n",
       "std     0.926913   1.045696   1.210106   0.797258   0.978599\n",
       "min    -1.696426  -1.764623  -2.926615  -2.001535  -2.018404\n",
       "25%    -0.433330  -0.601247  -0.803333  -0.739267  -0.861654\n",
       "50%     0.206066   0.053874   0.211112  -0.221885  -0.014662\n",
       "75%     0.735050   0.796908   0.685702   0.171243   0.635587\n",
       "max     2.076479   3.104073   1.854809   1.274753   2.644202"
      ]
     },
     "execution_count": 167,
     "metadata": {},
     "output_type": "execute_result"
    }
   ],
   "source": [
    "df.describe()"
   ]
  },
  {
   "cell_type": "code",
   "execution_count": 168,
   "metadata": {},
   "outputs": [
    {
     "data": {
      "text/plain": [
       "A    0.926913\n",
       "B    1.045696\n",
       "C    1.210106\n",
       "D    0.797258\n",
       "E    0.978599\n",
       "Name: std, dtype: float64"
      ]
     },
     "execution_count": 168,
     "metadata": {},
     "output_type": "execute_result"
    }
   ],
   "source": [
    "df.describe().loc['std']"
   ]
  },
  {
   "cell_type": "markdown",
   "metadata": {},
   "source": [
    "#### 转置"
   ]
  },
  {
   "cell_type": "code",
   "execution_count": 169,
   "metadata": {},
   "outputs": [
    {
     "data": {
      "text/html": [
       "<div>\n",
       "<style scoped>\n",
       "    .dataframe tbody tr th:only-of-type {\n",
       "        vertical-align: middle;\n",
       "    }\n",
       "\n",
       "    .dataframe tbody tr th {\n",
       "        vertical-align: top;\n",
       "    }\n",
       "\n",
       "    .dataframe thead th {\n",
       "        text-align: right;\n",
       "    }\n",
       "</style>\n",
       "<table border=\"1\" class=\"dataframe\">\n",
       "  <thead>\n",
       "    <tr style=\"text-align: right;\">\n",
       "      <th></th>\n",
       "      <th>1</th>\n",
       "      <th>2</th>\n",
       "      <th>3</th>\n",
       "      <th>4</th>\n",
       "      <th>5</th>\n",
       "      <th>6</th>\n",
       "      <th>7</th>\n",
       "      <th>8</th>\n",
       "      <th>9</th>\n",
       "      <th>10</th>\n",
       "      <th>...</th>\n",
       "      <th>31</th>\n",
       "      <th>32</th>\n",
       "      <th>33</th>\n",
       "      <th>34</th>\n",
       "      <th>35</th>\n",
       "      <th>36</th>\n",
       "      <th>37</th>\n",
       "      <th>38</th>\n",
       "      <th>39</th>\n",
       "      <th>40</th>\n",
       "    </tr>\n",
       "  </thead>\n",
       "  <tbody>\n",
       "    <tr>\n",
       "      <th>A</th>\n",
       "      <td>-0.062101</td>\n",
       "      <td>0.103013</td>\n",
       "      <td>2.076479</td>\n",
       "      <td>-1.089340</td>\n",
       "      <td>-0.380664</td>\n",
       "      <td>-1.378901</td>\n",
       "      <td>0.561948</td>\n",
       "      <td>0.314089</td>\n",
       "      <td>-1.596442</td>\n",
       "      <td>1.299213</td>\n",
       "      <td>...</td>\n",
       "      <td>0.703694</td>\n",
       "      <td>-0.274134</td>\n",
       "      <td>0.870909</td>\n",
       "      <td>-0.549939</td>\n",
       "      <td>-1.020007</td>\n",
       "      <td>0.435087</td>\n",
       "      <td>0.760828</td>\n",
       "      <td>-1.429357</td>\n",
       "      <td>0.681052</td>\n",
       "      <td>0.487668</td>\n",
       "    </tr>\n",
       "    <tr>\n",
       "      <th>B</th>\n",
       "      <td>-1.078257</td>\n",
       "      <td>0.392008</td>\n",
       "      <td>-0.596327</td>\n",
       "      <td>-0.616007</td>\n",
       "      <td>-0.752829</td>\n",
       "      <td>-1.296149</td>\n",
       "      <td>-0.134572</td>\n",
       "      <td>0.264684</td>\n",
       "      <td>-1.322799</td>\n",
       "      <td>-0.109218</td>\n",
       "      <td>...</td>\n",
       "      <td>-0.482973</td>\n",
       "      <td>-1.405206</td>\n",
       "      <td>0.236889</td>\n",
       "      <td>0.951827</td>\n",
       "      <td>-0.022907</td>\n",
       "      <td>0.796471</td>\n",
       "      <td>0.063407</td>\n",
       "      <td>0.744888</td>\n",
       "      <td>0.120146</td>\n",
       "      <td>3.104073</td>\n",
       "    </tr>\n",
       "    <tr>\n",
       "      <th>C</th>\n",
       "      <td>1.177289</td>\n",
       "      <td>1.630711</td>\n",
       "      <td>-0.180816</td>\n",
       "      <td>0.402037</td>\n",
       "      <td>0.286627</td>\n",
       "      <td>0.678908</td>\n",
       "      <td>-0.767582</td>\n",
       "      <td>-0.910587</td>\n",
       "      <td>-2.426908</td>\n",
       "      <td>-2.303974</td>\n",
       "      <td>...</td>\n",
       "      <td>-1.591000</td>\n",
       "      <td>1.758062</td>\n",
       "      <td>1.854809</td>\n",
       "      <td>-1.174188</td>\n",
       "      <td>-1.254712</td>\n",
       "      <td>0.366780</td>\n",
       "      <td>-0.523649</td>\n",
       "      <td>0.135597</td>\n",
       "      <td>-0.341561</td>\n",
       "      <td>0.706086</td>\n",
       "    </tr>\n",
       "    <tr>\n",
       "      <th>D</th>\n",
       "      <td>-0.027442</td>\n",
       "      <td>1.274753</td>\n",
       "      <td>-1.539962</td>\n",
       "      <td>0.012556</td>\n",
       "      <td>-0.660762</td>\n",
       "      <td>-0.609406</td>\n",
       "      <td>0.714209</td>\n",
       "      <td>-0.993118</td>\n",
       "      <td>0.527024</td>\n",
       "      <td>-1.838867</td>\n",
       "      <td>...</td>\n",
       "      <td>-0.272210</td>\n",
       "      <td>-0.008618</td>\n",
       "      <td>-1.601432</td>\n",
       "      <td>-1.841561</td>\n",
       "      <td>0.106945</td>\n",
       "      <td>-0.388796</td>\n",
       "      <td>-0.021345</td>\n",
       "      <td>0.237871</td>\n",
       "      <td>-0.074470</td>\n",
       "      <td>0.885964</td>\n",
       "    </tr>\n",
       "    <tr>\n",
       "      <th>E</th>\n",
       "      <td>1.211772</td>\n",
       "      <td>0.021503</td>\n",
       "      <td>0.900922</td>\n",
       "      <td>-1.368815</td>\n",
       "      <td>0.583335</td>\n",
       "      <td>0.635168</td>\n",
       "      <td>0.067721</td>\n",
       "      <td>-2.018404</td>\n",
       "      <td>-0.403593</td>\n",
       "      <td>-0.550381</td>\n",
       "      <td>...</td>\n",
       "      <td>-0.668063</td>\n",
       "      <td>-0.664433</td>\n",
       "      <td>-0.577484</td>\n",
       "      <td>-1.132124</td>\n",
       "      <td>0.813831</td>\n",
       "      <td>0.168838</td>\n",
       "      <td>-1.238092</td>\n",
       "      <td>0.721818</td>\n",
       "      <td>2.644202</td>\n",
       "      <td>0.344888</td>\n",
       "    </tr>\n",
       "  </tbody>\n",
       "</table>\n",
       "<p>5 rows × 40 columns</p>\n",
       "</div>"
      ],
      "text/plain": [
       "         1         2         3         4         5         6         7   \\\n",
       "A -0.062101  0.103013  2.076479 -1.089340 -0.380664 -1.378901  0.561948   \n",
       "B -1.078257  0.392008 -0.596327 -0.616007 -0.752829 -1.296149 -0.134572   \n",
       "C  1.177289  1.630711 -0.180816  0.402037  0.286627  0.678908 -0.767582   \n",
       "D -0.027442  1.274753 -1.539962  0.012556 -0.660762 -0.609406  0.714209   \n",
       "E  1.211772  0.021503  0.900922 -1.368815  0.583335  0.635168  0.067721   \n",
       "\n",
       "         8         9         10    ...           31        32        33  \\\n",
       "A  0.314089 -1.596442  1.299213    ...     0.703694 -0.274134  0.870909   \n",
       "B  0.264684 -1.322799 -0.109218    ...    -0.482973 -1.405206  0.236889   \n",
       "C -0.910587 -2.426908 -2.303974    ...    -1.591000  1.758062  1.854809   \n",
       "D -0.993118  0.527024 -1.838867    ...    -0.272210 -0.008618 -1.601432   \n",
       "E -2.018404 -0.403593 -0.550381    ...    -0.668063 -0.664433 -0.577484   \n",
       "\n",
       "         34        35        36        37        38        39        40  \n",
       "A -0.549939 -1.020007  0.435087  0.760828 -1.429357  0.681052  0.487668  \n",
       "B  0.951827 -0.022907  0.796471  0.063407  0.744888  0.120146  3.104073  \n",
       "C -1.174188 -1.254712  0.366780 -0.523649  0.135597 -0.341561  0.706086  \n",
       "D -1.841561  0.106945 -0.388796 -0.021345  0.237871 -0.074470  0.885964  \n",
       "E -1.132124  0.813831  0.168838 -1.238092  0.721818  2.644202  0.344888  \n",
       "\n",
       "[5 rows x 40 columns]"
      ]
     },
     "execution_count": 169,
     "metadata": {},
     "output_type": "execute_result"
    }
   ],
   "source": [
    "df.T"
   ]
  },
  {
   "cell_type": "code",
   "execution_count": 170,
   "metadata": {},
   "outputs": [
    {
     "data": {
      "text/html": [
       "<div>\n",
       "<style scoped>\n",
       "    .dataframe tbody tr th:only-of-type {\n",
       "        vertical-align: middle;\n",
       "    }\n",
       "\n",
       "    .dataframe tbody tr th {\n",
       "        vertical-align: top;\n",
       "    }\n",
       "\n",
       "    .dataframe thead th {\n",
       "        text-align: right;\n",
       "    }\n",
       "</style>\n",
       "<table border=\"1\" class=\"dataframe\">\n",
       "  <thead>\n",
       "    <tr style=\"text-align: right;\">\n",
       "      <th></th>\n",
       "      <th>1</th>\n",
       "      <th>2</th>\n",
       "      <th>3</th>\n",
       "      <th>4</th>\n",
       "      <th>5</th>\n",
       "      <th>6</th>\n",
       "      <th>7</th>\n",
       "      <th>8</th>\n",
       "      <th>9</th>\n",
       "      <th>10</th>\n",
       "      <th>...</th>\n",
       "      <th>31</th>\n",
       "      <th>32</th>\n",
       "      <th>33</th>\n",
       "      <th>34</th>\n",
       "      <th>35</th>\n",
       "      <th>36</th>\n",
       "      <th>37</th>\n",
       "      <th>38</th>\n",
       "      <th>39</th>\n",
       "      <th>40</th>\n",
       "    </tr>\n",
       "  </thead>\n",
       "  <tbody>\n",
       "    <tr>\n",
       "      <th>A</th>\n",
       "      <td>-0.062101</td>\n",
       "      <td>0.103013</td>\n",
       "      <td>2.076479</td>\n",
       "      <td>-1.089340</td>\n",
       "      <td>-0.380664</td>\n",
       "      <td>-1.378901</td>\n",
       "      <td>0.561948</td>\n",
       "      <td>0.314089</td>\n",
       "      <td>-1.596442</td>\n",
       "      <td>1.299213</td>\n",
       "      <td>...</td>\n",
       "      <td>0.703694</td>\n",
       "      <td>-0.274134</td>\n",
       "      <td>0.870909</td>\n",
       "      <td>-0.549939</td>\n",
       "      <td>-1.020007</td>\n",
       "      <td>0.435087</td>\n",
       "      <td>0.760828</td>\n",
       "      <td>-1.429357</td>\n",
       "      <td>0.681052</td>\n",
       "      <td>0.487668</td>\n",
       "    </tr>\n",
       "    <tr>\n",
       "      <th>B</th>\n",
       "      <td>-1.078257</td>\n",
       "      <td>0.392008</td>\n",
       "      <td>-0.596327</td>\n",
       "      <td>-0.616007</td>\n",
       "      <td>-0.752829</td>\n",
       "      <td>-1.296149</td>\n",
       "      <td>-0.134572</td>\n",
       "      <td>0.264684</td>\n",
       "      <td>-1.322799</td>\n",
       "      <td>-0.109218</td>\n",
       "      <td>...</td>\n",
       "      <td>-0.482973</td>\n",
       "      <td>-1.405206</td>\n",
       "      <td>0.236889</td>\n",
       "      <td>0.951827</td>\n",
       "      <td>-0.022907</td>\n",
       "      <td>0.796471</td>\n",
       "      <td>0.063407</td>\n",
       "      <td>0.744888</td>\n",
       "      <td>0.120146</td>\n",
       "      <td>3.104073</td>\n",
       "    </tr>\n",
       "    <tr>\n",
       "      <th>C</th>\n",
       "      <td>1.177289</td>\n",
       "      <td>1.630711</td>\n",
       "      <td>-0.180816</td>\n",
       "      <td>0.402037</td>\n",
       "      <td>0.286627</td>\n",
       "      <td>0.678908</td>\n",
       "      <td>-0.767582</td>\n",
       "      <td>-0.910587</td>\n",
       "      <td>-2.426908</td>\n",
       "      <td>-2.303974</td>\n",
       "      <td>...</td>\n",
       "      <td>-1.591000</td>\n",
       "      <td>1.758062</td>\n",
       "      <td>1.854809</td>\n",
       "      <td>-1.174188</td>\n",
       "      <td>-1.254712</td>\n",
       "      <td>0.366780</td>\n",
       "      <td>-0.523649</td>\n",
       "      <td>0.135597</td>\n",
       "      <td>-0.341561</td>\n",
       "      <td>0.706086</td>\n",
       "    </tr>\n",
       "    <tr>\n",
       "      <th>D</th>\n",
       "      <td>-0.027442</td>\n",
       "      <td>1.274753</td>\n",
       "      <td>-1.539962</td>\n",
       "      <td>0.012556</td>\n",
       "      <td>-0.660762</td>\n",
       "      <td>-0.609406</td>\n",
       "      <td>0.714209</td>\n",
       "      <td>-0.993118</td>\n",
       "      <td>0.527024</td>\n",
       "      <td>-1.838867</td>\n",
       "      <td>...</td>\n",
       "      <td>-0.272210</td>\n",
       "      <td>-0.008618</td>\n",
       "      <td>-1.601432</td>\n",
       "      <td>-1.841561</td>\n",
       "      <td>0.106945</td>\n",
       "      <td>-0.388796</td>\n",
       "      <td>-0.021345</td>\n",
       "      <td>0.237871</td>\n",
       "      <td>-0.074470</td>\n",
       "      <td>0.885964</td>\n",
       "    </tr>\n",
       "    <tr>\n",
       "      <th>E</th>\n",
       "      <td>1.211772</td>\n",
       "      <td>0.021503</td>\n",
       "      <td>0.900922</td>\n",
       "      <td>-1.368815</td>\n",
       "      <td>0.583335</td>\n",
       "      <td>0.635168</td>\n",
       "      <td>0.067721</td>\n",
       "      <td>-2.018404</td>\n",
       "      <td>-0.403593</td>\n",
       "      <td>-0.550381</td>\n",
       "      <td>...</td>\n",
       "      <td>-0.668063</td>\n",
       "      <td>-0.664433</td>\n",
       "      <td>-0.577484</td>\n",
       "      <td>-1.132124</td>\n",
       "      <td>0.813831</td>\n",
       "      <td>0.168838</td>\n",
       "      <td>-1.238092</td>\n",
       "      <td>0.721818</td>\n",
       "      <td>2.644202</td>\n",
       "      <td>0.344888</td>\n",
       "    </tr>\n",
       "  </tbody>\n",
       "</table>\n",
       "<p>5 rows × 40 columns</p>\n",
       "</div>"
      ],
      "text/plain": [
       "         1         2         3         4         5         6         7   \\\n",
       "A -0.062101  0.103013  2.076479 -1.089340 -0.380664 -1.378901  0.561948   \n",
       "B -1.078257  0.392008 -0.596327 -0.616007 -0.752829 -1.296149 -0.134572   \n",
       "C  1.177289  1.630711 -0.180816  0.402037  0.286627  0.678908 -0.767582   \n",
       "D -0.027442  1.274753 -1.539962  0.012556 -0.660762 -0.609406  0.714209   \n",
       "E  1.211772  0.021503  0.900922 -1.368815  0.583335  0.635168  0.067721   \n",
       "\n",
       "         8         9         10    ...           31        32        33  \\\n",
       "A  0.314089 -1.596442  1.299213    ...     0.703694 -0.274134  0.870909   \n",
       "B  0.264684 -1.322799 -0.109218    ...    -0.482973 -1.405206  0.236889   \n",
       "C -0.910587 -2.426908 -2.303974    ...    -1.591000  1.758062  1.854809   \n",
       "D -0.993118  0.527024 -1.838867    ...    -0.272210 -0.008618 -1.601432   \n",
       "E -2.018404 -0.403593 -0.550381    ...    -0.668063 -0.664433 -0.577484   \n",
       "\n",
       "         34        35        36        37        38        39        40  \n",
       "A -0.549939 -1.020007  0.435087  0.760828 -1.429357  0.681052  0.487668  \n",
       "B  0.951827 -0.022907  0.796471  0.063407  0.744888  0.120146  3.104073  \n",
       "C -1.174188 -1.254712  0.366780 -0.523649  0.135597 -0.341561  0.706086  \n",
       "D -1.841561  0.106945 -0.388796 -0.021345  0.237871 -0.074470  0.885964  \n",
       "E -1.132124  0.813831  0.168838 -1.238092  0.721818  2.644202  0.344888  \n",
       "\n",
       "[5 rows x 40 columns]"
      ]
     },
     "execution_count": 170,
     "metadata": {},
     "output_type": "execute_result"
    }
   ],
   "source": [
    "df.transpose()"
   ]
  },
  {
   "cell_type": "markdown",
   "metadata": {},
   "source": [
    "#### 排序"
   ]
  },
  {
   "cell_type": "code",
   "execution_count": 172,
   "metadata": {},
   "outputs": [
    {
     "data": {
      "text/html": [
       "<div>\n",
       "<style scoped>\n",
       "    .dataframe tbody tr th:only-of-type {\n",
       "        vertical-align: middle;\n",
       "    }\n",
       "\n",
       "    .dataframe tbody tr th {\n",
       "        vertical-align: top;\n",
       "    }\n",
       "\n",
       "    .dataframe thead th {\n",
       "        text-align: right;\n",
       "    }\n",
       "</style>\n",
       "<table border=\"1\" class=\"dataframe\">\n",
       "  <thead>\n",
       "    <tr style=\"text-align: right;\">\n",
       "      <th></th>\n",
       "      <th>E</th>\n",
       "      <th>D</th>\n",
       "      <th>C</th>\n",
       "      <th>B</th>\n",
       "      <th>A</th>\n",
       "    </tr>\n",
       "  </thead>\n",
       "  <tbody>\n",
       "    <tr>\n",
       "      <th>1</th>\n",
       "      <td>1.211772</td>\n",
       "      <td>-0.027442</td>\n",
       "      <td>1.177289</td>\n",
       "      <td>-1.078257</td>\n",
       "      <td>-0.062101</td>\n",
       "    </tr>\n",
       "    <tr>\n",
       "      <th>2</th>\n",
       "      <td>0.021503</td>\n",
       "      <td>1.274753</td>\n",
       "      <td>1.630711</td>\n",
       "      <td>0.392008</td>\n",
       "      <td>0.103013</td>\n",
       "    </tr>\n",
       "    <tr>\n",
       "      <th>3</th>\n",
       "      <td>0.900922</td>\n",
       "      <td>-1.539962</td>\n",
       "      <td>-0.180816</td>\n",
       "      <td>-0.596327</td>\n",
       "      <td>2.076479</td>\n",
       "    </tr>\n",
       "    <tr>\n",
       "      <th>4</th>\n",
       "      <td>-1.368815</td>\n",
       "      <td>0.012556</td>\n",
       "      <td>0.402037</td>\n",
       "      <td>-0.616007</td>\n",
       "      <td>-1.089340</td>\n",
       "    </tr>\n",
       "    <tr>\n",
       "      <th>5</th>\n",
       "      <td>0.583335</td>\n",
       "      <td>-0.660762</td>\n",
       "      <td>0.286627</td>\n",
       "      <td>-0.752829</td>\n",
       "      <td>-0.380664</td>\n",
       "    </tr>\n",
       "  </tbody>\n",
       "</table>\n",
       "</div>"
      ],
      "text/plain": [
       "          E         D         C         B         A\n",
       "1  1.211772 -0.027442  1.177289 -1.078257 -0.062101\n",
       "2  0.021503  1.274753  1.630711  0.392008  0.103013\n",
       "3  0.900922 -1.539962 -0.180816 -0.596327  2.076479\n",
       "4 -1.368815  0.012556  0.402037 -0.616007 -1.089340\n",
       "5  0.583335 -0.660762  0.286627 -0.752829 -0.380664"
      ]
     },
     "execution_count": 172,
     "metadata": {},
     "output_type": "execute_result"
    }
   ],
   "source": [
    "df.sort_index(axis=1,ascending=False).head()"
   ]
  },
  {
   "cell_type": "code",
   "execution_count": 173,
   "metadata": {},
   "outputs": [
    {
     "data": {
      "text/html": [
       "<div>\n",
       "<style scoped>\n",
       "    .dataframe tbody tr th:only-of-type {\n",
       "        vertical-align: middle;\n",
       "    }\n",
       "\n",
       "    .dataframe tbody tr th {\n",
       "        vertical-align: top;\n",
       "    }\n",
       "\n",
       "    .dataframe thead th {\n",
       "        text-align: right;\n",
       "    }\n",
       "</style>\n",
       "<table border=\"1\" class=\"dataframe\">\n",
       "  <thead>\n",
       "    <tr style=\"text-align: right;\">\n",
       "      <th></th>\n",
       "      <th>A</th>\n",
       "      <th>B</th>\n",
       "      <th>C</th>\n",
       "      <th>D</th>\n",
       "      <th>E</th>\n",
       "    </tr>\n",
       "  </thead>\n",
       "  <tbody>\n",
       "    <tr>\n",
       "      <th>3</th>\n",
       "      <td>2.076479</td>\n",
       "      <td>-0.596327</td>\n",
       "      <td>-0.180816</td>\n",
       "      <td>-1.539962</td>\n",
       "      <td>0.900922</td>\n",
       "    </tr>\n",
       "    <tr>\n",
       "      <th>11</th>\n",
       "      <td>1.798114</td>\n",
       "      <td>-0.581744</td>\n",
       "      <td>-0.000794</td>\n",
       "      <td>-0.734695</td>\n",
       "      <td>1.707054</td>\n",
       "    </tr>\n",
       "    <tr>\n",
       "      <th>13</th>\n",
       "      <td>1.494819</td>\n",
       "      <td>0.818553</td>\n",
       "      <td>-1.321054</td>\n",
       "      <td>-0.508548</td>\n",
       "      <td>-0.847334</td>\n",
       "    </tr>\n",
       "    <tr>\n",
       "      <th>20</th>\n",
       "      <td>1.435224</td>\n",
       "      <td>0.878503</td>\n",
       "      <td>0.378203</td>\n",
       "      <td>0.286078</td>\n",
       "      <td>-0.943247</td>\n",
       "    </tr>\n",
       "    <tr>\n",
       "      <th>10</th>\n",
       "      <td>1.299213</td>\n",
       "      <td>-0.109218</td>\n",
       "      <td>-2.303974</td>\n",
       "      <td>-1.838867</td>\n",
       "      <td>-0.550381</td>\n",
       "    </tr>\n",
       "    <tr>\n",
       "      <th>15</th>\n",
       "      <td>1.259794</td>\n",
       "      <td>0.457626</td>\n",
       "      <td>0.104392</td>\n",
       "      <td>-0.038785</td>\n",
       "      <td>0.636846</td>\n",
       "    </tr>\n",
       "    <tr>\n",
       "      <th>30</th>\n",
       "      <td>1.058007</td>\n",
       "      <td>-0.061558</td>\n",
       "      <td>0.380465</td>\n",
       "      <td>-0.660160</td>\n",
       "      <td>0.991072</td>\n",
       "    </tr>\n",
       "  </tbody>\n",
       "</table>\n",
       "</div>"
      ],
      "text/plain": [
       "           A         B         C         D         E\n",
       "3   2.076479 -0.596327 -0.180816 -1.539962  0.900922\n",
       "11  1.798114 -0.581744 -0.000794 -0.734695  1.707054\n",
       "13  1.494819  0.818553 -1.321054 -0.508548 -0.847334\n",
       "20  1.435224  0.878503  0.378203  0.286078 -0.943247\n",
       "10  1.299213 -0.109218 -2.303974 -1.838867 -0.550381\n",
       "15  1.259794  0.457626  0.104392 -0.038785  0.636846\n",
       "30  1.058007 -0.061558  0.380465 -0.660160  0.991072"
      ]
     },
     "execution_count": 173,
     "metadata": {},
     "output_type": "execute_result"
    }
   ],
   "source": [
    "df.sort_values(by='A',ascending=False).head(7)"
   ]
  },
  {
   "cell_type": "markdown",
   "metadata": {},
   "source": [
    "### 数据读写"
   ]
  },
  {
   "cell_type": "markdown",
   "metadata": {},
   "source": [
    "#### 数据访问  \n",
    "前面数据结构的部分已经讲了`[]`方式索引列、行切片、布尔值索引，以及使用`loc[]`方式的按名索引行和使用`iloc[]`的按序号索引行；总结来说：  \n",
    "- `[]`更像是一种直观的、快捷的索引方式，但是相对来说一个语境一个语法，缺乏规则性，各个用法能记住最好\n",
    "- `loc[]`是标签索引，用标签来索引行、列，用逗号分开行、列的标签，还可以进行切片，基本与直观的意思无差别\n",
    "- `iloc[]`是序号索引，使用行列序号来进行索引，用逗号隔开行、列索引，其用法与matlab几乎雷同，对于matlab用户来说简直就是breeze\n",
    "- `at[]`就像是`loc[]`的mini版，使用行列标签进行索引，区别是不可以进行切片，只能用来索引单个值\n",
    "- `iat[]`同样的是`iloc[]`的mini版，用序号来索引单个值；  \n",
    "\n",
    "之所以有`at[]`和`iat[]`可能是进行了某种的优化使其访问速度大大提升，官方建议**生产代码使用优化过的pandas数据访问函数`at[]`，`iat[]`，`loc[]`，`iloc[]`**，这样，一般情况下记住：**`loc[]`按标签索引与切片，`iloc[]`按序号索引与切片，`[]`使用布尔值索引**  "
   ]
  },
  {
   "cell_type": "code",
   "execution_count": 174,
   "metadata": {},
   "outputs": [
    {
     "data": {
      "text/html": [
       "<div>\n",
       "<style scoped>\n",
       "    .dataframe tbody tr th:only-of-type {\n",
       "        vertical-align: middle;\n",
       "    }\n",
       "\n",
       "    .dataframe tbody tr th {\n",
       "        vertical-align: top;\n",
       "    }\n",
       "\n",
       "    .dataframe thead th {\n",
       "        text-align: right;\n",
       "    }\n",
       "</style>\n",
       "<table border=\"1\" class=\"dataframe\">\n",
       "  <thead>\n",
       "    <tr style=\"text-align: right;\">\n",
       "      <th></th>\n",
       "      <th>E</th>\n",
       "      <th>D</th>\n",
       "      <th>C</th>\n",
       "      <th>A</th>\n",
       "      <th>B</th>\n",
       "    </tr>\n",
       "  </thead>\n",
       "  <tbody>\n",
       "    <tr>\n",
       "      <th>a</th>\n",
       "      <td>0.169273</td>\n",
       "      <td>-1.797600</td>\n",
       "      <td>0.625156</td>\n",
       "      <td>-0.385521</td>\n",
       "      <td>-1.647343</td>\n",
       "    </tr>\n",
       "    <tr>\n",
       "      <th>b</th>\n",
       "      <td>1.270448</td>\n",
       "      <td>-0.692322</td>\n",
       "      <td>0.330873</td>\n",
       "      <td>-0.730681</td>\n",
       "      <td>-2.053656</td>\n",
       "    </tr>\n",
       "    <tr>\n",
       "      <th>c</th>\n",
       "      <td>-0.973452</td>\n",
       "      <td>-0.509788</td>\n",
       "      <td>-2.197159</td>\n",
       "      <td>0.877961</td>\n",
       "      <td>0.608986</td>\n",
       "    </tr>\n",
       "    <tr>\n",
       "      <th>d</th>\n",
       "      <td>-0.335541</td>\n",
       "      <td>0.504698</td>\n",
       "      <td>-0.956252</td>\n",
       "      <td>0.265707</td>\n",
       "      <td>-0.028525</td>\n",
       "    </tr>\n",
       "    <tr>\n",
       "      <th>e</th>\n",
       "      <td>-0.192731</td>\n",
       "      <td>0.166707</td>\n",
       "      <td>-1.944066</td>\n",
       "      <td>0.777644</td>\n",
       "      <td>-1.774240</td>\n",
       "    </tr>\n",
       "    <tr>\n",
       "      <th>f</th>\n",
       "      <td>0.400664</td>\n",
       "      <td>-0.223873</td>\n",
       "      <td>-1.359455</td>\n",
       "      <td>0.151622</td>\n",
       "      <td>-1.015208</td>\n",
       "    </tr>\n",
       "  </tbody>\n",
       "</table>\n",
       "</div>"
      ],
      "text/plain": [
       "          E         D         C         A         B\n",
       "a  0.169273 -1.797600  0.625156 -0.385521 -1.647343\n",
       "b  1.270448 -0.692322  0.330873 -0.730681 -2.053656\n",
       "c -0.973452 -0.509788 -2.197159  0.877961  0.608986\n",
       "d -0.335541  0.504698 -0.956252  0.265707 -0.028525\n",
       "e -0.192731  0.166707 -1.944066  0.777644 -1.774240\n",
       "f  0.400664 -0.223873 -1.359455  0.151622 -1.015208"
      ]
     },
     "execution_count": 174,
     "metadata": {},
     "output_type": "execute_result"
    }
   ],
   "source": [
    "df=pd.DataFrame(np.random.randn(6,5),index=list('abcdef'),columns=list('EDCAB'))\n",
    "df"
   ]
  },
  {
   "cell_type": "code",
   "execution_count": 176,
   "metadata": {},
   "outputs": [
    {
     "data": {
      "text/plain": [
       "a   -1.797600\n",
       "b   -0.692322\n",
       "c   -0.509788\n",
       "d    0.504698\n",
       "e    0.166707\n",
       "f   -0.223873\n",
       "Name: D, dtype: float64"
      ]
     },
     "execution_count": 176,
     "metadata": {},
     "output_type": "execute_result"
    }
   ],
   "source": [
    "df['D']"
   ]
  },
  {
   "cell_type": "code",
   "execution_count": 177,
   "metadata": {},
   "outputs": [
    {
     "data": {
      "text/html": [
       "<div>\n",
       "<style scoped>\n",
       "    .dataframe tbody tr th:only-of-type {\n",
       "        vertical-align: middle;\n",
       "    }\n",
       "\n",
       "    .dataframe tbody tr th {\n",
       "        vertical-align: top;\n",
       "    }\n",
       "\n",
       "    .dataframe thead th {\n",
       "        text-align: right;\n",
       "    }\n",
       "</style>\n",
       "<table border=\"1\" class=\"dataframe\">\n",
       "  <thead>\n",
       "    <tr style=\"text-align: right;\">\n",
       "      <th></th>\n",
       "      <th>E</th>\n",
       "      <th>D</th>\n",
       "      <th>C</th>\n",
       "      <th>A</th>\n",
       "      <th>B</th>\n",
       "    </tr>\n",
       "  </thead>\n",
       "  <tbody>\n",
       "    <tr>\n",
       "      <th>c</th>\n",
       "      <td>-0.973452</td>\n",
       "      <td>-0.509788</td>\n",
       "      <td>-2.197159</td>\n",
       "      <td>0.877961</td>\n",
       "      <td>0.608986</td>\n",
       "    </tr>\n",
       "    <tr>\n",
       "      <th>d</th>\n",
       "      <td>-0.335541</td>\n",
       "      <td>0.504698</td>\n",
       "      <td>-0.956252</td>\n",
       "      <td>0.265707</td>\n",
       "      <td>-0.028525</td>\n",
       "    </tr>\n",
       "    <tr>\n",
       "      <th>e</th>\n",
       "      <td>-0.192731</td>\n",
       "      <td>0.166707</td>\n",
       "      <td>-1.944066</td>\n",
       "      <td>0.777644</td>\n",
       "      <td>-1.774240</td>\n",
       "    </tr>\n",
       "  </tbody>\n",
       "</table>\n",
       "</div>"
      ],
      "text/plain": [
       "          E         D         C         A         B\n",
       "c -0.973452 -0.509788 -2.197159  0.877961  0.608986\n",
       "d -0.335541  0.504698 -0.956252  0.265707 -0.028525\n",
       "e -0.192731  0.166707 -1.944066  0.777644 -1.774240"
      ]
     },
     "execution_count": 177,
     "metadata": {},
     "output_type": "execute_result"
    }
   ],
   "source": [
    "df['c':'e']"
   ]
  },
  {
   "cell_type": "code",
   "execution_count": 182,
   "metadata": {},
   "outputs": [
    {
     "data": {
      "text/html": [
       "<div>\n",
       "<style scoped>\n",
       "    .dataframe tbody tr th:only-of-type {\n",
       "        vertical-align: middle;\n",
       "    }\n",
       "\n",
       "    .dataframe tbody tr th {\n",
       "        vertical-align: top;\n",
       "    }\n",
       "\n",
       "    .dataframe thead th {\n",
       "        text-align: right;\n",
       "    }\n",
       "</style>\n",
       "<table border=\"1\" class=\"dataframe\">\n",
       "  <thead>\n",
       "    <tr style=\"text-align: right;\">\n",
       "      <th></th>\n",
       "      <th>E</th>\n",
       "      <th>D</th>\n",
       "      <th>C</th>\n",
       "      <th>A</th>\n",
       "      <th>B</th>\n",
       "    </tr>\n",
       "  </thead>\n",
       "  <tbody>\n",
       "    <tr>\n",
       "      <th>b</th>\n",
       "      <td>1.270448</td>\n",
       "      <td>-0.692322</td>\n",
       "      <td>0.330873</td>\n",
       "      <td>-0.730681</td>\n",
       "      <td>-2.053656</td>\n",
       "    </tr>\n",
       "    <tr>\n",
       "      <th>c</th>\n",
       "      <td>-0.973452</td>\n",
       "      <td>-0.509788</td>\n",
       "      <td>-2.197159</td>\n",
       "      <td>0.877961</td>\n",
       "      <td>0.608986</td>\n",
       "    </tr>\n",
       "  </tbody>\n",
       "</table>\n",
       "</div>"
      ],
      "text/plain": [
       "          E         D         C         A         B\n",
       "b  1.270448 -0.692322  0.330873 -0.730681 -2.053656\n",
       "c -0.973452 -0.509788 -2.197159  0.877961  0.608986"
      ]
     },
     "execution_count": 182,
     "metadata": {},
     "output_type": "execute_result"
    }
   ],
   "source": [
    "df[1:3]"
   ]
  },
  {
   "cell_type": "markdown",
   "metadata": {},
   "source": [
    "**`[]`的布尔值索引用法**"
   ]
  },
  {
   "cell_type": "code",
   "execution_count": 201,
   "metadata": {},
   "outputs": [
    {
     "data": {
      "text/html": [
       "<div>\n",
       "<style scoped>\n",
       "    .dataframe tbody tr th:only-of-type {\n",
       "        vertical-align: middle;\n",
       "    }\n",
       "\n",
       "    .dataframe tbody tr th {\n",
       "        vertical-align: top;\n",
       "    }\n",
       "\n",
       "    .dataframe thead th {\n",
       "        text-align: right;\n",
       "    }\n",
       "</style>\n",
       "<table border=\"1\" class=\"dataframe\">\n",
       "  <thead>\n",
       "    <tr style=\"text-align: right;\">\n",
       "      <th></th>\n",
       "      <th>E</th>\n",
       "      <th>D</th>\n",
       "      <th>C</th>\n",
       "      <th>A</th>\n",
       "      <th>B</th>\n",
       "    </tr>\n",
       "  </thead>\n",
       "  <tbody>\n",
       "    <tr>\n",
       "      <th>a</th>\n",
       "      <td>0.169273</td>\n",
       "      <td>-1.797600</td>\n",
       "      <td>0.625156</td>\n",
       "      <td>-0.385521</td>\n",
       "      <td>-1.647343</td>\n",
       "    </tr>\n",
       "    <tr>\n",
       "      <th>b</th>\n",
       "      <td>1.270448</td>\n",
       "      <td>-0.692322</td>\n",
       "      <td>0.330873</td>\n",
       "      <td>-0.730681</td>\n",
       "      <td>-2.053656</td>\n",
       "    </tr>\n",
       "  </tbody>\n",
       "</table>\n",
       "</div>"
      ],
      "text/plain": [
       "          E         D         C         A         B\n",
       "a  0.169273 -1.797600  0.625156 -0.385521 -1.647343\n",
       "b  1.270448 -0.692322  0.330873 -0.730681 -2.053656"
      ]
     },
     "execution_count": 201,
     "metadata": {},
     "output_type": "execute_result"
    }
   ],
   "source": [
    "df[df['C']>0]"
   ]
  },
  {
   "cell_type": "code",
   "execution_count": 199,
   "metadata": {},
   "outputs": [
    {
     "data": {
      "text/html": [
       "<div>\n",
       "<style scoped>\n",
       "    .dataframe tbody tr th:only-of-type {\n",
       "        vertical-align: middle;\n",
       "    }\n",
       "\n",
       "    .dataframe tbody tr th {\n",
       "        vertical-align: top;\n",
       "    }\n",
       "\n",
       "    .dataframe thead th {\n",
       "        text-align: right;\n",
       "    }\n",
       "</style>\n",
       "<table border=\"1\" class=\"dataframe\">\n",
       "  <thead>\n",
       "    <tr style=\"text-align: right;\">\n",
       "      <th></th>\n",
       "      <th>E</th>\n",
       "      <th>D</th>\n",
       "      <th>C</th>\n",
       "      <th>A</th>\n",
       "      <th>B</th>\n",
       "    </tr>\n",
       "  </thead>\n",
       "  <tbody>\n",
       "    <tr>\n",
       "      <th>a</th>\n",
       "      <td>0.169273</td>\n",
       "      <td>NaN</td>\n",
       "      <td>0.625156</td>\n",
       "      <td>NaN</td>\n",
       "      <td>NaN</td>\n",
       "    </tr>\n",
       "    <tr>\n",
       "      <th>b</th>\n",
       "      <td>1.270448</td>\n",
       "      <td>NaN</td>\n",
       "      <td>0.330873</td>\n",
       "      <td>NaN</td>\n",
       "      <td>NaN</td>\n",
       "    </tr>\n",
       "    <tr>\n",
       "      <th>c</th>\n",
       "      <td>NaN</td>\n",
       "      <td>NaN</td>\n",
       "      <td>NaN</td>\n",
       "      <td>0.877961</td>\n",
       "      <td>0.608986</td>\n",
       "    </tr>\n",
       "    <tr>\n",
       "      <th>d</th>\n",
       "      <td>NaN</td>\n",
       "      <td>0.504698</td>\n",
       "      <td>NaN</td>\n",
       "      <td>0.265707</td>\n",
       "      <td>NaN</td>\n",
       "    </tr>\n",
       "    <tr>\n",
       "      <th>e</th>\n",
       "      <td>NaN</td>\n",
       "      <td>0.166707</td>\n",
       "      <td>NaN</td>\n",
       "      <td>0.777644</td>\n",
       "      <td>NaN</td>\n",
       "    </tr>\n",
       "    <tr>\n",
       "      <th>f</th>\n",
       "      <td>0.400664</td>\n",
       "      <td>NaN</td>\n",
       "      <td>NaN</td>\n",
       "      <td>0.151622</td>\n",
       "      <td>NaN</td>\n",
       "    </tr>\n",
       "  </tbody>\n",
       "</table>\n",
       "</div>"
      ],
      "text/plain": [
       "          E         D         C         A         B\n",
       "a  0.169273       NaN  0.625156       NaN       NaN\n",
       "b  1.270448       NaN  0.330873       NaN       NaN\n",
       "c       NaN       NaN       NaN  0.877961  0.608986\n",
       "d       NaN  0.504698       NaN  0.265707       NaN\n",
       "e       NaN  0.166707       NaN  0.777644       NaN\n",
       "f  0.400664       NaN       NaN  0.151622       NaN"
      ]
     },
     "execution_count": 199,
     "metadata": {},
     "output_type": "execute_result"
    }
   ],
   "source": [
    "df[df>0]"
   ]
  },
  {
   "cell_type": "code",
   "execution_count": 202,
   "metadata": {},
   "outputs": [
    {
     "data": {
      "text/html": [
       "<div>\n",
       "<style scoped>\n",
       "    .dataframe tbody tr th:only-of-type {\n",
       "        vertical-align: middle;\n",
       "    }\n",
       "\n",
       "    .dataframe tbody tr th {\n",
       "        vertical-align: top;\n",
       "    }\n",
       "\n",
       "    .dataframe thead th {\n",
       "        text-align: right;\n",
       "    }\n",
       "</style>\n",
       "<table border=\"1\" class=\"dataframe\">\n",
       "  <thead>\n",
       "    <tr style=\"text-align: right;\">\n",
       "      <th></th>\n",
       "      <th>E</th>\n",
       "      <th>D</th>\n",
       "      <th>C</th>\n",
       "      <th>A</th>\n",
       "      <th>B</th>\n",
       "      <th>F</th>\n",
       "    </tr>\n",
       "  </thead>\n",
       "  <tbody>\n",
       "    <tr>\n",
       "      <th>a</th>\n",
       "      <td>0.169273</td>\n",
       "      <td>-1.797600</td>\n",
       "      <td>0.625156</td>\n",
       "      <td>-0.385521</td>\n",
       "      <td>-1.647343</td>\n",
       "      <td>class1</td>\n",
       "    </tr>\n",
       "    <tr>\n",
       "      <th>b</th>\n",
       "      <td>1.270448</td>\n",
       "      <td>-0.692322</td>\n",
       "      <td>0.330873</td>\n",
       "      <td>-0.730681</td>\n",
       "      <td>-2.053656</td>\n",
       "      <td>class2</td>\n",
       "    </tr>\n",
       "    <tr>\n",
       "      <th>c</th>\n",
       "      <td>-0.973452</td>\n",
       "      <td>-0.509788</td>\n",
       "      <td>-2.197159</td>\n",
       "      <td>0.877961</td>\n",
       "      <td>0.608986</td>\n",
       "      <td>class1</td>\n",
       "    </tr>\n",
       "    <tr>\n",
       "      <th>d</th>\n",
       "      <td>-0.335541</td>\n",
       "      <td>0.504698</td>\n",
       "      <td>-0.956252</td>\n",
       "      <td>0.265707</td>\n",
       "      <td>-0.028525</td>\n",
       "      <td>class3</td>\n",
       "    </tr>\n",
       "    <tr>\n",
       "      <th>e</th>\n",
       "      <td>-0.192731</td>\n",
       "      <td>0.166707</td>\n",
       "      <td>-1.944066</td>\n",
       "      <td>0.777644</td>\n",
       "      <td>-1.774240</td>\n",
       "      <td>class2</td>\n",
       "    </tr>\n",
       "    <tr>\n",
       "      <th>f</th>\n",
       "      <td>0.400664</td>\n",
       "      <td>-0.223873</td>\n",
       "      <td>-1.359455</td>\n",
       "      <td>0.151622</td>\n",
       "      <td>-1.015208</td>\n",
       "      <td>class1</td>\n",
       "    </tr>\n",
       "  </tbody>\n",
       "</table>\n",
       "</div>"
      ],
      "text/plain": [
       "          E         D         C         A         B       F\n",
       "a  0.169273 -1.797600  0.625156 -0.385521 -1.647343  class1\n",
       "b  1.270448 -0.692322  0.330873 -0.730681 -2.053656  class2\n",
       "c -0.973452 -0.509788 -2.197159  0.877961  0.608986  class1\n",
       "d -0.335541  0.504698 -0.956252  0.265707 -0.028525  class3\n",
       "e -0.192731  0.166707 -1.944066  0.777644 -1.774240  class2\n",
       "f  0.400664 -0.223873 -1.359455  0.151622 -1.015208  class1"
      ]
     },
     "execution_count": 202,
     "metadata": {},
     "output_type": "execute_result"
    }
   ],
   "source": [
    "df['F']=['class1','class2','class1','class3','class2','class1']\n",
    "df"
   ]
  },
  {
   "cell_type": "code",
   "execution_count": 203,
   "metadata": {},
   "outputs": [
    {
     "data": {
      "text/html": [
       "<div>\n",
       "<style scoped>\n",
       "    .dataframe tbody tr th:only-of-type {\n",
       "        vertical-align: middle;\n",
       "    }\n",
       "\n",
       "    .dataframe tbody tr th {\n",
       "        vertical-align: top;\n",
       "    }\n",
       "\n",
       "    .dataframe thead th {\n",
       "        text-align: right;\n",
       "    }\n",
       "</style>\n",
       "<table border=\"1\" class=\"dataframe\">\n",
       "  <thead>\n",
       "    <tr style=\"text-align: right;\">\n",
       "      <th></th>\n",
       "      <th>E</th>\n",
       "      <th>D</th>\n",
       "      <th>C</th>\n",
       "      <th>A</th>\n",
       "      <th>B</th>\n",
       "      <th>F</th>\n",
       "    </tr>\n",
       "  </thead>\n",
       "  <tbody>\n",
       "    <tr>\n",
       "      <th>a</th>\n",
       "      <td>0.169273</td>\n",
       "      <td>-1.797600</td>\n",
       "      <td>0.625156</td>\n",
       "      <td>-0.385521</td>\n",
       "      <td>-1.647343</td>\n",
       "      <td>class1</td>\n",
       "    </tr>\n",
       "    <tr>\n",
       "      <th>c</th>\n",
       "      <td>-0.973452</td>\n",
       "      <td>-0.509788</td>\n",
       "      <td>-2.197159</td>\n",
       "      <td>0.877961</td>\n",
       "      <td>0.608986</td>\n",
       "      <td>class1</td>\n",
       "    </tr>\n",
       "    <tr>\n",
       "      <th>d</th>\n",
       "      <td>-0.335541</td>\n",
       "      <td>0.504698</td>\n",
       "      <td>-0.956252</td>\n",
       "      <td>0.265707</td>\n",
       "      <td>-0.028525</td>\n",
       "      <td>class3</td>\n",
       "    </tr>\n",
       "    <tr>\n",
       "      <th>f</th>\n",
       "      <td>0.400664</td>\n",
       "      <td>-0.223873</td>\n",
       "      <td>-1.359455</td>\n",
       "      <td>0.151622</td>\n",
       "      <td>-1.015208</td>\n",
       "      <td>class1</td>\n",
       "    </tr>\n",
       "  </tbody>\n",
       "</table>\n",
       "</div>"
      ],
      "text/plain": [
       "          E         D         C         A         B       F\n",
       "a  0.169273 -1.797600  0.625156 -0.385521 -1.647343  class1\n",
       "c -0.973452 -0.509788 -2.197159  0.877961  0.608986  class1\n",
       "d -0.335541  0.504698 -0.956252  0.265707 -0.028525  class3\n",
       "f  0.400664 -0.223873 -1.359455  0.151622 -1.015208  class1"
      ]
     },
     "execution_count": 203,
     "metadata": {},
     "output_type": "execute_result"
    }
   ],
   "source": [
    "df[df.F.isin(['class1','class3'])]"
   ]
  },
  {
   "cell_type": "markdown",
   "metadata": {},
   "source": [
    "`loc[]`多标签索引"
   ]
  },
  {
   "cell_type": "code",
   "execution_count": 204,
   "metadata": {},
   "outputs": [],
   "source": [
    "del df['F']"
   ]
  },
  {
   "cell_type": "code",
   "execution_count": 205,
   "metadata": {},
   "outputs": [
    {
     "data": {
      "text/html": [
       "<div>\n",
       "<style scoped>\n",
       "    .dataframe tbody tr th:only-of-type {\n",
       "        vertical-align: middle;\n",
       "    }\n",
       "\n",
       "    .dataframe tbody tr th {\n",
       "        vertical-align: top;\n",
       "    }\n",
       "\n",
       "    .dataframe thead th {\n",
       "        text-align: right;\n",
       "    }\n",
       "</style>\n",
       "<table border=\"1\" class=\"dataframe\">\n",
       "  <thead>\n",
       "    <tr style=\"text-align: right;\">\n",
       "      <th></th>\n",
       "      <th>E</th>\n",
       "      <th>D</th>\n",
       "      <th>C</th>\n",
       "    </tr>\n",
       "  </thead>\n",
       "  <tbody>\n",
       "    <tr>\n",
       "      <th>a</th>\n",
       "      <td>0.169273</td>\n",
       "      <td>-1.797600</td>\n",
       "      <td>0.625156</td>\n",
       "    </tr>\n",
       "    <tr>\n",
       "      <th>b</th>\n",
       "      <td>1.270448</td>\n",
       "      <td>-0.692322</td>\n",
       "      <td>0.330873</td>\n",
       "    </tr>\n",
       "    <tr>\n",
       "      <th>c</th>\n",
       "      <td>-0.973452</td>\n",
       "      <td>-0.509788</td>\n",
       "      <td>-2.197159</td>\n",
       "    </tr>\n",
       "  </tbody>\n",
       "</table>\n",
       "</div>"
      ],
      "text/plain": [
       "          E         D         C\n",
       "a  0.169273 -1.797600  0.625156\n",
       "b  1.270448 -0.692322  0.330873\n",
       "c -0.973452 -0.509788 -2.197159"
      ]
     },
     "execution_count": 205,
     "metadata": {},
     "output_type": "execute_result"
    }
   ],
   "source": [
    "df.loc['a':'c','E':'C']"
   ]
  },
  {
   "cell_type": "code",
   "execution_count": 206,
   "metadata": {},
   "outputs": [
    {
     "data": {
      "text/html": [
       "<div>\n",
       "<style scoped>\n",
       "    .dataframe tbody tr th:only-of-type {\n",
       "        vertical-align: middle;\n",
       "    }\n",
       "\n",
       "    .dataframe tbody tr th {\n",
       "        vertical-align: top;\n",
       "    }\n",
       "\n",
       "    .dataframe thead th {\n",
       "        text-align: right;\n",
       "    }\n",
       "</style>\n",
       "<table border=\"1\" class=\"dataframe\">\n",
       "  <thead>\n",
       "    <tr style=\"text-align: right;\">\n",
       "      <th></th>\n",
       "      <th>D</th>\n",
       "      <th>B</th>\n",
       "      <th>E</th>\n",
       "    </tr>\n",
       "  </thead>\n",
       "  <tbody>\n",
       "    <tr>\n",
       "      <th>b</th>\n",
       "      <td>-0.692322</td>\n",
       "      <td>-2.053656</td>\n",
       "      <td>1.270448</td>\n",
       "    </tr>\n",
       "    <tr>\n",
       "      <th>d</th>\n",
       "      <td>0.504698</td>\n",
       "      <td>-0.028525</td>\n",
       "      <td>-0.335541</td>\n",
       "    </tr>\n",
       "    <tr>\n",
       "      <th>a</th>\n",
       "      <td>-1.797600</td>\n",
       "      <td>-1.647343</td>\n",
       "      <td>0.169273</td>\n",
       "    </tr>\n",
       "    <tr>\n",
       "      <th>b</th>\n",
       "      <td>-0.692322</td>\n",
       "      <td>-2.053656</td>\n",
       "      <td>1.270448</td>\n",
       "    </tr>\n",
       "  </tbody>\n",
       "</table>\n",
       "</div>"
      ],
      "text/plain": [
       "          D         B         E\n",
       "b -0.692322 -2.053656  1.270448\n",
       "d  0.504698 -0.028525 -0.335541\n",
       "a -1.797600 -1.647343  0.169273\n",
       "b -0.692322 -2.053656  1.270448"
      ]
     },
     "execution_count": 206,
     "metadata": {},
     "output_type": "execute_result"
    }
   ],
   "source": [
    "df.loc[['b','d','a','b'],['D','B','E']]"
   ]
  },
  {
   "cell_type": "code",
   "execution_count": 207,
   "metadata": {},
   "outputs": [
    {
     "data": {
      "text/plain": [
       "-1.77424020073571"
      ]
     },
     "execution_count": 207,
     "metadata": {},
     "output_type": "execute_result"
    }
   ],
   "source": [
    "df.loc['e','B']"
   ]
  },
  {
   "cell_type": "markdown",
   "metadata": {},
   "source": [
    "`iloc[]`多标签索引"
   ]
  },
  {
   "cell_type": "code",
   "execution_count": 208,
   "metadata": {},
   "outputs": [
    {
     "data": {
      "text/html": [
       "<div>\n",
       "<style scoped>\n",
       "    .dataframe tbody tr th:only-of-type {\n",
       "        vertical-align: middle;\n",
       "    }\n",
       "\n",
       "    .dataframe tbody tr th {\n",
       "        vertical-align: top;\n",
       "    }\n",
       "\n",
       "    .dataframe thead th {\n",
       "        text-align: right;\n",
       "    }\n",
       "</style>\n",
       "<table border=\"1\" class=\"dataframe\">\n",
       "  <thead>\n",
       "    <tr style=\"text-align: right;\">\n",
       "      <th></th>\n",
       "      <th>E</th>\n",
       "      <th>D</th>\n",
       "      <th>C</th>\n",
       "      <th>A</th>\n",
       "    </tr>\n",
       "  </thead>\n",
       "  <tbody>\n",
       "    <tr>\n",
       "      <th>b</th>\n",
       "      <td>1.270448</td>\n",
       "      <td>-0.692322</td>\n",
       "      <td>0.330873</td>\n",
       "      <td>-0.730681</td>\n",
       "    </tr>\n",
       "    <tr>\n",
       "      <th>c</th>\n",
       "      <td>-0.973452</td>\n",
       "      <td>-0.509788</td>\n",
       "      <td>-2.197159</td>\n",
       "      <td>0.877961</td>\n",
       "    </tr>\n",
       "    <tr>\n",
       "      <th>d</th>\n",
       "      <td>-0.335541</td>\n",
       "      <td>0.504698</td>\n",
       "      <td>-0.956252</td>\n",
       "      <td>0.265707</td>\n",
       "    </tr>\n",
       "    <tr>\n",
       "      <th>e</th>\n",
       "      <td>-0.192731</td>\n",
       "      <td>0.166707</td>\n",
       "      <td>-1.944066</td>\n",
       "      <td>0.777644</td>\n",
       "    </tr>\n",
       "    <tr>\n",
       "      <th>f</th>\n",
       "      <td>0.400664</td>\n",
       "      <td>-0.223873</td>\n",
       "      <td>-1.359455</td>\n",
       "      <td>0.151622</td>\n",
       "    </tr>\n",
       "  </tbody>\n",
       "</table>\n",
       "</div>"
      ],
      "text/plain": [
       "          E         D         C         A\n",
       "b  1.270448 -0.692322  0.330873 -0.730681\n",
       "c -0.973452 -0.509788 -2.197159  0.877961\n",
       "d -0.335541  0.504698 -0.956252  0.265707\n",
       "e -0.192731  0.166707 -1.944066  0.777644\n",
       "f  0.400664 -0.223873 -1.359455  0.151622"
      ]
     },
     "execution_count": 208,
     "metadata": {},
     "output_type": "execute_result"
    }
   ],
   "source": [
    "df.iloc[1:,:-1]"
   ]
  },
  {
   "cell_type": "code",
   "execution_count": 209,
   "metadata": {},
   "outputs": [
    {
     "data": {
      "text/html": [
       "<div>\n",
       "<style scoped>\n",
       "    .dataframe tbody tr th:only-of-type {\n",
       "        vertical-align: middle;\n",
       "    }\n",
       "\n",
       "    .dataframe tbody tr th {\n",
       "        vertical-align: top;\n",
       "    }\n",
       "\n",
       "    .dataframe thead th {\n",
       "        text-align: right;\n",
       "    }\n",
       "</style>\n",
       "<table border=\"1\" class=\"dataframe\">\n",
       "  <thead>\n",
       "    <tr style=\"text-align: right;\">\n",
       "      <th></th>\n",
       "      <th>E</th>\n",
       "      <th>E</th>\n",
       "      <th>A</th>\n",
       "      <th>C</th>\n",
       "    </tr>\n",
       "  </thead>\n",
       "  <tbody>\n",
       "    <tr>\n",
       "      <th>c</th>\n",
       "      <td>-0.973452</td>\n",
       "      <td>-0.973452</td>\n",
       "      <td>0.877961</td>\n",
       "      <td>-2.197159</td>\n",
       "    </tr>\n",
       "    <tr>\n",
       "      <th>d</th>\n",
       "      <td>-0.335541</td>\n",
       "      <td>-0.335541</td>\n",
       "      <td>0.265707</td>\n",
       "      <td>-0.956252</td>\n",
       "    </tr>\n",
       "    <tr>\n",
       "      <th>c</th>\n",
       "      <td>-0.973452</td>\n",
       "      <td>-0.973452</td>\n",
       "      <td>0.877961</td>\n",
       "      <td>-2.197159</td>\n",
       "    </tr>\n",
       "  </tbody>\n",
       "</table>\n",
       "</div>"
      ],
      "text/plain": [
       "          E         E         A         C\n",
       "c -0.973452 -0.973452  0.877961 -2.197159\n",
       "d -0.335541 -0.335541  0.265707 -0.956252\n",
       "c -0.973452 -0.973452  0.877961 -2.197159"
      ]
     },
     "execution_count": 209,
     "metadata": {},
     "output_type": "execute_result"
    }
   ],
   "source": [
    "df.iloc[[2,3,2],[0,0,3,2]]"
   ]
  },
  {
   "cell_type": "code",
   "execution_count": 210,
   "metadata": {},
   "outputs": [
    {
     "data": {
      "text/plain": [
       "-0.9562519827018061"
      ]
     },
     "execution_count": 210,
     "metadata": {},
     "output_type": "execute_result"
    }
   ],
   "source": [
    "df.iloc[3,2]"
   ]
  },
  {
   "cell_type": "markdown",
   "metadata": {},
   "source": [
    "`at[]`与`iat[]`"
   ]
  },
  {
   "cell_type": "code",
   "execution_count": 211,
   "metadata": {},
   "outputs": [
    {
     "data": {
      "text/plain": [
       "-2.1971587554005176"
      ]
     },
     "execution_count": 211,
     "metadata": {},
     "output_type": "execute_result"
    }
   ],
   "source": [
    "f.at['c','C']"
   ]
  },
  {
   "cell_type": "code",
   "execution_count": 212,
   "metadata": {},
   "outputs": [
    {
     "data": {
      "text/plain": [
       "0.8779607875800123"
      ]
     },
     "execution_count": 212,
     "metadata": {},
     "output_type": "execute_result"
    }
   ],
   "source": [
    "df.iat[2,3]"
   ]
  },
  {
   "cell_type": "markdown",
   "metadata": {},
   "source": [
    "赋值——赋值很简单，直接把上面方法索引到的元素赋值，有以下几种情况：  \n",
    "- 单个值赋给单个元素。简单的赋值，无需解释\n",
    "- 单个值赋给`Series`。索引到的`Series`中每个元素都赋值为该值\n",
    "- 一个一维数组类型赋值给`Series`。如果这个一维数组是`Series`类型，处于数据对齐的原因，必须index与索引到的`Series`一直才可赋值成功；如果只是一个普通的一维数组型，比如一维的`ndarray`，一维的列表，那么只要长度一样，会自动按顺序赋值"
   ]
  },
  {
   "cell_type": "code",
   "execution_count": 233,
   "metadata": {},
   "outputs": [
    {
     "data": {
      "text/html": [
       "<div>\n",
       "<style scoped>\n",
       "    .dataframe tbody tr th:only-of-type {\n",
       "        vertical-align: middle;\n",
       "    }\n",
       "\n",
       "    .dataframe tbody tr th {\n",
       "        vertical-align: top;\n",
       "    }\n",
       "\n",
       "    .dataframe thead th {\n",
       "        text-align: right;\n",
       "    }\n",
       "</style>\n",
       "<table border=\"1\" class=\"dataframe\">\n",
       "  <thead>\n",
       "    <tr style=\"text-align: right;\">\n",
       "      <th></th>\n",
       "      <th>E</th>\n",
       "      <th>D</th>\n",
       "      <th>C</th>\n",
       "      <th>A</th>\n",
       "      <th>B</th>\n",
       "    </tr>\n",
       "  </thead>\n",
       "  <tbody>\n",
       "    <tr>\n",
       "      <th>a</th>\n",
       "      <td>0.023297</td>\n",
       "      <td>2.789617</td>\n",
       "      <td>0.001195</td>\n",
       "      <td>0.485925</td>\n",
       "      <td>-0.037397</td>\n",
       "    </tr>\n",
       "    <tr>\n",
       "      <th>b</th>\n",
       "      <td>-0.672584</td>\n",
       "      <td>-0.103210</td>\n",
       "      <td>1.426697</td>\n",
       "      <td>-1.174420</td>\n",
       "      <td>0.603729</td>\n",
       "    </tr>\n",
       "    <tr>\n",
       "      <th>c</th>\n",
       "      <td>-0.624002</td>\n",
       "      <td>-1.158070</td>\n",
       "      <td>-0.784303</td>\n",
       "      <td>-0.407814</td>\n",
       "      <td>-1.005885</td>\n",
       "    </tr>\n",
       "    <tr>\n",
       "      <th>d</th>\n",
       "      <td>-0.187537</td>\n",
       "      <td>-0.945113</td>\n",
       "      <td>0.240101</td>\n",
       "      <td>-3.676298</td>\n",
       "      <td>1.298230</td>\n",
       "    </tr>\n",
       "    <tr>\n",
       "      <th>e</th>\n",
       "      <td>0.510216</td>\n",
       "      <td>1.702823</td>\n",
       "      <td>1.850221</td>\n",
       "      <td>-0.437267</td>\n",
       "      <td>-0.246211</td>\n",
       "    </tr>\n",
       "    <tr>\n",
       "      <th>f</th>\n",
       "      <td>-0.878987</td>\n",
       "      <td>-0.887268</td>\n",
       "      <td>-0.239877</td>\n",
       "      <td>0.102027</td>\n",
       "      <td>0.820047</td>\n",
       "    </tr>\n",
       "  </tbody>\n",
       "</table>\n",
       "</div>"
      ],
      "text/plain": [
       "          E         D         C         A         B\n",
       "a  0.023297  2.789617  0.001195  0.485925 -0.037397\n",
       "b -0.672584 -0.103210  1.426697 -1.174420  0.603729\n",
       "c -0.624002 -1.158070 -0.784303 -0.407814 -1.005885\n",
       "d -0.187537 -0.945113  0.240101 -3.676298  1.298230\n",
       "e  0.510216  1.702823  1.850221 -0.437267 -0.246211\n",
       "f -0.878987 -0.887268 -0.239877  0.102027  0.820047"
      ]
     },
     "execution_count": 233,
     "metadata": {},
     "output_type": "execute_result"
    }
   ],
   "source": [
    "df=pd.DataFrame(np.random.randn(6,5),index=list('abcdef'),columns=list('EDCAB'))\n",
    "df"
   ]
  },
  {
   "cell_type": "code",
   "execution_count": 234,
   "metadata": {},
   "outputs": [
    {
     "data": {
      "text/html": [
       "<div>\n",
       "<style scoped>\n",
       "    .dataframe tbody tr th:only-of-type {\n",
       "        vertical-align: middle;\n",
       "    }\n",
       "\n",
       "    .dataframe tbody tr th {\n",
       "        vertical-align: top;\n",
       "    }\n",
       "\n",
       "    .dataframe thead th {\n",
       "        text-align: right;\n",
       "    }\n",
       "</style>\n",
       "<table border=\"1\" class=\"dataframe\">\n",
       "  <thead>\n",
       "    <tr style=\"text-align: right;\">\n",
       "      <th></th>\n",
       "      <th>E</th>\n",
       "      <th>D</th>\n",
       "      <th>C</th>\n",
       "      <th>A</th>\n",
       "      <th>B</th>\n",
       "    </tr>\n",
       "  </thead>\n",
       "  <tbody>\n",
       "    <tr>\n",
       "      <th>a</th>\n",
       "      <td>0.023297</td>\n",
       "      <td>2.789617</td>\n",
       "      <td>0.001195</td>\n",
       "      <td>0.485925</td>\n",
       "      <td>-0.037397</td>\n",
       "    </tr>\n",
       "    <tr>\n",
       "      <th>b</th>\n",
       "      <td>-0.672584</td>\n",
       "      <td>-0.103210</td>\n",
       "      <td>1.426697</td>\n",
       "      <td>-1.174420</td>\n",
       "      <td>0.603729</td>\n",
       "    </tr>\n",
       "    <tr>\n",
       "      <th>c</th>\n",
       "      <td>-0.624002</td>\n",
       "      <td>0.000000</td>\n",
       "      <td>-0.784303</td>\n",
       "      <td>-0.407814</td>\n",
       "      <td>-1.005885</td>\n",
       "    </tr>\n",
       "    <tr>\n",
       "      <th>d</th>\n",
       "      <td>-0.187537</td>\n",
       "      <td>-0.945113</td>\n",
       "      <td>0.240101</td>\n",
       "      <td>-3.676298</td>\n",
       "      <td>1.298230</td>\n",
       "    </tr>\n",
       "    <tr>\n",
       "      <th>e</th>\n",
       "      <td>0.510216</td>\n",
       "      <td>1.702823</td>\n",
       "      <td>1.850221</td>\n",
       "      <td>-0.437267</td>\n",
       "      <td>-0.246211</td>\n",
       "    </tr>\n",
       "    <tr>\n",
       "      <th>f</th>\n",
       "      <td>-0.878987</td>\n",
       "      <td>-0.887268</td>\n",
       "      <td>-0.239877</td>\n",
       "      <td>0.102027</td>\n",
       "      <td>0.820047</td>\n",
       "    </tr>\n",
       "  </tbody>\n",
       "</table>\n",
       "</div>"
      ],
      "text/plain": [
       "          E         D         C         A         B\n",
       "a  0.023297  2.789617  0.001195  0.485925 -0.037397\n",
       "b -0.672584 -0.103210  1.426697 -1.174420  0.603729\n",
       "c -0.624002  0.000000 -0.784303 -0.407814 -1.005885\n",
       "d -0.187537 -0.945113  0.240101 -3.676298  1.298230\n",
       "e  0.510216  1.702823  1.850221 -0.437267 -0.246211\n",
       "f -0.878987 -0.887268 -0.239877  0.102027  0.820047"
      ]
     },
     "execution_count": 234,
     "metadata": {},
     "output_type": "execute_result"
    }
   ],
   "source": [
    "df.at['c','D']=0#单个赋值\n",
    "df"
   ]
  },
  {
   "cell_type": "code",
   "execution_count": 235,
   "metadata": {},
   "outputs": [
    {
     "data": {
      "text/html": [
       "<div>\n",
       "<style scoped>\n",
       "    .dataframe tbody tr th:only-of-type {\n",
       "        vertical-align: middle;\n",
       "    }\n",
       "\n",
       "    .dataframe tbody tr th {\n",
       "        vertical-align: top;\n",
       "    }\n",
       "\n",
       "    .dataframe thead th {\n",
       "        text-align: right;\n",
       "    }\n",
       "</style>\n",
       "<table border=\"1\" class=\"dataframe\">\n",
       "  <thead>\n",
       "    <tr style=\"text-align: right;\">\n",
       "      <th></th>\n",
       "      <th>E</th>\n",
       "      <th>D</th>\n",
       "      <th>C</th>\n",
       "      <th>A</th>\n",
       "      <th>B</th>\n",
       "    </tr>\n",
       "  </thead>\n",
       "  <tbody>\n",
       "    <tr>\n",
       "      <th>a</th>\n",
       "      <td>0.023297</td>\n",
       "      <td>2.789617</td>\n",
       "      <td>0.001195</td>\n",
       "      <td>0</td>\n",
       "      <td>-0.037397</td>\n",
       "    </tr>\n",
       "    <tr>\n",
       "      <th>b</th>\n",
       "      <td>-0.672584</td>\n",
       "      <td>-0.103210</td>\n",
       "      <td>1.426697</td>\n",
       "      <td>0</td>\n",
       "      <td>0.603729</td>\n",
       "    </tr>\n",
       "    <tr>\n",
       "      <th>c</th>\n",
       "      <td>-0.624002</td>\n",
       "      <td>0.000000</td>\n",
       "      <td>-0.784303</td>\n",
       "      <td>0</td>\n",
       "      <td>-1.005885</td>\n",
       "    </tr>\n",
       "    <tr>\n",
       "      <th>d</th>\n",
       "      <td>-0.187537</td>\n",
       "      <td>-0.945113</td>\n",
       "      <td>0.240101</td>\n",
       "      <td>0</td>\n",
       "      <td>1.298230</td>\n",
       "    </tr>\n",
       "    <tr>\n",
       "      <th>e</th>\n",
       "      <td>0.510216</td>\n",
       "      <td>1.702823</td>\n",
       "      <td>1.850221</td>\n",
       "      <td>0</td>\n",
       "      <td>-0.246211</td>\n",
       "    </tr>\n",
       "    <tr>\n",
       "      <th>f</th>\n",
       "      <td>-0.878987</td>\n",
       "      <td>-0.887268</td>\n",
       "      <td>-0.239877</td>\n",
       "      <td>0</td>\n",
       "      <td>0.820047</td>\n",
       "    </tr>\n",
       "  </tbody>\n",
       "</table>\n",
       "</div>"
      ],
      "text/plain": [
       "          E         D         C  A         B\n",
       "a  0.023297  2.789617  0.001195  0 -0.037397\n",
       "b -0.672584 -0.103210  1.426697  0  0.603729\n",
       "c -0.624002  0.000000 -0.784303  0 -1.005885\n",
       "d -0.187537 -0.945113  0.240101  0  1.298230\n",
       "e  0.510216  1.702823  1.850221  0 -0.246211\n",
       "f -0.878987 -0.887268 -0.239877  0  0.820047"
      ]
     },
     "execution_count": 235,
     "metadata": {},
     "output_type": "execute_result"
    }
   ],
   "source": [
    "df.loc[:,'A']=0#单个值赋值给一个Series\n",
    "df"
   ]
  },
  {
   "cell_type": "code",
   "execution_count": 236,
   "metadata": {},
   "outputs": [
    {
     "data": {
      "text/html": [
       "<div>\n",
       "<style scoped>\n",
       "    .dataframe tbody tr th:only-of-type {\n",
       "        vertical-align: middle;\n",
       "    }\n",
       "\n",
       "    .dataframe tbody tr th {\n",
       "        vertical-align: top;\n",
       "    }\n",
       "\n",
       "    .dataframe thead th {\n",
       "        text-align: right;\n",
       "    }\n",
       "</style>\n",
       "<table border=\"1\" class=\"dataframe\">\n",
       "  <thead>\n",
       "    <tr style=\"text-align: right;\">\n",
       "      <th></th>\n",
       "      <th>E</th>\n",
       "      <th>D</th>\n",
       "      <th>C</th>\n",
       "      <th>A</th>\n",
       "      <th>B</th>\n",
       "    </tr>\n",
       "  </thead>\n",
       "  <tbody>\n",
       "    <tr>\n",
       "      <th>a</th>\n",
       "      <td>0.023297</td>\n",
       "      <td>2.789617</td>\n",
       "      <td>0.001195</td>\n",
       "      <td>0</td>\n",
       "      <td>-0.037397</td>\n",
       "    </tr>\n",
       "    <tr>\n",
       "      <th>b</th>\n",
       "      <td>-0.672584</td>\n",
       "      <td>-0.103210</td>\n",
       "      <td>1.426697</td>\n",
       "      <td>0</td>\n",
       "      <td>0.603729</td>\n",
       "    </tr>\n",
       "    <tr>\n",
       "      <th>c</th>\n",
       "      <td>-0.624002</td>\n",
       "      <td>0.000000</td>\n",
       "      <td>-0.784303</td>\n",
       "      <td>0</td>\n",
       "      <td>-1.005885</td>\n",
       "    </tr>\n",
       "    <tr>\n",
       "      <th>d</th>\n",
       "      <td>9.000000</td>\n",
       "      <td>2.000000</td>\n",
       "      <td>7.000000</td>\n",
       "      <td>3</td>\n",
       "      <td>4.000000</td>\n",
       "    </tr>\n",
       "    <tr>\n",
       "      <th>e</th>\n",
       "      <td>0.510216</td>\n",
       "      <td>1.702823</td>\n",
       "      <td>1.850221</td>\n",
       "      <td>0</td>\n",
       "      <td>-0.246211</td>\n",
       "    </tr>\n",
       "    <tr>\n",
       "      <th>f</th>\n",
       "      <td>-0.878987</td>\n",
       "      <td>-0.887268</td>\n",
       "      <td>-0.239877</td>\n",
       "      <td>0</td>\n",
       "      <td>0.820047</td>\n",
       "    </tr>\n",
       "  </tbody>\n",
       "</table>\n",
       "</div>"
      ],
      "text/plain": [
       "          E         D         C  A         B\n",
       "a  0.023297  2.789617  0.001195  0 -0.037397\n",
       "b -0.672584 -0.103210  1.426697  0  0.603729\n",
       "c -0.624002  0.000000 -0.784303  0 -1.005885\n",
       "d  9.000000  2.000000  7.000000  3  4.000000\n",
       "e  0.510216  1.702823  1.850221  0 -0.246211\n",
       "f -0.878987 -0.887268 -0.239877  0  0.820047"
      ]
     },
     "execution_count": 236,
     "metadata": {},
     "output_type": "execute_result"
    }
   ],
   "source": [
    "df.loc['d',:]=pd.Series([3,4,7,2,9],index=list('ABCDE'))\n",
    "df"
   ]
  },
  {
   "cell_type": "code",
   "execution_count": 237,
   "metadata": {},
   "outputs": [
    {
     "data": {
      "text/html": [
       "<div>\n",
       "<style scoped>\n",
       "    .dataframe tbody tr th:only-of-type {\n",
       "        vertical-align: middle;\n",
       "    }\n",
       "\n",
       "    .dataframe tbody tr th {\n",
       "        vertical-align: top;\n",
       "    }\n",
       "\n",
       "    .dataframe thead th {\n",
       "        text-align: right;\n",
       "    }\n",
       "</style>\n",
       "<table border=\"1\" class=\"dataframe\">\n",
       "  <thead>\n",
       "    <tr style=\"text-align: right;\">\n",
       "      <th></th>\n",
       "      <th>E</th>\n",
       "      <th>D</th>\n",
       "      <th>C</th>\n",
       "      <th>A</th>\n",
       "      <th>B</th>\n",
       "    </tr>\n",
       "  </thead>\n",
       "  <tbody>\n",
       "    <tr>\n",
       "      <th>a</th>\n",
       "      <td>0.023297</td>\n",
       "      <td>5</td>\n",
       "      <td>0.001195</td>\n",
       "      <td>0</td>\n",
       "      <td>-0.037397</td>\n",
       "    </tr>\n",
       "    <tr>\n",
       "      <th>b</th>\n",
       "      <td>-0.672584</td>\n",
       "      <td>5</td>\n",
       "      <td>1.426697</td>\n",
       "      <td>0</td>\n",
       "      <td>0.603729</td>\n",
       "    </tr>\n",
       "    <tr>\n",
       "      <th>c</th>\n",
       "      <td>-0.624002</td>\n",
       "      <td>5</td>\n",
       "      <td>-0.784303</td>\n",
       "      <td>0</td>\n",
       "      <td>-1.005885</td>\n",
       "    </tr>\n",
       "    <tr>\n",
       "      <th>d</th>\n",
       "      <td>9.000000</td>\n",
       "      <td>5</td>\n",
       "      <td>7.000000</td>\n",
       "      <td>3</td>\n",
       "      <td>4.000000</td>\n",
       "    </tr>\n",
       "    <tr>\n",
       "      <th>e</th>\n",
       "      <td>0.510216</td>\n",
       "      <td>5</td>\n",
       "      <td>1.850221</td>\n",
       "      <td>0</td>\n",
       "      <td>-0.246211</td>\n",
       "    </tr>\n",
       "    <tr>\n",
       "      <th>f</th>\n",
       "      <td>-0.878987</td>\n",
       "      <td>5</td>\n",
       "      <td>-0.239877</td>\n",
       "      <td>0</td>\n",
       "      <td>0.820047</td>\n",
       "    </tr>\n",
       "  </tbody>\n",
       "</table>\n",
       "</div>"
      ],
      "text/plain": [
       "          E  D         C  A         B\n",
       "a  0.023297  5  0.001195  0 -0.037397\n",
       "b -0.672584  5  1.426697  0  0.603729\n",
       "c -0.624002  5 -0.784303  0 -1.005885\n",
       "d  9.000000  5  7.000000  3  4.000000\n",
       "e  0.510216  5  1.850221  0 -0.246211\n",
       "f -0.878987  5 -0.239877  0  0.820047"
      ]
     },
     "execution_count": 237,
     "metadata": {},
     "output_type": "execute_result"
    }
   ],
   "source": [
    "df.loc[:,'D']=np.array([5]*len(df))\n",
    "df"
   ]
  },
  {
   "cell_type": "code",
   "execution_count": 239,
   "metadata": {},
   "outputs": [
    {
     "data": {
      "text/html": [
       "<div>\n",
       "<style scoped>\n",
       "    .dataframe tbody tr th:only-of-type {\n",
       "        vertical-align: middle;\n",
       "    }\n",
       "\n",
       "    .dataframe tbody tr th {\n",
       "        vertical-align: top;\n",
       "    }\n",
       "\n",
       "    .dataframe thead th {\n",
       "        text-align: right;\n",
       "    }\n",
       "</style>\n",
       "<table border=\"1\" class=\"dataframe\">\n",
       "  <thead>\n",
       "    <tr style=\"text-align: right;\">\n",
       "      <th></th>\n",
       "      <th>E</th>\n",
       "      <th>D</th>\n",
       "      <th>C</th>\n",
       "      <th>A</th>\n",
       "      <th>B</th>\n",
       "    </tr>\n",
       "  </thead>\n",
       "  <tbody>\n",
       "    <tr>\n",
       "      <th>a</th>\n",
       "      <td>True</td>\n",
       "      <td>True</td>\n",
       "      <td>True</td>\n",
       "      <td>True</td>\n",
       "      <td>True</td>\n",
       "    </tr>\n",
       "    <tr>\n",
       "      <th>b</th>\n",
       "      <td>-0.672584</td>\n",
       "      <td>5</td>\n",
       "      <td>1.4267</td>\n",
       "      <td>0</td>\n",
       "      <td>0.603729</td>\n",
       "    </tr>\n",
       "    <tr>\n",
       "      <th>c</th>\n",
       "      <td>-0.624002</td>\n",
       "      <td>5</td>\n",
       "      <td>-0.784303</td>\n",
       "      <td>0</td>\n",
       "      <td>-1.00589</td>\n",
       "    </tr>\n",
       "    <tr>\n",
       "      <th>d</th>\n",
       "      <td>9</td>\n",
       "      <td>5</td>\n",
       "      <td>7</td>\n",
       "      <td>3</td>\n",
       "      <td>4</td>\n",
       "    </tr>\n",
       "    <tr>\n",
       "      <th>e</th>\n",
       "      <td>0.510216</td>\n",
       "      <td>5</td>\n",
       "      <td>1.85022</td>\n",
       "      <td>0</td>\n",
       "      <td>-0.246211</td>\n",
       "    </tr>\n",
       "    <tr>\n",
       "      <th>f</th>\n",
       "      <td>-0.878987</td>\n",
       "      <td>5</td>\n",
       "      <td>-0.239877</td>\n",
       "      <td>0</td>\n",
       "      <td>0.820047</td>\n",
       "    </tr>\n",
       "  </tbody>\n",
       "</table>\n",
       "</div>"
      ],
      "text/plain": [
       "          E     D         C     A         B\n",
       "a      True  True      True  True      True\n",
       "b -0.672584     5    1.4267     0  0.603729\n",
       "c -0.624002     5 -0.784303     0  -1.00589\n",
       "d         9     5         7     3         4\n",
       "e  0.510216     5   1.85022     0 -0.246211\n",
       "f -0.878987     5 -0.239877     0  0.820047"
      ]
     },
     "execution_count": 239,
     "metadata": {},
     "output_type": "execute_result"
    }
   ],
   "source": [
    "df.loc['a',:]=[True]*5\n",
    "df"
   ]
  },
  {
   "cell_type": "markdown",
   "metadata": {},
   "source": [
    "### 缺失数据处理  \n",
    "pandas中缺失数据统一用`np.nan`表示，对这些缺失数据有以下一些处理方法：  \n",
    "- `dropna()`，丢掉含有缺失数据的行——参数`how`如果是`any`则是只要改行由缺失数据就丢弃该行；如果是`all`则只有该行全为缺失数据时才丢弃该行\n",
    "- `fillna()`，填充缺失数据——参数`value`给定填充的值\n",
    "- `isna()`，判断是否是缺失数据"
   ]
  },
  {
   "cell_type": "code",
   "execution_count": 242,
   "metadata": {},
   "outputs": [
    {
     "data": {
      "text/html": [
       "<div>\n",
       "<style scoped>\n",
       "    .dataframe tbody tr th:only-of-type {\n",
       "        vertical-align: middle;\n",
       "    }\n",
       "\n",
       "    .dataframe tbody tr th {\n",
       "        vertical-align: top;\n",
       "    }\n",
       "\n",
       "    .dataframe thead th {\n",
       "        text-align: right;\n",
       "    }\n",
       "</style>\n",
       "<table border=\"1\" class=\"dataframe\">\n",
       "  <thead>\n",
       "    <tr style=\"text-align: right;\">\n",
       "      <th></th>\n",
       "      <th>E</th>\n",
       "      <th>D</th>\n",
       "      <th>C</th>\n",
       "      <th>A</th>\n",
       "      <th>B</th>\n",
       "      <th>F</th>\n",
       "    </tr>\n",
       "  </thead>\n",
       "  <tbody>\n",
       "    <tr>\n",
       "      <th>c</th>\n",
       "      <td>NaN</td>\n",
       "      <td>5</td>\n",
       "      <td>NaN</td>\n",
       "      <td>0</td>\n",
       "      <td>NaN</td>\n",
       "      <td>NaN</td>\n",
       "    </tr>\n",
       "    <tr>\n",
       "      <th>d</th>\n",
       "      <td>9</td>\n",
       "      <td>5</td>\n",
       "      <td>7</td>\n",
       "      <td>3</td>\n",
       "      <td>4</td>\n",
       "      <td>NaN</td>\n",
       "    </tr>\n",
       "    <tr>\n",
       "      <th>e</th>\n",
       "      <td>0.510216</td>\n",
       "      <td>5</td>\n",
       "      <td>1.85022</td>\n",
       "      <td>0</td>\n",
       "      <td>NaN</td>\n",
       "      <td>NaN</td>\n",
       "    </tr>\n",
       "    <tr>\n",
       "      <th>f</th>\n",
       "      <td>NaN</td>\n",
       "      <td>5</td>\n",
       "      <td>NaN</td>\n",
       "      <td>0</td>\n",
       "      <td>0.820047</td>\n",
       "      <td>NaN</td>\n",
       "    </tr>\n",
       "    <tr>\n",
       "      <th>g</th>\n",
       "      <td>NaN</td>\n",
       "      <td>NaN</td>\n",
       "      <td>NaN</td>\n",
       "      <td>NaN</td>\n",
       "      <td>NaN</td>\n",
       "      <td>NaN</td>\n",
       "    </tr>\n",
       "    <tr>\n",
       "      <th>h</th>\n",
       "      <td>NaN</td>\n",
       "      <td>NaN</td>\n",
       "      <td>NaN</td>\n",
       "      <td>NaN</td>\n",
       "      <td>NaN</td>\n",
       "      <td>NaN</td>\n",
       "    </tr>\n",
       "  </tbody>\n",
       "</table>\n",
       "</div>"
      ],
      "text/plain": [
       "          E    D        C    A         B    F\n",
       "c       NaN    5      NaN    0       NaN  NaN\n",
       "d         9    5        7    3         4  NaN\n",
       "e  0.510216    5  1.85022    0       NaN  NaN\n",
       "f       NaN    5      NaN    0  0.820047  NaN\n",
       "g       NaN  NaN      NaN  NaN       NaN  NaN\n",
       "h       NaN  NaN      NaN  NaN       NaN  NaN"
      ]
     },
     "execution_count": 242,
     "metadata": {},
     "output_type": "execute_result"
    }
   ],
   "source": [
    "df1=df.reindex(index=list(df.index[2:])+['g','h'],columns=list(df.columns)+['F'])\n",
    "df1[df1<0]=np.nan\n",
    "df1"
   ]
  },
  {
   "cell_type": "code",
   "execution_count": 243,
   "metadata": {},
   "outputs": [
    {
     "data": {
      "text/html": [
       "<div>\n",
       "<style scoped>\n",
       "    .dataframe tbody tr th:only-of-type {\n",
       "        vertical-align: middle;\n",
       "    }\n",
       "\n",
       "    .dataframe tbody tr th {\n",
       "        vertical-align: top;\n",
       "    }\n",
       "\n",
       "    .dataframe thead th {\n",
       "        text-align: right;\n",
       "    }\n",
       "</style>\n",
       "<table border=\"1\" class=\"dataframe\">\n",
       "  <thead>\n",
       "    <tr style=\"text-align: right;\">\n",
       "      <th></th>\n",
       "      <th>E</th>\n",
       "      <th>D</th>\n",
       "      <th>C</th>\n",
       "      <th>A</th>\n",
       "      <th>B</th>\n",
       "      <th>F</th>\n",
       "    </tr>\n",
       "  </thead>\n",
       "  <tbody>\n",
       "    <tr>\n",
       "      <th>c</th>\n",
       "      <td>True</td>\n",
       "      <td>False</td>\n",
       "      <td>True</td>\n",
       "      <td>False</td>\n",
       "      <td>True</td>\n",
       "      <td>True</td>\n",
       "    </tr>\n",
       "    <tr>\n",
       "      <th>d</th>\n",
       "      <td>False</td>\n",
       "      <td>False</td>\n",
       "      <td>False</td>\n",
       "      <td>False</td>\n",
       "      <td>False</td>\n",
       "      <td>True</td>\n",
       "    </tr>\n",
       "    <tr>\n",
       "      <th>e</th>\n",
       "      <td>False</td>\n",
       "      <td>False</td>\n",
       "      <td>False</td>\n",
       "      <td>False</td>\n",
       "      <td>True</td>\n",
       "      <td>True</td>\n",
       "    </tr>\n",
       "    <tr>\n",
       "      <th>f</th>\n",
       "      <td>True</td>\n",
       "      <td>False</td>\n",
       "      <td>True</td>\n",
       "      <td>False</td>\n",
       "      <td>False</td>\n",
       "      <td>True</td>\n",
       "    </tr>\n",
       "    <tr>\n",
       "      <th>g</th>\n",
       "      <td>True</td>\n",
       "      <td>True</td>\n",
       "      <td>True</td>\n",
       "      <td>True</td>\n",
       "      <td>True</td>\n",
       "      <td>True</td>\n",
       "    </tr>\n",
       "    <tr>\n",
       "      <th>h</th>\n",
       "      <td>True</td>\n",
       "      <td>True</td>\n",
       "      <td>True</td>\n",
       "      <td>True</td>\n",
       "      <td>True</td>\n",
       "      <td>True</td>\n",
       "    </tr>\n",
       "  </tbody>\n",
       "</table>\n",
       "</div>"
      ],
      "text/plain": [
       "       E      D      C      A      B     F\n",
       "c   True  False   True  False   True  True\n",
       "d  False  False  False  False  False  True\n",
       "e  False  False  False  False   True  True\n",
       "f   True  False   True  False  False  True\n",
       "g   True   True   True   True   True  True\n",
       "h   True   True   True   True   True  True"
      ]
     },
     "execution_count": 243,
     "metadata": {},
     "output_type": "execute_result"
    }
   ],
   "source": [
    "df1.isna()"
   ]
  },
  {
   "cell_type": "code",
   "execution_count": 247,
   "metadata": {},
   "outputs": [
    {
     "data": {
      "text/html": [
       "<div>\n",
       "<style scoped>\n",
       "    .dataframe tbody tr th:only-of-type {\n",
       "        vertical-align: middle;\n",
       "    }\n",
       "\n",
       "    .dataframe tbody tr th {\n",
       "        vertical-align: top;\n",
       "    }\n",
       "\n",
       "    .dataframe thead th {\n",
       "        text-align: right;\n",
       "    }\n",
       "</style>\n",
       "<table border=\"1\" class=\"dataframe\">\n",
       "  <thead>\n",
       "    <tr style=\"text-align: right;\">\n",
       "      <th></th>\n",
       "      <th>E</th>\n",
       "      <th>D</th>\n",
       "      <th>C</th>\n",
       "      <th>A</th>\n",
       "      <th>B</th>\n",
       "      <th>F</th>\n",
       "    </tr>\n",
       "  </thead>\n",
       "  <tbody>\n",
       "    <tr>\n",
       "      <th>c</th>\n",
       "      <td>NaN</td>\n",
       "      <td>5</td>\n",
       "      <td>NaN</td>\n",
       "      <td>0</td>\n",
       "      <td>NaN</td>\n",
       "      <td>NaN</td>\n",
       "    </tr>\n",
       "    <tr>\n",
       "      <th>d</th>\n",
       "      <td>9</td>\n",
       "      <td>5</td>\n",
       "      <td>7</td>\n",
       "      <td>3</td>\n",
       "      <td>4</td>\n",
       "      <td>NaN</td>\n",
       "    </tr>\n",
       "    <tr>\n",
       "      <th>e</th>\n",
       "      <td>0.510216</td>\n",
       "      <td>5</td>\n",
       "      <td>1.85022</td>\n",
       "      <td>0</td>\n",
       "      <td>NaN</td>\n",
       "      <td>NaN</td>\n",
       "    </tr>\n",
       "    <tr>\n",
       "      <th>f</th>\n",
       "      <td>NaN</td>\n",
       "      <td>5</td>\n",
       "      <td>NaN</td>\n",
       "      <td>0</td>\n",
       "      <td>0.820047</td>\n",
       "      <td>NaN</td>\n",
       "    </tr>\n",
       "  </tbody>\n",
       "</table>\n",
       "</div>"
      ],
      "text/plain": [
       "          E  D        C  A         B    F\n",
       "c       NaN  5      NaN  0       NaN  NaN\n",
       "d         9  5        7  3         4  NaN\n",
       "e  0.510216  5  1.85022  0       NaN  NaN\n",
       "f       NaN  5      NaN  0  0.820047  NaN"
      ]
     },
     "execution_count": 247,
     "metadata": {},
     "output_type": "execute_result"
    }
   ],
   "source": [
    "df1.dropna(how='all')"
   ]
  },
  {
   "cell_type": "code",
   "execution_count": 248,
   "metadata": {},
   "outputs": [
    {
     "data": {
      "text/html": [
       "<div>\n",
       "<style scoped>\n",
       "    .dataframe tbody tr th:only-of-type {\n",
       "        vertical-align: middle;\n",
       "    }\n",
       "\n",
       "    .dataframe tbody tr th {\n",
       "        vertical-align: top;\n",
       "    }\n",
       "\n",
       "    .dataframe thead th {\n",
       "        text-align: right;\n",
       "    }\n",
       "</style>\n",
       "<table border=\"1\" class=\"dataframe\">\n",
       "  <thead>\n",
       "    <tr style=\"text-align: right;\">\n",
       "      <th></th>\n",
       "      <th>E</th>\n",
       "      <th>D</th>\n",
       "      <th>C</th>\n",
       "      <th>A</th>\n",
       "      <th>B</th>\n",
       "      <th>F</th>\n",
       "    </tr>\n",
       "  </thead>\n",
       "  <tbody>\n",
       "    <tr>\n",
       "      <th>c</th>\n",
       "      <td>100.000000</td>\n",
       "      <td>5</td>\n",
       "      <td>100.000000</td>\n",
       "      <td>0</td>\n",
       "      <td>100.000000</td>\n",
       "      <td>100</td>\n",
       "    </tr>\n",
       "    <tr>\n",
       "      <th>d</th>\n",
       "      <td>9.000000</td>\n",
       "      <td>5</td>\n",
       "      <td>7.000000</td>\n",
       "      <td>3</td>\n",
       "      <td>4.000000</td>\n",
       "      <td>100</td>\n",
       "    </tr>\n",
       "    <tr>\n",
       "      <th>e</th>\n",
       "      <td>0.510216</td>\n",
       "      <td>5</td>\n",
       "      <td>1.850221</td>\n",
       "      <td>0</td>\n",
       "      <td>100.000000</td>\n",
       "      <td>100</td>\n",
       "    </tr>\n",
       "    <tr>\n",
       "      <th>f</th>\n",
       "      <td>100.000000</td>\n",
       "      <td>5</td>\n",
       "      <td>100.000000</td>\n",
       "      <td>0</td>\n",
       "      <td>0.820047</td>\n",
       "      <td>100</td>\n",
       "    </tr>\n",
       "    <tr>\n",
       "      <th>g</th>\n",
       "      <td>100.000000</td>\n",
       "      <td>100</td>\n",
       "      <td>100.000000</td>\n",
       "      <td>100</td>\n",
       "      <td>100.000000</td>\n",
       "      <td>100</td>\n",
       "    </tr>\n",
       "    <tr>\n",
       "      <th>h</th>\n",
       "      <td>100.000000</td>\n",
       "      <td>100</td>\n",
       "      <td>100.000000</td>\n",
       "      <td>100</td>\n",
       "      <td>100.000000</td>\n",
       "      <td>100</td>\n",
       "    </tr>\n",
       "  </tbody>\n",
       "</table>\n",
       "</div>"
      ],
      "text/plain": [
       "            E    D           C    A           B    F\n",
       "c  100.000000    5  100.000000    0  100.000000  100\n",
       "d    9.000000    5    7.000000    3    4.000000  100\n",
       "e    0.510216    5    1.850221    0  100.000000  100\n",
       "f  100.000000    5  100.000000    0    0.820047  100\n",
       "g  100.000000  100  100.000000  100  100.000000  100\n",
       "h  100.000000  100  100.000000  100  100.000000  100"
      ]
     },
     "execution_count": 248,
     "metadata": {},
     "output_type": "execute_result"
    }
   ],
   "source": [
    "df1.fillna(value=100)"
   ]
  },
  {
   "cell_type": "markdown",
   "metadata": {},
   "source": [
    "### 操作  \n",
    "一般而言的操作都会排除缺失数据"
   ]
  },
  {
   "cell_type": "markdown",
   "metadata": {},
   "source": [
    "#### 统计操作  \n",
    "统计操作有:**`min`，`max`，`median`，`quantile`，`count`，`sum`，`mean`，`var`，`std`，`cov`**，指定按某个轴计算可以加上axis=0/1，默认是按列计算"
   ]
  },
  {
   "cell_type": "code",
   "execution_count": 1,
   "metadata": {},
   "outputs": [
    {
     "data": {
      "text/html": [
       "<div>\n",
       "<style scoped>\n",
       "    .dataframe tbody tr th:only-of-type {\n",
       "        vertical-align: middle;\n",
       "    }\n",
       "\n",
       "    .dataframe tbody tr th {\n",
       "        vertical-align: top;\n",
       "    }\n",
       "\n",
       "    .dataframe thead th {\n",
       "        text-align: right;\n",
       "    }\n",
       "</style>\n",
       "<table border=\"1\" class=\"dataframe\">\n",
       "  <thead>\n",
       "    <tr style=\"text-align: right;\">\n",
       "      <th></th>\n",
       "      <th>A</th>\n",
       "      <th>B</th>\n",
       "      <th>C</th>\n",
       "      <th>D</th>\n",
       "      <th>E</th>\n",
       "      <th>F</th>\n",
       "      <th>G</th>\n",
       "      <th>H</th>\n",
       "    </tr>\n",
       "  </thead>\n",
       "  <tbody>\n",
       "    <tr>\n",
       "      <th>a</th>\n",
       "      <td>1.114915</td>\n",
       "      <td>-0.332234</td>\n",
       "      <td>-0.133817</td>\n",
       "      <td>1.294784</td>\n",
       "      <td>0.218391</td>\n",
       "      <td>-1.583136</td>\n",
       "      <td>0.879733</td>\n",
       "      <td>-0.226854</td>\n",
       "    </tr>\n",
       "    <tr>\n",
       "      <th>b</th>\n",
       "      <td>0.319032</td>\n",
       "      <td>-0.645672</td>\n",
       "      <td>0.285107</td>\n",
       "      <td>0.466809</td>\n",
       "      <td>0.500004</td>\n",
       "      <td>1.167855</td>\n",
       "      <td>-0.141746</td>\n",
       "      <td>1.603696</td>\n",
       "    </tr>\n",
       "    <tr>\n",
       "      <th>c</th>\n",
       "      <td>-1.170743</td>\n",
       "      <td>0.168568</td>\n",
       "      <td>-0.060720</td>\n",
       "      <td>0.480827</td>\n",
       "      <td>0.757633</td>\n",
       "      <td>-0.464112</td>\n",
       "      <td>1.060859</td>\n",
       "      <td>2.417470</td>\n",
       "    </tr>\n",
       "    <tr>\n",
       "      <th>d</th>\n",
       "      <td>1.199729</td>\n",
       "      <td>0.661571</td>\n",
       "      <td>-0.543229</td>\n",
       "      <td>-2.096887</td>\n",
       "      <td>0.352315</td>\n",
       "      <td>0.028192</td>\n",
       "      <td>-0.368311</td>\n",
       "      <td>-0.675486</td>\n",
       "    </tr>\n",
       "    <tr>\n",
       "      <th>e</th>\n",
       "      <td>1.001108</td>\n",
       "      <td>0.697587</td>\n",
       "      <td>1.536703</td>\n",
       "      <td>-0.330860</td>\n",
       "      <td>0.469313</td>\n",
       "      <td>-0.351742</td>\n",
       "      <td>1.429091</td>\n",
       "      <td>1.089217</td>\n",
       "    </tr>\n",
       "    <tr>\n",
       "      <th>f</th>\n",
       "      <td>0.164735</td>\n",
       "      <td>0.163499</td>\n",
       "      <td>0.066771</td>\n",
       "      <td>0.748576</td>\n",
       "      <td>-0.792457</td>\n",
       "      <td>1.893259</td>\n",
       "      <td>0.359123</td>\n",
       "      <td>-1.682346</td>\n",
       "    </tr>\n",
       "  </tbody>\n",
       "</table>\n",
       "</div>"
      ],
      "text/plain": [
       "          A         B         C         D         E         F         G  \\\n",
       "a  1.114915 -0.332234 -0.133817  1.294784  0.218391 -1.583136  0.879733   \n",
       "b  0.319032 -0.645672  0.285107  0.466809  0.500004  1.167855 -0.141746   \n",
       "c -1.170743  0.168568 -0.060720  0.480827  0.757633 -0.464112  1.060859   \n",
       "d  1.199729  0.661571 -0.543229 -2.096887  0.352315  0.028192 -0.368311   \n",
       "e  1.001108  0.697587  1.536703 -0.330860  0.469313 -0.351742  1.429091   \n",
       "f  0.164735  0.163499  0.066771  0.748576 -0.792457  1.893259  0.359123   \n",
       "\n",
       "          H  \n",
       "a -0.226854  \n",
       "b  1.603696  \n",
       "c  2.417470  \n",
       "d -0.675486  \n",
       "e  1.089217  \n",
       "f -1.682346  "
      ]
     },
     "execution_count": 1,
     "metadata": {},
     "output_type": "execute_result"
    }
   ],
   "source": [
    "import pandas as pd\n",
    "import numpy as np\n",
    "df=pd.DataFrame(np.random.randn(6,8),index=list('abcdef'),columns=list('ABCDEFGH'))\n",
    "df"
   ]
  },
  {
   "cell_type": "code",
   "execution_count": 2,
   "metadata": {},
   "outputs": [
    {
     "data": {
      "text/plain": [
       "a    0.153972\n",
       "b    0.444386\n",
       "c    0.398723\n",
       "d   -0.180263\n",
       "e    0.692552\n",
       "f    0.115145\n",
       "dtype: float64"
      ]
     },
     "execution_count": 2,
     "metadata": {},
     "output_type": "execute_result"
    }
   ],
   "source": [
    "df.mean(axis=1)"
   ]
  },
  {
   "cell_type": "code",
   "execution_count": 3,
   "metadata": {},
   "outputs": [
    {
     "data": {
      "text/plain": [
       "A    0.660070\n",
       "B    0.166033\n",
       "C    0.003025\n",
       "D    0.473818\n",
       "E    0.410814\n",
       "F   -0.161775\n",
       "G    0.619428\n",
       "H    0.431181\n",
       "dtype: float64"
      ]
     },
     "execution_count": 3,
     "metadata": {},
     "output_type": "execute_result"
    }
   ],
   "source": [
    "df.median()#中值"
   ]
  },
  {
   "cell_type": "code",
   "execution_count": 28,
   "metadata": {},
   "outputs": [
    {
     "data": {
      "text/plain": [
       "A    0.806483\n",
       "B    0.284384\n",
       "C    0.508633\n",
       "D    1.427893\n",
       "E    0.293294\n",
       "F    1.543026\n",
       "G    0.499928\n",
       "H    2.375448\n",
       "dtype: float64"
      ]
     },
     "execution_count": 28,
     "metadata": {},
     "output_type": "execute_result"
    }
   ],
   "source": [
    "df.var()#方差，默认归一化参数是N-1（这也是由样本对总体方差的无偏估计），可以通过设置数据自由度参数ddof改变"
   ]
  },
  {
   "cell_type": "code",
   "execution_count": 29,
   "metadata": {},
   "outputs": [
    {
     "data": {
      "text/html": [
       "<div>\n",
       "<style scoped>\n",
       "    .dataframe tbody tr th:only-of-type {\n",
       "        vertical-align: middle;\n",
       "    }\n",
       "\n",
       "    .dataframe tbody tr th {\n",
       "        vertical-align: top;\n",
       "    }\n",
       "\n",
       "    .dataframe thead th {\n",
       "        text-align: right;\n",
       "    }\n",
       "</style>\n",
       "<table border=\"1\" class=\"dataframe\">\n",
       "  <thead>\n",
       "    <tr style=\"text-align: right;\">\n",
       "      <th></th>\n",
       "      <th>A</th>\n",
       "      <th>B</th>\n",
       "      <th>C</th>\n",
       "      <th>D</th>\n",
       "      <th>E</th>\n",
       "      <th>F</th>\n",
       "      <th>G</th>\n",
       "      <th>H</th>\n",
       "    </tr>\n",
       "  </thead>\n",
       "  <tbody>\n",
       "    <tr>\n",
       "      <th>count</th>\n",
       "      <td>6.000000</td>\n",
       "      <td>6.000000</td>\n",
       "      <td>6.000000</td>\n",
       "      <td>6.000000</td>\n",
       "      <td>6.000000</td>\n",
       "      <td>6.000000</td>\n",
       "      <td>6.000000</td>\n",
       "      <td>6.000000</td>\n",
       "    </tr>\n",
       "    <tr>\n",
       "      <th>mean</th>\n",
       "      <td>0.438129</td>\n",
       "      <td>0.118886</td>\n",
       "      <td>0.191802</td>\n",
       "      <td>0.093875</td>\n",
       "      <td>0.250866</td>\n",
       "      <td>0.115053</td>\n",
       "      <td>0.536458</td>\n",
       "      <td>0.420950</td>\n",
       "    </tr>\n",
       "    <tr>\n",
       "      <th>std</th>\n",
       "      <td>0.898044</td>\n",
       "      <td>0.533277</td>\n",
       "      <td>0.713185</td>\n",
       "      <td>1.194945</td>\n",
       "      <td>0.541566</td>\n",
       "      <td>1.242186</td>\n",
       "      <td>0.707056</td>\n",
       "      <td>1.541249</td>\n",
       "    </tr>\n",
       "    <tr>\n",
       "      <th>min</th>\n",
       "      <td>-1.170743</td>\n",
       "      <td>-0.645672</td>\n",
       "      <td>-0.543229</td>\n",
       "      <td>-2.096887</td>\n",
       "      <td>-0.792457</td>\n",
       "      <td>-1.583136</td>\n",
       "      <td>-0.368311</td>\n",
       "      <td>-1.682346</td>\n",
       "    </tr>\n",
       "    <tr>\n",
       "      <th>25%</th>\n",
       "      <td>0.203309</td>\n",
       "      <td>-0.208301</td>\n",
       "      <td>-0.115543</td>\n",
       "      <td>-0.131443</td>\n",
       "      <td>0.251872</td>\n",
       "      <td>-0.436020</td>\n",
       "      <td>-0.016528</td>\n",
       "      <td>-0.563328</td>\n",
       "    </tr>\n",
       "    <tr>\n",
       "      <th>50%</th>\n",
       "      <td>0.660070</td>\n",
       "      <td>0.166033</td>\n",
       "      <td>0.003025</td>\n",
       "      <td>0.473818</td>\n",
       "      <td>0.410814</td>\n",
       "      <td>-0.161775</td>\n",
       "      <td>0.619428</td>\n",
       "      <td>0.431181</td>\n",
       "    </tr>\n",
       "    <tr>\n",
       "      <th>75%</th>\n",
       "      <td>1.086463</td>\n",
       "      <td>0.538320</td>\n",
       "      <td>0.230523</td>\n",
       "      <td>0.681638</td>\n",
       "      <td>0.492331</td>\n",
       "      <td>0.882940</td>\n",
       "      <td>1.015577</td>\n",
       "      <td>1.475076</td>\n",
       "    </tr>\n",
       "    <tr>\n",
       "      <th>max</th>\n",
       "      <td>1.199729</td>\n",
       "      <td>0.697587</td>\n",
       "      <td>1.536703</td>\n",
       "      <td>1.294784</td>\n",
       "      <td>0.757633</td>\n",
       "      <td>1.893259</td>\n",
       "      <td>1.429091</td>\n",
       "      <td>2.417470</td>\n",
       "    </tr>\n",
       "  </tbody>\n",
       "</table>\n",
       "</div>"
      ],
      "text/plain": [
       "              A         B         C         D         E         F         G  \\\n",
       "count  6.000000  6.000000  6.000000  6.000000  6.000000  6.000000  6.000000   \n",
       "mean   0.438129  0.118886  0.191802  0.093875  0.250866  0.115053  0.536458   \n",
       "std    0.898044  0.533277  0.713185  1.194945  0.541566  1.242186  0.707056   \n",
       "min   -1.170743 -0.645672 -0.543229 -2.096887 -0.792457 -1.583136 -0.368311   \n",
       "25%    0.203309 -0.208301 -0.115543 -0.131443  0.251872 -0.436020 -0.016528   \n",
       "50%    0.660070  0.166033  0.003025  0.473818  0.410814 -0.161775  0.619428   \n",
       "75%    1.086463  0.538320  0.230523  0.681638  0.492331  0.882940  1.015577   \n",
       "max    1.199729  0.697587  1.536703  1.294784  0.757633  1.893259  1.429091   \n",
       "\n",
       "              H  \n",
       "count  6.000000  \n",
       "mean   0.420950  \n",
       "std    1.541249  \n",
       "min   -1.682346  \n",
       "25%   -0.563328  \n",
       "50%    0.431181  \n",
       "75%    1.475076  \n",
       "max    2.417470  "
      ]
     },
     "execution_count": 29,
     "metadata": {},
     "output_type": "execute_result"
    }
   ],
   "source": [
    "df.describe()"
   ]
  },
  {
   "cell_type": "code",
   "execution_count": 33,
   "metadata": {},
   "outputs": [
    {
     "data": {
      "text/html": [
       "<div>\n",
       "<style scoped>\n",
       "    .dataframe tbody tr th:only-of-type {\n",
       "        vertical-align: middle;\n",
       "    }\n",
       "\n",
       "    .dataframe tbody tr th {\n",
       "        vertical-align: top;\n",
       "    }\n",
       "\n",
       "    .dataframe thead th {\n",
       "        text-align: right;\n",
       "    }\n",
       "</style>\n",
       "<table border=\"1\" class=\"dataframe\">\n",
       "  <thead>\n",
       "    <tr style=\"text-align: right;\">\n",
       "      <th></th>\n",
       "      <th>A</th>\n",
       "      <th>B</th>\n",
       "      <th>C</th>\n",
       "      <th>D</th>\n",
       "      <th>E</th>\n",
       "      <th>F</th>\n",
       "      <th>G</th>\n",
       "      <th>H</th>\n",
       "    </tr>\n",
       "  </thead>\n",
       "  <tbody>\n",
       "    <tr>\n",
       "      <th>A</th>\n",
       "      <td>0.806483</td>\n",
       "      <td>0.086544</td>\n",
       "      <td>0.081265</td>\n",
       "      <td>-0.388161</td>\n",
       "      <td>-0.076298</td>\n",
       "      <td>-0.231599</td>\n",
       "      <td>-0.133731</td>\n",
       "      <td>-0.735046</td>\n",
       "    </tr>\n",
       "    <tr>\n",
       "      <th>B</th>\n",
       "      <td>0.086544</td>\n",
       "      <td>0.284384</td>\n",
       "      <td>0.087368</td>\n",
       "      <td>-0.442628</td>\n",
       "      <td>-0.003146</td>\n",
       "      <td>-0.061112</td>\n",
       "      <td>0.081475</td>\n",
       "      <td>-0.162995</td>\n",
       "    </tr>\n",
       "    <tr>\n",
       "      <th>C</th>\n",
       "      <td>0.081265</td>\n",
       "      <td>0.087368</td>\n",
       "      <td>0.508633</td>\n",
       "      <td>0.100647</td>\n",
       "      <td>0.051104</td>\n",
       "      <td>0.002234</td>\n",
       "      <td>0.316046</td>\n",
       "      <td>0.356955</td>\n",
       "    </tr>\n",
       "    <tr>\n",
       "      <th>D</th>\n",
       "      <td>-0.388161</td>\n",
       "      <td>-0.442628</td>\n",
       "      <td>0.100647</td>\n",
       "      <td>1.427893</td>\n",
       "      <td>-0.149618</td>\n",
       "      <td>-0.063621</td>\n",
       "      <td>0.369827</td>\n",
       "      <td>0.235371</td>\n",
       "    </tr>\n",
       "    <tr>\n",
       "      <th>E</th>\n",
       "      <td>-0.076298</td>\n",
       "      <td>-0.003146</td>\n",
       "      <td>0.051104</td>\n",
       "      <td>-0.149618</td>\n",
       "      <td>0.293294</td>\n",
       "      <td>-0.388417</td>\n",
       "      <td>0.074771</td>\n",
       "      <td>0.711328</td>\n",
       "    </tr>\n",
       "    <tr>\n",
       "      <th>F</th>\n",
       "      <td>-0.231599</td>\n",
       "      <td>-0.061112</td>\n",
       "      <td>0.002234</td>\n",
       "      <td>-0.063621</td>\n",
       "      <td>-0.388417</td>\n",
       "      <td>1.543026</td>\n",
       "      <td>-0.450820</td>\n",
       "      <td>-0.553564</td>\n",
       "    </tr>\n",
       "    <tr>\n",
       "      <th>G</th>\n",
       "      <td>-0.133731</td>\n",
       "      <td>0.081475</td>\n",
       "      <td>0.316046</td>\n",
       "      <td>0.369827</td>\n",
       "      <td>0.074771</td>\n",
       "      <td>-0.450820</td>\n",
       "      <td>0.499928</td>\n",
       "      <td>0.396797</td>\n",
       "    </tr>\n",
       "    <tr>\n",
       "      <th>H</th>\n",
       "      <td>-0.735046</td>\n",
       "      <td>-0.162995</td>\n",
       "      <td>0.356955</td>\n",
       "      <td>0.235371</td>\n",
       "      <td>0.711328</td>\n",
       "      <td>-0.553564</td>\n",
       "      <td>0.396797</td>\n",
       "      <td>2.375448</td>\n",
       "    </tr>\n",
       "  </tbody>\n",
       "</table>\n",
       "</div>"
      ],
      "text/plain": [
       "          A         B         C         D         E         F         G  \\\n",
       "A  0.806483  0.086544  0.081265 -0.388161 -0.076298 -0.231599 -0.133731   \n",
       "B  0.086544  0.284384  0.087368 -0.442628 -0.003146 -0.061112  0.081475   \n",
       "C  0.081265  0.087368  0.508633  0.100647  0.051104  0.002234  0.316046   \n",
       "D -0.388161 -0.442628  0.100647  1.427893 -0.149618 -0.063621  0.369827   \n",
       "E -0.076298 -0.003146  0.051104 -0.149618  0.293294 -0.388417  0.074771   \n",
       "F -0.231599 -0.061112  0.002234 -0.063621 -0.388417  1.543026 -0.450820   \n",
       "G -0.133731  0.081475  0.316046  0.369827  0.074771 -0.450820  0.499928   \n",
       "H -0.735046 -0.162995  0.356955  0.235371  0.711328 -0.553564  0.396797   \n",
       "\n",
       "          H  \n",
       "A -0.735046  \n",
       "B -0.162995  \n",
       "C  0.356955  \n",
       "D  0.235371  \n",
       "E  0.711328  \n",
       "F -0.553564  \n",
       "G  0.396797  \n",
       "H  2.375448  "
      ]
     },
     "execution_count": 33,
     "metadata": {},
     "output_type": "execute_result"
    }
   ],
   "source": [
    "df.cov()#协方差矩阵"
   ]
  },
  {
   "cell_type": "code",
   "execution_count": 34,
   "metadata": {},
   "outputs": [
    {
     "data": {
      "text/plain": [
       "A    0.319032\n",
       "B    0.163499\n",
       "C   -0.060720\n",
       "D    0.466809\n",
       "E    0.352315\n",
       "F   -0.351742\n",
       "G    0.359123\n",
       "H   -0.226854\n",
       "Name: 0.4, dtype: float64"
      ]
     },
     "execution_count": 34,
     "metadata": {},
     "output_type": "execute_result"
    }
   ],
   "source": [
    "df.quantile(q=0.4)#下分位点"
   ]
  },
  {
   "cell_type": "markdown",
   "metadata": {},
   "source": [
    "#### 函数操作  \n",
    "`apply()`函数——与`assign`区别:`assign`是对数据表原有列执行函数操作生成新列，形成新数据表（原数据表不变）；`apply`是对数据表执行函数处理生成新数据表"
   ]
  },
  {
   "cell_type": "code",
   "execution_count": 41,
   "metadata": {},
   "outputs": [
    {
     "data": {
      "text/html": [
       "<div>\n",
       "<style scoped>\n",
       "    .dataframe tbody tr th:only-of-type {\n",
       "        vertical-align: middle;\n",
       "    }\n",
       "\n",
       "    .dataframe tbody tr th {\n",
       "        vertical-align: top;\n",
       "    }\n",
       "\n",
       "    .dataframe thead th {\n",
       "        text-align: right;\n",
       "    }\n",
       "</style>\n",
       "<table border=\"1\" class=\"dataframe\">\n",
       "  <thead>\n",
       "    <tr style=\"text-align: right;\">\n",
       "      <th></th>\n",
       "      <th>A</th>\n",
       "      <th>B</th>\n",
       "      <th>C</th>\n",
       "      <th>D</th>\n",
       "      <th>E</th>\n",
       "      <th>F</th>\n",
       "      <th>G</th>\n",
       "      <th>H</th>\n",
       "    </tr>\n",
       "  </thead>\n",
       "  <tbody>\n",
       "    <tr>\n",
       "      <th>a</th>\n",
       "      <td>1.114915</td>\n",
       "      <td>-0.332234</td>\n",
       "      <td>-0.133817</td>\n",
       "      <td>1.294784</td>\n",
       "      <td>0.218391</td>\n",
       "      <td>-1.583136</td>\n",
       "      <td>0.879733</td>\n",
       "      <td>-0.226854</td>\n",
       "    </tr>\n",
       "    <tr>\n",
       "      <th>b</th>\n",
       "      <td>1.433947</td>\n",
       "      <td>-0.977907</td>\n",
       "      <td>0.151289</td>\n",
       "      <td>1.761592</td>\n",
       "      <td>0.718395</td>\n",
       "      <td>-0.415281</td>\n",
       "      <td>0.737987</td>\n",
       "      <td>1.376842</td>\n",
       "    </tr>\n",
       "    <tr>\n",
       "      <th>c</th>\n",
       "      <td>0.263204</td>\n",
       "      <td>-0.809339</td>\n",
       "      <td>0.090569</td>\n",
       "      <td>2.242419</td>\n",
       "      <td>1.476027</td>\n",
       "      <td>-0.879393</td>\n",
       "      <td>1.798846</td>\n",
       "      <td>3.794312</td>\n",
       "    </tr>\n",
       "    <tr>\n",
       "      <th>d</th>\n",
       "      <td>1.462933</td>\n",
       "      <td>-0.147768</td>\n",
       "      <td>-0.452660</td>\n",
       "      <td>0.145532</td>\n",
       "      <td>1.828343</td>\n",
       "      <td>-0.851201</td>\n",
       "      <td>1.430535</td>\n",
       "      <td>3.118826</td>\n",
       "    </tr>\n",
       "    <tr>\n",
       "      <th>e</th>\n",
       "      <td>2.464042</td>\n",
       "      <td>0.549819</td>\n",
       "      <td>1.084043</td>\n",
       "      <td>-0.185328</td>\n",
       "      <td>2.297655</td>\n",
       "      <td>-1.202943</td>\n",
       "      <td>2.859626</td>\n",
       "      <td>4.208043</td>\n",
       "    </tr>\n",
       "    <tr>\n",
       "      <th>f</th>\n",
       "      <td>2.628777</td>\n",
       "      <td>0.713318</td>\n",
       "      <td>1.150814</td>\n",
       "      <td>0.563248</td>\n",
       "      <td>1.505198</td>\n",
       "      <td>0.690316</td>\n",
       "      <td>3.218749</td>\n",
       "      <td>2.525697</td>\n",
       "    </tr>\n",
       "  </tbody>\n",
       "</table>\n",
       "</div>"
      ],
      "text/plain": [
       "          A         B         C         D         E         F         G  \\\n",
       "a  1.114915 -0.332234 -0.133817  1.294784  0.218391 -1.583136  0.879733   \n",
       "b  1.433947 -0.977907  0.151289  1.761592  0.718395 -0.415281  0.737987   \n",
       "c  0.263204 -0.809339  0.090569  2.242419  1.476027 -0.879393  1.798846   \n",
       "d  1.462933 -0.147768 -0.452660  0.145532  1.828343 -0.851201  1.430535   \n",
       "e  2.464042  0.549819  1.084043 -0.185328  2.297655 -1.202943  2.859626   \n",
       "f  2.628777  0.713318  1.150814  0.563248  1.505198  0.690316  3.218749   \n",
       "\n",
       "          H  \n",
       "a -0.226854  \n",
       "b  1.376842  \n",
       "c  3.794312  \n",
       "d  3.118826  \n",
       "e  4.208043  \n",
       "f  2.525697  "
      ]
     },
     "execution_count": 41,
     "metadata": {},
     "output_type": "execute_result"
    }
   ],
   "source": [
    "df.apply(np.cumsum)"
   ]
  },
  {
   "cell_type": "code",
   "execution_count": 50,
   "metadata": {},
   "outputs": [
    {
     "data": {
      "text/plain": [
       "A    2.370472\n",
       "B    1.343259\n",
       "C    2.079932\n",
       "D    3.391671\n",
       "E    1.550090\n",
       "F    3.476396\n",
       "G    1.797402\n",
       "H    4.099816\n",
       "dtype: float64"
      ]
     },
     "execution_count": 50,
     "metadata": {},
     "output_type": "execute_result"
    }
   ],
   "source": [
    "df.apply(lambda x:x.max()-x.min())"
   ]
  },
  {
   "cell_type": "markdown",
   "metadata": {},
   "source": [
    "#### 直方统计"
   ]
  },
  {
   "cell_type": "code",
   "execution_count": 52,
   "metadata": {},
   "outputs": [
    {
     "data": {
      "text/plain": [
       "0     2\n",
       "1     1\n",
       "2     5\n",
       "3     5\n",
       "4     1\n",
       "5     4\n",
       "6     2\n",
       "7     4\n",
       "8     3\n",
       "9     4\n",
       "10    3\n",
       "11    1\n",
       "dtype: int32"
      ]
     },
     "execution_count": 52,
     "metadata": {},
     "output_type": "execute_result"
    }
   ],
   "source": [
    "s=pd.Series(np.random.randint(1,6,size=12))\n",
    "s"
   ]
  },
  {
   "cell_type": "code",
   "execution_count": 56,
   "metadata": {},
   "outputs": [
    {
     "data": {
      "text/plain": [
       "4    3\n",
       "1    3\n",
       "5    2\n",
       "3    2\n",
       "2    2\n",
       "dtype: int64"
      ]
     },
     "execution_count": 56,
     "metadata": {},
     "output_type": "execute_result"
    }
   ],
   "source": [
    "s.value_counts()#生成一个Series，行名是各个不同的数据，元素值为该数据出现的频次"
   ]
  },
  {
   "cell_type": "markdown",
   "metadata": {},
   "source": [
    "#### 字符串处理  \n",
    "`Series`提供了对字符串的处理，可以用于前期的字符串类数据的清洗、格式化等，比如表中可能会有人名、地名列，可能需要对其执行某些操作，诸如化成小写、大写，去除空格，取子字符串，给字符串加上其他修饰，匹配操作字符串（比如对人名中有下划线的改成分隔符等），分割与替换字符串等，各方法主要由`Series.str`提供，详见[文本数据处理](https://pandas.pydata.org/pandas-docs/stable/user_guide/text.html)"
   ]
  },
  {
   "cell_type": "code",
   "execution_count": 59,
   "metadata": {},
   "outputs": [
    {
     "data": {
      "text/plain": [
       "Index(['A', 'B', 'C', 'D', 'E', 'F'], dtype='object')"
      ]
     },
     "execution_count": 59,
     "metadata": {},
     "output_type": "execute_result"
    }
   ],
   "source": [
    "df.index.str.upper()"
   ]
  },
  {
   "cell_type": "code",
   "execution_count": 61,
   "metadata": {},
   "outputs": [
    {
     "data": {
      "text/plain": [
       "Index(['a', 'b', 'c', 'd', 'e', 'f', 'g', 'h'], dtype='object')"
      ]
     },
     "execution_count": 61,
     "metadata": {},
     "output_type": "execute_result"
    }
   ],
   "source": [
    "df.columns.str.lower()"
   ]
  },
  {
   "cell_type": "markdown",
   "metadata": {},
   "source": [
    "### 融合"
   ]
  },
  {
   "cell_type": "markdown",
   "metadata": {},
   "source": [
    "#### 合并——`concat`"
   ]
  },
  {
   "cell_type": "code",
   "execution_count": 62,
   "metadata": {},
   "outputs": [
    {
     "data": {
      "text/html": [
       "<div>\n",
       "<style scoped>\n",
       "    .dataframe tbody tr th:only-of-type {\n",
       "        vertical-align: middle;\n",
       "    }\n",
       "\n",
       "    .dataframe tbody tr th {\n",
       "        vertical-align: top;\n",
       "    }\n",
       "\n",
       "    .dataframe thead th {\n",
       "        text-align: right;\n",
       "    }\n",
       "</style>\n",
       "<table border=\"1\" class=\"dataframe\">\n",
       "  <thead>\n",
       "    <tr style=\"text-align: right;\">\n",
       "      <th></th>\n",
       "      <th>A</th>\n",
       "      <th>C</th>\n",
       "      <th>G</th>\n",
       "    </tr>\n",
       "  </thead>\n",
       "  <tbody>\n",
       "    <tr>\n",
       "      <th>a</th>\n",
       "      <td>1.114915</td>\n",
       "      <td>-0.133817</td>\n",
       "      <td>0.879733</td>\n",
       "    </tr>\n",
       "    <tr>\n",
       "      <th>b</th>\n",
       "      <td>0.319032</td>\n",
       "      <td>0.285107</td>\n",
       "      <td>-0.141746</td>\n",
       "    </tr>\n",
       "    <tr>\n",
       "      <th>c</th>\n",
       "      <td>-1.170743</td>\n",
       "      <td>-0.060720</td>\n",
       "      <td>1.060859</td>\n",
       "    </tr>\n",
       "    <tr>\n",
       "      <th>d</th>\n",
       "      <td>1.199729</td>\n",
       "      <td>-0.543229</td>\n",
       "      <td>-0.368311</td>\n",
       "    </tr>\n",
       "    <tr>\n",
       "      <th>e</th>\n",
       "      <td>1.001108</td>\n",
       "      <td>1.536703</td>\n",
       "      <td>1.429091</td>\n",
       "    </tr>\n",
       "    <tr>\n",
       "      <th>f</th>\n",
       "      <td>0.164735</td>\n",
       "      <td>0.066771</td>\n",
       "      <td>0.359123</td>\n",
       "    </tr>\n",
       "  </tbody>\n",
       "</table>\n",
       "</div>"
      ],
      "text/plain": [
       "          A         C         G\n",
       "a  1.114915 -0.133817  0.879733\n",
       "b  0.319032  0.285107 -0.141746\n",
       "c -1.170743 -0.060720  1.060859\n",
       "d  1.199729 -0.543229 -0.368311\n",
       "e  1.001108  1.536703  1.429091\n",
       "f  0.164735  0.066771  0.359123"
      ]
     },
     "execution_count": 62,
     "metadata": {},
     "output_type": "execute_result"
    }
   ],
   "source": [
    "pd.concat([df['A'],df['C'],df['G']],axis=1)"
   ]
  },
  {
   "cell_type": "code",
   "execution_count": 66,
   "metadata": {},
   "outputs": [
    {
     "data": {
      "text/html": [
       "<div>\n",
       "<style scoped>\n",
       "    .dataframe tbody tr th:only-of-type {\n",
       "        vertical-align: middle;\n",
       "    }\n",
       "\n",
       "    .dataframe tbody tr th {\n",
       "        vertical-align: top;\n",
       "    }\n",
       "\n",
       "    .dataframe thead th {\n",
       "        text-align: right;\n",
       "    }\n",
       "</style>\n",
       "<table border=\"1\" class=\"dataframe\">\n",
       "  <thead>\n",
       "    <tr style=\"text-align: right;\">\n",
       "      <th></th>\n",
       "      <th>A</th>\n",
       "      <th>B</th>\n",
       "      <th>C</th>\n",
       "      <th>D</th>\n",
       "      <th>E</th>\n",
       "      <th>F</th>\n",
       "      <th>G</th>\n",
       "      <th>H</th>\n",
       "    </tr>\n",
       "  </thead>\n",
       "  <tbody>\n",
       "    <tr>\n",
       "      <th>a</th>\n",
       "      <td>1.114915</td>\n",
       "      <td>-0.332234</td>\n",
       "      <td>-0.133817</td>\n",
       "      <td>1.294784</td>\n",
       "      <td>0.218391</td>\n",
       "      <td>-1.583136</td>\n",
       "      <td>0.879733</td>\n",
       "      <td>-0.226854</td>\n",
       "    </tr>\n",
       "    <tr>\n",
       "      <th>b</th>\n",
       "      <td>0.319032</td>\n",
       "      <td>-0.645672</td>\n",
       "      <td>0.285107</td>\n",
       "      <td>0.466809</td>\n",
       "      <td>0.500004</td>\n",
       "      <td>1.167855</td>\n",
       "      <td>-0.141746</td>\n",
       "      <td>1.603696</td>\n",
       "    </tr>\n",
       "    <tr>\n",
       "      <th>d</th>\n",
       "      <td>1.199729</td>\n",
       "      <td>0.661571</td>\n",
       "      <td>-0.543229</td>\n",
       "      <td>-2.096887</td>\n",
       "      <td>0.352315</td>\n",
       "      <td>0.028192</td>\n",
       "      <td>-0.368311</td>\n",
       "      <td>-0.675486</td>\n",
       "    </tr>\n",
       "    <tr>\n",
       "      <th>e</th>\n",
       "      <td>1.001108</td>\n",
       "      <td>0.697587</td>\n",
       "      <td>1.536703</td>\n",
       "      <td>-0.330860</td>\n",
       "      <td>0.469313</td>\n",
       "      <td>-0.351742</td>\n",
       "      <td>1.429091</td>\n",
       "      <td>1.089217</td>\n",
       "    </tr>\n",
       "  </tbody>\n",
       "</table>\n",
       "</div>"
      ],
      "text/plain": [
       "          A         B         C         D         E         F         G  \\\n",
       "a  1.114915 -0.332234 -0.133817  1.294784  0.218391 -1.583136  0.879733   \n",
       "b  0.319032 -0.645672  0.285107  0.466809  0.500004  1.167855 -0.141746   \n",
       "d  1.199729  0.661571 -0.543229 -2.096887  0.352315  0.028192 -0.368311   \n",
       "e  1.001108  0.697587  1.536703 -0.330860  0.469313 -0.351742  1.429091   \n",
       "\n",
       "          H  \n",
       "a -0.226854  \n",
       "b  1.603696  \n",
       "d -0.675486  \n",
       "e  1.089217  "
      ]
     },
     "execution_count": 66,
     "metadata": {},
     "output_type": "execute_result"
    }
   ],
   "source": [
    "pd.concat([df[:2],df[3:-1]],axis=0)"
   ]
  },
  {
   "cell_type": "code",
   "execution_count": 70,
   "metadata": {},
   "outputs": [
    {
     "data": {
      "text/html": [
       "<div>\n",
       "<style scoped>\n",
       "    .dataframe tbody tr th:only-of-type {\n",
       "        vertical-align: middle;\n",
       "    }\n",
       "\n",
       "    .dataframe tbody tr th {\n",
       "        vertical-align: top;\n",
       "    }\n",
       "\n",
       "    .dataframe thead th {\n",
       "        text-align: right;\n",
       "    }\n",
       "</style>\n",
       "<table border=\"1\" class=\"dataframe\">\n",
       "  <thead>\n",
       "    <tr style=\"text-align: right;\">\n",
       "      <th></th>\n",
       "      <th>0</th>\n",
       "      <th>1</th>\n",
       "      <th>2</th>\n",
       "      <th>0</th>\n",
       "      <th>1</th>\n",
       "      <th>2</th>\n",
       "    </tr>\n",
       "  </thead>\n",
       "  <tbody>\n",
       "    <tr>\n",
       "      <th>0</th>\n",
       "      <td>1.0</td>\n",
       "      <td>1.0</td>\n",
       "      <td>1.0</td>\n",
       "      <td>0.0</td>\n",
       "      <td>0.0</td>\n",
       "      <td>0.0</td>\n",
       "    </tr>\n",
       "    <tr>\n",
       "      <th>1</th>\n",
       "      <td>1.0</td>\n",
       "      <td>1.0</td>\n",
       "      <td>1.0</td>\n",
       "      <td>0.0</td>\n",
       "      <td>0.0</td>\n",
       "      <td>0.0</td>\n",
       "    </tr>\n",
       "    <tr>\n",
       "      <th>2</th>\n",
       "      <td>1.0</td>\n",
       "      <td>1.0</td>\n",
       "      <td>1.0</td>\n",
       "      <td>0.0</td>\n",
       "      <td>0.0</td>\n",
       "      <td>0.0</td>\n",
       "    </tr>\n",
       "  </tbody>\n",
       "</table>\n",
       "</div>"
      ],
      "text/plain": [
       "     0    1    2    0    1    2\n",
       "0  1.0  1.0  1.0  0.0  0.0  0.0\n",
       "1  1.0  1.0  1.0  0.0  0.0  0.0\n",
       "2  1.0  1.0  1.0  0.0  0.0  0.0"
      ]
     },
     "execution_count": 70,
     "metadata": {},
     "output_type": "execute_result"
    }
   ],
   "source": [
    "df1=pd.DataFrame(np.ones([3,3]))\n",
    "df2=pd.DataFrame(np.zeros([3,3]))\n",
    "pd.concat([df1,df2],axis=1)"
   ]
  },
  {
   "cell_type": "code",
   "execution_count": 71,
   "metadata": {},
   "outputs": [
    {
     "data": {
      "text/html": [
       "<div>\n",
       "<style scoped>\n",
       "    .dataframe tbody tr th:only-of-type {\n",
       "        vertical-align: middle;\n",
       "    }\n",
       "\n",
       "    .dataframe tbody tr th {\n",
       "        vertical-align: top;\n",
       "    }\n",
       "\n",
       "    .dataframe thead th {\n",
       "        text-align: right;\n",
       "    }\n",
       "</style>\n",
       "<table border=\"1\" class=\"dataframe\">\n",
       "  <thead>\n",
       "    <tr style=\"text-align: right;\">\n",
       "      <th></th>\n",
       "      <th>0</th>\n",
       "      <th>1</th>\n",
       "      <th>2</th>\n",
       "    </tr>\n",
       "  </thead>\n",
       "  <tbody>\n",
       "    <tr>\n",
       "      <th>0</th>\n",
       "      <td>1.0</td>\n",
       "      <td>1.0</td>\n",
       "      <td>1.0</td>\n",
       "    </tr>\n",
       "    <tr>\n",
       "      <th>1</th>\n",
       "      <td>1.0</td>\n",
       "      <td>1.0</td>\n",
       "      <td>1.0</td>\n",
       "    </tr>\n",
       "    <tr>\n",
       "      <th>2</th>\n",
       "      <td>1.0</td>\n",
       "      <td>1.0</td>\n",
       "      <td>1.0</td>\n",
       "    </tr>\n",
       "    <tr>\n",
       "      <th>0</th>\n",
       "      <td>0.0</td>\n",
       "      <td>0.0</td>\n",
       "      <td>0.0</td>\n",
       "    </tr>\n",
       "    <tr>\n",
       "      <th>1</th>\n",
       "      <td>0.0</td>\n",
       "      <td>0.0</td>\n",
       "      <td>0.0</td>\n",
       "    </tr>\n",
       "    <tr>\n",
       "      <th>2</th>\n",
       "      <td>0.0</td>\n",
       "      <td>0.0</td>\n",
       "      <td>0.0</td>\n",
       "    </tr>\n",
       "  </tbody>\n",
       "</table>\n",
       "</div>"
      ],
      "text/plain": [
       "     0    1    2\n",
       "0  1.0  1.0  1.0\n",
       "1  1.0  1.0  1.0\n",
       "2  1.0  1.0  1.0\n",
       "0  0.0  0.0  0.0\n",
       "1  0.0  0.0  0.0\n",
       "2  0.0  0.0  0.0"
      ]
     },
     "execution_count": 71,
     "metadata": {},
     "output_type": "execute_result"
    }
   ],
   "source": [
    "pd.concat([df1,df2])"
   ]
  },
  {
   "cell_type": "markdown",
   "metadata": {},
   "source": [
    "#### 连接——`merge`  \n",
    "`merge`是SQL风格的连接，可以指定连接的键（不太了解SQL），参考[数据库风格连接/融合](https://pandas.pydata.org/pandas-docs/stable/user_guide/merging.html#database-style-dataframe-or-named-series-joining-merging)"
   ]
  },
  {
   "cell_type": "code",
   "execution_count": 103,
   "metadata": {},
   "outputs": [
    {
     "data": {
      "text/html": [
       "<div>\n",
       "<style scoped>\n",
       "    .dataframe tbody tr th:only-of-type {\n",
       "        vertical-align: middle;\n",
       "    }\n",
       "\n",
       "    .dataframe tbody tr th {\n",
       "        vertical-align: top;\n",
       "    }\n",
       "\n",
       "    .dataframe thead th {\n",
       "        text-align: right;\n",
       "    }\n",
       "</style>\n",
       "<table border=\"1\" class=\"dataframe\">\n",
       "  <thead>\n",
       "    <tr style=\"text-align: right;\">\n",
       "      <th></th>\n",
       "      <th>name</th>\n",
       "      <th>Math</th>\n",
       "      <th>English</th>\n",
       "    </tr>\n",
       "  </thead>\n",
       "  <tbody>\n",
       "    <tr>\n",
       "      <th>0</th>\n",
       "      <td>LiYX</td>\n",
       "      <td>121</td>\n",
       "      <td>83</td>\n",
       "    </tr>\n",
       "    <tr>\n",
       "      <th>1</th>\n",
       "      <td>TangKS</td>\n",
       "      <td>106</td>\n",
       "      <td>80</td>\n",
       "    </tr>\n",
       "  </tbody>\n",
       "</table>\n",
       "</div>"
      ],
      "text/plain": [
       "     name  Math  English\n",
       "0    LiYX   121       83\n",
       "1  TangKS   106       80"
      ]
     },
     "execution_count": 103,
     "metadata": {},
     "output_type": "execute_result"
    }
   ],
   "source": [
    "left=pd.DataFrame({'name':['LiYX','TangKS','Somebody'],'Math':[121,106,142]})\n",
    "right=pd.DataFrame({'name':['LiYX','TangKS','Anybody'],'English':[83,80,72]})\n",
    "pd.merge(left,right)"
   ]
  },
  {
   "cell_type": "code",
   "execution_count": 107,
   "metadata": {},
   "outputs": [
    {
     "data": {
      "text/html": [
       "<div>\n",
       "<style scoped>\n",
       "    .dataframe tbody tr th:only-of-type {\n",
       "        vertical-align: middle;\n",
       "    }\n",
       "\n",
       "    .dataframe tbody tr th {\n",
       "        vertical-align: top;\n",
       "    }\n",
       "\n",
       "    .dataframe thead th {\n",
       "        text-align: right;\n",
       "    }\n",
       "</style>\n",
       "<table border=\"1\" class=\"dataframe\">\n",
       "  <thead>\n",
       "    <tr style=\"text-align: right;\">\n",
       "      <th></th>\n",
       "      <th>name</th>\n",
       "      <th>Math</th>\n",
       "      <th>English</th>\n",
       "    </tr>\n",
       "  </thead>\n",
       "  <tbody>\n",
       "    <tr>\n",
       "      <th>0</th>\n",
       "      <td>LiYX</td>\n",
       "      <td>121.0</td>\n",
       "      <td>83.0</td>\n",
       "    </tr>\n",
       "    <tr>\n",
       "      <th>1</th>\n",
       "      <td>TangKS</td>\n",
       "      <td>106.0</td>\n",
       "      <td>80.0</td>\n",
       "    </tr>\n",
       "    <tr>\n",
       "      <th>2</th>\n",
       "      <td>Somebody</td>\n",
       "      <td>142.0</td>\n",
       "      <td>NaN</td>\n",
       "    </tr>\n",
       "    <tr>\n",
       "      <th>3</th>\n",
       "      <td>Anybody</td>\n",
       "      <td>NaN</td>\n",
       "      <td>72.0</td>\n",
       "    </tr>\n",
       "  </tbody>\n",
       "</table>\n",
       "</div>"
      ],
      "text/plain": [
       "       name   Math  English\n",
       "0      LiYX  121.0     83.0\n",
       "1    TangKS  106.0     80.0\n",
       "2  Somebody  142.0      NaN\n",
       "3   Anybody    NaN     72.0"
      ]
     },
     "execution_count": 107,
     "metadata": {},
     "output_type": "execute_result"
    }
   ],
   "source": [
    "#指定了融合使用的相同列，如果融合列在两个表中名称不一样，比如left表中第一列叫name，right表中第一列叫Name，\n",
    "#则可以merge(left,right,left_on='name',right_on='Name')\n",
    "pd.merge(left,right,on='name',how='outer')"
   ]
  },
  {
   "cell_type": "markdown",
   "metadata": {},
   "source": [
    "> 函数有`how`参数{‘left’,'right','inner','outer'}，默认是使用'inner'；\n",
    "- left表示保留左边表的融合列的值\n",
    "- right表示保留右边表的融合列的值\n",
    "- inner表示保留两边表融合列的公有值\n",
    "- outer表示保留两边表融合列的所有值"
   ]
  },
  {
   "cell_type": "markdown",
   "metadata": {},
   "source": [
    "#### 追加数据——`append`"
   ]
  },
  {
   "cell_type": "code",
   "execution_count": 112,
   "metadata": {},
   "outputs": [
    {
     "data": {
      "text/html": [
       "<div>\n",
       "<style scoped>\n",
       "    .dataframe tbody tr th:only-of-type {\n",
       "        vertical-align: middle;\n",
       "    }\n",
       "\n",
       "    .dataframe tbody tr th {\n",
       "        vertical-align: top;\n",
       "    }\n",
       "\n",
       "    .dataframe thead th {\n",
       "        text-align: right;\n",
       "    }\n",
       "</style>\n",
       "<table border=\"1\" class=\"dataframe\">\n",
       "  <thead>\n",
       "    <tr style=\"text-align: right;\">\n",
       "      <th></th>\n",
       "      <th>A</th>\n",
       "      <th>B</th>\n",
       "      <th>C</th>\n",
       "      <th>D</th>\n",
       "      <th>E</th>\n",
       "      <th>F</th>\n",
       "      <th>G</th>\n",
       "      <th>H</th>\n",
       "    </tr>\n",
       "  </thead>\n",
       "  <tbody>\n",
       "    <tr>\n",
       "      <th>a</th>\n",
       "      <td>1.114915</td>\n",
       "      <td>-0.332234</td>\n",
       "      <td>-0.133817</td>\n",
       "      <td>1.294784</td>\n",
       "      <td>0.218391</td>\n",
       "      <td>-1.583136</td>\n",
       "      <td>0.879733</td>\n",
       "      <td>-0.226854</td>\n",
       "    </tr>\n",
       "    <tr>\n",
       "      <th>b</th>\n",
       "      <td>0.319032</td>\n",
       "      <td>-0.645672</td>\n",
       "      <td>0.285107</td>\n",
       "      <td>0.466809</td>\n",
       "      <td>0.500004</td>\n",
       "      <td>1.167855</td>\n",
       "      <td>-0.141746</td>\n",
       "      <td>1.603696</td>\n",
       "    </tr>\n",
       "    <tr>\n",
       "      <th>c</th>\n",
       "      <td>-1.170743</td>\n",
       "      <td>0.168568</td>\n",
       "      <td>-0.060720</td>\n",
       "      <td>0.480827</td>\n",
       "      <td>0.757633</td>\n",
       "      <td>-0.464112</td>\n",
       "      <td>1.060859</td>\n",
       "      <td>2.417470</td>\n",
       "    </tr>\n",
       "    <tr>\n",
       "      <th>d</th>\n",
       "      <td>1.199729</td>\n",
       "      <td>0.661571</td>\n",
       "      <td>-0.543229</td>\n",
       "      <td>-2.096887</td>\n",
       "      <td>0.352315</td>\n",
       "      <td>0.028192</td>\n",
       "      <td>-0.368311</td>\n",
       "      <td>-0.675486</td>\n",
       "    </tr>\n",
       "    <tr>\n",
       "      <th>e</th>\n",
       "      <td>1.001108</td>\n",
       "      <td>0.697587</td>\n",
       "      <td>1.536703</td>\n",
       "      <td>-0.330860</td>\n",
       "      <td>0.469313</td>\n",
       "      <td>-0.351742</td>\n",
       "      <td>1.429091</td>\n",
       "      <td>1.089217</td>\n",
       "    </tr>\n",
       "    <tr>\n",
       "      <th>f</th>\n",
       "      <td>0.164735</td>\n",
       "      <td>0.163499</td>\n",
       "      <td>0.066771</td>\n",
       "      <td>0.748576</td>\n",
       "      <td>-0.792457</td>\n",
       "      <td>1.893259</td>\n",
       "      <td>0.359123</td>\n",
       "      <td>-1.682346</td>\n",
       "    </tr>\n",
       "    <tr>\n",
       "      <th>c</th>\n",
       "      <td>-1.170743</td>\n",
       "      <td>0.168568</td>\n",
       "      <td>-0.060720</td>\n",
       "      <td>0.480827</td>\n",
       "      <td>0.757633</td>\n",
       "      <td>-0.464112</td>\n",
       "      <td>1.060859</td>\n",
       "      <td>2.417470</td>\n",
       "    </tr>\n",
       "  </tbody>\n",
       "</table>\n",
       "</div>"
      ],
      "text/plain": [
       "          A         B         C         D         E         F         G  \\\n",
       "a  1.114915 -0.332234 -0.133817  1.294784  0.218391 -1.583136  0.879733   \n",
       "b  0.319032 -0.645672  0.285107  0.466809  0.500004  1.167855 -0.141746   \n",
       "c -1.170743  0.168568 -0.060720  0.480827  0.757633 -0.464112  1.060859   \n",
       "d  1.199729  0.661571 -0.543229 -2.096887  0.352315  0.028192 -0.368311   \n",
       "e  1.001108  0.697587  1.536703 -0.330860  0.469313 -0.351742  1.429091   \n",
       "f  0.164735  0.163499  0.066771  0.748576 -0.792457  1.893259  0.359123   \n",
       "c -1.170743  0.168568 -0.060720  0.480827  0.757633 -0.464112  1.060859   \n",
       "\n",
       "          H  \n",
       "a -0.226854  \n",
       "b  1.603696  \n",
       "c  2.417470  \n",
       "d -0.675486  \n",
       "e  1.089217  \n",
       "f -1.682346  \n",
       "c  2.417470  "
      ]
     },
     "execution_count": 112,
     "metadata": {},
     "output_type": "execute_result"
    }
   ],
   "source": [
    "s=df.loc['c']\n",
    "df.append(s)"
   ]
  },
  {
   "cell_type": "code",
   "execution_count": 113,
   "metadata": {},
   "outputs": [
    {
     "data": {
      "text/html": [
       "<div>\n",
       "<style scoped>\n",
       "    .dataframe tbody tr th:only-of-type {\n",
       "        vertical-align: middle;\n",
       "    }\n",
       "\n",
       "    .dataframe tbody tr th {\n",
       "        vertical-align: top;\n",
       "    }\n",
       "\n",
       "    .dataframe thead th {\n",
       "        text-align: right;\n",
       "    }\n",
       "</style>\n",
       "<table border=\"1\" class=\"dataframe\">\n",
       "  <thead>\n",
       "    <tr style=\"text-align: right;\">\n",
       "      <th></th>\n",
       "      <th>A</th>\n",
       "      <th>B</th>\n",
       "      <th>C</th>\n",
       "      <th>D</th>\n",
       "      <th>E</th>\n",
       "      <th>F</th>\n",
       "      <th>G</th>\n",
       "      <th>H</th>\n",
       "    </tr>\n",
       "  </thead>\n",
       "  <tbody>\n",
       "    <tr>\n",
       "      <th>0</th>\n",
       "      <td>1.114915</td>\n",
       "      <td>-0.332234</td>\n",
       "      <td>-0.133817</td>\n",
       "      <td>1.294784</td>\n",
       "      <td>0.218391</td>\n",
       "      <td>-1.583136</td>\n",
       "      <td>0.879733</td>\n",
       "      <td>-0.226854</td>\n",
       "    </tr>\n",
       "    <tr>\n",
       "      <th>1</th>\n",
       "      <td>0.319032</td>\n",
       "      <td>-0.645672</td>\n",
       "      <td>0.285107</td>\n",
       "      <td>0.466809</td>\n",
       "      <td>0.500004</td>\n",
       "      <td>1.167855</td>\n",
       "      <td>-0.141746</td>\n",
       "      <td>1.603696</td>\n",
       "    </tr>\n",
       "    <tr>\n",
       "      <th>2</th>\n",
       "      <td>-1.170743</td>\n",
       "      <td>0.168568</td>\n",
       "      <td>-0.060720</td>\n",
       "      <td>0.480827</td>\n",
       "      <td>0.757633</td>\n",
       "      <td>-0.464112</td>\n",
       "      <td>1.060859</td>\n",
       "      <td>2.417470</td>\n",
       "    </tr>\n",
       "    <tr>\n",
       "      <th>3</th>\n",
       "      <td>1.199729</td>\n",
       "      <td>0.661571</td>\n",
       "      <td>-0.543229</td>\n",
       "      <td>-2.096887</td>\n",
       "      <td>0.352315</td>\n",
       "      <td>0.028192</td>\n",
       "      <td>-0.368311</td>\n",
       "      <td>-0.675486</td>\n",
       "    </tr>\n",
       "    <tr>\n",
       "      <th>4</th>\n",
       "      <td>1.001108</td>\n",
       "      <td>0.697587</td>\n",
       "      <td>1.536703</td>\n",
       "      <td>-0.330860</td>\n",
       "      <td>0.469313</td>\n",
       "      <td>-0.351742</td>\n",
       "      <td>1.429091</td>\n",
       "      <td>1.089217</td>\n",
       "    </tr>\n",
       "    <tr>\n",
       "      <th>5</th>\n",
       "      <td>0.164735</td>\n",
       "      <td>0.163499</td>\n",
       "      <td>0.066771</td>\n",
       "      <td>0.748576</td>\n",
       "      <td>-0.792457</td>\n",
       "      <td>1.893259</td>\n",
       "      <td>0.359123</td>\n",
       "      <td>-1.682346</td>\n",
       "    </tr>\n",
       "    <tr>\n",
       "      <th>6</th>\n",
       "      <td>-1.170743</td>\n",
       "      <td>0.168568</td>\n",
       "      <td>-0.060720</td>\n",
       "      <td>0.480827</td>\n",
       "      <td>0.757633</td>\n",
       "      <td>-0.464112</td>\n",
       "      <td>1.060859</td>\n",
       "      <td>2.417470</td>\n",
       "    </tr>\n",
       "  </tbody>\n",
       "</table>\n",
       "</div>"
      ],
      "text/plain": [
       "          A         B         C         D         E         F         G  \\\n",
       "0  1.114915 -0.332234 -0.133817  1.294784  0.218391 -1.583136  0.879733   \n",
       "1  0.319032 -0.645672  0.285107  0.466809  0.500004  1.167855 -0.141746   \n",
       "2 -1.170743  0.168568 -0.060720  0.480827  0.757633 -0.464112  1.060859   \n",
       "3  1.199729  0.661571 -0.543229 -2.096887  0.352315  0.028192 -0.368311   \n",
       "4  1.001108  0.697587  1.536703 -0.330860  0.469313 -0.351742  1.429091   \n",
       "5  0.164735  0.163499  0.066771  0.748576 -0.792457  1.893259  0.359123   \n",
       "6 -1.170743  0.168568 -0.060720  0.480827  0.757633 -0.464112  1.060859   \n",
       "\n",
       "          H  \n",
       "0 -0.226854  \n",
       "1  1.603696  \n",
       "2  2.417470  \n",
       "3 -0.675486  \n",
       "4  1.089217  \n",
       "5 -1.682346  \n",
       "6  2.417470  "
      ]
     },
     "execution_count": 113,
     "metadata": {},
     "output_type": "execute_result"
    }
   ],
   "source": [
    "df.append(s,ignore_index=True)"
   ]
  },
  {
   "cell_type": "markdown",
   "metadata": {},
   "source": [
    "### 分组  \n",
    "通过`groupby`函数分组，通常分组操作会进行以下几步（或部分）：  \n",
    "- 依据某种规则将数据分组\n",
    "- 对各组执行特定的函数\n",
    "- 对处理后的各组组合成一个数据结构\n",
    "\n",
    "给定一个场景，假设要根据某个地区的取样点（比如照片上的一个像素点）的几个特征A,B,C,D（比如r,g,b值或是其他波段辐射值）来将该点划分为植被与非植被点，每一条记录表示一个取样点的数据，表的第一列为该取样点所属区域（1,2,3,4），第二列为该取样点实际所属类别（1表示植被，0表示非植被），第三、四、五、六列为其四个特征值，随机构造一个这样的数据："
   ]
  },
  {
   "cell_type": "code",
   "execution_count": 116,
   "metadata": {},
   "outputs": [
    {
     "data": {
      "text/html": [
       "<div>\n",
       "<style scoped>\n",
       "    .dataframe tbody tr th:only-of-type {\n",
       "        vertical-align: middle;\n",
       "    }\n",
       "\n",
       "    .dataframe tbody tr th {\n",
       "        vertical-align: top;\n",
       "    }\n",
       "\n",
       "    .dataframe thead th {\n",
       "        text-align: right;\n",
       "    }\n",
       "</style>\n",
       "<table border=\"1\" class=\"dataframe\">\n",
       "  <thead>\n",
       "    <tr style=\"text-align: right;\">\n",
       "      <th></th>\n",
       "      <th>region</th>\n",
       "      <th>label</th>\n",
       "      <th>A</th>\n",
       "      <th>B</th>\n",
       "      <th>C</th>\n",
       "      <th>D</th>\n",
       "    </tr>\n",
       "  </thead>\n",
       "  <tbody>\n",
       "    <tr>\n",
       "      <th>1</th>\n",
       "      <td>4</td>\n",
       "      <td>0</td>\n",
       "      <td>-0.868372</td>\n",
       "      <td>0.440958</td>\n",
       "      <td>1.179302</td>\n",
       "      <td>-1.764009</td>\n",
       "    </tr>\n",
       "    <tr>\n",
       "      <th>2</th>\n",
       "      <td>3</td>\n",
       "      <td>0</td>\n",
       "      <td>-0.811300</td>\n",
       "      <td>-0.973034</td>\n",
       "      <td>0.152061</td>\n",
       "      <td>-0.796966</td>\n",
       "    </tr>\n",
       "    <tr>\n",
       "      <th>3</th>\n",
       "      <td>2</td>\n",
       "      <td>1</td>\n",
       "      <td>-0.615989</td>\n",
       "      <td>-2.400283</td>\n",
       "      <td>-1.029210</td>\n",
       "      <td>1.877748</td>\n",
       "    </tr>\n",
       "    <tr>\n",
       "      <th>4</th>\n",
       "      <td>3</td>\n",
       "      <td>1</td>\n",
       "      <td>-0.044621</td>\n",
       "      <td>0.564440</td>\n",
       "      <td>-0.045122</td>\n",
       "      <td>0.709791</td>\n",
       "    </tr>\n",
       "    <tr>\n",
       "      <th>5</th>\n",
       "      <td>4</td>\n",
       "      <td>1</td>\n",
       "      <td>0.927877</td>\n",
       "      <td>0.921141</td>\n",
       "      <td>-0.812888</td>\n",
       "      <td>1.570141</td>\n",
       "    </tr>\n",
       "    <tr>\n",
       "      <th>6</th>\n",
       "      <td>1</td>\n",
       "      <td>0</td>\n",
       "      <td>1.081696</td>\n",
       "      <td>0.424961</td>\n",
       "      <td>-0.428897</td>\n",
       "      <td>0.964864</td>\n",
       "    </tr>\n",
       "    <tr>\n",
       "      <th>7</th>\n",
       "      <td>1</td>\n",
       "      <td>1</td>\n",
       "      <td>-0.760294</td>\n",
       "      <td>2.049091</td>\n",
       "      <td>0.539042</td>\n",
       "      <td>1.013368</td>\n",
       "    </tr>\n",
       "    <tr>\n",
       "      <th>8</th>\n",
       "      <td>1</td>\n",
       "      <td>0</td>\n",
       "      <td>-0.378985</td>\n",
       "      <td>-0.505555</td>\n",
       "      <td>-1.455270</td>\n",
       "      <td>0.497252</td>\n",
       "    </tr>\n",
       "    <tr>\n",
       "      <th>9</th>\n",
       "      <td>2</td>\n",
       "      <td>1</td>\n",
       "      <td>-0.236419</td>\n",
       "      <td>1.808747</td>\n",
       "      <td>0.502212</td>\n",
       "      <td>0.698097</td>\n",
       "    </tr>\n",
       "    <tr>\n",
       "      <th>10</th>\n",
       "      <td>3</td>\n",
       "      <td>1</td>\n",
       "      <td>0.278327</td>\n",
       "      <td>-0.111409</td>\n",
       "      <td>-1.544815</td>\n",
       "      <td>2.162358</td>\n",
       "    </tr>\n",
       "  </tbody>\n",
       "</table>\n",
       "</div>"
      ],
      "text/plain": [
       "    region  label         A         B         C         D\n",
       "1        4      0 -0.868372  0.440958  1.179302 -1.764009\n",
       "2        3      0 -0.811300 -0.973034  0.152061 -0.796966\n",
       "3        2      1 -0.615989 -2.400283 -1.029210  1.877748\n",
       "4        3      1 -0.044621  0.564440 -0.045122  0.709791\n",
       "5        4      1  0.927877  0.921141 -0.812888  1.570141\n",
       "6        1      0  1.081696  0.424961 -0.428897  0.964864\n",
       "7        1      1 -0.760294  2.049091  0.539042  1.013368\n",
       "8        1      0 -0.378985 -0.505555 -1.455270  0.497252\n",
       "9        2      1 -0.236419  1.808747  0.502212  0.698097\n",
       "10       3      1  0.278327 -0.111409 -1.544815  2.162358"
      ]
     },
     "execution_count": 116,
     "metadata": {},
     "output_type": "execute_result"
    }
   ],
   "source": [
    "s1=pd.Series(np.random.randint(1,5,size=10),index=list(range(1,11)),name='region')\n",
    "s2=pd.Series(np.random.randint(0,2,size=10),index=list(range(1,11)),name='label')\n",
    "dff=pd.DataFrame(np.random.randn(10,4),index=list(range(1,11)),columns=list('ABCD'))\n",
    "df=pd.concat([s1,s2,dff],axis=1)\n",
    "df"
   ]
  },
  {
   "cell_type": "markdown",
   "metadata": {},
   "source": [
    "按照区域分组，求各区域的四个特征平均值:"
   ]
  },
  {
   "cell_type": "code",
   "execution_count": 126,
   "metadata": {},
   "outputs": [
    {
     "data": {
      "text/html": [
       "<div>\n",
       "<style scoped>\n",
       "    .dataframe tbody tr th:only-of-type {\n",
       "        vertical-align: middle;\n",
       "    }\n",
       "\n",
       "    .dataframe tbody tr th {\n",
       "        vertical-align: top;\n",
       "    }\n",
       "\n",
       "    .dataframe thead th {\n",
       "        text-align: right;\n",
       "    }\n",
       "</style>\n",
       "<table border=\"1\" class=\"dataframe\">\n",
       "  <thead>\n",
       "    <tr style=\"text-align: right;\">\n",
       "      <th></th>\n",
       "      <th>A</th>\n",
       "      <th>B</th>\n",
       "      <th>C</th>\n",
       "      <th>D</th>\n",
       "    </tr>\n",
       "    <tr>\n",
       "      <th>region</th>\n",
       "      <th></th>\n",
       "      <th></th>\n",
       "      <th></th>\n",
       "      <th></th>\n",
       "    </tr>\n",
       "  </thead>\n",
       "  <tbody>\n",
       "    <tr>\n",
       "      <th>1</th>\n",
       "      <td>-0.019194</td>\n",
       "      <td>0.656166</td>\n",
       "      <td>-0.448375</td>\n",
       "      <td>0.825161</td>\n",
       "    </tr>\n",
       "    <tr>\n",
       "      <th>2</th>\n",
       "      <td>-0.426204</td>\n",
       "      <td>-0.295768</td>\n",
       "      <td>-0.263499</td>\n",
       "      <td>1.287923</td>\n",
       "    </tr>\n",
       "    <tr>\n",
       "      <th>3</th>\n",
       "      <td>-0.192531</td>\n",
       "      <td>-0.173334</td>\n",
       "      <td>-0.479292</td>\n",
       "      <td>0.691728</td>\n",
       "    </tr>\n",
       "    <tr>\n",
       "      <th>4</th>\n",
       "      <td>0.029753</td>\n",
       "      <td>0.681050</td>\n",
       "      <td>0.183207</td>\n",
       "      <td>-0.096934</td>\n",
       "    </tr>\n",
       "  </tbody>\n",
       "</table>\n",
       "</div>"
      ],
      "text/plain": [
       "               A         B         C         D\n",
       "region                                        \n",
       "1      -0.019194  0.656166 -0.448375  0.825161\n",
       "2      -0.426204 -0.295768 -0.263499  1.287923\n",
       "3      -0.192531 -0.173334 -0.479292  0.691728\n",
       "4       0.029753  0.681050  0.183207 -0.096934"
      ]
     },
     "execution_count": 126,
     "metadata": {},
     "output_type": "execute_result"
    }
   ],
   "source": [
    "df.groupby('region').mean().loc[:,['A','B','C','D']]"
   ]
  },
  {
   "cell_type": "markdown",
   "metadata": {},
   "source": [
    "按照区域和标签分组，求各区域植被点与非植被点的四个特征中值:"
   ]
  },
  {
   "cell_type": "code",
   "execution_count": 127,
   "metadata": {},
   "outputs": [
    {
     "data": {
      "text/html": [
       "<div>\n",
       "<style scoped>\n",
       "    .dataframe tbody tr th:only-of-type {\n",
       "        vertical-align: middle;\n",
       "    }\n",
       "\n",
       "    .dataframe tbody tr th {\n",
       "        vertical-align: top;\n",
       "    }\n",
       "\n",
       "    .dataframe thead th {\n",
       "        text-align: right;\n",
       "    }\n",
       "</style>\n",
       "<table border=\"1\" class=\"dataframe\">\n",
       "  <thead>\n",
       "    <tr style=\"text-align: right;\">\n",
       "      <th></th>\n",
       "      <th></th>\n",
       "      <th>A</th>\n",
       "      <th>B</th>\n",
       "      <th>C</th>\n",
       "      <th>D</th>\n",
       "    </tr>\n",
       "    <tr>\n",
       "      <th>region</th>\n",
       "      <th>label</th>\n",
       "      <th></th>\n",
       "      <th></th>\n",
       "      <th></th>\n",
       "      <th></th>\n",
       "    </tr>\n",
       "  </thead>\n",
       "  <tbody>\n",
       "    <tr>\n",
       "      <th rowspan=\"2\" valign=\"top\">1</th>\n",
       "      <th>0</th>\n",
       "      <td>0.351356</td>\n",
       "      <td>-0.040297</td>\n",
       "      <td>-0.942084</td>\n",
       "      <td>0.731058</td>\n",
       "    </tr>\n",
       "    <tr>\n",
       "      <th>1</th>\n",
       "      <td>-0.760294</td>\n",
       "      <td>2.049091</td>\n",
       "      <td>0.539042</td>\n",
       "      <td>1.013368</td>\n",
       "    </tr>\n",
       "    <tr>\n",
       "      <th>2</th>\n",
       "      <th>1</th>\n",
       "      <td>-0.426204</td>\n",
       "      <td>-0.295768</td>\n",
       "      <td>-0.263499</td>\n",
       "      <td>1.287923</td>\n",
       "    </tr>\n",
       "    <tr>\n",
       "      <th rowspan=\"2\" valign=\"top\">3</th>\n",
       "      <th>0</th>\n",
       "      <td>-0.811300</td>\n",
       "      <td>-0.973034</td>\n",
       "      <td>0.152061</td>\n",
       "      <td>-0.796966</td>\n",
       "    </tr>\n",
       "    <tr>\n",
       "      <th>1</th>\n",
       "      <td>0.116853</td>\n",
       "      <td>0.226516</td>\n",
       "      <td>-0.794968</td>\n",
       "      <td>1.436074</td>\n",
       "    </tr>\n",
       "    <tr>\n",
       "      <th rowspan=\"2\" valign=\"top\">4</th>\n",
       "      <th>0</th>\n",
       "      <td>-0.868372</td>\n",
       "      <td>0.440958</td>\n",
       "      <td>1.179302</td>\n",
       "      <td>-1.764009</td>\n",
       "    </tr>\n",
       "    <tr>\n",
       "      <th>1</th>\n",
       "      <td>0.927877</td>\n",
       "      <td>0.921141</td>\n",
       "      <td>-0.812888</td>\n",
       "      <td>1.570141</td>\n",
       "    </tr>\n",
       "  </tbody>\n",
       "</table>\n",
       "</div>"
      ],
      "text/plain": [
       "                     A         B         C         D\n",
       "region label                                        \n",
       "1      0      0.351356 -0.040297 -0.942084  0.731058\n",
       "       1     -0.760294  2.049091  0.539042  1.013368\n",
       "2      1     -0.426204 -0.295768 -0.263499  1.287923\n",
       "3      0     -0.811300 -0.973034  0.152061 -0.796966\n",
       "       1      0.116853  0.226516 -0.794968  1.436074\n",
       "4      0     -0.868372  0.440958  1.179302 -1.764009\n",
       "       1      0.927877  0.921141 -0.812888  1.570141"
      ]
     },
     "execution_count": 127,
     "metadata": {},
     "output_type": "execute_result"
    }
   ],
   "source": [
    "df.groupby(['region','label']).median()"
   ]
  },
  {
   "cell_type": "markdown",
   "metadata": {},
   "source": [
    "> 更多分组以及分组后的数据过滤、排序、索引、迭代、统计、函数处理等等高级操作和一些语法糖，参考[分组：分割、处理、组合](https://pandas.pydata.org/pandas-docs/stable/user_guide/groupby.html)"
   ]
  },
  {
   "cell_type": "markdown",
   "metadata": {},
   "source": [
    "### 重构  \n",
    "这一部分我不太了解有什么必要，无非是多重指标——`DataFrame.stack()`把列标签压缩成为底层的index标签，使index成为多重标签；`DataFrame.unstack()`把index多重标签的底层标签展开成为列标签。`DataFrame.pivot_table(values,index,colums)`可以将一个表中某几列数据重新排列成一个新表，新表中数值取自于`values`给定的数据列，index标签取自于`index`参数指定的列（如果指定多列则是多重index），`columns`指定的列是新表的列标签，按照指定的行、列标签在原表的指定数据列中找到数据，有可能找到多个数据应进入新表的同一单元格，这时候用`aggfunc`指定的函数对这些数据计算然后填入新表"
   ]
  },
  {
   "cell_type": "code",
   "execution_count": 139,
   "metadata": {},
   "outputs": [
    {
     "data": {
      "text/html": [
       "<div>\n",
       "<style scoped>\n",
       "    .dataframe tbody tr th:only-of-type {\n",
       "        vertical-align: middle;\n",
       "    }\n",
       "\n",
       "    .dataframe tbody tr th {\n",
       "        vertical-align: top;\n",
       "    }\n",
       "\n",
       "    .dataframe thead th {\n",
       "        text-align: right;\n",
       "    }\n",
       "</style>\n",
       "<table border=\"1\" class=\"dataframe\">\n",
       "  <thead>\n",
       "    <tr style=\"text-align: right;\">\n",
       "      <th></th>\n",
       "      <th>one</th>\n",
       "      <th>two</th>\n",
       "      <th>three</th>\n",
       "      <th>four</th>\n",
       "    </tr>\n",
       "  </thead>\n",
       "  <tbody>\n",
       "    <tr>\n",
       "      <th>a</th>\n",
       "      <td>1.597058</td>\n",
       "      <td>-0.412226</td>\n",
       "      <td>-0.424387</td>\n",
       "      <td>0.622932</td>\n",
       "    </tr>\n",
       "    <tr>\n",
       "      <th>b</th>\n",
       "      <td>-0.014065</td>\n",
       "      <td>-0.484030</td>\n",
       "      <td>1.741110</td>\n",
       "      <td>-0.211923</td>\n",
       "    </tr>\n",
       "    <tr>\n",
       "      <th>c</th>\n",
       "      <td>0.110455</td>\n",
       "      <td>-0.786324</td>\n",
       "      <td>-0.632652</td>\n",
       "      <td>0.436670</td>\n",
       "    </tr>\n",
       "  </tbody>\n",
       "</table>\n",
       "</div>"
      ],
      "text/plain": [
       "        one       two     three      four\n",
       "a  1.597058 -0.412226 -0.424387  0.622932\n",
       "b -0.014065 -0.484030  1.741110 -0.211923\n",
       "c  0.110455 -0.786324 -0.632652  0.436670"
      ]
     },
     "execution_count": 139,
     "metadata": {},
     "output_type": "execute_result"
    }
   ],
   "source": [
    "df1=pd.DataFrame(np.random.randn(3,4),index=list('abc'),columns=['one','two','three','four'])\n",
    "df1"
   ]
  },
  {
   "cell_type": "code",
   "execution_count": 140,
   "metadata": {},
   "outputs": [
    {
     "data": {
      "text/plain": [
       "a  one      1.597058\n",
       "   two     -0.412226\n",
       "   three   -0.424387\n",
       "   four     0.622932\n",
       "b  one     -0.014065\n",
       "   two     -0.484030\n",
       "   three    1.741110\n",
       "   four    -0.211923\n",
       "c  one      0.110455\n",
       "   two     -0.786324\n",
       "   three   -0.632652\n",
       "   four     0.436670\n",
       "dtype: float64"
      ]
     },
     "execution_count": 140,
     "metadata": {},
     "output_type": "execute_result"
    }
   ],
   "source": [
    "df2=df1.stack()\n",
    "df2"
   ]
  },
  {
   "cell_type": "code",
   "execution_count": 141,
   "metadata": {},
   "outputs": [
    {
     "data": {
      "text/html": [
       "<div>\n",
       "<style scoped>\n",
       "    .dataframe tbody tr th:only-of-type {\n",
       "        vertical-align: middle;\n",
       "    }\n",
       "\n",
       "    .dataframe tbody tr th {\n",
       "        vertical-align: top;\n",
       "    }\n",
       "\n",
       "    .dataframe thead th {\n",
       "        text-align: right;\n",
       "    }\n",
       "</style>\n",
       "<table border=\"1\" class=\"dataframe\">\n",
       "  <thead>\n",
       "    <tr style=\"text-align: right;\">\n",
       "      <th></th>\n",
       "      <th>one</th>\n",
       "      <th>two</th>\n",
       "      <th>three</th>\n",
       "      <th>four</th>\n",
       "    </tr>\n",
       "  </thead>\n",
       "  <tbody>\n",
       "    <tr>\n",
       "      <th>a</th>\n",
       "      <td>1.597058</td>\n",
       "      <td>-0.412226</td>\n",
       "      <td>-0.424387</td>\n",
       "      <td>0.622932</td>\n",
       "    </tr>\n",
       "    <tr>\n",
       "      <th>b</th>\n",
       "      <td>-0.014065</td>\n",
       "      <td>-0.484030</td>\n",
       "      <td>1.741110</td>\n",
       "      <td>-0.211923</td>\n",
       "    </tr>\n",
       "    <tr>\n",
       "      <th>c</th>\n",
       "      <td>0.110455</td>\n",
       "      <td>-0.786324</td>\n",
       "      <td>-0.632652</td>\n",
       "      <td>0.436670</td>\n",
       "    </tr>\n",
       "  </tbody>\n",
       "</table>\n",
       "</div>"
      ],
      "text/plain": [
       "        one       two     three      four\n",
       "a  1.597058 -0.412226 -0.424387  0.622932\n",
       "b -0.014065 -0.484030  1.741110 -0.211923\n",
       "c  0.110455 -0.786324 -0.632652  0.436670"
      ]
     },
     "execution_count": 141,
     "metadata": {},
     "output_type": "execute_result"
    }
   ],
   "source": [
    "df2.unstack()"
   ]
  },
  {
   "cell_type": "code",
   "execution_count": 169,
   "metadata": {},
   "outputs": [
    {
     "data": {
      "text/html": [
       "<div>\n",
       "<style scoped>\n",
       "    .dataframe tbody tr th:only-of-type {\n",
       "        vertical-align: middle;\n",
       "    }\n",
       "\n",
       "    .dataframe tbody tr th {\n",
       "        vertical-align: top;\n",
       "    }\n",
       "\n",
       "    .dataframe thead th {\n",
       "        text-align: right;\n",
       "    }\n",
       "</style>\n",
       "<table border=\"1\" class=\"dataframe\">\n",
       "  <thead>\n",
       "    <tr style=\"text-align: right;\">\n",
       "      <th></th>\n",
       "      <th>Province</th>\n",
       "      <th>City</th>\n",
       "      <th>Indicator</th>\n",
       "      <th>Stats</th>\n",
       "    </tr>\n",
       "  </thead>\n",
       "  <tbody>\n",
       "    <tr>\n",
       "      <th>0</th>\n",
       "      <td>JX</td>\n",
       "      <td>NC</td>\n",
       "      <td>GDP</td>\n",
       "      <td>1</td>\n",
       "    </tr>\n",
       "    <tr>\n",
       "      <th>1</th>\n",
       "      <td>JX</td>\n",
       "      <td>NC</td>\n",
       "      <td>Income</td>\n",
       "      <td>4</td>\n",
       "    </tr>\n",
       "    <tr>\n",
       "      <th>2</th>\n",
       "      <td>JX</td>\n",
       "      <td>YT</td>\n",
       "      <td>GDP</td>\n",
       "      <td>0.3</td>\n",
       "    </tr>\n",
       "    <tr>\n",
       "      <th>3</th>\n",
       "      <td>JX</td>\n",
       "      <td>YT</td>\n",
       "      <td>Income</td>\n",
       "      <td>3</td>\n",
       "    </tr>\n",
       "    <tr>\n",
       "      <th>4</th>\n",
       "      <td>HB</td>\n",
       "      <td>WH</td>\n",
       "      <td>GDP</td>\n",
       "      <td>2</td>\n",
       "    </tr>\n",
       "    <tr>\n",
       "      <th>5</th>\n",
       "      <td>HB</td>\n",
       "      <td>WH</td>\n",
       "      <td>Income</td>\n",
       "      <td>6</td>\n",
       "    </tr>\n",
       "    <tr>\n",
       "      <th>6</th>\n",
       "      <td>HB</td>\n",
       "      <td>XY</td>\n",
       "      <td>GDP</td>\n",
       "      <td>1.5</td>\n",
       "    </tr>\n",
       "    <tr>\n",
       "      <th>7</th>\n",
       "      <td>HB</td>\n",
       "      <td>XY</td>\n",
       "      <td>Income</td>\n",
       "      <td>5.5</td>\n",
       "    </tr>\n",
       "  </tbody>\n",
       "</table>\n",
       "</div>"
      ],
      "text/plain": [
       "  Province City Indicator Stats\n",
       "0       JX   NC       GDP     1\n",
       "1       JX   NC    Income     4\n",
       "2       JX   YT       GDP   0.3\n",
       "3       JX   YT    Income     3\n",
       "4       HB   WH       GDP     2\n",
       "5       HB   WH    Income     6\n",
       "6       HB   XY       GDP   1.5\n",
       "7       HB   XY    Income   5.5"
      ]
     },
     "execution_count": 169,
     "metadata": {},
     "output_type": "execute_result"
    }
   ],
   "source": [
    "df3=pd.DataFrame([['JX']*4+['HB']*4,['NC']*2+['YT']*2+['WH']*2+['XY']*2,['GDP','Income']*4,[1,4,0.3,3,2,6,1.5,5.5]])\n",
    "df3=df3.T\n",
    "df3.columns=['Province','City','Indicator','Stats']\n",
    "df3"
   ]
  },
  {
   "cell_type": "code",
   "execution_count": 186,
   "metadata": {},
   "outputs": [
    {
     "data": {
      "text/html": [
       "<div>\n",
       "<style scoped>\n",
       "    .dataframe tbody tr th:only-of-type {\n",
       "        vertical-align: middle;\n",
       "    }\n",
       "\n",
       "    .dataframe tbody tr th {\n",
       "        vertical-align: top;\n",
       "    }\n",
       "\n",
       "    .dataframe thead tr th {\n",
       "        text-align: left;\n",
       "    }\n",
       "\n",
       "    .dataframe thead tr:last-of-type th {\n",
       "        text-align: right;\n",
       "    }\n",
       "</style>\n",
       "<table border=\"1\" class=\"dataframe\">\n",
       "  <thead>\n",
       "    <tr>\n",
       "      <th></th>\n",
       "      <th></th>\n",
       "      <th colspan=\"2\" halign=\"left\">Stats</th>\n",
       "    </tr>\n",
       "    <tr>\n",
       "      <th></th>\n",
       "      <th>Indicator</th>\n",
       "      <th>GDP</th>\n",
       "      <th>Income</th>\n",
       "    </tr>\n",
       "    <tr>\n",
       "      <th>Province</th>\n",
       "      <th>City</th>\n",
       "      <th></th>\n",
       "      <th></th>\n",
       "    </tr>\n",
       "  </thead>\n",
       "  <tbody>\n",
       "    <tr>\n",
       "      <th rowspan=\"2\" valign=\"top\">HB</th>\n",
       "      <th>WH</th>\n",
       "      <td>2.0</td>\n",
       "      <td>6.0</td>\n",
       "    </tr>\n",
       "    <tr>\n",
       "      <th>XY</th>\n",
       "      <td>1.5</td>\n",
       "      <td>5.5</td>\n",
       "    </tr>\n",
       "    <tr>\n",
       "      <th rowspan=\"2\" valign=\"top\">JX</th>\n",
       "      <th>NC</th>\n",
       "      <td>1.0</td>\n",
       "      <td>4.0</td>\n",
       "    </tr>\n",
       "    <tr>\n",
       "      <th>YT</th>\n",
       "      <td>0.3</td>\n",
       "      <td>3.0</td>\n",
       "    </tr>\n",
       "  </tbody>\n",
       "</table>\n",
       "</div>"
      ],
      "text/plain": [
       "              Stats       \n",
       "Indicator       GDP Income\n",
       "Province City             \n",
       "HB       WH     2.0    6.0\n",
       "         XY     1.5    5.5\n",
       "JX       NC     1.0    4.0\n",
       "         YT     0.3    3.0"
      ]
     },
     "execution_count": 186,
     "metadata": {},
     "output_type": "execute_result"
    }
   ],
   "source": [
    "df4=df3.pivot_table(values=['Stats'],index=['Province','City'],columns=['Indicator'],aggfunc='sum')\n",
    "df5=df3.pivot_table(values=['Stats'],index=['Province','City'],columns=['Indicator'],aggfunc='count')\n",
    "df4/df5"
   ]
  },
  {
   "cell_type": "markdown",
   "metadata": {},
   "source": [
    "> `aggfunc`指定对行标签、列标签相同的元素（这个例子中行标签相同表示同一个省同一个市，列标签相同表示同是GDP或者收入）执行什么运算，比如此例中`sum`表示求和，`count`表示计算个数，两种方式得到的表相除一下就是均值；原本可以直接使用`aggfunc=‘mean'`（这也是默认选项），但是不知道出于什么原因这种方法一直报错"
   ]
  },
  {
   "cell_type": "markdown",
   "metadata": {},
   "source": [
    "**补充：**  \n",
    "关于`pivot_table`的作用我觉得可能是：真实情况下收集数据很可能是制作一张表，收集数据，比如某个集体中的个体的籍贯、收入、支出、职业、年龄、性别，显然这样一张表中可能有很多的重复的数据，许多人可能来自同一地区、同一行业，更不用说性别了，这是实际收集数据的方式，但是使用的时候肯定还得重新划分行列生成新的更好分析的表——比如行标签是各个年龄，列标签是收入、支出均值，那么可以反映各年龄的收入状况，各年龄段的收入支出比，可能进一步可以得到各年龄段的消费观念的差别；行标签是地区，列标签是年龄均值，可以反映各地区的人口老龄化状况等等。`pivot_table`作为实际收集到的数据到用于处理、分析数据之间的处理手段之一。"
   ]
  },
  {
   "cell_type": "markdown",
   "metadata": {},
   "source": [
    "### 时间序列分析  \n",
    "pandas中提供时间序列，通过`pd.date_range`函数可以生成一个DatetimeIndex，其可作为`Series`或者`DataFrame`的行标签从而生成时间相关数据；pandas中提供了很多有关时序数据的处理方法，包括时间周期重采样、时区转换等，具体参考[时间序列/日期功能](https://pandas.pydata.org/pandas-docs/stable/user_guide/timeseries.html)"
   ]
  },
  {
   "cell_type": "code",
   "execution_count": 200,
   "metadata": {},
   "outputs": [
    {
     "data": {
      "text/plain": [
       "2019-02-09 17:00:00    0.984090\n",
       "2019-02-09 17:00:01   -0.488370\n",
       "2019-02-09 17:00:02   -1.325405\n",
       "2019-02-09 17:00:03   -0.251773\n",
       "2019-02-09 17:00:04    0.443207\n",
       "2019-02-09 17:00:05   -0.738500\n",
       "2019-02-09 17:00:06   -0.058704\n",
       "Freq: S, dtype: float64"
      ]
     },
     "execution_count": 200,
     "metadata": {},
     "output_type": "execute_result"
    }
   ],
   "source": [
    "#第一个参数指定起始时间，periods指定生成几个时间周期，freq指定时间间隔（这里S是秒）\n",
    "rng=pd.date_range('2/9/2019 17:00',periods=10000,freq='S')\n",
    "ts=pd.Series(np.random.randn(len(rng)),index=rng)\n",
    "ts.head(7)"
   ]
  },
  {
   "cell_type": "code",
   "execution_count": 201,
   "metadata": {},
   "outputs": [
    {
     "data": {
      "text/plain": [
       "2019-02-09 17:00:00   -29.522340\n",
       "2019-02-09 17:05:00     2.760265\n",
       "2019-02-09 17:10:00   -10.911778\n",
       "2019-02-09 17:15:00    21.151833\n",
       "2019-02-09 17:20:00    17.099364\n",
       "Freq: 5T, dtype: float64"
      ]
     },
     "execution_count": 201,
     "metadata": {},
     "output_type": "execute_result"
    }
   ],
   "source": [
    "ts.resample('5Min').sum().head()#时间重采样为5分钟，即时间间隔变为5分钟"
   ]
  },
  {
   "cell_type": "code",
   "execution_count": 208,
   "metadata": {},
   "outputs": [
    {
     "data": {
      "text/html": [
       "<div>\n",
       "<style scoped>\n",
       "    .dataframe tbody tr th:only-of-type {\n",
       "        vertical-align: middle;\n",
       "    }\n",
       "\n",
       "    .dataframe tbody tr th {\n",
       "        vertical-align: top;\n",
       "    }\n",
       "\n",
       "    .dataframe thead th {\n",
       "        text-align: right;\n",
       "    }\n",
       "</style>\n",
       "<table border=\"1\" class=\"dataframe\">\n",
       "  <thead>\n",
       "    <tr style=\"text-align: right;\">\n",
       "      <th></th>\n",
       "      <th>A</th>\n",
       "      <th>B</th>\n",
       "      <th>C</th>\n",
       "      <th>D</th>\n",
       "    </tr>\n",
       "  </thead>\n",
       "  <tbody>\n",
       "    <tr>\n",
       "      <th>2019-02-09 17:00:00+00:00</th>\n",
       "      <td>-0.227061</td>\n",
       "      <td>2.485386</td>\n",
       "      <td>1.035848</td>\n",
       "      <td>-0.390622</td>\n",
       "    </tr>\n",
       "    <tr>\n",
       "      <th>2019-02-09 18:00:00+00:00</th>\n",
       "      <td>-0.454118</td>\n",
       "      <td>-1.257559</td>\n",
       "      <td>-0.976032</td>\n",
       "      <td>-1.053162</td>\n",
       "    </tr>\n",
       "    <tr>\n",
       "      <th>2019-02-09 19:00:00+00:00</th>\n",
       "      <td>0.373896</td>\n",
       "      <td>-1.103140</td>\n",
       "      <td>0.563577</td>\n",
       "      <td>-0.856358</td>\n",
       "    </tr>\n",
       "    <tr>\n",
       "      <th>2019-02-09 20:00:00+00:00</th>\n",
       "      <td>1.452531</td>\n",
       "      <td>-1.014787</td>\n",
       "      <td>0.136430</td>\n",
       "      <td>0.150036</td>\n",
       "    </tr>\n",
       "    <tr>\n",
       "      <th>2019-02-09 21:00:00+00:00</th>\n",
       "      <td>0.196119</td>\n",
       "      <td>0.389609</td>\n",
       "      <td>-1.012335</td>\n",
       "      <td>-0.608025</td>\n",
       "    </tr>\n",
       "  </tbody>\n",
       "</table>\n",
       "</div>"
      ],
      "text/plain": [
       "                                  A         B         C         D\n",
       "2019-02-09 17:00:00+00:00 -0.227061  2.485386  1.035848 -0.390622\n",
       "2019-02-09 18:00:00+00:00 -0.454118 -1.257559 -0.976032 -1.053162\n",
       "2019-02-09 19:00:00+00:00  0.373896 -1.103140  0.563577 -0.856358\n",
       "2019-02-09 20:00:00+00:00  1.452531 -1.014787  0.136430  0.150036\n",
       "2019-02-09 21:00:00+00:00  0.196119  0.389609 -1.012335 -0.608025"
      ]
     },
     "execution_count": 208,
     "metadata": {},
     "output_type": "execute_result"
    }
   ],
   "source": [
    "rng=pd.date_range('2/9/2019 17:00',periods=100,freq='H')\n",
    "ts=pd.DataFrame(np.random.randn(len(rng),4),index=rng,columns=list('ABCD'))\n",
    "#指定时区，docstring里面没有具体都有哪些时区，这里UTC可能是指美国中部时间？\n",
    "ts_utc=ts.tz_localize('UTC')\n",
    "ts_utc.head()"
   ]
  },
  {
   "cell_type": "code",
   "execution_count": 229,
   "metadata": {},
   "outputs": [
    {
     "data": {
      "text/html": [
       "<div>\n",
       "<style scoped>\n",
       "    .dataframe tbody tr th:only-of-type {\n",
       "        vertical-align: middle;\n",
       "    }\n",
       "\n",
       "    .dataframe tbody tr th {\n",
       "        vertical-align: top;\n",
       "    }\n",
       "\n",
       "    .dataframe thead th {\n",
       "        text-align: right;\n",
       "    }\n",
       "</style>\n",
       "<table border=\"1\" class=\"dataframe\">\n",
       "  <thead>\n",
       "    <tr style=\"text-align: right;\">\n",
       "      <th></th>\n",
       "      <th>A</th>\n",
       "      <th>B</th>\n",
       "      <th>C</th>\n",
       "      <th>D</th>\n",
       "    </tr>\n",
       "  </thead>\n",
       "  <tbody>\n",
       "    <tr>\n",
       "      <th>2019-02-09 12:00:00-05:00</th>\n",
       "      <td>-0.227061</td>\n",
       "      <td>2.485386</td>\n",
       "      <td>1.035848</td>\n",
       "      <td>-0.390622</td>\n",
       "    </tr>\n",
       "    <tr>\n",
       "      <th>2019-02-09 13:00:00-05:00</th>\n",
       "      <td>-0.454118</td>\n",
       "      <td>-1.257559</td>\n",
       "      <td>-0.976032</td>\n",
       "      <td>-1.053162</td>\n",
       "    </tr>\n",
       "    <tr>\n",
       "      <th>2019-02-09 14:00:00-05:00</th>\n",
       "      <td>0.373896</td>\n",
       "      <td>-1.103140</td>\n",
       "      <td>0.563577</td>\n",
       "      <td>-0.856358</td>\n",
       "    </tr>\n",
       "    <tr>\n",
       "      <th>2019-02-09 15:00:00-05:00</th>\n",
       "      <td>1.452531</td>\n",
       "      <td>-1.014787</td>\n",
       "      <td>0.136430</td>\n",
       "      <td>0.150036</td>\n",
       "    </tr>\n",
       "    <tr>\n",
       "      <th>2019-02-09 16:00:00-05:00</th>\n",
       "      <td>0.196119</td>\n",
       "      <td>0.389609</td>\n",
       "      <td>-1.012335</td>\n",
       "      <td>-0.608025</td>\n",
       "    </tr>\n",
       "  </tbody>\n",
       "</table>\n",
       "</div>"
      ],
      "text/plain": [
       "                                  A         B         C         D\n",
       "2019-02-09 12:00:00-05:00 -0.227061  2.485386  1.035848 -0.390622\n",
       "2019-02-09 13:00:00-05:00 -0.454118 -1.257559 -0.976032 -1.053162\n",
       "2019-02-09 14:00:00-05:00  0.373896 -1.103140  0.563577 -0.856358\n",
       "2019-02-09 15:00:00-05:00  1.452531 -1.014787  0.136430  0.150036\n",
       "2019-02-09 16:00:00-05:00  0.196119  0.389609 -1.012335 -0.608025"
      ]
     },
     "execution_count": 229,
     "metadata": {},
     "output_type": "execute_result"
    }
   ],
   "source": [
    "ts_utc.tz_convert('US/Eastern').head()"
   ]
  },
  {
   "cell_type": "markdown",
   "metadata": {},
   "source": [
    "### 绘图  \n",
    "pandas中绘图无非就是对matplotlib重新封装了一下，介绍下基本用法，深入的可以用matplotlb实现，关于pandas绘图更详细的介绍参考[pandas可视化](https://pandas.pydata.org/pandas-docs/stable/user_guide/visualization.html)"
   ]
  },
  {
   "cell_type": "code",
   "execution_count": 233,
   "metadata": {},
   "outputs": [
    {
     "data": {
      "text/plain": [
       "<matplotlib.axes._subplots.AxesSubplot at 0x1d83d87add8>"
      ]
     },
     "execution_count": 233,
     "metadata": {},
     "output_type": "execute_result"
    },
    {
     "data": {
      "image/png": "[encoded data removed]",
      "text/plain": [
       "<Figure size 432x288 with 1 Axes>"
      ]
     },
     "metadata": {
      "needs_background": "light"
     },
     "output_type": "display_data"
    }
   ],
   "source": [
    "import matplotlib.pyplot as plt\n",
    "#Series绘图\n",
    "ts=pd.Series(np.random.randn(1000),index=pd.date_range('2/9/2019 17:00',periods=1000))\n",
    "ts=ts.cumsum()\n",
    "ts.plot()"
   ]
  },
  {
   "cell_type": "code",
   "execution_count": 235,
   "metadata": {},
   "outputs": [
    {
     "data": {
      "text/plain": [
       "<matplotlib.legend.Legend at 0x1d83d7e6e48>"
      ]
     },
     "execution_count": 235,
     "metadata": {},
     "output_type": "execute_result"
    },
    {
     "data": {
      "image/png": "[encoded data removed]",
      "text/plain": [
       "<Figure size 432x288 with 1 Axes>"
      ]
     },
     "metadata": {
      "needs_background": "light"
     },
     "output_type": "display_data"
    }
   ],
   "source": [
    "#DataFrame绘制\n",
    "df=pd.DataFrame(np.random.randn(1000,4),index=ts.index,columns=list('ABCD'))\n",
    "df=df.cumsum()\n",
    "df.plot()#直接plot则会把DataFrame当成多个Series绘制出每一个Series\n",
    "plt.legend(loc='best')"
   ]
  },
  {
   "cell_type": "code",
   "execution_count": 239,
   "metadata": {},
   "outputs": [
    {
     "data": {
      "text/plain": [
       "<matplotlib.axes._subplots.AxesSubplot at 0x1d83ea37160>"
      ]
     },
     "execution_count": 239,
     "metadata": {},
     "output_type": "execute_result"
    },
    {
     "data": {
      "image/png": "[encoded data removed]",
      "text/plain": [
       "<Figure size 432x288 with 1 Axes>"
      ]
     },
     "metadata": {
      "needs_background": "light"
     },
     "output_type": "display_data"
    }
   ],
   "source": [
    "df.plot.scatter('A','C')#还可以指定绘制的两个列分别作为x,y坐标"
   ]
  },
  {
   "cell_type": "markdown",
   "metadata": {},
   "source": [
    "### I/O读写  \n",
    "对应各种格式的读写就是`read_格式`与`to_格式`："
   ]
  },
  {
   "cell_type": "code",
   "execution_count": 264,
   "metadata": {},
   "outputs": [
    {
     "data": {
      "text/html": [
       "<div>\n",
       "<style scoped>\n",
       "    .dataframe tbody tr th:only-of-type {\n",
       "        vertical-align: middle;\n",
       "    }\n",
       "\n",
       "    .dataframe tbody tr th {\n",
       "        vertical-align: top;\n",
       "    }\n",
       "\n",
       "    .dataframe thead th {\n",
       "        text-align: right;\n",
       "    }\n",
       "</style>\n",
       "<table border=\"1\" class=\"dataframe\">\n",
       "  <thead>\n",
       "    <tr style=\"text-align: right;\">\n",
       "      <th></th>\n",
       "      <th>time</th>\n",
       "      <th>amp</th>\n",
       "    </tr>\n",
       "  </thead>\n",
       "  <tbody>\n",
       "    <tr>\n",
       "      <th>15</th>\n",
       "      <td>-1.08000e-05</td>\n",
       "      <td>2</td>\n",
       "    </tr>\n",
       "    <tr>\n",
       "      <th>16</th>\n",
       "      <td>-1.07990e-05</td>\n",
       "      <td>4.47035e-08</td>\n",
       "    </tr>\n",
       "    <tr>\n",
       "      <th>17</th>\n",
       "      <td>-1.07980e-05</td>\n",
       "      <td>4.47035e-08</td>\n",
       "    </tr>\n",
       "    <tr>\n",
       "      <th>18</th>\n",
       "      <td>-1.07970e-05</td>\n",
       "      <td>4.47035e-08</td>\n",
       "    </tr>\n",
       "    <tr>\n",
       "      <th>19</th>\n",
       "      <td>-1.07960e-05</td>\n",
       "      <td>2</td>\n",
       "    </tr>\n",
       "  </tbody>\n",
       "</table>\n",
       "</div>"
      ],
      "text/plain": [
       "            time          amp\n",
       "15  -1.08000e-05            2\n",
       "16  -1.07990e-05  4.47035e-08\n",
       "17  -1.07980e-05  4.47035e-08\n",
       "18  -1.07970e-05  4.47035e-08\n",
       "19  -1.07960e-05            2"
      ]
     },
     "execution_count": 264,
     "metadata": {},
     "output_type": "execute_result"
    }
   ],
   "source": [
    "df=pd.read_csv('T0006CH1.CSV',header=None)\n",
    "df=df[15:]\n",
    "df.columns=['time','amp']\n",
    "df.head()"
   ]
  },
  {
   "cell_type": "markdown",
   "metadata": {},
   "source": [
    "这里有一个问题是读入的数据都是`str`类型而不是数值类型，无法进一步处理。可以用Series的`astype`函数将字符串类型转化为数值类型"
   ]
  },
  {
   "cell_type": "code",
   "execution_count": 272,
   "metadata": {},
   "outputs": [
    {
     "data": {
      "text/plain": [
       "<matplotlib.axes._subplots.AxesSubplot at 0x1d84341da90>"
      ]
     },
     "execution_count": 272,
     "metadata": {},
     "output_type": "execute_result"
    },
    {
     "data": {
      "image/png": "[encoded data removed]",
      "text/plain": [
       "<Figure size 432x288 with 1 Axes>"
      ]
     },
     "metadata": {
      "needs_background": "light"
     },
     "output_type": "display_data"
    }
   ],
   "source": [
    "df['time']=df['time'].astype(np.float64)\n",
    "df['amp']=df['amp'].astype(np.float64)\n",
    "df.plot('time','amp')"
   ]
  },
  {
   "cell_type": "code",
   "execution_count": 274,
   "metadata": {},
   "outputs": [
    {
     "data": {
      "text/html": [
       "<div>\n",
       "<style scoped>\n",
       "    .dataframe tbody tr th:only-of-type {\n",
       "        vertical-align: middle;\n",
       "    }\n",
       "\n",
       "    .dataframe tbody tr th {\n",
       "        vertical-align: top;\n",
       "    }\n",
       "\n",
       "    .dataframe thead th {\n",
       "        text-align: right;\n",
       "    }\n",
       "</style>\n",
       "<table border=\"1\" class=\"dataframe\">\n",
       "  <thead>\n",
       "    <tr style=\"text-align: right;\">\n",
       "      <th></th>\n",
       "      <th>time</th>\n",
       "      <th>amp</th>\n",
       "    </tr>\n",
       "  </thead>\n",
       "  <tbody>\n",
       "    <tr>\n",
       "      <th>1</th>\n",
       "      <td>-0.000011</td>\n",
       "      <td>2.000000e+00</td>\n",
       "    </tr>\n",
       "    <tr>\n",
       "      <th>2</th>\n",
       "      <td>-0.000011</td>\n",
       "      <td>4.470350e-08</td>\n",
       "    </tr>\n",
       "    <tr>\n",
       "      <th>3</th>\n",
       "      <td>-0.000011</td>\n",
       "      <td>4.470350e-08</td>\n",
       "    </tr>\n",
       "    <tr>\n",
       "      <th>4</th>\n",
       "      <td>-0.000011</td>\n",
       "      <td>4.470350e-08</td>\n",
       "    </tr>\n",
       "    <tr>\n",
       "      <th>5</th>\n",
       "      <td>-0.000011</td>\n",
       "      <td>2.000000e+00</td>\n",
       "    </tr>\n",
       "  </tbody>\n",
       "</table>\n",
       "</div>"
      ],
      "text/plain": [
       "       time           amp\n",
       "1 -0.000011  2.000000e+00\n",
       "2 -0.000011  4.470350e-08\n",
       "3 -0.000011  4.470350e-08\n",
       "4 -0.000011  4.470350e-08\n",
       "5 -0.000011  2.000000e+00"
      ]
     },
     "execution_count": 274,
     "metadata": {},
     "output_type": "execute_result"
    }
   ],
   "source": [
    "df.index=list(range(1,len(df)+1))\n",
    "df.head()"
   ]
  },
  {
   "cell_type": "code",
   "execution_count": 275,
   "metadata": {},
   "outputs": [],
   "source": [
    "df.to_excel('test.xlsx',sheet_name='Sheet1',header=True)"
   ]
  }
 ],
 "metadata": {
  "kernelspec": {
   "display_name": "Python 3",
   "language": "python",
   "name": "python3"
  },
  "language_info": {
   "codemirror_mode": {
    "name": "ipython",
    "version": 3
   },
   "file_extension": ".py",
   "mimetype": "text/x-python",
   "name": "python",
   "nbconvert_exporter": "python",
   "pygments_lexer": "ipython3",
   "version": "3.7.0"
  },
  "toc": {
   "base_numbering": 1,
   "nav_menu": {},
   "number_sections": true,
   "sideBar": true,
   "skip_h1_title": false,
   "title_cell": "Table of Contents",
   "title_sidebar": "Contents",
   "toc_cell": false,
   "toc_position": {
    "height": "calc(100% - 180px)",
    "left": "10px",
    "top": "150px",
    "width": "307.2px"
   },
   "toc_section_display": true,
   "toc_window_display": true
  }
 },
 "nbformat": 4,
 "nbformat_minor": 2
}
